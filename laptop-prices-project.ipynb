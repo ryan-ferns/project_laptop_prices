{
 "cells": [
  {
   "cell_type": "code",
   "execution_count": 1,
   "id": "5b1f94dc",
   "metadata": {
    "_cell_guid": "b1076dfc-b9ad-4769-8c92-a6c4dae69d19",
    "_uuid": "8f2839f25d086af736a60e9eeb907d3b93b6e0e5",
    "execution": {
     "iopub.execute_input": "2021-12-08T20:48:29.610775Z",
     "iopub.status.busy": "2021-12-08T20:48:29.609526Z",
     "iopub.status.idle": "2021-12-08T20:48:29.630488Z",
     "shell.execute_reply": "2021-12-08T20:48:29.629646Z",
     "shell.execute_reply.started": "2021-12-08T20:47:24.910638Z"
    },
    "papermill": {
     "duration": 0.118415,
     "end_time": "2021-12-08T20:48:29.630701",
     "exception": false,
     "start_time": "2021-12-08T20:48:29.512286",
     "status": "completed"
    },
    "tags": []
   },
   "outputs": [
    {
     "name": "stdout",
     "output_type": "stream",
     "text": [
      "/kaggle/input/laptop-price/laptop_price.csv\n"
     ]
    }
   ],
   "source": [
    "# This Python 3 environment comes with many helpful analytics libraries installed\n",
    "# It is defined by the kaggle/python Docker image: https://github.com/kaggle/docker-python\n",
    "# For example, here's several helpful packages to load\n",
    "\n",
    "import numpy as np # linear algebra\n",
    "import pandas as pd # data processing, CSV file I/O (e.g. pd.read_csv)\n",
    "\n",
    "# Input data files are available in the read-only \"../input/\" directory\n",
    "# For example, running this (by clicking run or pressing Shift+Enter) will list all files under the input directory\n",
    "\n",
    "import os\n",
    "for dirname, _, filenames in os.walk('/kaggle/input'):\n",
    "    for filename in filenames:\n",
    "        print(os.path.join(dirname, filename))\n",
    "\n",
    "# You can write up to 20GB to the current directory (/kaggle/working/) that gets preserved as output when you create a version using \"Save & Run All\" \n",
    "# You can also write temporary files to /kaggle/temp/, but they won't be saved outside of the current session"
   ]
  },
  {
   "cell_type": "code",
   "execution_count": 2,
   "id": "f63de98f",
   "metadata": {
    "execution": {
     "iopub.execute_input": "2021-12-08T20:48:29.908324Z",
     "iopub.status.busy": "2021-12-08T20:48:29.907637Z",
     "iopub.status.idle": "2021-12-08T20:48:29.958313Z",
     "shell.execute_reply": "2021-12-08T20:48:29.958903Z",
     "shell.execute_reply.started": "2021-12-08T20:47:24.955652Z"
    },
    "papermill": {
     "duration": 0.232901,
     "end_time": "2021-12-08T20:48:29.959117",
     "exception": false,
     "start_time": "2021-12-08T20:48:29.726216",
     "status": "completed"
    },
    "tags": []
   },
   "outputs": [
    {
     "data": {
      "text/html": [
       "<div>\n",
       "<style scoped>\n",
       "    .dataframe tbody tr th:only-of-type {\n",
       "        vertical-align: middle;\n",
       "    }\n",
       "\n",
       "    .dataframe tbody tr th {\n",
       "        vertical-align: top;\n",
       "    }\n",
       "\n",
       "    .dataframe thead th {\n",
       "        text-align: right;\n",
       "    }\n",
       "</style>\n",
       "<table border=\"1\" class=\"dataframe\">\n",
       "  <thead>\n",
       "    <tr style=\"text-align: right;\">\n",
       "      <th></th>\n",
       "      <th>laptop_ID</th>\n",
       "      <th>Company</th>\n",
       "      <th>Product</th>\n",
       "      <th>TypeName</th>\n",
       "      <th>Inches</th>\n",
       "      <th>ScreenResolution</th>\n",
       "      <th>Cpu</th>\n",
       "      <th>Ram</th>\n",
       "      <th>Memory</th>\n",
       "      <th>Gpu</th>\n",
       "      <th>OpSys</th>\n",
       "      <th>Weight</th>\n",
       "      <th>Price_euros</th>\n",
       "    </tr>\n",
       "  </thead>\n",
       "  <tbody>\n",
       "    <tr>\n",
       "      <th>0</th>\n",
       "      <td>1</td>\n",
       "      <td>Apple</td>\n",
       "      <td>MacBook Pro</td>\n",
       "      <td>Ultrabook</td>\n",
       "      <td>13.3</td>\n",
       "      <td>IPS Panel Retina Display 2560x1600</td>\n",
       "      <td>Intel Core i5 2.3GHz</td>\n",
       "      <td>8GB</td>\n",
       "      <td>128GB SSD</td>\n",
       "      <td>Intel Iris Plus Graphics 640</td>\n",
       "      <td>macOS</td>\n",
       "      <td>1.37kg</td>\n",
       "      <td>1339.69</td>\n",
       "    </tr>\n",
       "    <tr>\n",
       "      <th>1</th>\n",
       "      <td>2</td>\n",
       "      <td>Apple</td>\n",
       "      <td>Macbook Air</td>\n",
       "      <td>Ultrabook</td>\n",
       "      <td>13.3</td>\n",
       "      <td>1440x900</td>\n",
       "      <td>Intel Core i5 1.8GHz</td>\n",
       "      <td>8GB</td>\n",
       "      <td>128GB Flash Storage</td>\n",
       "      <td>Intel HD Graphics 6000</td>\n",
       "      <td>macOS</td>\n",
       "      <td>1.34kg</td>\n",
       "      <td>898.94</td>\n",
       "    </tr>\n",
       "    <tr>\n",
       "      <th>2</th>\n",
       "      <td>3</td>\n",
       "      <td>HP</td>\n",
       "      <td>250 G6</td>\n",
       "      <td>Notebook</td>\n",
       "      <td>15.6</td>\n",
       "      <td>Full HD 1920x1080</td>\n",
       "      <td>Intel Core i5 7200U 2.5GHz</td>\n",
       "      <td>8GB</td>\n",
       "      <td>256GB SSD</td>\n",
       "      <td>Intel HD Graphics 620</td>\n",
       "      <td>No OS</td>\n",
       "      <td>1.86kg</td>\n",
       "      <td>575.00</td>\n",
       "    </tr>\n",
       "    <tr>\n",
       "      <th>3</th>\n",
       "      <td>4</td>\n",
       "      <td>Apple</td>\n",
       "      <td>MacBook Pro</td>\n",
       "      <td>Ultrabook</td>\n",
       "      <td>15.4</td>\n",
       "      <td>IPS Panel Retina Display 2880x1800</td>\n",
       "      <td>Intel Core i7 2.7GHz</td>\n",
       "      <td>16GB</td>\n",
       "      <td>512GB SSD</td>\n",
       "      <td>AMD Radeon Pro 455</td>\n",
       "      <td>macOS</td>\n",
       "      <td>1.83kg</td>\n",
       "      <td>2537.45</td>\n",
       "    </tr>\n",
       "    <tr>\n",
       "      <th>4</th>\n",
       "      <td>5</td>\n",
       "      <td>Apple</td>\n",
       "      <td>MacBook Pro</td>\n",
       "      <td>Ultrabook</td>\n",
       "      <td>13.3</td>\n",
       "      <td>IPS Panel Retina Display 2560x1600</td>\n",
       "      <td>Intel Core i5 3.1GHz</td>\n",
       "      <td>8GB</td>\n",
       "      <td>256GB SSD</td>\n",
       "      <td>Intel Iris Plus Graphics 650</td>\n",
       "      <td>macOS</td>\n",
       "      <td>1.37kg</td>\n",
       "      <td>1803.60</td>\n",
       "    </tr>\n",
       "  </tbody>\n",
       "</table>\n",
       "</div>"
      ],
      "text/plain": [
       "   laptop_ID Company      Product   TypeName  Inches  \\\n",
       "0          1   Apple  MacBook Pro  Ultrabook    13.3   \n",
       "1          2   Apple  Macbook Air  Ultrabook    13.3   \n",
       "2          3      HP       250 G6   Notebook    15.6   \n",
       "3          4   Apple  MacBook Pro  Ultrabook    15.4   \n",
       "4          5   Apple  MacBook Pro  Ultrabook    13.3   \n",
       "\n",
       "                     ScreenResolution                         Cpu   Ram  \\\n",
       "0  IPS Panel Retina Display 2560x1600        Intel Core i5 2.3GHz   8GB   \n",
       "1                            1440x900        Intel Core i5 1.8GHz   8GB   \n",
       "2                   Full HD 1920x1080  Intel Core i5 7200U 2.5GHz   8GB   \n",
       "3  IPS Panel Retina Display 2880x1800        Intel Core i7 2.7GHz  16GB   \n",
       "4  IPS Panel Retina Display 2560x1600        Intel Core i5 3.1GHz   8GB   \n",
       "\n",
       "                Memory                           Gpu  OpSys  Weight  \\\n",
       "0            128GB SSD  Intel Iris Plus Graphics 640  macOS  1.37kg   \n",
       "1  128GB Flash Storage        Intel HD Graphics 6000  macOS  1.34kg   \n",
       "2            256GB SSD         Intel HD Graphics 620  No OS  1.86kg   \n",
       "3            512GB SSD            AMD Radeon Pro 455  macOS  1.83kg   \n",
       "4            256GB SSD  Intel Iris Plus Graphics 650  macOS  1.37kg   \n",
       "\n",
       "   Price_euros  \n",
       "0      1339.69  \n",
       "1       898.94  \n",
       "2       575.00  \n",
       "3      2537.45  \n",
       "4      1803.60  "
      ]
     },
     "execution_count": 2,
     "metadata": {},
     "output_type": "execute_result"
    }
   ],
   "source": [
    "data = pd.read_csv(\"/kaggle/input/laptop-price/laptop_price.csv\", encoding= 'unicode_escape')\n",
    "data.head()"
   ]
  },
  {
   "cell_type": "markdown",
   "id": "09c3fb36",
   "metadata": {
    "papermill": {
     "duration": 0.091455,
     "end_time": "2021-12-08T20:48:30.145686",
     "exception": false,
     "start_time": "2021-12-08T20:48:30.054231",
     "status": "completed"
    },
    "tags": []
   },
   "source": [
    "The dataset used for this notebook is the \"Laptop Price\" dataset on Kaggle, \n",
    "which can be found at the following link \n",
    "https://www.kaggle.com/muhammetvarl/laptop-pricehttps://www.kaggle.com/muhammetvarl/laptop-price."
   ]
  },
  {
   "cell_type": "markdown",
   "id": "c12fae15",
   "metadata": {
    "papermill": {
     "duration": 0.093948,
     "end_time": "2021-12-08T20:48:30.331524",
     "exception": false,
     "start_time": "2021-12-08T20:48:30.237576",
     "status": "completed"
    },
    "tags": []
   },
   "source": [
    "At the above link, there is also a description of the variables, which will be repeated below.\n",
    "\n",
    "1 Company- String -Laptop Manufacturer\n",
    "\n",
    "2 Product -String -Brand and Model\n",
    "\n",
    "3 TypeName -String -Type (Notebook, Ultrabook, Gaming, etc.)\n",
    "\n",
    "4 Inches -Numeric- Screen Size\n",
    "\n",
    "5 ScreenResolution -String- Screen Resolution\n",
    "\n",
    "6 Cpu- String -Central Processing Unit (CPU)\n",
    "\n",
    "7 Ram -String- Laptop RAM\n",
    "\n",
    "8 Memory -String- Hard Disk / SSD Memory\n",
    "\n",
    "9 GPU -String- Graphics Processing Units (GPU)\n",
    "\n",
    "10 OpSys -String- Operating System\n",
    "\n",
    "11 Weight -String- Laptop Weight\n",
    "\n",
    "12 Price_euros -Numeric- Price (Euro)"
   ]
  },
  {
   "cell_type": "markdown",
   "id": "65f9a6db",
   "metadata": {
    "papermill": {
     "duration": 0.091654,
     "end_time": "2021-12-08T20:48:30.517813",
     "exception": false,
     "start_time": "2021-12-08T20:48:30.426159",
     "status": "completed"
    },
    "tags": []
   },
   "source": [
    "## **Goal**:  Predict the price of a laptop from the other variables.\n",
    "\n",
    "Note that this is a regression problem, where the target variable is Price_euros."
   ]
  },
  {
   "cell_type": "markdown",
   "id": "d3529cea",
   "metadata": {
    "papermill": {
     "duration": 0.092391,
     "end_time": "2021-12-08T20:48:30.704096",
     "exception": false,
     "start_time": "2021-12-08T20:48:30.611705",
     "status": "completed"
    },
    "tags": []
   },
   "source": [
    "# Hypothesis Generation\n",
    "\n",
    "Here we will try to generate some hypotheses about what could affect the price of a laptop.\n",
    "\n",
    "1. Laptops made by well-known companies like Apple and Microsoft might be more expensive.\n",
    "\n",
    "2. Laptops with a bigger screen size might be more expensive.\n",
    "\n",
    "3. Laptops with a high screen resolution might be more expensive.\n",
    "\n",
    "4. Laptops with a high CPU might be more expensive.\n",
    "\n",
    "5. Laptops with a higher RAM might be more expensive.\n",
    "\n",
    "6. Laptops with a large memory might be more expensive.\n",
    "\n",
    "7. Laptops with a high GPU might be more expensive.\n",
    "\n",
    "8. Laptops without an operating sysytem might be cheaper.\n",
    "\n",
    "9. Lighter Laptops might be more expensive than heavier laptops\n",
    "   because they could be newer with more advanced technology."
   ]
  },
  {
   "cell_type": "code",
   "execution_count": 3,
   "id": "2572c779",
   "metadata": {
    "execution": {
     "iopub.execute_input": "2021-12-08T20:48:30.897130Z",
     "iopub.status.busy": "2021-12-08T20:48:30.895166Z",
     "iopub.status.idle": "2021-12-08T20:48:32.085998Z",
     "shell.execute_reply": "2021-12-08T20:48:32.084307Z",
     "shell.execute_reply.started": "2021-12-08T20:47:25.009369Z"
    },
    "papermill": {
     "duration": 1.289457,
     "end_time": "2021-12-08T20:48:32.086204",
     "exception": false,
     "start_time": "2021-12-08T20:48:30.796747",
     "status": "completed"
    },
    "tags": []
   },
   "outputs": [],
   "source": [
    "# Here we will import the required packages.\n",
    "\n",
    "from sklearn.model_selection import train_test_split\n",
    "import matplotlib.pyplot as plt\n",
    "import seaborn as sns"
   ]
  },
  {
   "cell_type": "markdown",
   "id": "0778084d",
   "metadata": {
    "papermill": {
     "duration": 0.091306,
     "end_time": "2021-12-08T20:48:32.272409",
     "exception": false,
     "start_time": "2021-12-08T20:48:32.181103",
     "status": "completed"
    },
    "tags": []
   },
   "source": [
    "# Step 1: Quick Analysis"
   ]
  },
  {
   "cell_type": "code",
   "execution_count": 4,
   "id": "99bee782",
   "metadata": {
    "execution": {
     "iopub.execute_input": "2021-12-08T20:48:32.465375Z",
     "iopub.status.busy": "2021-12-08T20:48:32.464570Z",
     "iopub.status.idle": "2021-12-08T20:48:32.467902Z",
     "shell.execute_reply": "2021-12-08T20:48:32.468390Z",
     "shell.execute_reply.started": "2021-12-08T20:47:26.204116Z"
    },
    "papermill": {
     "duration": 0.104047,
     "end_time": "2021-12-08T20:48:32.468603",
     "exception": false,
     "start_time": "2021-12-08T20:48:32.364556",
     "status": "completed"
    },
    "tags": []
   },
   "outputs": [
    {
     "data": {
      "text/plain": [
       "(1303, 13)"
      ]
     },
     "execution_count": 4,
     "metadata": {},
     "output_type": "execute_result"
    }
   ],
   "source": [
    "data.shape"
   ]
  },
  {
   "cell_type": "code",
   "execution_count": 5,
   "id": "7367802d",
   "metadata": {
    "execution": {
     "iopub.execute_input": "2021-12-08T20:48:32.661395Z",
     "iopub.status.busy": "2021-12-08T20:48:32.660321Z",
     "iopub.status.idle": "2021-12-08T20:48:32.665694Z",
     "shell.execute_reply": "2021-12-08T20:48:32.666319Z",
     "shell.execute_reply.started": "2021-12-08T20:47:26.213575Z"
    },
    "papermill": {
     "duration": 0.106107,
     "end_time": "2021-12-08T20:48:32.666544",
     "exception": false,
     "start_time": "2021-12-08T20:48:32.560437",
     "status": "completed"
    },
    "tags": []
   },
   "outputs": [
    {
     "data": {
      "text/plain": [
       "laptop_ID             int64\n",
       "Company              object\n",
       "Product              object\n",
       "TypeName             object\n",
       "Inches              float64\n",
       "ScreenResolution     object\n",
       "Cpu                  object\n",
       "Ram                  object\n",
       "Memory               object\n",
       "Gpu                  object\n",
       "OpSys                object\n",
       "Weight               object\n",
       "Price_euros         float64\n",
       "dtype: object"
      ]
     },
     "execution_count": 5,
     "metadata": {},
     "output_type": "execute_result"
    }
   ],
   "source": [
    "data.dtypes"
   ]
  },
  {
   "cell_type": "code",
   "execution_count": 6,
   "id": "4e5b490f",
   "metadata": {
    "execution": {
     "iopub.execute_input": "2021-12-08T20:48:32.856718Z",
     "iopub.status.busy": "2021-12-08T20:48:32.855640Z",
     "iopub.status.idle": "2021-12-08T20:48:32.866855Z",
     "shell.execute_reply": "2021-12-08T20:48:32.866264Z",
     "shell.execute_reply.started": "2021-12-08T20:47:26.229724Z"
    },
    "papermill": {
     "duration": 0.10761,
     "end_time": "2021-12-08T20:48:32.867018",
     "exception": false,
     "start_time": "2021-12-08T20:48:32.759408",
     "status": "completed"
    },
    "tags": []
   },
   "outputs": [
    {
     "name": "stdout",
     "output_type": "stream",
     "text": [
      "0\n"
     ]
    }
   ],
   "source": [
    "# First, we will check if there are any duplicate laptop Id's.\n",
    "\n",
    "idsUnique = len(set(data['laptop_ID']))\n",
    "idsTotal = data.shape[0]\n",
    "idsdupe = idsTotal - idsUnique\n",
    "print(idsdupe)"
   ]
  },
  {
   "cell_type": "code",
   "execution_count": 7,
   "id": "4a767d64",
   "metadata": {
    "execution": {
     "iopub.execute_input": "2021-12-08T20:48:33.061991Z",
     "iopub.status.busy": "2021-12-08T20:48:33.060947Z",
     "iopub.status.idle": "2021-12-08T20:48:33.070842Z",
     "shell.execute_reply": "2021-12-08T20:48:33.071350Z",
     "shell.execute_reply.started": "2021-12-08T20:47:26.244167Z"
    },
    "papermill": {
     "duration": 0.10965,
     "end_time": "2021-12-08T20:48:33.071615",
     "exception": false,
     "start_time": "2021-12-08T20:48:32.961965",
     "status": "completed"
    },
    "tags": []
   },
   "outputs": [],
   "source": [
    "# Since there are no duplicates, we will drop the laptop_ID column.\n",
    "\n",
    "data.drop(['laptop_ID'], axis=1, inplace=True)"
   ]
  },
  {
   "cell_type": "code",
   "execution_count": 8,
   "id": "21bbd1eb",
   "metadata": {
    "execution": {
     "iopub.execute_input": "2021-12-08T20:48:33.266422Z",
     "iopub.status.busy": "2021-12-08T20:48:33.265397Z",
     "iopub.status.idle": "2021-12-08T20:48:33.271704Z",
     "shell.execute_reply": "2021-12-08T20:48:33.272260Z",
     "shell.execute_reply.started": "2021-12-08T20:47:26.262129Z"
    },
    "papermill": {
     "duration": 0.105264,
     "end_time": "2021-12-08T20:48:33.272482",
     "exception": false,
     "start_time": "2021-12-08T20:48:33.167218",
     "status": "completed"
    },
    "tags": []
   },
   "outputs": [
    {
     "data": {
      "text/plain": [
       "(1303, 12)"
      ]
     },
     "execution_count": 8,
     "metadata": {},
     "output_type": "execute_result"
    }
   ],
   "source": [
    "data.shape"
   ]
  },
  {
   "cell_type": "code",
   "execution_count": 9,
   "id": "24cae692",
   "metadata": {
    "execution": {
     "iopub.execute_input": "2021-12-08T20:48:33.463941Z",
     "iopub.status.busy": "2021-12-08T20:48:33.463278Z",
     "iopub.status.idle": "2021-12-08T20:48:33.483338Z",
     "shell.execute_reply": "2021-12-08T20:48:33.482694Z",
     "shell.execute_reply.started": "2021-12-08T20:47:26.282094Z"
    },
    "papermill": {
     "duration": 0.116287,
     "end_time": "2021-12-08T20:48:33.483541",
     "exception": false,
     "start_time": "2021-12-08T20:48:33.367254",
     "status": "completed"
    },
    "tags": []
   },
   "outputs": [
    {
     "data": {
      "text/html": [
       "<div>\n",
       "<style scoped>\n",
       "    .dataframe tbody tr th:only-of-type {\n",
       "        vertical-align: middle;\n",
       "    }\n",
       "\n",
       "    .dataframe tbody tr th {\n",
       "        vertical-align: top;\n",
       "    }\n",
       "\n",
       "    .dataframe thead th {\n",
       "        text-align: right;\n",
       "    }\n",
       "</style>\n",
       "<table border=\"1\" class=\"dataframe\">\n",
       "  <thead>\n",
       "    <tr style=\"text-align: right;\">\n",
       "      <th></th>\n",
       "      <th>Company</th>\n",
       "      <th>Product</th>\n",
       "      <th>TypeName</th>\n",
       "      <th>Inches</th>\n",
       "      <th>ScreenResolution</th>\n",
       "      <th>Cpu</th>\n",
       "      <th>Ram</th>\n",
       "      <th>Memory</th>\n",
       "      <th>Gpu</th>\n",
       "      <th>OpSys</th>\n",
       "      <th>Weight</th>\n",
       "      <th>Price_euros</th>\n",
       "    </tr>\n",
       "  </thead>\n",
       "  <tbody>\n",
       "    <tr>\n",
       "      <th>0</th>\n",
       "      <td>Apple</td>\n",
       "      <td>MacBook Pro</td>\n",
       "      <td>Ultrabook</td>\n",
       "      <td>13.3</td>\n",
       "      <td>IPS Panel Retina Display 2560x1600</td>\n",
       "      <td>Intel Core i5 2.3GHz</td>\n",
       "      <td>8GB</td>\n",
       "      <td>128GB SSD</td>\n",
       "      <td>Intel Iris Plus Graphics 640</td>\n",
       "      <td>macOS</td>\n",
       "      <td>1.37kg</td>\n",
       "      <td>1339.69</td>\n",
       "    </tr>\n",
       "    <tr>\n",
       "      <th>1</th>\n",
       "      <td>Apple</td>\n",
       "      <td>Macbook Air</td>\n",
       "      <td>Ultrabook</td>\n",
       "      <td>13.3</td>\n",
       "      <td>1440x900</td>\n",
       "      <td>Intel Core i5 1.8GHz</td>\n",
       "      <td>8GB</td>\n",
       "      <td>128GB Flash Storage</td>\n",
       "      <td>Intel HD Graphics 6000</td>\n",
       "      <td>macOS</td>\n",
       "      <td>1.34kg</td>\n",
       "      <td>898.94</td>\n",
       "    </tr>\n",
       "    <tr>\n",
       "      <th>2</th>\n",
       "      <td>HP</td>\n",
       "      <td>250 G6</td>\n",
       "      <td>Notebook</td>\n",
       "      <td>15.6</td>\n",
       "      <td>Full HD 1920x1080</td>\n",
       "      <td>Intel Core i5 7200U 2.5GHz</td>\n",
       "      <td>8GB</td>\n",
       "      <td>256GB SSD</td>\n",
       "      <td>Intel HD Graphics 620</td>\n",
       "      <td>No OS</td>\n",
       "      <td>1.86kg</td>\n",
       "      <td>575.00</td>\n",
       "    </tr>\n",
       "    <tr>\n",
       "      <th>3</th>\n",
       "      <td>Apple</td>\n",
       "      <td>MacBook Pro</td>\n",
       "      <td>Ultrabook</td>\n",
       "      <td>15.4</td>\n",
       "      <td>IPS Panel Retina Display 2880x1800</td>\n",
       "      <td>Intel Core i7 2.7GHz</td>\n",
       "      <td>16GB</td>\n",
       "      <td>512GB SSD</td>\n",
       "      <td>AMD Radeon Pro 455</td>\n",
       "      <td>macOS</td>\n",
       "      <td>1.83kg</td>\n",
       "      <td>2537.45</td>\n",
       "    </tr>\n",
       "    <tr>\n",
       "      <th>4</th>\n",
       "      <td>Apple</td>\n",
       "      <td>MacBook Pro</td>\n",
       "      <td>Ultrabook</td>\n",
       "      <td>13.3</td>\n",
       "      <td>IPS Panel Retina Display 2560x1600</td>\n",
       "      <td>Intel Core i5 3.1GHz</td>\n",
       "      <td>8GB</td>\n",
       "      <td>256GB SSD</td>\n",
       "      <td>Intel Iris Plus Graphics 650</td>\n",
       "      <td>macOS</td>\n",
       "      <td>1.37kg</td>\n",
       "      <td>1803.60</td>\n",
       "    </tr>\n",
       "  </tbody>\n",
       "</table>\n",
       "</div>"
      ],
      "text/plain": [
       "  Company      Product   TypeName  Inches                    ScreenResolution  \\\n",
       "0   Apple  MacBook Pro  Ultrabook    13.3  IPS Panel Retina Display 2560x1600   \n",
       "1   Apple  Macbook Air  Ultrabook    13.3                            1440x900   \n",
       "2      HP       250 G6   Notebook    15.6                   Full HD 1920x1080   \n",
       "3   Apple  MacBook Pro  Ultrabook    15.4  IPS Panel Retina Display 2880x1800   \n",
       "4   Apple  MacBook Pro  Ultrabook    13.3  IPS Panel Retina Display 2560x1600   \n",
       "\n",
       "                          Cpu   Ram               Memory  \\\n",
       "0        Intel Core i5 2.3GHz   8GB            128GB SSD   \n",
       "1        Intel Core i5 1.8GHz   8GB  128GB Flash Storage   \n",
       "2  Intel Core i5 7200U 2.5GHz   8GB            256GB SSD   \n",
       "3        Intel Core i7 2.7GHz  16GB            512GB SSD   \n",
       "4        Intel Core i5 3.1GHz   8GB            256GB SSD   \n",
       "\n",
       "                            Gpu  OpSys  Weight  Price_euros  \n",
       "0  Intel Iris Plus Graphics 640  macOS  1.37kg      1339.69  \n",
       "1        Intel HD Graphics 6000  macOS  1.34kg       898.94  \n",
       "2         Intel HD Graphics 620  No OS  1.86kg       575.00  \n",
       "3            AMD Radeon Pro 455  macOS  1.83kg      2537.45  \n",
       "4  Intel Iris Plus Graphics 650  macOS  1.37kg      1803.60  "
      ]
     },
     "execution_count": 9,
     "metadata": {},
     "output_type": "execute_result"
    }
   ],
   "source": [
    "data.head()"
   ]
  },
  {
   "cell_type": "markdown",
   "id": "0fdab52f",
   "metadata": {
    "papermill": {
     "duration": 0.094446,
     "end_time": "2021-12-08T20:48:33.673512",
     "exception": false,
     "start_time": "2021-12-08T20:48:33.579066",
     "status": "completed"
    },
    "tags": []
   },
   "source": [
    "# Step 2: Split the data into training and test sets."
   ]
  },
  {
   "cell_type": "code",
   "execution_count": 10,
   "id": "fc9e6fae",
   "metadata": {
    "execution": {
     "iopub.execute_input": "2021-12-08T20:48:33.868083Z",
     "iopub.status.busy": "2021-12-08T20:48:33.867272Z",
     "iopub.status.idle": "2021-12-08T20:48:33.874542Z",
     "shell.execute_reply": "2021-12-08T20:48:33.875106Z",
     "shell.execute_reply.started": "2021-12-08T20:47:26.307483Z"
    },
    "papermill": {
     "duration": 0.108075,
     "end_time": "2021-12-08T20:48:33.875322",
     "exception": false,
     "start_time": "2021-12-08T20:48:33.767247",
     "status": "completed"
    },
    "tags": []
   },
   "outputs": [],
   "source": [
    "# We will put 80% of the data in the training set and the remaining 20% in the test set.\n",
    "\n",
    "train, test = train_test_split(data, train_size=0.8,random_state=0)"
   ]
  },
  {
   "cell_type": "code",
   "execution_count": 11,
   "id": "e1931c5b",
   "metadata": {
    "execution": {
     "iopub.execute_input": "2021-12-08T20:48:34.075613Z",
     "iopub.status.busy": "2021-12-08T20:48:34.074538Z",
     "iopub.status.idle": "2021-12-08T20:48:34.080789Z",
     "shell.execute_reply": "2021-12-08T20:48:34.081428Z",
     "shell.execute_reply.started": "2021-12-08T20:47:26.319234Z"
    },
    "papermill": {
     "duration": 0.107788,
     "end_time": "2021-12-08T20:48:34.081654",
     "exception": false,
     "start_time": "2021-12-08T20:48:33.973866",
     "status": "completed"
    },
    "tags": []
   },
   "outputs": [
    {
     "name": "stdout",
     "output_type": "stream",
     "text": [
      "Shape of training set: (1042, 12)\n",
      "Shape of test set: (261, 12)\n"
     ]
    }
   ],
   "source": [
    "print(\"Shape of training set:\", train.shape)\n",
    "print(\"Shape of test set:\", test.shape)"
   ]
  },
  {
   "cell_type": "code",
   "execution_count": 12,
   "id": "44cd84b9",
   "metadata": {
    "execution": {
     "iopub.execute_input": "2021-12-08T20:48:34.279827Z",
     "iopub.status.busy": "2021-12-08T20:48:34.278810Z",
     "iopub.status.idle": "2021-12-08T20:48:34.297372Z",
     "shell.execute_reply": "2021-12-08T20:48:34.298115Z",
     "shell.execute_reply.started": "2021-12-08T20:47:26.330237Z"
    },
    "papermill": {
     "duration": 0.119708,
     "end_time": "2021-12-08T20:48:34.298337",
     "exception": false,
     "start_time": "2021-12-08T20:48:34.178629",
     "status": "completed"
    },
    "tags": []
   },
   "outputs": [
    {
     "data": {
      "text/html": [
       "<div>\n",
       "<style scoped>\n",
       "    .dataframe tbody tr th:only-of-type {\n",
       "        vertical-align: middle;\n",
       "    }\n",
       "\n",
       "    .dataframe tbody tr th {\n",
       "        vertical-align: top;\n",
       "    }\n",
       "\n",
       "    .dataframe thead th {\n",
       "        text-align: right;\n",
       "    }\n",
       "</style>\n",
       "<table border=\"1\" class=\"dataframe\">\n",
       "  <thead>\n",
       "    <tr style=\"text-align: right;\">\n",
       "      <th></th>\n",
       "      <th>Company</th>\n",
       "      <th>Product</th>\n",
       "      <th>TypeName</th>\n",
       "      <th>Inches</th>\n",
       "      <th>ScreenResolution</th>\n",
       "      <th>Cpu</th>\n",
       "      <th>Ram</th>\n",
       "      <th>Memory</th>\n",
       "      <th>Gpu</th>\n",
       "      <th>OpSys</th>\n",
       "      <th>Weight</th>\n",
       "      <th>Price_euros</th>\n",
       "    </tr>\n",
       "  </thead>\n",
       "  <tbody>\n",
       "    <tr>\n",
       "      <th>1249</th>\n",
       "      <td>Dell</td>\n",
       "      <td>XPS 13</td>\n",
       "      <td>2 in 1 Convertible</td>\n",
       "      <td>13.3</td>\n",
       "      <td>Quad HD+ / Touchscreen 3200x1800</td>\n",
       "      <td>Intel Core i5 7Y54 1.2GHz</td>\n",
       "      <td>8GB</td>\n",
       "      <td>256GB SSD</td>\n",
       "      <td>Intel HD Graphics 615</td>\n",
       "      <td>Windows 10</td>\n",
       "      <td>1.24kg</td>\n",
       "      <td>1813.0</td>\n",
       "    </tr>\n",
       "    <tr>\n",
       "      <th>1186</th>\n",
       "      <td>Dell</td>\n",
       "      <td>Inspiron 5578</td>\n",
       "      <td>2 in 1 Convertible</td>\n",
       "      <td>15.6</td>\n",
       "      <td>Full HD / Touchscreen 1920x1080</td>\n",
       "      <td>Intel Core i7 7500U 2.7GHz</td>\n",
       "      <td>16GB</td>\n",
       "      <td>512GB SSD</td>\n",
       "      <td>Intel HD Graphics 620</td>\n",
       "      <td>Windows 10</td>\n",
       "      <td>2.09kg</td>\n",
       "      <td>1179.0</td>\n",
       "    </tr>\n",
       "    <tr>\n",
       "      <th>568</th>\n",
       "      <td>Lenovo</td>\n",
       "      <td>IdeaPad 320-15IAP</td>\n",
       "      <td>Notebook</td>\n",
       "      <td>15.6</td>\n",
       "      <td>Full HD 1920x1080</td>\n",
       "      <td>Intel Pentium Quad Core N4200 1.1GHz</td>\n",
       "      <td>4GB</td>\n",
       "      <td>500GB HDD</td>\n",
       "      <td>Intel HD Graphics 505</td>\n",
       "      <td>Windows 10</td>\n",
       "      <td>2.2kg</td>\n",
       "      <td>344.0</td>\n",
       "    </tr>\n",
       "    <tr>\n",
       "      <th>1251</th>\n",
       "      <td>HP</td>\n",
       "      <td>255 G6</td>\n",
       "      <td>Notebook</td>\n",
       "      <td>15.6</td>\n",
       "      <td>1366x768</td>\n",
       "      <td>AMD A6-Series 9220 2.5GHz</td>\n",
       "      <td>4GB</td>\n",
       "      <td>500GB HDD</td>\n",
       "      <td>AMD Radeon R4 Graphics</td>\n",
       "      <td>Windows 10</td>\n",
       "      <td>1.86kg</td>\n",
       "      <td>399.0</td>\n",
       "    </tr>\n",
       "    <tr>\n",
       "      <th>491</th>\n",
       "      <td>Toshiba</td>\n",
       "      <td>Portege X30-D-10L</td>\n",
       "      <td>Ultrabook</td>\n",
       "      <td>13.3</td>\n",
       "      <td>Full HD / Touchscreen 1920x1080</td>\n",
       "      <td>Intel Core i7 7500U 2.7GHz</td>\n",
       "      <td>32GB</td>\n",
       "      <td>512GB SSD</td>\n",
       "      <td>Intel HD Graphics 620</td>\n",
       "      <td>Windows 10</td>\n",
       "      <td>1.05kg</td>\n",
       "      <td>2799.0</td>\n",
       "    </tr>\n",
       "  </tbody>\n",
       "</table>\n",
       "</div>"
      ],
      "text/plain": [
       "      Company            Product            TypeName  Inches  \\\n",
       "1249     Dell             XPS 13  2 in 1 Convertible    13.3   \n",
       "1186     Dell      Inspiron 5578  2 in 1 Convertible    15.6   \n",
       "568    Lenovo  IdeaPad 320-15IAP            Notebook    15.6   \n",
       "1251       HP             255 G6            Notebook    15.6   \n",
       "491   Toshiba  Portege X30-D-10L           Ultrabook    13.3   \n",
       "\n",
       "                      ScreenResolution                                   Cpu  \\\n",
       "1249  Quad HD+ / Touchscreen 3200x1800             Intel Core i5 7Y54 1.2GHz   \n",
       "1186   Full HD / Touchscreen 1920x1080            Intel Core i7 7500U 2.7GHz   \n",
       "568                  Full HD 1920x1080  Intel Pentium Quad Core N4200 1.1GHz   \n",
       "1251                          1366x768             AMD A6-Series 9220 2.5GHz   \n",
       "491    Full HD / Touchscreen 1920x1080            Intel Core i7 7500U 2.7GHz   \n",
       "\n",
       "       Ram     Memory                     Gpu       OpSys  Weight  Price_euros  \n",
       "1249   8GB  256GB SSD   Intel HD Graphics 615  Windows 10  1.24kg       1813.0  \n",
       "1186  16GB  512GB SSD   Intel HD Graphics 620  Windows 10  2.09kg       1179.0  \n",
       "568    4GB  500GB HDD   Intel HD Graphics 505  Windows 10   2.2kg        344.0  \n",
       "1251   4GB  500GB HDD  AMD Radeon R4 Graphics  Windows 10  1.86kg        399.0  \n",
       "491   32GB  512GB SSD   Intel HD Graphics 620  Windows 10  1.05kg       2799.0  "
      ]
     },
     "execution_count": 12,
     "metadata": {},
     "output_type": "execute_result"
    }
   ],
   "source": [
    "train.head()"
   ]
  },
  {
   "cell_type": "code",
   "execution_count": 13,
   "id": "908993b8",
   "metadata": {
    "execution": {
     "iopub.execute_input": "2021-12-08T20:48:34.492765Z",
     "iopub.status.busy": "2021-12-08T20:48:34.492033Z",
     "iopub.status.idle": "2021-12-08T20:48:34.510293Z",
     "shell.execute_reply": "2021-12-08T20:48:34.509606Z",
     "shell.execute_reply.started": "2021-12-08T20:47:26.356306Z"
    },
    "papermill": {
     "duration": 0.117228,
     "end_time": "2021-12-08T20:48:34.510443",
     "exception": false,
     "start_time": "2021-12-08T20:48:34.393215",
     "status": "completed"
    },
    "tags": []
   },
   "outputs": [
    {
     "data": {
      "text/html": [
       "<div>\n",
       "<style scoped>\n",
       "    .dataframe tbody tr th:only-of-type {\n",
       "        vertical-align: middle;\n",
       "    }\n",
       "\n",
       "    .dataframe tbody tr th {\n",
       "        vertical-align: top;\n",
       "    }\n",
       "\n",
       "    .dataframe thead th {\n",
       "        text-align: right;\n",
       "    }\n",
       "</style>\n",
       "<table border=\"1\" class=\"dataframe\">\n",
       "  <thead>\n",
       "    <tr style=\"text-align: right;\">\n",
       "      <th></th>\n",
       "      <th>Company</th>\n",
       "      <th>Product</th>\n",
       "      <th>TypeName</th>\n",
       "      <th>Inches</th>\n",
       "      <th>ScreenResolution</th>\n",
       "      <th>Cpu</th>\n",
       "      <th>Ram</th>\n",
       "      <th>Memory</th>\n",
       "      <th>Gpu</th>\n",
       "      <th>OpSys</th>\n",
       "      <th>Weight</th>\n",
       "      <th>Price_euros</th>\n",
       "    </tr>\n",
       "  </thead>\n",
       "  <tbody>\n",
       "    <tr>\n",
       "      <th>580</th>\n",
       "      <td>Mediacom</td>\n",
       "      <td>SmartBook Edge</td>\n",
       "      <td>Notebook</td>\n",
       "      <td>14.0</td>\n",
       "      <td>IPS Panel Full HD 1920x1080</td>\n",
       "      <td>Intel Celeron Quad Core N3450 1.1GHz</td>\n",
       "      <td>4GB</td>\n",
       "      <td>32GB SSD</td>\n",
       "      <td>Intel HD Graphics 500</td>\n",
       "      <td>Windows 10</td>\n",
       "      <td>1.45kg</td>\n",
       "      <td>389.00</td>\n",
       "    </tr>\n",
       "    <tr>\n",
       "      <th>1017</th>\n",
       "      <td>Lenovo</td>\n",
       "      <td>ThinkPad P70</td>\n",
       "      <td>Notebook</td>\n",
       "      <td>17.3</td>\n",
       "      <td>IPS Panel 4K Ultra HD 3840x2160</td>\n",
       "      <td>Intel Core i7 6820HQ 2.7GHz</td>\n",
       "      <td>16GB</td>\n",
       "      <td>512GB SSD</td>\n",
       "      <td>Nvidia Quadro 3000M</td>\n",
       "      <td>Windows 7</td>\n",
       "      <td>2.4kg</td>\n",
       "      <td>2968.00</td>\n",
       "    </tr>\n",
       "    <tr>\n",
       "      <th>761</th>\n",
       "      <td>Dell</td>\n",
       "      <td>Latitude 7280</td>\n",
       "      <td>Ultrabook</td>\n",
       "      <td>12.5</td>\n",
       "      <td>Full HD 1920x1080</td>\n",
       "      <td>Intel Core i7 7600U 2.8GHz</td>\n",
       "      <td>16GB</td>\n",
       "      <td>256GB SSD</td>\n",
       "      <td>Intel HD Graphics 620</td>\n",
       "      <td>Windows 10</td>\n",
       "      <td>1.18kg</td>\n",
       "      <td>1859.00</td>\n",
       "    </tr>\n",
       "    <tr>\n",
       "      <th>686</th>\n",
       "      <td>HP</td>\n",
       "      <td>250 G6</td>\n",
       "      <td>Notebook</td>\n",
       "      <td>15.6</td>\n",
       "      <td>1366x768</td>\n",
       "      <td>Intel Core i5 7200U 2.5GHz</td>\n",
       "      <td>4GB</td>\n",
       "      <td>500GB HDD</td>\n",
       "      <td>AMD Radeon 520</td>\n",
       "      <td>Windows 10</td>\n",
       "      <td>1.86kg</td>\n",
       "      <td>612.61</td>\n",
       "    </tr>\n",
       "    <tr>\n",
       "      <th>186</th>\n",
       "      <td>Dell</td>\n",
       "      <td>XPS 15</td>\n",
       "      <td>Notebook</td>\n",
       "      <td>15.6</td>\n",
       "      <td>4K Ultra HD / Touchscreen 3840x2160</td>\n",
       "      <td>Intel Core i7 7700HQ 2.8GHz</td>\n",
       "      <td>16GB</td>\n",
       "      <td>512GB SSD</td>\n",
       "      <td>Nvidia GeForce GTX 1050</td>\n",
       "      <td>Windows 10</td>\n",
       "      <td>2.06kg</td>\n",
       "      <td>2397.00</td>\n",
       "    </tr>\n",
       "  </tbody>\n",
       "</table>\n",
       "</div>"
      ],
      "text/plain": [
       "       Company         Product   TypeName  Inches  \\\n",
       "580   Mediacom  SmartBook Edge   Notebook    14.0   \n",
       "1017    Lenovo    ThinkPad P70   Notebook    17.3   \n",
       "761       Dell   Latitude 7280  Ultrabook    12.5   \n",
       "686         HP          250 G6   Notebook    15.6   \n",
       "186       Dell          XPS 15   Notebook    15.6   \n",
       "\n",
       "                         ScreenResolution  \\\n",
       "580           IPS Panel Full HD 1920x1080   \n",
       "1017      IPS Panel 4K Ultra HD 3840x2160   \n",
       "761                     Full HD 1920x1080   \n",
       "686                              1366x768   \n",
       "186   4K Ultra HD / Touchscreen 3840x2160   \n",
       "\n",
       "                                       Cpu   Ram     Memory  \\\n",
       "580   Intel Celeron Quad Core N3450 1.1GHz   4GB   32GB SSD   \n",
       "1017           Intel Core i7 6820HQ 2.7GHz  16GB  512GB SSD   \n",
       "761             Intel Core i7 7600U 2.8GHz  16GB  256GB SSD   \n",
       "686             Intel Core i5 7200U 2.5GHz   4GB  500GB HDD   \n",
       "186            Intel Core i7 7700HQ 2.8GHz  16GB  512GB SSD   \n",
       "\n",
       "                          Gpu       OpSys  Weight  Price_euros  \n",
       "580     Intel HD Graphics 500  Windows 10  1.45kg       389.00  \n",
       "1017      Nvidia Quadro 3000M   Windows 7   2.4kg      2968.00  \n",
       "761     Intel HD Graphics 620  Windows 10  1.18kg      1859.00  \n",
       "686            AMD Radeon 520  Windows 10  1.86kg       612.61  \n",
       "186   Nvidia GeForce GTX 1050  Windows 10  2.06kg      2397.00  "
      ]
     },
     "execution_count": 13,
     "metadata": {},
     "output_type": "execute_result"
    }
   ],
   "source": [
    "test.head()"
   ]
  },
  {
   "cell_type": "markdown",
   "id": "c1b551a1",
   "metadata": {
    "papermill": {
     "duration": 0.094615,
     "end_time": "2021-12-08T20:48:34.700821",
     "exception": false,
     "start_time": "2021-12-08T20:48:34.606206",
     "status": "completed"
    },
    "tags": []
   },
   "source": [
    "# Step 3: Data Exploration"
   ]
  },
  {
   "cell_type": "code",
   "execution_count": 14,
   "id": "4c9c068d",
   "metadata": {
    "execution": {
     "iopub.execute_input": "2021-12-08T20:48:34.896852Z",
     "iopub.status.busy": "2021-12-08T20:48:34.896160Z",
     "iopub.status.idle": "2021-12-08T20:48:34.916837Z",
     "shell.execute_reply": "2021-12-08T20:48:34.917328Z",
     "shell.execute_reply.started": "2021-12-08T20:47:26.379115Z"
    },
    "papermill": {
     "duration": 0.120451,
     "end_time": "2021-12-08T20:48:34.917519",
     "exception": false,
     "start_time": "2021-12-08T20:48:34.797068",
     "status": "completed"
    },
    "tags": []
   },
   "outputs": [
    {
     "data": {
      "text/html": [
       "<div>\n",
       "<style scoped>\n",
       "    .dataframe tbody tr th:only-of-type {\n",
       "        vertical-align: middle;\n",
       "    }\n",
       "\n",
       "    .dataframe tbody tr th {\n",
       "        vertical-align: top;\n",
       "    }\n",
       "\n",
       "    .dataframe thead th {\n",
       "        text-align: right;\n",
       "    }\n",
       "</style>\n",
       "<table border=\"1\" class=\"dataframe\">\n",
       "  <thead>\n",
       "    <tr style=\"text-align: right;\">\n",
       "      <th></th>\n",
       "      <th>Company</th>\n",
       "      <th>Product</th>\n",
       "      <th>TypeName</th>\n",
       "      <th>Inches</th>\n",
       "      <th>ScreenResolution</th>\n",
       "      <th>Cpu</th>\n",
       "      <th>Ram</th>\n",
       "      <th>Memory</th>\n",
       "      <th>Gpu</th>\n",
       "      <th>OpSys</th>\n",
       "      <th>Weight</th>\n",
       "      <th>Price_euros</th>\n",
       "    </tr>\n",
       "  </thead>\n",
       "  <tbody>\n",
       "    <tr>\n",
       "      <th>1249</th>\n",
       "      <td>Dell</td>\n",
       "      <td>XPS 13</td>\n",
       "      <td>2 in 1 Convertible</td>\n",
       "      <td>13.3</td>\n",
       "      <td>Quad HD+ / Touchscreen 3200x1800</td>\n",
       "      <td>Intel Core i5 7Y54 1.2GHz</td>\n",
       "      <td>8GB</td>\n",
       "      <td>256GB SSD</td>\n",
       "      <td>Intel HD Graphics 615</td>\n",
       "      <td>Windows 10</td>\n",
       "      <td>1.24kg</td>\n",
       "      <td>1813.0</td>\n",
       "    </tr>\n",
       "    <tr>\n",
       "      <th>1186</th>\n",
       "      <td>Dell</td>\n",
       "      <td>Inspiron 5578</td>\n",
       "      <td>2 in 1 Convertible</td>\n",
       "      <td>15.6</td>\n",
       "      <td>Full HD / Touchscreen 1920x1080</td>\n",
       "      <td>Intel Core i7 7500U 2.7GHz</td>\n",
       "      <td>16GB</td>\n",
       "      <td>512GB SSD</td>\n",
       "      <td>Intel HD Graphics 620</td>\n",
       "      <td>Windows 10</td>\n",
       "      <td>2.09kg</td>\n",
       "      <td>1179.0</td>\n",
       "    </tr>\n",
       "    <tr>\n",
       "      <th>568</th>\n",
       "      <td>Lenovo</td>\n",
       "      <td>IdeaPad 320-15IAP</td>\n",
       "      <td>Notebook</td>\n",
       "      <td>15.6</td>\n",
       "      <td>Full HD 1920x1080</td>\n",
       "      <td>Intel Pentium Quad Core N4200 1.1GHz</td>\n",
       "      <td>4GB</td>\n",
       "      <td>500GB HDD</td>\n",
       "      <td>Intel HD Graphics 505</td>\n",
       "      <td>Windows 10</td>\n",
       "      <td>2.2kg</td>\n",
       "      <td>344.0</td>\n",
       "    </tr>\n",
       "    <tr>\n",
       "      <th>1251</th>\n",
       "      <td>HP</td>\n",
       "      <td>255 G6</td>\n",
       "      <td>Notebook</td>\n",
       "      <td>15.6</td>\n",
       "      <td>1366x768</td>\n",
       "      <td>AMD A6-Series 9220 2.5GHz</td>\n",
       "      <td>4GB</td>\n",
       "      <td>500GB HDD</td>\n",
       "      <td>AMD Radeon R4 Graphics</td>\n",
       "      <td>Windows 10</td>\n",
       "      <td>1.86kg</td>\n",
       "      <td>399.0</td>\n",
       "    </tr>\n",
       "    <tr>\n",
       "      <th>491</th>\n",
       "      <td>Toshiba</td>\n",
       "      <td>Portege X30-D-10L</td>\n",
       "      <td>Ultrabook</td>\n",
       "      <td>13.3</td>\n",
       "      <td>Full HD / Touchscreen 1920x1080</td>\n",
       "      <td>Intel Core i7 7500U 2.7GHz</td>\n",
       "      <td>32GB</td>\n",
       "      <td>512GB SSD</td>\n",
       "      <td>Intel HD Graphics 620</td>\n",
       "      <td>Windows 10</td>\n",
       "      <td>1.05kg</td>\n",
       "      <td>2799.0</td>\n",
       "    </tr>\n",
       "    <tr>\n",
       "      <th>299</th>\n",
       "      <td>Asus</td>\n",
       "      <td>ZenBook UX530UQ-PRO</td>\n",
       "      <td>Ultrabook</td>\n",
       "      <td>15.6</td>\n",
       "      <td>Full HD 1920x1080</td>\n",
       "      <td>Intel Core i7 7500U 2.7GHz</td>\n",
       "      <td>16GB</td>\n",
       "      <td>512GB SSD</td>\n",
       "      <td>Nvidia GeForce 940MX</td>\n",
       "      <td>Windows 10</td>\n",
       "      <td>1.63kg</td>\n",
       "      <td>1468.0</td>\n",
       "    </tr>\n",
       "    <tr>\n",
       "      <th>268</th>\n",
       "      <td>HP</td>\n",
       "      <td>Probook 470</td>\n",
       "      <td>Notebook</td>\n",
       "      <td>17.3</td>\n",
       "      <td>Full HD 1920x1080</td>\n",
       "      <td>Intel Core i7 8550U 1.8GHz</td>\n",
       "      <td>8GB</td>\n",
       "      <td>1TB HDD</td>\n",
       "      <td>Nvidia GeForce 930MX</td>\n",
       "      <td>Windows 10</td>\n",
       "      <td>2.5kg</td>\n",
       "      <td>1018.0</td>\n",
       "    </tr>\n",
       "    <tr>\n",
       "      <th>1113</th>\n",
       "      <td>HP</td>\n",
       "      <td>Spectre Pro</td>\n",
       "      <td>Ultrabook</td>\n",
       "      <td>13.3</td>\n",
       "      <td>Full HD 1920x1080</td>\n",
       "      <td>Intel Core i7 6500U 2.5GHz</td>\n",
       "      <td>8GB</td>\n",
       "      <td>512GB SSD</td>\n",
       "      <td>Intel HD Graphics 520</td>\n",
       "      <td>Windows 10</td>\n",
       "      <td>1.16kg</td>\n",
       "      <td>1969.0</td>\n",
       "    </tr>\n",
       "    <tr>\n",
       "      <th>982</th>\n",
       "      <td>Lenovo</td>\n",
       "      <td>IdeaPad 320-15ABR</td>\n",
       "      <td>Notebook</td>\n",
       "      <td>15.6</td>\n",
       "      <td>Full HD 1920x1080</td>\n",
       "      <td>AMD A12-Series 9720P 3.6GHz</td>\n",
       "      <td>6GB</td>\n",
       "      <td>256GB SSD</td>\n",
       "      <td>AMD Radeon 530</td>\n",
       "      <td>Windows 10</td>\n",
       "      <td>2.2kg</td>\n",
       "      <td>549.0</td>\n",
       "    </tr>\n",
       "    <tr>\n",
       "      <th>1191</th>\n",
       "      <td>Samsung</td>\n",
       "      <td>Chromebook Plus</td>\n",
       "      <td>2 in 1 Convertible</td>\n",
       "      <td>12.3</td>\n",
       "      <td>IPS Panel Touchscreen 2400x1600</td>\n",
       "      <td>Samsung Cortex A72&amp;A53 2.0GHz</td>\n",
       "      <td>4GB</td>\n",
       "      <td>32GB Flash Storage</td>\n",
       "      <td>ARM Mali T860 MP4</td>\n",
       "      <td>Chrome OS</td>\n",
       "      <td>1.15kg</td>\n",
       "      <td>659.0</td>\n",
       "    </tr>\n",
       "  </tbody>\n",
       "</table>\n",
       "</div>"
      ],
      "text/plain": [
       "      Company              Product            TypeName  Inches  \\\n",
       "1249     Dell               XPS 13  2 in 1 Convertible    13.3   \n",
       "1186     Dell        Inspiron 5578  2 in 1 Convertible    15.6   \n",
       "568    Lenovo    IdeaPad 320-15IAP            Notebook    15.6   \n",
       "1251       HP               255 G6            Notebook    15.6   \n",
       "491   Toshiba    Portege X30-D-10L           Ultrabook    13.3   \n",
       "299      Asus  ZenBook UX530UQ-PRO           Ultrabook    15.6   \n",
       "268        HP          Probook 470            Notebook    17.3   \n",
       "1113       HP          Spectre Pro           Ultrabook    13.3   \n",
       "982    Lenovo    IdeaPad 320-15ABR            Notebook    15.6   \n",
       "1191  Samsung      Chromebook Plus  2 in 1 Convertible    12.3   \n",
       "\n",
       "                      ScreenResolution                                   Cpu  \\\n",
       "1249  Quad HD+ / Touchscreen 3200x1800             Intel Core i5 7Y54 1.2GHz   \n",
       "1186   Full HD / Touchscreen 1920x1080            Intel Core i7 7500U 2.7GHz   \n",
       "568                  Full HD 1920x1080  Intel Pentium Quad Core N4200 1.1GHz   \n",
       "1251                          1366x768             AMD A6-Series 9220 2.5GHz   \n",
       "491    Full HD / Touchscreen 1920x1080            Intel Core i7 7500U 2.7GHz   \n",
       "299                  Full HD 1920x1080            Intel Core i7 7500U 2.7GHz   \n",
       "268                  Full HD 1920x1080            Intel Core i7 8550U 1.8GHz   \n",
       "1113                 Full HD 1920x1080            Intel Core i7 6500U 2.5GHz   \n",
       "982                  Full HD 1920x1080           AMD A12-Series 9720P 3.6GHz   \n",
       "1191   IPS Panel Touchscreen 2400x1600         Samsung Cortex A72&A53 2.0GHz   \n",
       "\n",
       "       Ram              Memory                     Gpu       OpSys  Weight  \\\n",
       "1249   8GB           256GB SSD   Intel HD Graphics 615  Windows 10  1.24kg   \n",
       "1186  16GB           512GB SSD   Intel HD Graphics 620  Windows 10  2.09kg   \n",
       "568    4GB           500GB HDD   Intel HD Graphics 505  Windows 10   2.2kg   \n",
       "1251   4GB           500GB HDD  AMD Radeon R4 Graphics  Windows 10  1.86kg   \n",
       "491   32GB           512GB SSD   Intel HD Graphics 620  Windows 10  1.05kg   \n",
       "299   16GB           512GB SSD    Nvidia GeForce 940MX  Windows 10  1.63kg   \n",
       "268    8GB             1TB HDD   Nvidia GeForce 930MX   Windows 10   2.5kg   \n",
       "1113   8GB           512GB SSD   Intel HD Graphics 520  Windows 10  1.16kg   \n",
       "982    6GB           256GB SSD          AMD Radeon 530  Windows 10   2.2kg   \n",
       "1191   4GB  32GB Flash Storage       ARM Mali T860 MP4   Chrome OS  1.15kg   \n",
       "\n",
       "      Price_euros  \n",
       "1249       1813.0  \n",
       "1186       1179.0  \n",
       "568         344.0  \n",
       "1251        399.0  \n",
       "491        2799.0  \n",
       "299        1468.0  \n",
       "268        1018.0  \n",
       "1113       1969.0  \n",
       "982         549.0  \n",
       "1191        659.0  "
      ]
     },
     "execution_count": 14,
     "metadata": {},
     "output_type": "execute_result"
    }
   ],
   "source": [
    "train.head(10)"
   ]
  },
  {
   "cell_type": "code",
   "execution_count": 15,
   "id": "f0e77eda",
   "metadata": {
    "execution": {
     "iopub.execute_input": "2021-12-08T20:48:35.117833Z",
     "iopub.status.busy": "2021-12-08T20:48:35.117103Z",
     "iopub.status.idle": "2021-12-08T20:48:35.135631Z",
     "shell.execute_reply": "2021-12-08T20:48:35.136146Z",
     "shell.execute_reply.started": "2021-12-08T20:47:26.410801Z"
    },
    "papermill": {
     "duration": 0.120314,
     "end_time": "2021-12-08T20:48:35.136346",
     "exception": false,
     "start_time": "2021-12-08T20:48:35.016032",
     "status": "completed"
    },
    "tags": []
   },
   "outputs": [
    {
     "data": {
      "text/html": [
       "<div>\n",
       "<style scoped>\n",
       "    .dataframe tbody tr th:only-of-type {\n",
       "        vertical-align: middle;\n",
       "    }\n",
       "\n",
       "    .dataframe tbody tr th {\n",
       "        vertical-align: top;\n",
       "    }\n",
       "\n",
       "    .dataframe thead th {\n",
       "        text-align: right;\n",
       "    }\n",
       "</style>\n",
       "<table border=\"1\" class=\"dataframe\">\n",
       "  <thead>\n",
       "    <tr style=\"text-align: right;\">\n",
       "      <th></th>\n",
       "      <th>Company</th>\n",
       "      <th>Product</th>\n",
       "      <th>TypeName</th>\n",
       "      <th>Inches</th>\n",
       "      <th>ScreenResolution</th>\n",
       "      <th>Cpu</th>\n",
       "      <th>Ram</th>\n",
       "      <th>Memory</th>\n",
       "      <th>Gpu</th>\n",
       "      <th>OpSys</th>\n",
       "      <th>Weight</th>\n",
       "      <th>Price_euros</th>\n",
       "    </tr>\n",
       "  </thead>\n",
       "  <tbody>\n",
       "    <tr>\n",
       "      <th>600</th>\n",
       "      <td>HP</td>\n",
       "      <td>EliteBook 850</td>\n",
       "      <td>Notebook</td>\n",
       "      <td>15.6</td>\n",
       "      <td>Full HD 1920x1080</td>\n",
       "      <td>Intel Core i7 7500U 2.7GHz</td>\n",
       "      <td>8GB</td>\n",
       "      <td>256GB SSD</td>\n",
       "      <td>Intel HD Graphics 620</td>\n",
       "      <td>Windows 10</td>\n",
       "      <td>1.84kg</td>\n",
       "      <td>1219.00</td>\n",
       "    </tr>\n",
       "    <tr>\n",
       "      <th>1094</th>\n",
       "      <td>HP</td>\n",
       "      <td>Elitebook 820</td>\n",
       "      <td>Netbook</td>\n",
       "      <td>12.5</td>\n",
       "      <td>1366x768</td>\n",
       "      <td>Intel Core i5 6200U 2.3GHz</td>\n",
       "      <td>4GB</td>\n",
       "      <td>128GB SSD</td>\n",
       "      <td>Intel HD Graphics 520</td>\n",
       "      <td>Windows 7</td>\n",
       "      <td>2.4kg</td>\n",
       "      <td>1599.00</td>\n",
       "    </tr>\n",
       "    <tr>\n",
       "      <th>599</th>\n",
       "      <td>Dell</td>\n",
       "      <td>Precision 3520</td>\n",
       "      <td>Workstation</td>\n",
       "      <td>15.6</td>\n",
       "      <td>Full HD / Touchscreen 1920x1080</td>\n",
       "      <td>Intel Core i7 7700HQ 2.8GHz</td>\n",
       "      <td>8GB</td>\n",
       "      <td>256GB SSD</td>\n",
       "      <td>Nvidia Quadro M620</td>\n",
       "      <td>Windows 10</td>\n",
       "      <td>2.06kg</td>\n",
       "      <td>1763.00</td>\n",
       "    </tr>\n",
       "    <tr>\n",
       "      <th>277</th>\n",
       "      <td>Acer</td>\n",
       "      <td>Aspire A515-51G</td>\n",
       "      <td>Notebook</td>\n",
       "      <td>15.6</td>\n",
       "      <td>IPS Panel Full HD 1920x1080</td>\n",
       "      <td>Intel Core i7 8550U 1.8GHz</td>\n",
       "      <td>8GB</td>\n",
       "      <td>1TB HDD</td>\n",
       "      <td>Nvidia GeForce MX130</td>\n",
       "      <td>Windows 10</td>\n",
       "      <td>2.2kg</td>\n",
       "      <td>745.00</td>\n",
       "    </tr>\n",
       "    <tr>\n",
       "      <th>1033</th>\n",
       "      <td>HP</td>\n",
       "      <td>Probook 640</td>\n",
       "      <td>Notebook</td>\n",
       "      <td>14.0</td>\n",
       "      <td>Full HD 1920x1080</td>\n",
       "      <td>Intel Core i5 6200U 2.3GHz</td>\n",
       "      <td>8GB</td>\n",
       "      <td>256GB SSD</td>\n",
       "      <td>Intel HD Graphics 520</td>\n",
       "      <td>Windows 7</td>\n",
       "      <td>1.95kg</td>\n",
       "      <td>1195.00</td>\n",
       "    </tr>\n",
       "    <tr>\n",
       "      <th>763</th>\n",
       "      <td>Asus</td>\n",
       "      <td>Zenbook UX330UA-AH5Q</td>\n",
       "      <td>Ultrabook</td>\n",
       "      <td>13.3</td>\n",
       "      <td>IPS Panel Quad HD+ 3200x1800</td>\n",
       "      <td>Intel Core i5 7200U 2.5GHz</td>\n",
       "      <td>8GB</td>\n",
       "      <td>256GB SSD</td>\n",
       "      <td>Intel HD Graphics 620</td>\n",
       "      <td>Windows 10</td>\n",
       "      <td>1.2kg</td>\n",
       "      <td>1129.00</td>\n",
       "    </tr>\n",
       "    <tr>\n",
       "      <th>835</th>\n",
       "      <td>Dell</td>\n",
       "      <td>Alienware 15</td>\n",
       "      <td>Gaming</td>\n",
       "      <td>15.6</td>\n",
       "      <td>Full HD 1920x1080</td>\n",
       "      <td>Intel Core i7 7700HQ 2.8GHz</td>\n",
       "      <td>16GB</td>\n",
       "      <td>256GB SSD +  1TB HDD</td>\n",
       "      <td>Nvidia GeForce GTX 1070</td>\n",
       "      <td>Windows 10</td>\n",
       "      <td>3.21kg</td>\n",
       "      <td>2774.63</td>\n",
       "    </tr>\n",
       "    <tr>\n",
       "      <th>1216</th>\n",
       "      <td>Acer</td>\n",
       "      <td>E5 774G</td>\n",
       "      <td>Notebook</td>\n",
       "      <td>17.3</td>\n",
       "      <td>1600x900</td>\n",
       "      <td>Intel Core i3 6006U 2GHz</td>\n",
       "      <td>4GB</td>\n",
       "      <td>1TB HDD</td>\n",
       "      <td>Nvidia GeForce 940MX</td>\n",
       "      <td>Windows 10</td>\n",
       "      <td>3.3kg</td>\n",
       "      <td>598.00</td>\n",
       "    </tr>\n",
       "    <tr>\n",
       "      <th>559</th>\n",
       "      <td>Dell</td>\n",
       "      <td>Vostro 3568</td>\n",
       "      <td>Notebook</td>\n",
       "      <td>15.6</td>\n",
       "      <td>1366x768</td>\n",
       "      <td>Intel Core i3 6006U 2GHz</td>\n",
       "      <td>4GB</td>\n",
       "      <td>1TB HDD</td>\n",
       "      <td>AMD Radeon R5 M420</td>\n",
       "      <td>Windows 10</td>\n",
       "      <td>2.18kg</td>\n",
       "      <td>617.90</td>\n",
       "    </tr>\n",
       "    <tr>\n",
       "      <th>684</th>\n",
       "      <td>Lenovo</td>\n",
       "      <td>Yoga 730</td>\n",
       "      <td>2 in 1 Convertible</td>\n",
       "      <td>13.3</td>\n",
       "      <td>IPS Panel Full HD / Touchscreen 1920x1080</td>\n",
       "      <td>Intel Core i7 8550U 1.8GHz</td>\n",
       "      <td>8GB</td>\n",
       "      <td>512GB SSD</td>\n",
       "      <td>Intel UHD Graphics 620</td>\n",
       "      <td>Windows 10</td>\n",
       "      <td>1.19kg</td>\n",
       "      <td>1499.00</td>\n",
       "    </tr>\n",
       "  </tbody>\n",
       "</table>\n",
       "</div>"
      ],
      "text/plain": [
       "     Company               Product            TypeName  Inches  \\\n",
       "600       HP         EliteBook 850            Notebook    15.6   \n",
       "1094      HP         Elitebook 820             Netbook    12.5   \n",
       "599     Dell        Precision 3520         Workstation    15.6   \n",
       "277     Acer       Aspire A515-51G            Notebook    15.6   \n",
       "1033      HP           Probook 640            Notebook    14.0   \n",
       "763     Asus  Zenbook UX330UA-AH5Q           Ultrabook    13.3   \n",
       "835     Dell          Alienware 15              Gaming    15.6   \n",
       "1216    Acer               E5 774G            Notebook    17.3   \n",
       "559     Dell           Vostro 3568            Notebook    15.6   \n",
       "684   Lenovo              Yoga 730  2 in 1 Convertible    13.3   \n",
       "\n",
       "                               ScreenResolution                          Cpu  \\\n",
       "600                           Full HD 1920x1080   Intel Core i7 7500U 2.7GHz   \n",
       "1094                                   1366x768   Intel Core i5 6200U 2.3GHz   \n",
       "599             Full HD / Touchscreen 1920x1080  Intel Core i7 7700HQ 2.8GHz   \n",
       "277                 IPS Panel Full HD 1920x1080   Intel Core i7 8550U 1.8GHz   \n",
       "1033                          Full HD 1920x1080   Intel Core i5 6200U 2.3GHz   \n",
       "763                IPS Panel Quad HD+ 3200x1800   Intel Core i5 7200U 2.5GHz   \n",
       "835                           Full HD 1920x1080  Intel Core i7 7700HQ 2.8GHz   \n",
       "1216                                   1600x900     Intel Core i3 6006U 2GHz   \n",
       "559                                    1366x768     Intel Core i3 6006U 2GHz   \n",
       "684   IPS Panel Full HD / Touchscreen 1920x1080   Intel Core i7 8550U 1.8GHz   \n",
       "\n",
       "       Ram                Memory                      Gpu       OpSys  Weight  \\\n",
       "600    8GB             256GB SSD    Intel HD Graphics 620  Windows 10  1.84kg   \n",
       "1094   4GB             128GB SSD    Intel HD Graphics 520   Windows 7   2.4kg   \n",
       "599    8GB             256GB SSD       Nvidia Quadro M620  Windows 10  2.06kg   \n",
       "277    8GB               1TB HDD     Nvidia GeForce MX130  Windows 10   2.2kg   \n",
       "1033   8GB             256GB SSD    Intel HD Graphics 520   Windows 7  1.95kg   \n",
       "763    8GB             256GB SSD    Intel HD Graphics 620  Windows 10   1.2kg   \n",
       "835   16GB  256GB SSD +  1TB HDD  Nvidia GeForce GTX 1070  Windows 10  3.21kg   \n",
       "1216   4GB               1TB HDD     Nvidia GeForce 940MX  Windows 10   3.3kg   \n",
       "559    4GB               1TB HDD       AMD Radeon R5 M420  Windows 10  2.18kg   \n",
       "684    8GB             512GB SSD   Intel UHD Graphics 620  Windows 10  1.19kg   \n",
       "\n",
       "      Price_euros  \n",
       "600       1219.00  \n",
       "1094      1599.00  \n",
       "599       1763.00  \n",
       "277        745.00  \n",
       "1033      1195.00  \n",
       "763       1129.00  \n",
       "835       2774.63  \n",
       "1216       598.00  \n",
       "559        617.90  \n",
       "684       1499.00  "
      ]
     },
     "execution_count": 15,
     "metadata": {},
     "output_type": "execute_result"
    }
   ],
   "source": [
    "train.tail(10)"
   ]
  },
  {
   "cell_type": "code",
   "execution_count": 16,
   "id": "ba1eeafa",
   "metadata": {
    "execution": {
     "iopub.execute_input": "2021-12-08T20:48:35.335895Z",
     "iopub.status.busy": "2021-12-08T20:48:35.335187Z",
     "iopub.status.idle": "2021-12-08T20:48:35.353742Z",
     "shell.execute_reply": "2021-12-08T20:48:35.354340Z",
     "shell.execute_reply.started": "2021-12-08T20:47:26.435165Z"
    },
    "papermill": {
     "duration": 0.119146,
     "end_time": "2021-12-08T20:48:35.354586",
     "exception": false,
     "start_time": "2021-12-08T20:48:35.235440",
     "status": "completed"
    },
    "tags": []
   },
   "outputs": [
    {
     "data": {
      "text/html": [
       "<div>\n",
       "<style scoped>\n",
       "    .dataframe tbody tr th:only-of-type {\n",
       "        vertical-align: middle;\n",
       "    }\n",
       "\n",
       "    .dataframe tbody tr th {\n",
       "        vertical-align: top;\n",
       "    }\n",
       "\n",
       "    .dataframe thead th {\n",
       "        text-align: right;\n",
       "    }\n",
       "</style>\n",
       "<table border=\"1\" class=\"dataframe\">\n",
       "  <thead>\n",
       "    <tr style=\"text-align: right;\">\n",
       "      <th></th>\n",
       "      <th>Company</th>\n",
       "      <th>Product</th>\n",
       "      <th>TypeName</th>\n",
       "      <th>Inches</th>\n",
       "      <th>ScreenResolution</th>\n",
       "      <th>Cpu</th>\n",
       "      <th>Ram</th>\n",
       "      <th>Memory</th>\n",
       "      <th>Gpu</th>\n",
       "      <th>OpSys</th>\n",
       "      <th>Weight</th>\n",
       "      <th>Price_euros</th>\n",
       "    </tr>\n",
       "  </thead>\n",
       "  <tbody>\n",
       "    <tr>\n",
       "      <th>580</th>\n",
       "      <td>Mediacom</td>\n",
       "      <td>SmartBook Edge</td>\n",
       "      <td>Notebook</td>\n",
       "      <td>14.0</td>\n",
       "      <td>IPS Panel Full HD 1920x1080</td>\n",
       "      <td>Intel Celeron Quad Core N3450 1.1GHz</td>\n",
       "      <td>4GB</td>\n",
       "      <td>32GB SSD</td>\n",
       "      <td>Intel HD Graphics 500</td>\n",
       "      <td>Windows 10</td>\n",
       "      <td>1.45kg</td>\n",
       "      <td>389.00</td>\n",
       "    </tr>\n",
       "    <tr>\n",
       "      <th>1017</th>\n",
       "      <td>Lenovo</td>\n",
       "      <td>ThinkPad P70</td>\n",
       "      <td>Notebook</td>\n",
       "      <td>17.3</td>\n",
       "      <td>IPS Panel 4K Ultra HD 3840x2160</td>\n",
       "      <td>Intel Core i7 6820HQ 2.7GHz</td>\n",
       "      <td>16GB</td>\n",
       "      <td>512GB SSD</td>\n",
       "      <td>Nvidia Quadro 3000M</td>\n",
       "      <td>Windows 7</td>\n",
       "      <td>2.4kg</td>\n",
       "      <td>2968.00</td>\n",
       "    </tr>\n",
       "    <tr>\n",
       "      <th>761</th>\n",
       "      <td>Dell</td>\n",
       "      <td>Latitude 7280</td>\n",
       "      <td>Ultrabook</td>\n",
       "      <td>12.5</td>\n",
       "      <td>Full HD 1920x1080</td>\n",
       "      <td>Intel Core i7 7600U 2.8GHz</td>\n",
       "      <td>16GB</td>\n",
       "      <td>256GB SSD</td>\n",
       "      <td>Intel HD Graphics 620</td>\n",
       "      <td>Windows 10</td>\n",
       "      <td>1.18kg</td>\n",
       "      <td>1859.00</td>\n",
       "    </tr>\n",
       "    <tr>\n",
       "      <th>686</th>\n",
       "      <td>HP</td>\n",
       "      <td>250 G6</td>\n",
       "      <td>Notebook</td>\n",
       "      <td>15.6</td>\n",
       "      <td>1366x768</td>\n",
       "      <td>Intel Core i5 7200U 2.5GHz</td>\n",
       "      <td>4GB</td>\n",
       "      <td>500GB HDD</td>\n",
       "      <td>AMD Radeon 520</td>\n",
       "      <td>Windows 10</td>\n",
       "      <td>1.86kg</td>\n",
       "      <td>612.61</td>\n",
       "    </tr>\n",
       "    <tr>\n",
       "      <th>186</th>\n",
       "      <td>Dell</td>\n",
       "      <td>XPS 15</td>\n",
       "      <td>Notebook</td>\n",
       "      <td>15.6</td>\n",
       "      <td>4K Ultra HD / Touchscreen 3840x2160</td>\n",
       "      <td>Intel Core i7 7700HQ 2.8GHz</td>\n",
       "      <td>16GB</td>\n",
       "      <td>512GB SSD</td>\n",
       "      <td>Nvidia GeForce GTX 1050</td>\n",
       "      <td>Windows 10</td>\n",
       "      <td>2.06kg</td>\n",
       "      <td>2397.00</td>\n",
       "    </tr>\n",
       "    <tr>\n",
       "      <th>481</th>\n",
       "      <td>Dell</td>\n",
       "      <td>Vostro 3568</td>\n",
       "      <td>Notebook</td>\n",
       "      <td>15.6</td>\n",
       "      <td>1366x768</td>\n",
       "      <td>Intel Core i3 7100U 2.4GHz</td>\n",
       "      <td>4GB</td>\n",
       "      <td>1TB HDD</td>\n",
       "      <td>Intel HD Graphics 620</td>\n",
       "      <td>Windows 10</td>\n",
       "      <td>2.18kg</td>\n",
       "      <td>586.60</td>\n",
       "    </tr>\n",
       "    <tr>\n",
       "      <th>5</th>\n",
       "      <td>Acer</td>\n",
       "      <td>Aspire 3</td>\n",
       "      <td>Notebook</td>\n",
       "      <td>15.6</td>\n",
       "      <td>1366x768</td>\n",
       "      <td>AMD A9-Series 9420 3GHz</td>\n",
       "      <td>4GB</td>\n",
       "      <td>500GB HDD</td>\n",
       "      <td>AMD Radeon R5</td>\n",
       "      <td>Windows 10</td>\n",
       "      <td>2.1kg</td>\n",
       "      <td>400.00</td>\n",
       "    </tr>\n",
       "    <tr>\n",
       "      <th>317</th>\n",
       "      <td>Lenovo</td>\n",
       "      <td>ThinkPad 13</td>\n",
       "      <td>Notebook</td>\n",
       "      <td>13.3</td>\n",
       "      <td>1366x768</td>\n",
       "      <td>Intel Celeron Dual Core 3855U 1.6GHz</td>\n",
       "      <td>4GB</td>\n",
       "      <td>16GB Flash Storage</td>\n",
       "      <td>Intel HD Graphics 510</td>\n",
       "      <td>Chrome OS</td>\n",
       "      <td>1.45kg</td>\n",
       "      <td>459.90</td>\n",
       "    </tr>\n",
       "    <tr>\n",
       "      <th>402</th>\n",
       "      <td>Lenovo</td>\n",
       "      <td>ThinkPad E580</td>\n",
       "      <td>Notebook</td>\n",
       "      <td>15.6</td>\n",
       "      <td>IPS Panel Full HD 1920x1080</td>\n",
       "      <td>Intel Core i5 8250U 1.6GHz</td>\n",
       "      <td>8GB</td>\n",
       "      <td>256GB SSD +  1TB HDD</td>\n",
       "      <td>AMD Radeon RX 550</td>\n",
       "      <td>Windows 10</td>\n",
       "      <td>2.1kg</td>\n",
       "      <td>1144.50</td>\n",
       "    </tr>\n",
       "    <tr>\n",
       "      <th>247</th>\n",
       "      <td>Asus</td>\n",
       "      <td>Rog G701VIK-BA060T</td>\n",
       "      <td>Gaming</td>\n",
       "      <td>17.3</td>\n",
       "      <td>Full HD 1920x1080</td>\n",
       "      <td>Intel Core i7 7820HK 2.9GHz</td>\n",
       "      <td>16GB</td>\n",
       "      <td>256GB SSD</td>\n",
       "      <td>Nvidia GeForce GTX 1080</td>\n",
       "      <td>Windows 10</td>\n",
       "      <td>3.6kg</td>\n",
       "      <td>2999.00</td>\n",
       "    </tr>\n",
       "  </tbody>\n",
       "</table>\n",
       "</div>"
      ],
      "text/plain": [
       "       Company             Product   TypeName  Inches  \\\n",
       "580   Mediacom      SmartBook Edge   Notebook    14.0   \n",
       "1017    Lenovo        ThinkPad P70   Notebook    17.3   \n",
       "761       Dell       Latitude 7280  Ultrabook    12.5   \n",
       "686         HP              250 G6   Notebook    15.6   \n",
       "186       Dell              XPS 15   Notebook    15.6   \n",
       "481       Dell         Vostro 3568   Notebook    15.6   \n",
       "5         Acer            Aspire 3   Notebook    15.6   \n",
       "317     Lenovo         ThinkPad 13   Notebook    13.3   \n",
       "402     Lenovo       ThinkPad E580   Notebook    15.6   \n",
       "247       Asus  Rog G701VIK-BA060T     Gaming    17.3   \n",
       "\n",
       "                         ScreenResolution  \\\n",
       "580           IPS Panel Full HD 1920x1080   \n",
       "1017      IPS Panel 4K Ultra HD 3840x2160   \n",
       "761                     Full HD 1920x1080   \n",
       "686                              1366x768   \n",
       "186   4K Ultra HD / Touchscreen 3840x2160   \n",
       "481                              1366x768   \n",
       "5                                1366x768   \n",
       "317                              1366x768   \n",
       "402           IPS Panel Full HD 1920x1080   \n",
       "247                     Full HD 1920x1080   \n",
       "\n",
       "                                       Cpu   Ram                Memory  \\\n",
       "580   Intel Celeron Quad Core N3450 1.1GHz   4GB              32GB SSD   \n",
       "1017           Intel Core i7 6820HQ 2.7GHz  16GB             512GB SSD   \n",
       "761             Intel Core i7 7600U 2.8GHz  16GB             256GB SSD   \n",
       "686             Intel Core i5 7200U 2.5GHz   4GB             500GB HDD   \n",
       "186            Intel Core i7 7700HQ 2.8GHz  16GB             512GB SSD   \n",
       "481             Intel Core i3 7100U 2.4GHz   4GB               1TB HDD   \n",
       "5                  AMD A9-Series 9420 3GHz   4GB             500GB HDD   \n",
       "317   Intel Celeron Dual Core 3855U 1.6GHz   4GB    16GB Flash Storage   \n",
       "402             Intel Core i5 8250U 1.6GHz   8GB  256GB SSD +  1TB HDD   \n",
       "247            Intel Core i7 7820HK 2.9GHz  16GB             256GB SSD   \n",
       "\n",
       "                          Gpu       OpSys  Weight  Price_euros  \n",
       "580     Intel HD Graphics 500  Windows 10  1.45kg       389.00  \n",
       "1017      Nvidia Quadro 3000M   Windows 7   2.4kg      2968.00  \n",
       "761     Intel HD Graphics 620  Windows 10  1.18kg      1859.00  \n",
       "686            AMD Radeon 520  Windows 10  1.86kg       612.61  \n",
       "186   Nvidia GeForce GTX 1050  Windows 10  2.06kg      2397.00  \n",
       "481     Intel HD Graphics 620  Windows 10  2.18kg       586.60  \n",
       "5               AMD Radeon R5  Windows 10   2.1kg       400.00  \n",
       "317     Intel HD Graphics 510   Chrome OS  1.45kg       459.90  \n",
       "402         AMD Radeon RX 550  Windows 10   2.1kg      1144.50  \n",
       "247   Nvidia GeForce GTX 1080  Windows 10   3.6kg      2999.00  "
      ]
     },
     "execution_count": 16,
     "metadata": {},
     "output_type": "execute_result"
    }
   ],
   "source": [
    "test.head(10)"
   ]
  },
  {
   "cell_type": "code",
   "execution_count": 17,
   "id": "43e7f5d8",
   "metadata": {
    "execution": {
     "iopub.execute_input": "2021-12-08T20:48:35.554727Z",
     "iopub.status.busy": "2021-12-08T20:48:35.554016Z",
     "iopub.status.idle": "2021-12-08T20:48:35.574742Z",
     "shell.execute_reply": "2021-12-08T20:48:35.575246Z",
     "shell.execute_reply.started": "2021-12-08T20:47:26.457397Z"
    },
    "papermill": {
     "duration": 0.122107,
     "end_time": "2021-12-08T20:48:35.575441",
     "exception": false,
     "start_time": "2021-12-08T20:48:35.453334",
     "status": "completed"
    },
    "tags": []
   },
   "outputs": [
    {
     "data": {
      "text/html": [
       "<div>\n",
       "<style scoped>\n",
       "    .dataframe tbody tr th:only-of-type {\n",
       "        vertical-align: middle;\n",
       "    }\n",
       "\n",
       "    .dataframe tbody tr th {\n",
       "        vertical-align: top;\n",
       "    }\n",
       "\n",
       "    .dataframe thead th {\n",
       "        text-align: right;\n",
       "    }\n",
       "</style>\n",
       "<table border=\"1\" class=\"dataframe\">\n",
       "  <thead>\n",
       "    <tr style=\"text-align: right;\">\n",
       "      <th></th>\n",
       "      <th>Company</th>\n",
       "      <th>Product</th>\n",
       "      <th>TypeName</th>\n",
       "      <th>Inches</th>\n",
       "      <th>ScreenResolution</th>\n",
       "      <th>Cpu</th>\n",
       "      <th>Ram</th>\n",
       "      <th>Memory</th>\n",
       "      <th>Gpu</th>\n",
       "      <th>OpSys</th>\n",
       "      <th>Weight</th>\n",
       "      <th>Price_euros</th>\n",
       "    </tr>\n",
       "  </thead>\n",
       "  <tbody>\n",
       "    <tr>\n",
       "      <th>49</th>\n",
       "      <td>Asus</td>\n",
       "      <td>X751NV-TY001T (N4200/4GB/1TB/GeForce</td>\n",
       "      <td>Notebook</td>\n",
       "      <td>17.3</td>\n",
       "      <td>1366x768</td>\n",
       "      <td>Intel Pentium Quad Core N4200 1.1GHz</td>\n",
       "      <td>4GB</td>\n",
       "      <td>1TB HDD</td>\n",
       "      <td>Nvidia GeForce 920MX</td>\n",
       "      <td>Windows 10</td>\n",
       "      <td>2.8kg</td>\n",
       "      <td>466.0</td>\n",
       "    </tr>\n",
       "    <tr>\n",
       "      <th>567</th>\n",
       "      <td>Fujitsu</td>\n",
       "      <td>Lifebook A557</td>\n",
       "      <td>Notebook</td>\n",
       "      <td>15.6</td>\n",
       "      <td>1366x768</td>\n",
       "      <td>Intel Core i5 7200U 2.5GHz</td>\n",
       "      <td>8GB</td>\n",
       "      <td>1TB HDD</td>\n",
       "      <td>Intel HD Graphics 620</td>\n",
       "      <td>Windows 10</td>\n",
       "      <td>2.2kg</td>\n",
       "      <td>739.0</td>\n",
       "    </tr>\n",
       "    <tr>\n",
       "      <th>269</th>\n",
       "      <td>Lenovo</td>\n",
       "      <td>V330-15IKB (i7-8550U/8GB/256GB/FHD/W10)</td>\n",
       "      <td>Notebook</td>\n",
       "      <td>15.6</td>\n",
       "      <td>Full HD 1920x1080</td>\n",
       "      <td>Intel Core i7 8550U 1.8GHz</td>\n",
       "      <td>8GB</td>\n",
       "      <td>256GB SSD</td>\n",
       "      <td>Intel UHD Graphics 620</td>\n",
       "      <td>Windows 10</td>\n",
       "      <td>2.05kg</td>\n",
       "      <td>880.0</td>\n",
       "    </tr>\n",
       "    <tr>\n",
       "      <th>1089</th>\n",
       "      <td>Acer</td>\n",
       "      <td>Aspire ES1-523</td>\n",
       "      <td>Notebook</td>\n",
       "      <td>15.6</td>\n",
       "      <td>1366x768</td>\n",
       "      <td>AMD A8-Series 7410 2.2GHz</td>\n",
       "      <td>4GB</td>\n",
       "      <td>500GB HDD</td>\n",
       "      <td>AMD Radeon R5</td>\n",
       "      <td>Windows 10</td>\n",
       "      <td>2.4kg</td>\n",
       "      <td>387.0</td>\n",
       "    </tr>\n",
       "    <tr>\n",
       "      <th>974</th>\n",
       "      <td>Asus</td>\n",
       "      <td>Rog Strix</td>\n",
       "      <td>Gaming</td>\n",
       "      <td>17.3</td>\n",
       "      <td>Full HD 1920x1080</td>\n",
       "      <td>Intel Core i7 7700HQ 2.8GHz</td>\n",
       "      <td>16GB</td>\n",
       "      <td>256GB SSD +  1TB HDD</td>\n",
       "      <td>Nvidia GeForce GTX 1060</td>\n",
       "      <td>Windows 10</td>\n",
       "      <td>2.73kg</td>\n",
       "      <td>2049.9</td>\n",
       "    </tr>\n",
       "    <tr>\n",
       "      <th>1176</th>\n",
       "      <td>Lenovo</td>\n",
       "      <td>B51-80 (i7-6500U/4GB/1008GB/FHD/W7)</td>\n",
       "      <td>Notebook</td>\n",
       "      <td>15.6</td>\n",
       "      <td>Full HD 1920x1080</td>\n",
       "      <td>Intel Core i7 6500U 2.5GHz</td>\n",
       "      <td>4GB</td>\n",
       "      <td>1.0TB Hybrid</td>\n",
       "      <td>Intel HD Graphics 520</td>\n",
       "      <td>Windows 7</td>\n",
       "      <td>2.32kg</td>\n",
       "      <td>825.0</td>\n",
       "    </tr>\n",
       "    <tr>\n",
       "      <th>549</th>\n",
       "      <td>Lenovo</td>\n",
       "      <td>ThinkPad T570</td>\n",
       "      <td>Notebook</td>\n",
       "      <td>15.6</td>\n",
       "      <td>IPS Panel Full HD 1920x1080</td>\n",
       "      <td>Intel Core i7 7500U 2.7GHz</td>\n",
       "      <td>8GB</td>\n",
       "      <td>512GB SSD</td>\n",
       "      <td>Intel HD Graphics 620</td>\n",
       "      <td>Windows 10</td>\n",
       "      <td>1.99kg</td>\n",
       "      <td>1729.0</td>\n",
       "    </tr>\n",
       "    <tr>\n",
       "      <th>922</th>\n",
       "      <td>HP</td>\n",
       "      <td>Envy 13-AB077cl</td>\n",
       "      <td>Ultrabook</td>\n",
       "      <td>13.3</td>\n",
       "      <td>Quad HD+ / Touchscreen 3200x1800</td>\n",
       "      <td>Intel Core i7 7500U 2.7GHz</td>\n",
       "      <td>8GB</td>\n",
       "      <td>256GB SSD</td>\n",
       "      <td>Intel HD Graphics 620</td>\n",
       "      <td>Windows 10</td>\n",
       "      <td>1.39kg</td>\n",
       "      <td>1149.0</td>\n",
       "    </tr>\n",
       "    <tr>\n",
       "      <th>399</th>\n",
       "      <td>Lenovo</td>\n",
       "      <td>Thinkpad X1</td>\n",
       "      <td>Ultrabook</td>\n",
       "      <td>14.0</td>\n",
       "      <td>IPS Panel 2560x1440</td>\n",
       "      <td>Intel Core i7 7500U 2.7GHz</td>\n",
       "      <td>16GB</td>\n",
       "      <td>1TB SSD</td>\n",
       "      <td>Intel HD Graphics 620</td>\n",
       "      <td>Windows 10</td>\n",
       "      <td>1.13kg</td>\n",
       "      <td>2625.0</td>\n",
       "    </tr>\n",
       "    <tr>\n",
       "      <th>44</th>\n",
       "      <td>Dell</td>\n",
       "      <td>Inspiron 7773</td>\n",
       "      <td>2 in 1 Convertible</td>\n",
       "      <td>17.3</td>\n",
       "      <td>Full HD / Touchscreen 1920x1080</td>\n",
       "      <td>Intel Core i5 8250U 1.6GHz</td>\n",
       "      <td>12GB</td>\n",
       "      <td>1TB HDD</td>\n",
       "      <td>Nvidia GeForce 150MX</td>\n",
       "      <td>Windows 10</td>\n",
       "      <td>2.77kg</td>\n",
       "      <td>999.0</td>\n",
       "    </tr>\n",
       "  </tbody>\n",
       "</table>\n",
       "</div>"
      ],
      "text/plain": [
       "      Company                                  Product            TypeName  \\\n",
       "49       Asus     X751NV-TY001T (N4200/4GB/1TB/GeForce            Notebook   \n",
       "567   Fujitsu                            Lifebook A557            Notebook   \n",
       "269    Lenovo  V330-15IKB (i7-8550U/8GB/256GB/FHD/W10)            Notebook   \n",
       "1089     Acer                           Aspire ES1-523            Notebook   \n",
       "974      Asus                                Rog Strix              Gaming   \n",
       "1176   Lenovo      B51-80 (i7-6500U/4GB/1008GB/FHD/W7)            Notebook   \n",
       "549    Lenovo                            ThinkPad T570            Notebook   \n",
       "922        HP                          Envy 13-AB077cl           Ultrabook   \n",
       "399    Lenovo                              Thinkpad X1           Ultrabook   \n",
       "44       Dell                            Inspiron 7773  2 in 1 Convertible   \n",
       "\n",
       "      Inches                  ScreenResolution  \\\n",
       "49      17.3                          1366x768   \n",
       "567     15.6                          1366x768   \n",
       "269     15.6                 Full HD 1920x1080   \n",
       "1089    15.6                          1366x768   \n",
       "974     17.3                 Full HD 1920x1080   \n",
       "1176    15.6                 Full HD 1920x1080   \n",
       "549     15.6       IPS Panel Full HD 1920x1080   \n",
       "922     13.3  Quad HD+ / Touchscreen 3200x1800   \n",
       "399     14.0               IPS Panel 2560x1440   \n",
       "44      17.3   Full HD / Touchscreen 1920x1080   \n",
       "\n",
       "                                       Cpu   Ram                Memory  \\\n",
       "49    Intel Pentium Quad Core N4200 1.1GHz   4GB               1TB HDD   \n",
       "567             Intel Core i5 7200U 2.5GHz   8GB               1TB HDD   \n",
       "269             Intel Core i7 8550U 1.8GHz   8GB             256GB SSD   \n",
       "1089             AMD A8-Series 7410 2.2GHz   4GB             500GB HDD   \n",
       "974            Intel Core i7 7700HQ 2.8GHz  16GB  256GB SSD +  1TB HDD   \n",
       "1176            Intel Core i7 6500U 2.5GHz   4GB          1.0TB Hybrid   \n",
       "549             Intel Core i7 7500U 2.7GHz   8GB             512GB SSD   \n",
       "922             Intel Core i7 7500U 2.7GHz   8GB             256GB SSD   \n",
       "399             Intel Core i7 7500U 2.7GHz  16GB               1TB SSD   \n",
       "44              Intel Core i5 8250U 1.6GHz  12GB               1TB HDD   \n",
       "\n",
       "                          Gpu       OpSys  Weight  Price_euros  \n",
       "49       Nvidia GeForce 920MX  Windows 10   2.8kg        466.0  \n",
       "567     Intel HD Graphics 620  Windows 10   2.2kg        739.0  \n",
       "269    Intel UHD Graphics 620  Windows 10  2.05kg        880.0  \n",
       "1089            AMD Radeon R5  Windows 10   2.4kg        387.0  \n",
       "974   Nvidia GeForce GTX 1060  Windows 10  2.73kg       2049.9  \n",
       "1176    Intel HD Graphics 520   Windows 7  2.32kg        825.0  \n",
       "549     Intel HD Graphics 620  Windows 10  1.99kg       1729.0  \n",
       "922     Intel HD Graphics 620  Windows 10  1.39kg       1149.0  \n",
       "399     Intel HD Graphics 620  Windows 10  1.13kg       2625.0  \n",
       "44       Nvidia GeForce 150MX  Windows 10  2.77kg        999.0  "
      ]
     },
     "execution_count": 17,
     "metadata": {},
     "output_type": "execute_result"
    }
   ],
   "source": [
    "test.tail(10)"
   ]
  },
  {
   "cell_type": "code",
   "execution_count": 18,
   "id": "35fa0d28",
   "metadata": {
    "execution": {
     "iopub.execute_input": "2021-12-08T20:48:35.784000Z",
     "iopub.status.busy": "2021-12-08T20:48:35.783164Z",
     "iopub.status.idle": "2021-12-08T20:48:35.786566Z",
     "shell.execute_reply": "2021-12-08T20:48:35.787064Z",
     "shell.execute_reply.started": "2021-12-08T20:47:26.489249Z"
    },
    "papermill": {
     "duration": 0.111204,
     "end_time": "2021-12-08T20:48:35.787253",
     "exception": false,
     "start_time": "2021-12-08T20:48:35.676049",
     "status": "completed"
    },
    "tags": []
   },
   "outputs": [
    {
     "data": {
      "text/plain": [
       "Company              object\n",
       "Product              object\n",
       "TypeName             object\n",
       "Inches              float64\n",
       "ScreenResolution     object\n",
       "Cpu                  object\n",
       "Ram                  object\n",
       "Memory               object\n",
       "Gpu                  object\n",
       "OpSys                object\n",
       "Weight               object\n",
       "Price_euros         float64\n",
       "dtype: object"
      ]
     },
     "execution_count": 18,
     "metadata": {},
     "output_type": "execute_result"
    }
   ],
   "source": [
    "train.dtypes"
   ]
  },
  {
   "cell_type": "code",
   "execution_count": 19,
   "id": "3bd02646",
   "metadata": {
    "execution": {
     "iopub.execute_input": "2021-12-08T20:48:36.001386Z",
     "iopub.status.busy": "2021-12-08T20:48:36.000256Z",
     "iopub.status.idle": "2021-12-08T20:48:36.009222Z",
     "shell.execute_reply": "2021-12-08T20:48:36.008521Z",
     "shell.execute_reply.started": "2021-12-08T20:47:26.502890Z"
    },
    "papermill": {
     "duration": 0.112475,
     "end_time": "2021-12-08T20:48:36.009385",
     "exception": false,
     "start_time": "2021-12-08T20:48:35.896910",
     "status": "completed"
    },
    "tags": []
   },
   "outputs": [
    {
     "data": {
      "text/plain": [
       "Company              object\n",
       "Product              object\n",
       "TypeName             object\n",
       "Inches              float64\n",
       "ScreenResolution     object\n",
       "Cpu                  object\n",
       "Ram                  object\n",
       "Memory               object\n",
       "Gpu                  object\n",
       "OpSys                object\n",
       "Weight               object\n",
       "Price_euros         float64\n",
       "dtype: object"
      ]
     },
     "execution_count": 19,
     "metadata": {},
     "output_type": "execute_result"
    }
   ],
   "source": [
    "test.dtypes"
   ]
  },
  {
   "cell_type": "code",
   "execution_count": 20,
   "id": "7b250b44",
   "metadata": {
    "execution": {
     "iopub.execute_input": "2021-12-08T20:48:36.217703Z",
     "iopub.status.busy": "2021-12-08T20:48:36.216996Z",
     "iopub.status.idle": "2021-12-08T20:48:36.357726Z",
     "shell.execute_reply": "2021-12-08T20:48:36.358244Z",
     "shell.execute_reply.started": "2021-12-08T20:47:26.517616Z"
    },
    "papermill": {
     "duration": 0.249288,
     "end_time": "2021-12-08T20:48:36.358492",
     "exception": false,
     "start_time": "2021-12-08T20:48:36.109204",
     "status": "completed"
    },
    "tags": []
   },
   "outputs": [
    {
     "name": "stdout",
     "output_type": "stream",
     "text": [
      "<class 'pandas.core.frame.DataFrame'>\n",
      "Int64Index: 1042 entries, 1249 to 684\n",
      "Data columns (total 12 columns):\n",
      " #   Column            Non-Null Count  Dtype  \n",
      "---  ------            --------------  -----  \n",
      " 0   Company           1042 non-null   object \n",
      " 1   Product           1042 non-null   object \n",
      " 2   TypeName          1042 non-null   object \n",
      " 3   Inches            1042 non-null   float64\n",
      " 4   ScreenResolution  1042 non-null   object \n",
      " 5   Cpu               1042 non-null   object \n",
      " 6   Ram               1042 non-null   object \n",
      " 7   Memory            1042 non-null   object \n",
      " 8   Gpu               1042 non-null   object \n",
      " 9   OpSys             1042 non-null   object \n",
      " 10  Weight            1042 non-null   object \n",
      " 11  Price_euros       1042 non-null   float64\n",
      "dtypes: float64(2), object(10)\n",
      "memory usage: 105.8+ KB\n"
     ]
    }
   ],
   "source": [
    "train.info()"
   ]
  },
  {
   "cell_type": "code",
   "execution_count": 21,
   "id": "2b8c8e68",
   "metadata": {
    "execution": {
     "iopub.execute_input": "2021-12-08T20:48:36.572830Z",
     "iopub.status.busy": "2021-12-08T20:48:36.571691Z",
     "iopub.status.idle": "2021-12-08T20:48:36.581311Z",
     "shell.execute_reply": "2021-12-08T20:48:36.581877Z",
     "shell.execute_reply.started": "2021-12-08T20:47:26.654699Z"
    },
    "papermill": {
     "duration": 0.121823,
     "end_time": "2021-12-08T20:48:36.582116",
     "exception": false,
     "start_time": "2021-12-08T20:48:36.460293",
     "status": "completed"
    },
    "tags": []
   },
   "outputs": [
    {
     "name": "stdout",
     "output_type": "stream",
     "text": [
      "<class 'pandas.core.frame.DataFrame'>\n",
      "Int64Index: 261 entries, 580 to 44\n",
      "Data columns (total 12 columns):\n",
      " #   Column            Non-Null Count  Dtype  \n",
      "---  ------            --------------  -----  \n",
      " 0   Company           261 non-null    object \n",
      " 1   Product           261 non-null    object \n",
      " 2   TypeName          261 non-null    object \n",
      " 3   Inches            261 non-null    float64\n",
      " 4   ScreenResolution  261 non-null    object \n",
      " 5   Cpu               261 non-null    object \n",
      " 6   Ram               261 non-null    object \n",
      " 7   Memory            261 non-null    object \n",
      " 8   Gpu               261 non-null    object \n",
      " 9   OpSys             261 non-null    object \n",
      " 10  Weight            261 non-null    object \n",
      " 11  Price_euros       261 non-null    float64\n",
      "dtypes: float64(2), object(10)\n",
      "memory usage: 26.5+ KB\n"
     ]
    }
   ],
   "source": [
    "test.info()"
   ]
  },
  {
   "cell_type": "code",
   "execution_count": 22,
   "id": "c9188d3f",
   "metadata": {
    "execution": {
     "iopub.execute_input": "2021-12-08T20:48:36.789970Z",
     "iopub.status.busy": "2021-12-08T20:48:36.788883Z",
     "iopub.status.idle": "2021-12-08T20:48:36.806211Z",
     "shell.execute_reply": "2021-12-08T20:48:36.806760Z",
     "shell.execute_reply.started": "2021-12-08T20:47:26.675779Z"
    },
    "papermill": {
     "duration": 0.122784,
     "end_time": "2021-12-08T20:48:36.806965",
     "exception": false,
     "start_time": "2021-12-08T20:48:36.684181",
     "status": "completed"
    },
    "tags": []
   },
   "outputs": [
    {
     "data": {
      "text/html": [
       "<div>\n",
       "<style scoped>\n",
       "    .dataframe tbody tr th:only-of-type {\n",
       "        vertical-align: middle;\n",
       "    }\n",
       "\n",
       "    .dataframe tbody tr th {\n",
       "        vertical-align: top;\n",
       "    }\n",
       "\n",
       "    .dataframe thead th {\n",
       "        text-align: right;\n",
       "    }\n",
       "</style>\n",
       "<table border=\"1\" class=\"dataframe\">\n",
       "  <thead>\n",
       "    <tr style=\"text-align: right;\">\n",
       "      <th></th>\n",
       "      <th>Inches</th>\n",
       "      <th>Price_euros</th>\n",
       "    </tr>\n",
       "  </thead>\n",
       "  <tbody>\n",
       "    <tr>\n",
       "      <th>count</th>\n",
       "      <td>1042.000000</td>\n",
       "      <td>1042.000000</td>\n",
       "    </tr>\n",
       "    <tr>\n",
       "      <th>mean</th>\n",
       "      <td>15.016219</td>\n",
       "      <td>1096.098772</td>\n",
       "    </tr>\n",
       "    <tr>\n",
       "      <th>std</th>\n",
       "      <td>1.418932</td>\n",
       "      <td>678.035165</td>\n",
       "    </tr>\n",
       "    <tr>\n",
       "      <th>min</th>\n",
       "      <td>10.100000</td>\n",
       "      <td>174.000000</td>\n",
       "    </tr>\n",
       "    <tr>\n",
       "      <th>25%</th>\n",
       "      <td>14.000000</td>\n",
       "      <td>589.000000</td>\n",
       "    </tr>\n",
       "    <tr>\n",
       "      <th>50%</th>\n",
       "      <td>15.600000</td>\n",
       "      <td>949.000000</td>\n",
       "    </tr>\n",
       "    <tr>\n",
       "      <th>75%</th>\n",
       "      <td>15.600000</td>\n",
       "      <td>1449.000000</td>\n",
       "    </tr>\n",
       "    <tr>\n",
       "      <th>max</th>\n",
       "      <td>18.400000</td>\n",
       "      <td>6099.000000</td>\n",
       "    </tr>\n",
       "  </tbody>\n",
       "</table>\n",
       "</div>"
      ],
      "text/plain": [
       "            Inches  Price_euros\n",
       "count  1042.000000  1042.000000\n",
       "mean     15.016219  1096.098772\n",
       "std       1.418932   678.035165\n",
       "min      10.100000   174.000000\n",
       "25%      14.000000   589.000000\n",
       "50%      15.600000   949.000000\n",
       "75%      15.600000  1449.000000\n",
       "max      18.400000  6099.000000"
      ]
     },
     "execution_count": 22,
     "metadata": {},
     "output_type": "execute_result"
    }
   ],
   "source": [
    "train.describe()"
   ]
  },
  {
   "cell_type": "code",
   "execution_count": 23,
   "id": "dd24d14e",
   "metadata": {
    "execution": {
     "iopub.execute_input": "2021-12-08T20:48:37.016210Z",
     "iopub.status.busy": "2021-12-08T20:48:37.015205Z",
     "iopub.status.idle": "2021-12-08T20:48:37.031851Z",
     "shell.execute_reply": "2021-12-08T20:48:37.032516Z",
     "shell.execute_reply.started": "2021-12-08T20:47:26.702161Z"
    },
    "papermill": {
     "duration": 0.125682,
     "end_time": "2021-12-08T20:48:37.032735",
     "exception": false,
     "start_time": "2021-12-08T20:48:36.907053",
     "status": "completed"
    },
    "tags": []
   },
   "outputs": [
    {
     "data": {
      "text/html": [
       "<div>\n",
       "<style scoped>\n",
       "    .dataframe tbody tr th:only-of-type {\n",
       "        vertical-align: middle;\n",
       "    }\n",
       "\n",
       "    .dataframe tbody tr th {\n",
       "        vertical-align: top;\n",
       "    }\n",
       "\n",
       "    .dataframe thead th {\n",
       "        text-align: right;\n",
       "    }\n",
       "</style>\n",
       "<table border=\"1\" class=\"dataframe\">\n",
       "  <thead>\n",
       "    <tr style=\"text-align: right;\">\n",
       "      <th></th>\n",
       "      <th>Inches</th>\n",
       "      <th>Price_euros</th>\n",
       "    </tr>\n",
       "  </thead>\n",
       "  <tbody>\n",
       "    <tr>\n",
       "      <th>count</th>\n",
       "      <td>261.000000</td>\n",
       "      <td>261.000000</td>\n",
       "    </tr>\n",
       "    <tr>\n",
       "      <th>mean</th>\n",
       "      <td>15.021073</td>\n",
       "      <td>1233.828467</td>\n",
       "    </tr>\n",
       "    <tr>\n",
       "      <th>std</th>\n",
       "      <td>1.458126</td>\n",
       "      <td>768.702635</td>\n",
       "    </tr>\n",
       "    <tr>\n",
       "      <th>min</th>\n",
       "      <td>11.300000</td>\n",
       "      <td>199.000000</td>\n",
       "    </tr>\n",
       "    <tr>\n",
       "      <th>25%</th>\n",
       "      <td>14.000000</td>\n",
       "      <td>668.480000</td>\n",
       "    </tr>\n",
       "    <tr>\n",
       "      <th>50%</th>\n",
       "      <td>15.600000</td>\n",
       "      <td>1116.020000</td>\n",
       "    </tr>\n",
       "    <tr>\n",
       "      <th>75%</th>\n",
       "      <td>15.600000</td>\n",
       "      <td>1598.000000</td>\n",
       "    </tr>\n",
       "    <tr>\n",
       "      <th>max</th>\n",
       "      <td>17.300000</td>\n",
       "      <td>5499.000000</td>\n",
       "    </tr>\n",
       "  </tbody>\n",
       "</table>\n",
       "</div>"
      ],
      "text/plain": [
       "           Inches  Price_euros\n",
       "count  261.000000   261.000000\n",
       "mean    15.021073  1233.828467\n",
       "std      1.458126   768.702635\n",
       "min     11.300000   199.000000\n",
       "25%     14.000000   668.480000\n",
       "50%     15.600000  1116.020000\n",
       "75%     15.600000  1598.000000\n",
       "max     17.300000  5499.000000"
      ]
     },
     "execution_count": 23,
     "metadata": {},
     "output_type": "execute_result"
    }
   ],
   "source": [
    "test.describe()"
   ]
  },
  {
   "cell_type": "markdown",
   "id": "cf30cb01",
   "metadata": {
    "papermill": {
     "duration": 0.106664,
     "end_time": "2021-12-08T20:48:37.242737",
     "exception": false,
     "start_time": "2021-12-08T20:48:37.136073",
     "status": "completed"
    },
    "tags": []
   },
   "source": [
    "Let us look at some descriptive statistics for the remaining categorical variables.\n"
   ]
  },
  {
   "cell_type": "code",
   "execution_count": 24,
   "id": "32f32fde",
   "metadata": {
    "execution": {
     "iopub.execute_input": "2021-12-08T20:48:37.451535Z",
     "iopub.status.busy": "2021-12-08T20:48:37.450384Z",
     "iopub.status.idle": "2021-12-08T20:48:37.483235Z",
     "shell.execute_reply": "2021-12-08T20:48:37.483734Z",
     "shell.execute_reply.started": "2021-12-08T20:47:26.720405Z"
    },
    "papermill": {
     "duration": 0.13971,
     "end_time": "2021-12-08T20:48:37.483941",
     "exception": false,
     "start_time": "2021-12-08T20:48:37.344231",
     "status": "completed"
    },
    "tags": []
   },
   "outputs": [
    {
     "data": {
      "text/html": [
       "<div>\n",
       "<style scoped>\n",
       "    .dataframe tbody tr th:only-of-type {\n",
       "        vertical-align: middle;\n",
       "    }\n",
       "\n",
       "    .dataframe tbody tr th {\n",
       "        vertical-align: top;\n",
       "    }\n",
       "\n",
       "    .dataframe thead th {\n",
       "        text-align: right;\n",
       "    }\n",
       "</style>\n",
       "<table border=\"1\" class=\"dataframe\">\n",
       "  <thead>\n",
       "    <tr style=\"text-align: right;\">\n",
       "      <th></th>\n",
       "      <th>Company</th>\n",
       "      <th>Product</th>\n",
       "      <th>TypeName</th>\n",
       "      <th>ScreenResolution</th>\n",
       "      <th>Cpu</th>\n",
       "      <th>Ram</th>\n",
       "      <th>Memory</th>\n",
       "      <th>Gpu</th>\n",
       "      <th>OpSys</th>\n",
       "      <th>Weight</th>\n",
       "    </tr>\n",
       "  </thead>\n",
       "  <tbody>\n",
       "    <tr>\n",
       "      <th>count</th>\n",
       "      <td>1042</td>\n",
       "      <td>1042</td>\n",
       "      <td>1042</td>\n",
       "      <td>1042</td>\n",
       "      <td>1042</td>\n",
       "      <td>1042</td>\n",
       "      <td>1042</td>\n",
       "      <td>1042</td>\n",
       "      <td>1042</td>\n",
       "      <td>1042</td>\n",
       "    </tr>\n",
       "    <tr>\n",
       "      <th>unique</th>\n",
       "      <td>19</td>\n",
       "      <td>523</td>\n",
       "      <td>6</td>\n",
       "      <td>40</td>\n",
       "      <td>104</td>\n",
       "      <td>9</td>\n",
       "      <td>37</td>\n",
       "      <td>103</td>\n",
       "      <td>9</td>\n",
       "      <td>169</td>\n",
       "    </tr>\n",
       "    <tr>\n",
       "      <th>top</th>\n",
       "      <td>Dell</td>\n",
       "      <td>XPS 13</td>\n",
       "      <td>Notebook</td>\n",
       "      <td>Full HD 1920x1080</td>\n",
       "      <td>Intel Core i5 7200U 2.5GHz</td>\n",
       "      <td>8GB</td>\n",
       "      <td>256GB SSD</td>\n",
       "      <td>Intel HD Graphics 620</td>\n",
       "      <td>Windows 10</td>\n",
       "      <td>2.2kg</td>\n",
       "    </tr>\n",
       "    <tr>\n",
       "      <th>freq</th>\n",
       "      <td>239</td>\n",
       "      <td>26</td>\n",
       "      <td>589</td>\n",
       "      <td>411</td>\n",
       "      <td>154</td>\n",
       "      <td>495</td>\n",
       "      <td>339</td>\n",
       "      <td>222</td>\n",
       "      <td>852</td>\n",
       "      <td>98</td>\n",
       "    </tr>\n",
       "  </tbody>\n",
       "</table>\n",
       "</div>"
      ],
      "text/plain": [
       "       Company Product  TypeName   ScreenResolution  \\\n",
       "count     1042    1042      1042               1042   \n",
       "unique      19     523         6                 40   \n",
       "top       Dell  XPS 13  Notebook  Full HD 1920x1080   \n",
       "freq       239      26       589                411   \n",
       "\n",
       "                               Cpu   Ram     Memory                    Gpu  \\\n",
       "count                         1042  1042       1042                   1042   \n",
       "unique                         104     9         37                    103   \n",
       "top     Intel Core i5 7200U 2.5GHz   8GB  256GB SSD  Intel HD Graphics 620   \n",
       "freq                           154   495        339                    222   \n",
       "\n",
       "             OpSys Weight  \n",
       "count         1042   1042  \n",
       "unique           9    169  \n",
       "top     Windows 10  2.2kg  \n",
       "freq           852     98  "
      ]
     },
     "execution_count": 24,
     "metadata": {},
     "output_type": "execute_result"
    }
   ],
   "source": [
    "train.describe(include=[np.object])"
   ]
  },
  {
   "cell_type": "code",
   "execution_count": 25,
   "id": "611b6efd",
   "metadata": {
    "execution": {
     "iopub.execute_input": "2021-12-08T20:48:37.694493Z",
     "iopub.status.busy": "2021-12-08T20:48:37.693436Z",
     "iopub.status.idle": "2021-12-08T20:48:37.722996Z",
     "shell.execute_reply": "2021-12-08T20:48:37.722394Z",
     "shell.execute_reply.started": "2021-12-08T20:47:26.758679Z"
    },
    "papermill": {
     "duration": 0.137992,
     "end_time": "2021-12-08T20:48:37.723167",
     "exception": false,
     "start_time": "2021-12-08T20:48:37.585175",
     "status": "completed"
    },
    "tags": []
   },
   "outputs": [
    {
     "data": {
      "text/html": [
       "<div>\n",
       "<style scoped>\n",
       "    .dataframe tbody tr th:only-of-type {\n",
       "        vertical-align: middle;\n",
       "    }\n",
       "\n",
       "    .dataframe tbody tr th {\n",
       "        vertical-align: top;\n",
       "    }\n",
       "\n",
       "    .dataframe thead th {\n",
       "        text-align: right;\n",
       "    }\n",
       "</style>\n",
       "<table border=\"1\" class=\"dataframe\">\n",
       "  <thead>\n",
       "    <tr style=\"text-align: right;\">\n",
       "      <th></th>\n",
       "      <th>Company</th>\n",
       "      <th>Product</th>\n",
       "      <th>TypeName</th>\n",
       "      <th>ScreenResolution</th>\n",
       "      <th>Cpu</th>\n",
       "      <th>Ram</th>\n",
       "      <th>Memory</th>\n",
       "      <th>Gpu</th>\n",
       "      <th>OpSys</th>\n",
       "      <th>Weight</th>\n",
       "    </tr>\n",
       "  </thead>\n",
       "  <tbody>\n",
       "    <tr>\n",
       "      <th>count</th>\n",
       "      <td>261</td>\n",
       "      <td>261</td>\n",
       "      <td>261</td>\n",
       "      <td>261</td>\n",
       "      <td>261</td>\n",
       "      <td>261</td>\n",
       "      <td>261</td>\n",
       "      <td>261</td>\n",
       "      <td>261</td>\n",
       "      <td>261</td>\n",
       "    </tr>\n",
       "    <tr>\n",
       "      <th>unique</th>\n",
       "      <td>16</td>\n",
       "      <td>193</td>\n",
       "      <td>6</td>\n",
       "      <td>24</td>\n",
       "      <td>59</td>\n",
       "      <td>8</td>\n",
       "      <td>23</td>\n",
       "      <td>59</td>\n",
       "      <td>8</td>\n",
       "      <td>104</td>\n",
       "    </tr>\n",
       "    <tr>\n",
       "      <th>top</th>\n",
       "      <td>Lenovo</td>\n",
       "      <td>Inspiron 3567</td>\n",
       "      <td>Notebook</td>\n",
       "      <td>Full HD 1920x1080</td>\n",
       "      <td>Intel Core i5 7200U 2.5GHz</td>\n",
       "      <td>8GB</td>\n",
       "      <td>256GB SSD</td>\n",
       "      <td>Intel HD Graphics 620</td>\n",
       "      <td>Windows 10</td>\n",
       "      <td>2.2kg</td>\n",
       "    </tr>\n",
       "    <tr>\n",
       "      <th>freq</th>\n",
       "      <td>63</td>\n",
       "      <td>8</td>\n",
       "      <td>138</td>\n",
       "      <td>96</td>\n",
       "      <td>36</td>\n",
       "      <td>124</td>\n",
       "      <td>73</td>\n",
       "      <td>59</td>\n",
       "      <td>220</td>\n",
       "      <td>23</td>\n",
       "    </tr>\n",
       "  </tbody>\n",
       "</table>\n",
       "</div>"
      ],
      "text/plain": [
       "       Company        Product  TypeName   ScreenResolution  \\\n",
       "count      261            261       261                261   \n",
       "unique      16            193         6                 24   \n",
       "top     Lenovo  Inspiron 3567  Notebook  Full HD 1920x1080   \n",
       "freq        63              8       138                 96   \n",
       "\n",
       "                               Cpu  Ram     Memory                    Gpu  \\\n",
       "count                          261  261        261                    261   \n",
       "unique                          59    8         23                     59   \n",
       "top     Intel Core i5 7200U 2.5GHz  8GB  256GB SSD  Intel HD Graphics 620   \n",
       "freq                            36  124         73                     59   \n",
       "\n",
       "             OpSys Weight  \n",
       "count          261    261  \n",
       "unique           8    104  \n",
       "top     Windows 10  2.2kg  \n",
       "freq           220     23  "
      ]
     },
     "execution_count": 25,
     "metadata": {},
     "output_type": "execute_result"
    }
   ],
   "source": [
    "test.describe(include=[np.object])"
   ]
  },
  {
   "cell_type": "markdown",
   "id": "774327d0",
   "metadata": {
    "papermill": {
     "duration": 0.102965,
     "end_time": "2021-12-08T20:48:37.931168",
     "exception": false,
     "start_time": "2021-12-08T20:48:37.828203",
     "status": "completed"
    },
    "tags": []
   },
   "source": [
    "After looking at the descriptive statistics for Weight, \n",
    "it seems Weight should be a numeric variable instead.\n",
    "First, we need to check if each value of weight is \n",
    "of the form \"some value\"kg."
   ]
  },
  {
   "cell_type": "code",
   "execution_count": 26,
   "id": "cae3c499",
   "metadata": {
    "execution": {
     "iopub.execute_input": "2021-12-08T20:48:38.149664Z",
     "iopub.status.busy": "2021-12-08T20:48:38.148797Z",
     "iopub.status.idle": "2021-12-08T20:48:38.151727Z",
     "shell.execute_reply": "2021-12-08T20:48:38.152218Z",
     "shell.execute_reply.started": "2021-12-08T20:47:26.793489Z"
    },
    "papermill": {
     "duration": 0.115588,
     "end_time": "2021-12-08T20:48:38.152410",
     "exception": false,
     "start_time": "2021-12-08T20:48:38.036822",
     "status": "completed"
    },
    "tags": []
   },
   "outputs": [
    {
     "data": {
      "text/plain": [
       "1042"
      ]
     },
     "execution_count": 26,
     "metadata": {},
     "output_type": "execute_result"
    }
   ],
   "source": [
    "train['Weight'].str.endswith('kg').sum()"
   ]
  },
  {
   "cell_type": "code",
   "execution_count": 27,
   "id": "e5a584b1",
   "metadata": {
    "execution": {
     "iopub.execute_input": "2021-12-08T20:48:38.364134Z",
     "iopub.status.busy": "2021-12-08T20:48:38.363395Z",
     "iopub.status.idle": "2021-12-08T20:48:38.368944Z",
     "shell.execute_reply": "2021-12-08T20:48:38.369425Z",
     "shell.execute_reply.started": "2021-12-08T20:47:26.803595Z"
    },
    "papermill": {
     "duration": 0.112563,
     "end_time": "2021-12-08T20:48:38.369654",
     "exception": false,
     "start_time": "2021-12-08T20:48:38.257091",
     "status": "completed"
    },
    "tags": []
   },
   "outputs": [
    {
     "data": {
      "text/plain": [
       "261"
      ]
     },
     "execution_count": 27,
     "metadata": {},
     "output_type": "execute_result"
    }
   ],
   "source": [
    "test['Weight'].str.endswith('kg').sum()"
   ]
  },
  {
   "cell_type": "markdown",
   "id": "fcab0b84",
   "metadata": {
    "papermill": {
     "duration": 0.101961,
     "end_time": "2021-12-08T20:48:38.576002",
     "exception": false,
     "start_time": "2021-12-08T20:48:38.474041",
     "status": "completed"
    },
    "tags": []
   },
   "source": [
    "Thus, each value of weight is of the form \"some value\"kg."
   ]
  },
  {
   "cell_type": "code",
   "execution_count": 28,
   "id": "3c478b92",
   "metadata": {
    "execution": {
     "iopub.execute_input": "2021-12-08T20:48:38.784142Z",
     "iopub.status.busy": "2021-12-08T20:48:38.783445Z",
     "iopub.status.idle": "2021-12-08T20:48:38.808228Z",
     "shell.execute_reply": "2021-12-08T20:48:38.808808Z",
     "shell.execute_reply.started": "2021-12-08T20:47:26.819701Z"
    },
    "papermill": {
     "duration": 0.130419,
     "end_time": "2021-12-08T20:48:38.809015",
     "exception": false,
     "start_time": "2021-12-08T20:48:38.678596",
     "status": "completed"
    },
    "tags": []
   },
   "outputs": [
    {
     "name": "stderr",
     "output_type": "stream",
     "text": [
      "/opt/conda/lib/python3.7/site-packages/pandas/core/frame.py:5047: SettingWithCopyWarning: \n",
      "A value is trying to be set on a copy of a slice from a DataFrame\n",
      "\n",
      "See the caveats in the documentation: https://pandas.pydata.org/pandas-docs/stable/user_guide/indexing.html#returning-a-view-versus-a-copy\n",
      "  errors=errors,\n"
     ]
    },
    {
     "data": {
      "text/html": [
       "<div>\n",
       "<style scoped>\n",
       "    .dataframe tbody tr th:only-of-type {\n",
       "        vertical-align: middle;\n",
       "    }\n",
       "\n",
       "    .dataframe tbody tr th {\n",
       "        vertical-align: top;\n",
       "    }\n",
       "\n",
       "    .dataframe thead th {\n",
       "        text-align: right;\n",
       "    }\n",
       "</style>\n",
       "<table border=\"1\" class=\"dataframe\">\n",
       "  <thead>\n",
       "    <tr style=\"text-align: right;\">\n",
       "      <th></th>\n",
       "      <th>Company</th>\n",
       "      <th>Product</th>\n",
       "      <th>TypeName</th>\n",
       "      <th>Inches</th>\n",
       "      <th>ScreenResolution</th>\n",
       "      <th>Cpu</th>\n",
       "      <th>Ram</th>\n",
       "      <th>Memory</th>\n",
       "      <th>Gpu</th>\n",
       "      <th>OpSys</th>\n",
       "      <th>Weight (kg)</th>\n",
       "      <th>Price_euros</th>\n",
       "    </tr>\n",
       "  </thead>\n",
       "  <tbody>\n",
       "    <tr>\n",
       "      <th>1249</th>\n",
       "      <td>Dell</td>\n",
       "      <td>XPS 13</td>\n",
       "      <td>2 in 1 Convertible</td>\n",
       "      <td>13.3</td>\n",
       "      <td>Quad HD+ / Touchscreen 3200x1800</td>\n",
       "      <td>Intel Core i5 7Y54 1.2GHz</td>\n",
       "      <td>8GB</td>\n",
       "      <td>256GB SSD</td>\n",
       "      <td>Intel HD Graphics 615</td>\n",
       "      <td>Windows 10</td>\n",
       "      <td>1.24kg</td>\n",
       "      <td>1813.0</td>\n",
       "    </tr>\n",
       "    <tr>\n",
       "      <th>1186</th>\n",
       "      <td>Dell</td>\n",
       "      <td>Inspiron 5578</td>\n",
       "      <td>2 in 1 Convertible</td>\n",
       "      <td>15.6</td>\n",
       "      <td>Full HD / Touchscreen 1920x1080</td>\n",
       "      <td>Intel Core i7 7500U 2.7GHz</td>\n",
       "      <td>16GB</td>\n",
       "      <td>512GB SSD</td>\n",
       "      <td>Intel HD Graphics 620</td>\n",
       "      <td>Windows 10</td>\n",
       "      <td>2.09kg</td>\n",
       "      <td>1179.0</td>\n",
       "    </tr>\n",
       "    <tr>\n",
       "      <th>568</th>\n",
       "      <td>Lenovo</td>\n",
       "      <td>IdeaPad 320-15IAP</td>\n",
       "      <td>Notebook</td>\n",
       "      <td>15.6</td>\n",
       "      <td>Full HD 1920x1080</td>\n",
       "      <td>Intel Pentium Quad Core N4200 1.1GHz</td>\n",
       "      <td>4GB</td>\n",
       "      <td>500GB HDD</td>\n",
       "      <td>Intel HD Graphics 505</td>\n",
       "      <td>Windows 10</td>\n",
       "      <td>2.2kg</td>\n",
       "      <td>344.0</td>\n",
       "    </tr>\n",
       "    <tr>\n",
       "      <th>1251</th>\n",
       "      <td>HP</td>\n",
       "      <td>255 G6</td>\n",
       "      <td>Notebook</td>\n",
       "      <td>15.6</td>\n",
       "      <td>1366x768</td>\n",
       "      <td>AMD A6-Series 9220 2.5GHz</td>\n",
       "      <td>4GB</td>\n",
       "      <td>500GB HDD</td>\n",
       "      <td>AMD Radeon R4 Graphics</td>\n",
       "      <td>Windows 10</td>\n",
       "      <td>1.86kg</td>\n",
       "      <td>399.0</td>\n",
       "    </tr>\n",
       "    <tr>\n",
       "      <th>491</th>\n",
       "      <td>Toshiba</td>\n",
       "      <td>Portege X30-D-10L</td>\n",
       "      <td>Ultrabook</td>\n",
       "      <td>13.3</td>\n",
       "      <td>Full HD / Touchscreen 1920x1080</td>\n",
       "      <td>Intel Core i7 7500U 2.7GHz</td>\n",
       "      <td>32GB</td>\n",
       "      <td>512GB SSD</td>\n",
       "      <td>Intel HD Graphics 620</td>\n",
       "      <td>Windows 10</td>\n",
       "      <td>1.05kg</td>\n",
       "      <td>2799.0</td>\n",
       "    </tr>\n",
       "  </tbody>\n",
       "</table>\n",
       "</div>"
      ],
      "text/plain": [
       "      Company            Product            TypeName  Inches  \\\n",
       "1249     Dell             XPS 13  2 in 1 Convertible    13.3   \n",
       "1186     Dell      Inspiron 5578  2 in 1 Convertible    15.6   \n",
       "568    Lenovo  IdeaPad 320-15IAP            Notebook    15.6   \n",
       "1251       HP             255 G6            Notebook    15.6   \n",
       "491   Toshiba  Portege X30-D-10L           Ultrabook    13.3   \n",
       "\n",
       "                      ScreenResolution                                   Cpu  \\\n",
       "1249  Quad HD+ / Touchscreen 3200x1800             Intel Core i5 7Y54 1.2GHz   \n",
       "1186   Full HD / Touchscreen 1920x1080            Intel Core i7 7500U 2.7GHz   \n",
       "568                  Full HD 1920x1080  Intel Pentium Quad Core N4200 1.1GHz   \n",
       "1251                          1366x768             AMD A6-Series 9220 2.5GHz   \n",
       "491    Full HD / Touchscreen 1920x1080            Intel Core i7 7500U 2.7GHz   \n",
       "\n",
       "       Ram     Memory                     Gpu       OpSys Weight (kg)  \\\n",
       "1249   8GB  256GB SSD   Intel HD Graphics 615  Windows 10      1.24kg   \n",
       "1186  16GB  512GB SSD   Intel HD Graphics 620  Windows 10      2.09kg   \n",
       "568    4GB  500GB HDD   Intel HD Graphics 505  Windows 10       2.2kg   \n",
       "1251   4GB  500GB HDD  AMD Radeon R4 Graphics  Windows 10      1.86kg   \n",
       "491   32GB  512GB SSD   Intel HD Graphics 620  Windows 10      1.05kg   \n",
       "\n",
       "      Price_euros  \n",
       "1249       1813.0  \n",
       "1186       1179.0  \n",
       "568         344.0  \n",
       "1251        399.0  \n",
       "491        2799.0  "
      ]
     },
     "execution_count": 28,
     "metadata": {},
     "output_type": "execute_result"
    }
   ],
   "source": [
    "train.rename(columns={'Weight': 'Weight (kg)'}, inplace=True)\n",
    "train.head()"
   ]
  },
  {
   "cell_type": "code",
   "execution_count": 29,
   "id": "3226be01",
   "metadata": {
    "execution": {
     "iopub.execute_input": "2021-12-08T20:48:39.051679Z",
     "iopub.status.busy": "2021-12-08T20:48:39.050970Z",
     "iopub.status.idle": "2021-12-08T20:48:39.061948Z",
     "shell.execute_reply": "2021-12-08T20:48:39.062562Z",
     "shell.execute_reply.started": "2021-12-08T20:47:26.858645Z"
    },
    "papermill": {
     "duration": 0.13686,
     "end_time": "2021-12-08T20:48:39.062769",
     "exception": false,
     "start_time": "2021-12-08T20:48:38.925909",
     "status": "completed"
    },
    "tags": []
   },
   "outputs": [
    {
     "name": "stderr",
     "output_type": "stream",
     "text": [
      "/opt/conda/lib/python3.7/site-packages/ipykernel_launcher.py:1: SettingWithCopyWarning: \n",
      "A value is trying to be set on a copy of a slice from a DataFrame.\n",
      "Try using .loc[row_indexer,col_indexer] = value instead\n",
      "\n",
      "See the caveats in the documentation: https://pandas.pydata.org/pandas-docs/stable/user_guide/indexing.html#returning-a-view-versus-a-copy\n",
      "  \"\"\"Entry point for launching an IPython kernel.\n"
     ]
    },
    {
     "data": {
      "text/plain": [
       "1249    1.24\n",
       "1186    2.09\n",
       "568     2.20\n",
       "1251    1.86\n",
       "491     1.05\n",
       "        ... \n",
       "763     1.20\n",
       "835     3.21\n",
       "1216    3.30\n",
       "559     2.18\n",
       "684     1.19\n",
       "Name: Weight (kg), Length: 1042, dtype: float64"
      ]
     },
     "execution_count": 29,
     "metadata": {},
     "output_type": "execute_result"
    }
   ],
   "source": [
    "train['Weight (kg)'] = train['Weight (kg)'].str[:-2].astype(float)\n",
    "train['Weight (kg)']"
   ]
  },
  {
   "cell_type": "code",
   "execution_count": 30,
   "id": "2b651b9b",
   "metadata": {
    "execution": {
     "iopub.execute_input": "2021-12-08T20:48:39.275340Z",
     "iopub.status.busy": "2021-12-08T20:48:39.274625Z",
     "iopub.status.idle": "2021-12-08T20:48:39.294448Z",
     "shell.execute_reply": "2021-12-08T20:48:39.295038Z",
     "shell.execute_reply.started": "2021-12-08T20:47:26.874772Z"
    },
    "papermill": {
     "duration": 0.127794,
     "end_time": "2021-12-08T20:48:39.295236",
     "exception": false,
     "start_time": "2021-12-08T20:48:39.167442",
     "status": "completed"
    },
    "tags": []
   },
   "outputs": [
    {
     "name": "stderr",
     "output_type": "stream",
     "text": [
      "/opt/conda/lib/python3.7/site-packages/pandas/core/frame.py:5047: SettingWithCopyWarning: \n",
      "A value is trying to be set on a copy of a slice from a DataFrame\n",
      "\n",
      "See the caveats in the documentation: https://pandas.pydata.org/pandas-docs/stable/user_guide/indexing.html#returning-a-view-versus-a-copy\n",
      "  errors=errors,\n"
     ]
    },
    {
     "data": {
      "text/html": [
       "<div>\n",
       "<style scoped>\n",
       "    .dataframe tbody tr th:only-of-type {\n",
       "        vertical-align: middle;\n",
       "    }\n",
       "\n",
       "    .dataframe tbody tr th {\n",
       "        vertical-align: top;\n",
       "    }\n",
       "\n",
       "    .dataframe thead th {\n",
       "        text-align: right;\n",
       "    }\n",
       "</style>\n",
       "<table border=\"1\" class=\"dataframe\">\n",
       "  <thead>\n",
       "    <tr style=\"text-align: right;\">\n",
       "      <th></th>\n",
       "      <th>Company</th>\n",
       "      <th>Product</th>\n",
       "      <th>TypeName</th>\n",
       "      <th>Inches</th>\n",
       "      <th>ScreenResolution</th>\n",
       "      <th>Cpu</th>\n",
       "      <th>Ram</th>\n",
       "      <th>Memory</th>\n",
       "      <th>Gpu</th>\n",
       "      <th>OpSys</th>\n",
       "      <th>Weight (kg)</th>\n",
       "      <th>Price_euros</th>\n",
       "    </tr>\n",
       "  </thead>\n",
       "  <tbody>\n",
       "    <tr>\n",
       "      <th>580</th>\n",
       "      <td>Mediacom</td>\n",
       "      <td>SmartBook Edge</td>\n",
       "      <td>Notebook</td>\n",
       "      <td>14.0</td>\n",
       "      <td>IPS Panel Full HD 1920x1080</td>\n",
       "      <td>Intel Celeron Quad Core N3450 1.1GHz</td>\n",
       "      <td>4GB</td>\n",
       "      <td>32GB SSD</td>\n",
       "      <td>Intel HD Graphics 500</td>\n",
       "      <td>Windows 10</td>\n",
       "      <td>1.45kg</td>\n",
       "      <td>389.00</td>\n",
       "    </tr>\n",
       "    <tr>\n",
       "      <th>1017</th>\n",
       "      <td>Lenovo</td>\n",
       "      <td>ThinkPad P70</td>\n",
       "      <td>Notebook</td>\n",
       "      <td>17.3</td>\n",
       "      <td>IPS Panel 4K Ultra HD 3840x2160</td>\n",
       "      <td>Intel Core i7 6820HQ 2.7GHz</td>\n",
       "      <td>16GB</td>\n",
       "      <td>512GB SSD</td>\n",
       "      <td>Nvidia Quadro 3000M</td>\n",
       "      <td>Windows 7</td>\n",
       "      <td>2.4kg</td>\n",
       "      <td>2968.00</td>\n",
       "    </tr>\n",
       "    <tr>\n",
       "      <th>761</th>\n",
       "      <td>Dell</td>\n",
       "      <td>Latitude 7280</td>\n",
       "      <td>Ultrabook</td>\n",
       "      <td>12.5</td>\n",
       "      <td>Full HD 1920x1080</td>\n",
       "      <td>Intel Core i7 7600U 2.8GHz</td>\n",
       "      <td>16GB</td>\n",
       "      <td>256GB SSD</td>\n",
       "      <td>Intel HD Graphics 620</td>\n",
       "      <td>Windows 10</td>\n",
       "      <td>1.18kg</td>\n",
       "      <td>1859.00</td>\n",
       "    </tr>\n",
       "    <tr>\n",
       "      <th>686</th>\n",
       "      <td>HP</td>\n",
       "      <td>250 G6</td>\n",
       "      <td>Notebook</td>\n",
       "      <td>15.6</td>\n",
       "      <td>1366x768</td>\n",
       "      <td>Intel Core i5 7200U 2.5GHz</td>\n",
       "      <td>4GB</td>\n",
       "      <td>500GB HDD</td>\n",
       "      <td>AMD Radeon 520</td>\n",
       "      <td>Windows 10</td>\n",
       "      <td>1.86kg</td>\n",
       "      <td>612.61</td>\n",
       "    </tr>\n",
       "    <tr>\n",
       "      <th>186</th>\n",
       "      <td>Dell</td>\n",
       "      <td>XPS 15</td>\n",
       "      <td>Notebook</td>\n",
       "      <td>15.6</td>\n",
       "      <td>4K Ultra HD / Touchscreen 3840x2160</td>\n",
       "      <td>Intel Core i7 7700HQ 2.8GHz</td>\n",
       "      <td>16GB</td>\n",
       "      <td>512GB SSD</td>\n",
       "      <td>Nvidia GeForce GTX 1050</td>\n",
       "      <td>Windows 10</td>\n",
       "      <td>2.06kg</td>\n",
       "      <td>2397.00</td>\n",
       "    </tr>\n",
       "  </tbody>\n",
       "</table>\n",
       "</div>"
      ],
      "text/plain": [
       "       Company         Product   TypeName  Inches  \\\n",
       "580   Mediacom  SmartBook Edge   Notebook    14.0   \n",
       "1017    Lenovo    ThinkPad P70   Notebook    17.3   \n",
       "761       Dell   Latitude 7280  Ultrabook    12.5   \n",
       "686         HP          250 G6   Notebook    15.6   \n",
       "186       Dell          XPS 15   Notebook    15.6   \n",
       "\n",
       "                         ScreenResolution  \\\n",
       "580           IPS Panel Full HD 1920x1080   \n",
       "1017      IPS Panel 4K Ultra HD 3840x2160   \n",
       "761                     Full HD 1920x1080   \n",
       "686                              1366x768   \n",
       "186   4K Ultra HD / Touchscreen 3840x2160   \n",
       "\n",
       "                                       Cpu   Ram     Memory  \\\n",
       "580   Intel Celeron Quad Core N3450 1.1GHz   4GB   32GB SSD   \n",
       "1017           Intel Core i7 6820HQ 2.7GHz  16GB  512GB SSD   \n",
       "761             Intel Core i7 7600U 2.8GHz  16GB  256GB SSD   \n",
       "686             Intel Core i5 7200U 2.5GHz   4GB  500GB HDD   \n",
       "186            Intel Core i7 7700HQ 2.8GHz  16GB  512GB SSD   \n",
       "\n",
       "                          Gpu       OpSys Weight (kg)  Price_euros  \n",
       "580     Intel HD Graphics 500  Windows 10      1.45kg       389.00  \n",
       "1017      Nvidia Quadro 3000M   Windows 7       2.4kg      2968.00  \n",
       "761     Intel HD Graphics 620  Windows 10      1.18kg      1859.00  \n",
       "686            AMD Radeon 520  Windows 10      1.86kg       612.61  \n",
       "186   Nvidia GeForce GTX 1050  Windows 10      2.06kg      2397.00  "
      ]
     },
     "execution_count": 30,
     "metadata": {},
     "output_type": "execute_result"
    }
   ],
   "source": [
    "test.rename(columns={'Weight': 'Weight (kg)'}, inplace=True)\n",
    "test.head()"
   ]
  },
  {
   "cell_type": "code",
   "execution_count": 31,
   "id": "712063a0",
   "metadata": {
    "execution": {
     "iopub.execute_input": "2021-12-08T20:48:39.508656Z",
     "iopub.status.busy": "2021-12-08T20:48:39.507992Z",
     "iopub.status.idle": "2021-12-08T20:48:39.518300Z",
     "shell.execute_reply": "2021-12-08T20:48:39.518976Z",
     "shell.execute_reply.started": "2021-12-08T20:47:26.898777Z"
    },
    "papermill": {
     "duration": 0.118831,
     "end_time": "2021-12-08T20:48:39.519175",
     "exception": false,
     "start_time": "2021-12-08T20:48:39.400344",
     "status": "completed"
    },
    "tags": []
   },
   "outputs": [
    {
     "name": "stderr",
     "output_type": "stream",
     "text": [
      "/opt/conda/lib/python3.7/site-packages/ipykernel_launcher.py:1: SettingWithCopyWarning: \n",
      "A value is trying to be set on a copy of a slice from a DataFrame.\n",
      "Try using .loc[row_indexer,col_indexer] = value instead\n",
      "\n",
      "See the caveats in the documentation: https://pandas.pydata.org/pandas-docs/stable/user_guide/indexing.html#returning-a-view-versus-a-copy\n",
      "  \"\"\"Entry point for launching an IPython kernel.\n"
     ]
    },
    {
     "data": {
      "text/plain": [
       "580     1.45\n",
       "1017    2.40\n",
       "761     1.18\n",
       "686     1.86\n",
       "186     2.06\n",
       "        ... \n",
       "1176    2.32\n",
       "549     1.99\n",
       "922     1.39\n",
       "399     1.13\n",
       "44      2.77\n",
       "Name: Weight (kg), Length: 261, dtype: float64"
      ]
     },
     "execution_count": 31,
     "metadata": {},
     "output_type": "execute_result"
    }
   ],
   "source": [
    "test['Weight (kg)'] = test['Weight (kg)'].str[:-2].astype(float)\n",
    "test['Weight (kg)']"
   ]
  },
  {
   "cell_type": "code",
   "execution_count": 32,
   "id": "47e5a670",
   "metadata": {
    "execution": {
     "iopub.execute_input": "2021-12-08T20:48:39.734026Z",
     "iopub.status.busy": "2021-12-08T20:48:39.733355Z",
     "iopub.status.idle": "2021-12-08T20:48:39.739136Z",
     "shell.execute_reply": "2021-12-08T20:48:39.739760Z",
     "shell.execute_reply.started": "2021-12-08T20:47:26.910694Z"
    },
    "papermill": {
     "duration": 0.11499,
     "end_time": "2021-12-08T20:48:39.739955",
     "exception": false,
     "start_time": "2021-12-08T20:48:39.624965",
     "status": "completed"
    },
    "tags": []
   },
   "outputs": [
    {
     "data": {
      "text/plain": [
       "Company              object\n",
       "Product              object\n",
       "TypeName             object\n",
       "Inches              float64\n",
       "ScreenResolution     object\n",
       "Cpu                  object\n",
       "Ram                  object\n",
       "Memory               object\n",
       "Gpu                  object\n",
       "OpSys                object\n",
       "Weight (kg)         float64\n",
       "Price_euros         float64\n",
       "dtype: object"
      ]
     },
     "execution_count": 32,
     "metadata": {},
     "output_type": "execute_result"
    }
   ],
   "source": [
    "train.dtypes"
   ]
  },
  {
   "cell_type": "code",
   "execution_count": 33,
   "id": "11a8dfe8",
   "metadata": {
    "execution": {
     "iopub.execute_input": "2021-12-08T20:48:39.957510Z",
     "iopub.status.busy": "2021-12-08T20:48:39.956799Z",
     "iopub.status.idle": "2021-12-08T20:48:39.962421Z",
     "shell.execute_reply": "2021-12-08T20:48:39.963064Z",
     "shell.execute_reply.started": "2021-12-08T20:47:26.922723Z"
    },
    "papermill": {
     "duration": 0.117131,
     "end_time": "2021-12-08T20:48:39.963253",
     "exception": false,
     "start_time": "2021-12-08T20:48:39.846122",
     "status": "completed"
    },
    "tags": []
   },
   "outputs": [
    {
     "data": {
      "text/plain": [
       "Company              object\n",
       "Product              object\n",
       "TypeName             object\n",
       "Inches              float64\n",
       "ScreenResolution     object\n",
       "Cpu                  object\n",
       "Ram                  object\n",
       "Memory               object\n",
       "Gpu                  object\n",
       "OpSys                object\n",
       "Weight (kg)         float64\n",
       "Price_euros         float64\n",
       "dtype: object"
      ]
     },
     "execution_count": 33,
     "metadata": {},
     "output_type": "execute_result"
    }
   ],
   "source": [
    "test.dtypes"
   ]
  },
  {
   "cell_type": "code",
   "execution_count": 34,
   "id": "ed46ccbb",
   "metadata": {
    "execution": {
     "iopub.execute_input": "2021-12-08T20:48:40.183362Z",
     "iopub.status.busy": "2021-12-08T20:48:40.182744Z",
     "iopub.status.idle": "2021-12-08T20:48:40.194631Z",
     "shell.execute_reply": "2021-12-08T20:48:40.195638Z",
     "shell.execute_reply.started": "2021-12-08T20:47:26.938103Z"
    },
    "papermill": {
     "duration": 0.121879,
     "end_time": "2021-12-08T20:48:40.195846",
     "exception": false,
     "start_time": "2021-12-08T20:48:40.073967",
     "status": "completed"
    },
    "tags": []
   },
   "outputs": [
    {
     "name": "stdout",
     "output_type": "stream",
     "text": [
      "<class 'pandas.core.frame.DataFrame'>\n",
      "Int64Index: 1042 entries, 1249 to 684\n",
      "Data columns (total 12 columns):\n",
      " #   Column            Non-Null Count  Dtype  \n",
      "---  ------            --------------  -----  \n",
      " 0   Company           1042 non-null   object \n",
      " 1   Product           1042 non-null   object \n",
      " 2   TypeName          1042 non-null   object \n",
      " 3   Inches            1042 non-null   float64\n",
      " 4   ScreenResolution  1042 non-null   object \n",
      " 5   Cpu               1042 non-null   object \n",
      " 6   Ram               1042 non-null   object \n",
      " 7   Memory            1042 non-null   object \n",
      " 8   Gpu               1042 non-null   object \n",
      " 9   OpSys             1042 non-null   object \n",
      " 10  Weight (kg)       1042 non-null   float64\n",
      " 11  Price_euros       1042 non-null   float64\n",
      "dtypes: float64(3), object(9)\n",
      "memory usage: 105.8+ KB\n"
     ]
    }
   ],
   "source": [
    "train.info()"
   ]
  },
  {
   "cell_type": "code",
   "execution_count": 35,
   "id": "3b32f343",
   "metadata": {
    "execution": {
     "iopub.execute_input": "2021-12-08T20:48:40.429419Z",
     "iopub.status.busy": "2021-12-08T20:48:40.428688Z",
     "iopub.status.idle": "2021-12-08T20:48:40.431434Z",
     "shell.execute_reply": "2021-12-08T20:48:40.431985Z",
     "shell.execute_reply.started": "2021-12-08T20:47:26.956949Z"
    },
    "papermill": {
     "duration": 0.12711,
     "end_time": "2021-12-08T20:48:40.432197",
     "exception": false,
     "start_time": "2021-12-08T20:48:40.305087",
     "status": "completed"
    },
    "tags": []
   },
   "outputs": [
    {
     "name": "stdout",
     "output_type": "stream",
     "text": [
      "<class 'pandas.core.frame.DataFrame'>\n",
      "Int64Index: 261 entries, 580 to 44\n",
      "Data columns (total 12 columns):\n",
      " #   Column            Non-Null Count  Dtype  \n",
      "---  ------            --------------  -----  \n",
      " 0   Company           261 non-null    object \n",
      " 1   Product           261 non-null    object \n",
      " 2   TypeName          261 non-null    object \n",
      " 3   Inches            261 non-null    float64\n",
      " 4   ScreenResolution  261 non-null    object \n",
      " 5   Cpu               261 non-null    object \n",
      " 6   Ram               261 non-null    object \n",
      " 7   Memory            261 non-null    object \n",
      " 8   Gpu               261 non-null    object \n",
      " 9   OpSys             261 non-null    object \n",
      " 10  Weight (kg)       261 non-null    float64\n",
      " 11  Price_euros       261 non-null    float64\n",
      "dtypes: float64(3), object(9)\n",
      "memory usage: 26.5+ KB\n"
     ]
    }
   ],
   "source": [
    "test.info()"
   ]
  },
  {
   "cell_type": "code",
   "execution_count": 36,
   "id": "1ba9075a",
   "metadata": {
    "execution": {
     "iopub.execute_input": "2021-12-08T20:48:40.652925Z",
     "iopub.status.busy": "2021-12-08T20:48:40.652176Z",
     "iopub.status.idle": "2021-12-08T20:48:40.669205Z",
     "shell.execute_reply": "2021-12-08T20:48:40.669939Z",
     "shell.execute_reply.started": "2021-12-08T20:47:26.980198Z"
    },
    "papermill": {
     "duration": 0.128374,
     "end_time": "2021-12-08T20:48:40.670182",
     "exception": false,
     "start_time": "2021-12-08T20:48:40.541808",
     "status": "completed"
    },
    "tags": []
   },
   "outputs": [
    {
     "data": {
      "text/html": [
       "<div>\n",
       "<style scoped>\n",
       "    .dataframe tbody tr th:only-of-type {\n",
       "        vertical-align: middle;\n",
       "    }\n",
       "\n",
       "    .dataframe tbody tr th {\n",
       "        vertical-align: top;\n",
       "    }\n",
       "\n",
       "    .dataframe thead th {\n",
       "        text-align: right;\n",
       "    }\n",
       "</style>\n",
       "<table border=\"1\" class=\"dataframe\">\n",
       "  <thead>\n",
       "    <tr style=\"text-align: right;\">\n",
       "      <th></th>\n",
       "      <th>Inches</th>\n",
       "      <th>Weight (kg)</th>\n",
       "      <th>Price_euros</th>\n",
       "    </tr>\n",
       "  </thead>\n",
       "  <tbody>\n",
       "    <tr>\n",
       "      <th>count</th>\n",
       "      <td>1042.000000</td>\n",
       "      <td>1042.000000</td>\n",
       "      <td>1042.000000</td>\n",
       "    </tr>\n",
       "    <tr>\n",
       "      <th>mean</th>\n",
       "      <td>15.016219</td>\n",
       "      <td>2.036813</td>\n",
       "      <td>1096.098772</td>\n",
       "    </tr>\n",
       "    <tr>\n",
       "      <th>std</th>\n",
       "      <td>1.418932</td>\n",
       "      <td>0.656895</td>\n",
       "      <td>678.035165</td>\n",
       "    </tr>\n",
       "    <tr>\n",
       "      <th>min</th>\n",
       "      <td>10.100000</td>\n",
       "      <td>0.690000</td>\n",
       "      <td>174.000000</td>\n",
       "    </tr>\n",
       "    <tr>\n",
       "      <th>25%</th>\n",
       "      <td>14.000000</td>\n",
       "      <td>1.500000</td>\n",
       "      <td>589.000000</td>\n",
       "    </tr>\n",
       "    <tr>\n",
       "      <th>50%</th>\n",
       "      <td>15.600000</td>\n",
       "      <td>2.040000</td>\n",
       "      <td>949.000000</td>\n",
       "    </tr>\n",
       "    <tr>\n",
       "      <th>75%</th>\n",
       "      <td>15.600000</td>\n",
       "      <td>2.300000</td>\n",
       "      <td>1449.000000</td>\n",
       "    </tr>\n",
       "    <tr>\n",
       "      <th>max</th>\n",
       "      <td>18.400000</td>\n",
       "      <td>4.700000</td>\n",
       "      <td>6099.000000</td>\n",
       "    </tr>\n",
       "  </tbody>\n",
       "</table>\n",
       "</div>"
      ],
      "text/plain": [
       "            Inches  Weight (kg)  Price_euros\n",
       "count  1042.000000  1042.000000  1042.000000\n",
       "mean     15.016219     2.036813  1096.098772\n",
       "std       1.418932     0.656895   678.035165\n",
       "min      10.100000     0.690000   174.000000\n",
       "25%      14.000000     1.500000   589.000000\n",
       "50%      15.600000     2.040000   949.000000\n",
       "75%      15.600000     2.300000  1449.000000\n",
       "max      18.400000     4.700000  6099.000000"
      ]
     },
     "execution_count": 36,
     "metadata": {},
     "output_type": "execute_result"
    }
   ],
   "source": [
    "train.describe()"
   ]
  },
  {
   "cell_type": "code",
   "execution_count": 37,
   "id": "f9589b5b",
   "metadata": {
    "execution": {
     "iopub.execute_input": "2021-12-08T20:48:40.892068Z",
     "iopub.status.busy": "2021-12-08T20:48:40.891401Z",
     "iopub.status.idle": "2021-12-08T20:48:40.907973Z",
     "shell.execute_reply": "2021-12-08T20:48:40.908611Z",
     "shell.execute_reply.started": "2021-12-08T20:47:27.003616Z"
    },
    "papermill": {
     "duration": 0.129912,
     "end_time": "2021-12-08T20:48:40.908815",
     "exception": false,
     "start_time": "2021-12-08T20:48:40.778903",
     "status": "completed"
    },
    "tags": []
   },
   "outputs": [
    {
     "data": {
      "text/html": [
       "<div>\n",
       "<style scoped>\n",
       "    .dataframe tbody tr th:only-of-type {\n",
       "        vertical-align: middle;\n",
       "    }\n",
       "\n",
       "    .dataframe tbody tr th {\n",
       "        vertical-align: top;\n",
       "    }\n",
       "\n",
       "    .dataframe thead th {\n",
       "        text-align: right;\n",
       "    }\n",
       "</style>\n",
       "<table border=\"1\" class=\"dataframe\">\n",
       "  <thead>\n",
       "    <tr style=\"text-align: right;\">\n",
       "      <th></th>\n",
       "      <th>Inches</th>\n",
       "      <th>Weight (kg)</th>\n",
       "      <th>Price_euros</th>\n",
       "    </tr>\n",
       "  </thead>\n",
       "  <tbody>\n",
       "    <tr>\n",
       "      <th>count</th>\n",
       "      <td>261.000000</td>\n",
       "      <td>261.000000</td>\n",
       "      <td>261.000000</td>\n",
       "    </tr>\n",
       "    <tr>\n",
       "      <th>mean</th>\n",
       "      <td>15.021073</td>\n",
       "      <td>2.046402</td>\n",
       "      <td>1233.828467</td>\n",
       "    </tr>\n",
       "    <tr>\n",
       "      <th>std</th>\n",
       "      <td>1.458126</td>\n",
       "      <td>0.699938</td>\n",
       "      <td>768.702635</td>\n",
       "    </tr>\n",
       "    <tr>\n",
       "      <th>min</th>\n",
       "      <td>11.300000</td>\n",
       "      <td>0.910000</td>\n",
       "      <td>199.000000</td>\n",
       "    </tr>\n",
       "    <tr>\n",
       "      <th>25%</th>\n",
       "      <td>14.000000</td>\n",
       "      <td>1.480000</td>\n",
       "      <td>668.480000</td>\n",
       "    </tr>\n",
       "    <tr>\n",
       "      <th>50%</th>\n",
       "      <td>15.600000</td>\n",
       "      <td>2.090000</td>\n",
       "      <td>1116.020000</td>\n",
       "    </tr>\n",
       "    <tr>\n",
       "      <th>75%</th>\n",
       "      <td>15.600000</td>\n",
       "      <td>2.320000</td>\n",
       "      <td>1598.000000</td>\n",
       "    </tr>\n",
       "    <tr>\n",
       "      <th>max</th>\n",
       "      <td>17.300000</td>\n",
       "      <td>4.600000</td>\n",
       "      <td>5499.000000</td>\n",
       "    </tr>\n",
       "  </tbody>\n",
       "</table>\n",
       "</div>"
      ],
      "text/plain": [
       "           Inches  Weight (kg)  Price_euros\n",
       "count  261.000000   261.000000   261.000000\n",
       "mean    15.021073     2.046402  1233.828467\n",
       "std      1.458126     0.699938   768.702635\n",
       "min     11.300000     0.910000   199.000000\n",
       "25%     14.000000     1.480000   668.480000\n",
       "50%     15.600000     2.090000  1116.020000\n",
       "75%     15.600000     2.320000  1598.000000\n",
       "max     17.300000     4.600000  5499.000000"
      ]
     },
     "execution_count": 37,
     "metadata": {},
     "output_type": "execute_result"
    }
   ],
   "source": [
    "test.describe()"
   ]
  },
  {
   "cell_type": "code",
   "execution_count": 38,
   "id": "c20fb5e6",
   "metadata": {
    "execution": {
     "iopub.execute_input": "2021-12-08T20:48:41.134785Z",
     "iopub.status.busy": "2021-12-08T20:48:41.133825Z",
     "iopub.status.idle": "2021-12-08T20:48:41.163337Z",
     "shell.execute_reply": "2021-12-08T20:48:41.162781Z",
     "shell.execute_reply.started": "2021-12-08T20:47:27.024123Z"
    },
    "papermill": {
     "duration": 0.144804,
     "end_time": "2021-12-08T20:48:41.163542",
     "exception": false,
     "start_time": "2021-12-08T20:48:41.018738",
     "status": "completed"
    },
    "tags": []
   },
   "outputs": [
    {
     "data": {
      "text/html": [
       "<div>\n",
       "<style scoped>\n",
       "    .dataframe tbody tr th:only-of-type {\n",
       "        vertical-align: middle;\n",
       "    }\n",
       "\n",
       "    .dataframe tbody tr th {\n",
       "        vertical-align: top;\n",
       "    }\n",
       "\n",
       "    .dataframe thead th {\n",
       "        text-align: right;\n",
       "    }\n",
       "</style>\n",
       "<table border=\"1\" class=\"dataframe\">\n",
       "  <thead>\n",
       "    <tr style=\"text-align: right;\">\n",
       "      <th></th>\n",
       "      <th>Company</th>\n",
       "      <th>Product</th>\n",
       "      <th>TypeName</th>\n",
       "      <th>ScreenResolution</th>\n",
       "      <th>Cpu</th>\n",
       "      <th>Ram</th>\n",
       "      <th>Memory</th>\n",
       "      <th>Gpu</th>\n",
       "      <th>OpSys</th>\n",
       "    </tr>\n",
       "  </thead>\n",
       "  <tbody>\n",
       "    <tr>\n",
       "      <th>count</th>\n",
       "      <td>1042</td>\n",
       "      <td>1042</td>\n",
       "      <td>1042</td>\n",
       "      <td>1042</td>\n",
       "      <td>1042</td>\n",
       "      <td>1042</td>\n",
       "      <td>1042</td>\n",
       "      <td>1042</td>\n",
       "      <td>1042</td>\n",
       "    </tr>\n",
       "    <tr>\n",
       "      <th>unique</th>\n",
       "      <td>19</td>\n",
       "      <td>523</td>\n",
       "      <td>6</td>\n",
       "      <td>40</td>\n",
       "      <td>104</td>\n",
       "      <td>9</td>\n",
       "      <td>37</td>\n",
       "      <td>103</td>\n",
       "      <td>9</td>\n",
       "    </tr>\n",
       "    <tr>\n",
       "      <th>top</th>\n",
       "      <td>Dell</td>\n",
       "      <td>XPS 13</td>\n",
       "      <td>Notebook</td>\n",
       "      <td>Full HD 1920x1080</td>\n",
       "      <td>Intel Core i5 7200U 2.5GHz</td>\n",
       "      <td>8GB</td>\n",
       "      <td>256GB SSD</td>\n",
       "      <td>Intel HD Graphics 620</td>\n",
       "      <td>Windows 10</td>\n",
       "    </tr>\n",
       "    <tr>\n",
       "      <th>freq</th>\n",
       "      <td>239</td>\n",
       "      <td>26</td>\n",
       "      <td>589</td>\n",
       "      <td>411</td>\n",
       "      <td>154</td>\n",
       "      <td>495</td>\n",
       "      <td>339</td>\n",
       "      <td>222</td>\n",
       "      <td>852</td>\n",
       "    </tr>\n",
       "  </tbody>\n",
       "</table>\n",
       "</div>"
      ],
      "text/plain": [
       "       Company Product  TypeName   ScreenResolution  \\\n",
       "count     1042    1042      1042               1042   \n",
       "unique      19     523         6                 40   \n",
       "top       Dell  XPS 13  Notebook  Full HD 1920x1080   \n",
       "freq       239      26       589                411   \n",
       "\n",
       "                               Cpu   Ram     Memory                    Gpu  \\\n",
       "count                         1042  1042       1042                   1042   \n",
       "unique                         104     9         37                    103   \n",
       "top     Intel Core i5 7200U 2.5GHz   8GB  256GB SSD  Intel HD Graphics 620   \n",
       "freq                           154   495        339                    222   \n",
       "\n",
       "             OpSys  \n",
       "count         1042  \n",
       "unique           9  \n",
       "top     Windows 10  \n",
       "freq           852  "
      ]
     },
     "execution_count": 38,
     "metadata": {},
     "output_type": "execute_result"
    }
   ],
   "source": [
    "train.describe(include=[np.object])"
   ]
  },
  {
   "cell_type": "code",
   "execution_count": 39,
   "id": "f1482212",
   "metadata": {
    "execution": {
     "iopub.execute_input": "2021-12-08T20:48:41.417218Z",
     "iopub.status.busy": "2021-12-08T20:48:41.401849Z",
     "iopub.status.idle": "2021-12-08T20:48:41.421327Z",
     "shell.execute_reply": "2021-12-08T20:48:41.420666Z",
     "shell.execute_reply.started": "2021-12-08T20:47:27.056030Z"
    },
    "papermill": {
     "duration": 0.14795,
     "end_time": "2021-12-08T20:48:41.421525",
     "exception": false,
     "start_time": "2021-12-08T20:48:41.273575",
     "status": "completed"
    },
    "tags": []
   },
   "outputs": [
    {
     "data": {
      "text/html": [
       "<div>\n",
       "<style scoped>\n",
       "    .dataframe tbody tr th:only-of-type {\n",
       "        vertical-align: middle;\n",
       "    }\n",
       "\n",
       "    .dataframe tbody tr th {\n",
       "        vertical-align: top;\n",
       "    }\n",
       "\n",
       "    .dataframe thead th {\n",
       "        text-align: right;\n",
       "    }\n",
       "</style>\n",
       "<table border=\"1\" class=\"dataframe\">\n",
       "  <thead>\n",
       "    <tr style=\"text-align: right;\">\n",
       "      <th></th>\n",
       "      <th>Company</th>\n",
       "      <th>Product</th>\n",
       "      <th>TypeName</th>\n",
       "      <th>ScreenResolution</th>\n",
       "      <th>Cpu</th>\n",
       "      <th>Ram</th>\n",
       "      <th>Memory</th>\n",
       "      <th>Gpu</th>\n",
       "      <th>OpSys</th>\n",
       "    </tr>\n",
       "  </thead>\n",
       "  <tbody>\n",
       "    <tr>\n",
       "      <th>count</th>\n",
       "      <td>261</td>\n",
       "      <td>261</td>\n",
       "      <td>261</td>\n",
       "      <td>261</td>\n",
       "      <td>261</td>\n",
       "      <td>261</td>\n",
       "      <td>261</td>\n",
       "      <td>261</td>\n",
       "      <td>261</td>\n",
       "    </tr>\n",
       "    <tr>\n",
       "      <th>unique</th>\n",
       "      <td>16</td>\n",
       "      <td>193</td>\n",
       "      <td>6</td>\n",
       "      <td>24</td>\n",
       "      <td>59</td>\n",
       "      <td>8</td>\n",
       "      <td>23</td>\n",
       "      <td>59</td>\n",
       "      <td>8</td>\n",
       "    </tr>\n",
       "    <tr>\n",
       "      <th>top</th>\n",
       "      <td>Lenovo</td>\n",
       "      <td>Inspiron 3567</td>\n",
       "      <td>Notebook</td>\n",
       "      <td>Full HD 1920x1080</td>\n",
       "      <td>Intel Core i5 7200U 2.5GHz</td>\n",
       "      <td>8GB</td>\n",
       "      <td>256GB SSD</td>\n",
       "      <td>Intel HD Graphics 620</td>\n",
       "      <td>Windows 10</td>\n",
       "    </tr>\n",
       "    <tr>\n",
       "      <th>freq</th>\n",
       "      <td>63</td>\n",
       "      <td>8</td>\n",
       "      <td>138</td>\n",
       "      <td>96</td>\n",
       "      <td>36</td>\n",
       "      <td>124</td>\n",
       "      <td>73</td>\n",
       "      <td>59</td>\n",
       "      <td>220</td>\n",
       "    </tr>\n",
       "  </tbody>\n",
       "</table>\n",
       "</div>"
      ],
      "text/plain": [
       "       Company        Product  TypeName   ScreenResolution  \\\n",
       "count      261            261       261                261   \n",
       "unique      16            193         6                 24   \n",
       "top     Lenovo  Inspiron 3567  Notebook  Full HD 1920x1080   \n",
       "freq        63              8       138                 96   \n",
       "\n",
       "                               Cpu  Ram     Memory                    Gpu  \\\n",
       "count                          261  261        261                    261   \n",
       "unique                          59    8         23                     59   \n",
       "top     Intel Core i5 7200U 2.5GHz  8GB  256GB SSD  Intel HD Graphics 620   \n",
       "freq                            36  124         73                     59   \n",
       "\n",
       "             OpSys  \n",
       "count          261  \n",
       "unique           8  \n",
       "top     Windows 10  \n",
       "freq           220  "
      ]
     },
     "execution_count": 39,
     "metadata": {},
     "output_type": "execute_result"
    }
   ],
   "source": [
    "test.describe(include=[np.object])"
   ]
  },
  {
   "cell_type": "markdown",
   "id": "9abbd509",
   "metadata": {
    "papermill": {
     "duration": 0.109952,
     "end_time": "2021-12-08T20:48:41.641866",
     "exception": false,
     "start_time": "2021-12-08T20:48:41.531914",
     "status": "completed"
    },
    "tags": []
   },
   "source": [
    "First, we will look at the numerical variables.  \n",
    "We will use the value_counts method to get more information about each variable.\n",
    "Then we will look at distribution plots of each variable in the training set."
   ]
  },
  {
   "cell_type": "code",
   "execution_count": 40,
   "id": "32e5a5b4",
   "metadata": {
    "execution": {
     "iopub.execute_input": "2021-12-08T20:48:41.863906Z",
     "iopub.status.busy": "2021-12-08T20:48:41.862890Z",
     "iopub.status.idle": "2021-12-08T20:48:41.870943Z",
     "shell.execute_reply": "2021-12-08T20:48:41.871598Z",
     "shell.execute_reply.started": "2021-12-08T20:47:27.089329Z"
    },
    "papermill": {
     "duration": 0.121426,
     "end_time": "2021-12-08T20:48:41.871802",
     "exception": false,
     "start_time": "2021-12-08T20:48:41.750376",
     "status": "completed"
    },
    "tags": []
   },
   "outputs": [
    {
     "data": {
      "text/plain": [
       "['Inches', 'Weight (kg)', 'Price_euros']"
      ]
     },
     "execution_count": 40,
     "metadata": {},
     "output_type": "execute_result"
    }
   ],
   "source": [
    "num_feats = train.select_dtypes(include='number').columns.to_list()\n",
    "num_feats"
   ]
  },
  {
   "cell_type": "code",
   "execution_count": 41,
   "id": "91c53ede",
   "metadata": {
    "execution": {
     "iopub.execute_input": "2021-12-08T20:48:42.098111Z",
     "iopub.status.busy": "2021-12-08T20:48:42.097087Z",
     "iopub.status.idle": "2021-12-08T20:48:42.109993Z",
     "shell.execute_reply": "2021-12-08T20:48:42.109325Z",
     "shell.execute_reply.started": "2021-12-08T20:47:27.099593Z"
    },
    "papermill": {
     "duration": 0.128122,
     "end_time": "2021-12-08T20:48:42.110155",
     "exception": false,
     "start_time": "2021-12-08T20:48:41.982033",
     "status": "completed"
    },
    "tags": []
   },
   "outputs": [
    {
     "data": {
      "text/plain": [
       "15.6    538\n",
       "14.0    158\n",
       "13.3    127\n",
       "17.3    127\n",
       "12.5     29\n",
       "11.6     28\n",
       "13.9      6\n",
       "13.5      5\n",
       "12.3      4\n",
       "12.0      4\n",
       "15.0      4\n",
       "15.4      4\n",
       "10.1      4\n",
       "13.0      2\n",
       "18.4      1\n",
       "14.1      1\n",
       "Name: Inches, dtype: int64"
      ]
     },
     "execution_count": 41,
     "metadata": {},
     "output_type": "execute_result"
    }
   ],
   "source": [
    "train['Inches'].value_counts()"
   ]
  },
  {
   "cell_type": "code",
   "execution_count": 42,
   "id": "cad4e006",
   "metadata": {
    "execution": {
     "iopub.execute_input": "2021-12-08T20:48:42.341412Z",
     "iopub.status.busy": "2021-12-08T20:48:42.340561Z",
     "iopub.status.idle": "2021-12-08T20:48:42.343671Z",
     "shell.execute_reply": "2021-12-08T20:48:42.344178Z",
     "shell.execute_reply.started": "2021-12-08T20:47:27.118196Z"
    },
    "papermill": {
     "duration": 0.122364,
     "end_time": "2021-12-08T20:48:42.344641",
     "exception": false,
     "start_time": "2021-12-08T20:48:42.222277",
     "status": "completed"
    },
    "tags": []
   },
   "outputs": [
    {
     "data": {
      "text/plain": [
       "15.6    127\n",
       "14.0     39\n",
       "17.3     37\n",
       "13.3     37\n",
       "12.5     10\n",
       "11.6      5\n",
       "12.0      2\n",
       "17.0      1\n",
       "12.3      1\n",
       "13.5      1\n",
       "11.3      1\n",
       "Name: Inches, dtype: int64"
      ]
     },
     "execution_count": 42,
     "metadata": {},
     "output_type": "execute_result"
    }
   ],
   "source": [
    "test['Inches'].value_counts()"
   ]
  },
  {
   "cell_type": "code",
   "execution_count": 43,
   "id": "d7a9b015",
   "metadata": {
    "execution": {
     "iopub.execute_input": "2021-12-08T20:48:42.573487Z",
     "iopub.status.busy": "2021-12-08T20:48:42.572765Z",
     "iopub.status.idle": "2021-12-08T20:48:42.893100Z",
     "shell.execute_reply": "2021-12-08T20:48:42.892500Z",
     "shell.execute_reply.started": "2021-12-08T20:47:27.131293Z"
    },
    "papermill": {
     "duration": 0.436017,
     "end_time": "2021-12-08T20:48:42.893254",
     "exception": false,
     "start_time": "2021-12-08T20:48:42.457237",
     "status": "completed"
    },
    "tags": []
   },
   "outputs": [
    {
     "name": "stderr",
     "output_type": "stream",
     "text": [
      "/opt/conda/lib/python3.7/site-packages/seaborn/distributions.py:2619: FutureWarning: `distplot` is a deprecated function and will be removed in a future version. Please adapt your code to use either `displot` (a figure-level function with similar flexibility) or `histplot` (an axes-level function for histograms).\n",
      "  warnings.warn(msg, FutureWarning)\n"
     ]
    },
    {
     "data": {
      "image/png": "[encoded data removed]",
      "text/plain": [
       "<Figure size 432x288 with 1 Axes>"
      ]
     },
     "metadata": {
      "needs_background": "light"
     },
     "output_type": "display_data"
    }
   ],
   "source": [
    "sns.distplot(x=train['Inches'])\n",
    "plt.xlabel('Inches')\n",
    "plt.show()"
   ]
  },
  {
   "cell_type": "code",
   "execution_count": 44,
   "id": "df5f3128",
   "metadata": {
    "execution": {
     "iopub.execute_input": "2021-12-08T20:48:43.122239Z",
     "iopub.status.busy": "2021-12-08T20:48:43.121588Z",
     "iopub.status.idle": "2021-12-08T20:48:43.129395Z",
     "shell.execute_reply": "2021-12-08T20:48:43.130060Z",
     "shell.execute_reply.started": "2021-12-08T20:47:27.460382Z"
    },
    "papermill": {
     "duration": 0.126002,
     "end_time": "2021-12-08T20:48:43.130236",
     "exception": false,
     "start_time": "2021-12-08T20:48:43.004234",
     "status": "completed"
    },
    "tags": []
   },
   "outputs": [
    {
     "data": {
      "text/plain": [
       "2.20    102\n",
       "2.10     42\n",
       "2.40     38\n",
       "2.00     36\n",
       "2.30     34\n",
       "       ... \n",
       "0.99      1\n",
       "1.79      1\n",
       "2.83      1\n",
       "1.12      1\n",
       "1.19      1\n",
       "Name: Weight (kg), Length: 162, dtype: int64"
      ]
     },
     "execution_count": 44,
     "metadata": {},
     "output_type": "execute_result"
    }
   ],
   "source": [
    "train['Weight (kg)'].value_counts()"
   ]
  },
  {
   "cell_type": "code",
   "execution_count": 45,
   "id": "5a14ee10",
   "metadata": {
    "execution": {
     "iopub.execute_input": "2021-12-08T20:48:43.366955Z",
     "iopub.status.busy": "2021-12-08T20:48:43.366176Z",
     "iopub.status.idle": "2021-12-08T20:48:43.373796Z",
     "shell.execute_reply": "2021-12-08T20:48:43.374350Z",
     "shell.execute_reply.started": "2021-12-08T20:47:27.471546Z"
    },
    "papermill": {
     "duration": 0.125101,
     "end_time": "2021-12-08T20:48:43.374648",
     "exception": false,
     "start_time": "2021-12-08T20:48:43.249547",
     "status": "completed"
    },
    "tags": []
   },
   "outputs": [
    {
     "data": {
      "text/plain": [
       "2.20    24\n",
       "2.10    16\n",
       "2.00     9\n",
       "1.30     9\n",
       "1.20     7\n",
       "        ..\n",
       "2.09     1\n",
       "0.97     1\n",
       "1.21     1\n",
       "3.58     1\n",
       "1.39     1\n",
       "Name: Weight (kg), Length: 101, dtype: int64"
      ]
     },
     "execution_count": 45,
     "metadata": {},
     "output_type": "execute_result"
    }
   ],
   "source": [
    "test['Weight (kg)'].value_counts()"
   ]
  },
  {
   "cell_type": "code",
   "execution_count": 46,
   "id": "eb8c2f66",
   "metadata": {
    "execution": {
     "iopub.execute_input": "2021-12-08T20:48:43.622102Z",
     "iopub.status.busy": "2021-12-08T20:48:43.610501Z",
     "iopub.status.idle": "2021-12-08T20:48:43.887734Z",
     "shell.execute_reply": "2021-12-08T20:48:43.887017Z",
     "shell.execute_reply.started": "2021-12-08T20:47:27.492858Z"
    },
    "papermill": {
     "duration": 0.399242,
     "end_time": "2021-12-08T20:48:43.887899",
     "exception": false,
     "start_time": "2021-12-08T20:48:43.488657",
     "status": "completed"
    },
    "tags": []
   },
   "outputs": [
    {
     "name": "stderr",
     "output_type": "stream",
     "text": [
      "/opt/conda/lib/python3.7/site-packages/seaborn/distributions.py:2619: FutureWarning: `distplot` is a deprecated function and will be removed in a future version. Please adapt your code to use either `displot` (a figure-level function with similar flexibility) or `histplot` (an axes-level function for histograms).\n",
      "  warnings.warn(msg, FutureWarning)\n"
     ]
    },
    {
     "data": {
      "image/png": "[encoded data removed]",
      "text/plain": [
       "<Figure size 432x288 with 1 Axes>"
      ]
     },
     "metadata": {
      "needs_background": "light"
     },
     "output_type": "display_data"
    }
   ],
   "source": [
    "sns.distplot(x=train['Weight (kg)'])\n",
    "plt.xlabel('Weight (kg)')\n",
    "plt.show()"
   ]
  },
  {
   "cell_type": "code",
   "execution_count": 47,
   "id": "c0d753e1",
   "metadata": {
    "execution": {
     "iopub.execute_input": "2021-12-08T20:48:44.139042Z",
     "iopub.status.busy": "2021-12-08T20:48:44.138171Z",
     "iopub.status.idle": "2021-12-08T20:48:44.150219Z",
     "shell.execute_reply": "2021-12-08T20:48:44.151050Z",
     "shell.execute_reply.started": "2021-12-08T20:47:27.770939Z"
    },
    "papermill": {
     "duration": 0.141735,
     "end_time": "2021-12-08T20:48:44.151291",
     "exception": false,
     "start_time": "2021-12-08T20:48:44.009556",
     "status": "completed"
    },
    "tags": []
   },
   "outputs": [
    {
     "data": {
      "text/plain": [
       "1099.00    12\n",
       "899.00     11\n",
       "1499.00    10\n",
       "1799.00     9\n",
       "999.00      9\n",
       "           ..\n",
       "286.00      1\n",
       "659.01      1\n",
       "1031.00     1\n",
       "1825.00     1\n",
       "617.90      1\n",
       "Name: Price_euros, Length: 670, dtype: int64"
      ]
     },
     "execution_count": 47,
     "metadata": {},
     "output_type": "execute_result"
    }
   ],
   "source": [
    "train['Price_euros'].value_counts()"
   ]
  },
  {
   "cell_type": "code",
   "execution_count": 48,
   "id": "d08ee79a",
   "metadata": {
    "execution": {
     "iopub.execute_input": "2021-12-08T20:48:44.398213Z",
     "iopub.status.busy": "2021-12-08T20:48:44.397206Z",
     "iopub.status.idle": "2021-12-08T20:48:44.403335Z",
     "shell.execute_reply": "2021-12-08T20:48:44.404206Z",
     "shell.execute_reply.started": "2021-12-08T20:47:27.783084Z"
    },
    "papermill": {
     "duration": 0.126996,
     "end_time": "2021-12-08T20:48:44.404444",
     "exception": false,
     "start_time": "2021-12-08T20:48:44.277448",
     "status": "completed"
    },
    "tags": []
   },
   "outputs": [
    {
     "data": {
      "text/plain": [
       "1799.0    5\n",
       "1499.0    4\n",
       "1299.0    4\n",
       "1199.0    4\n",
       "499.0     3\n",
       "         ..\n",
       "1590.0    1\n",
       "1513.0    1\n",
       "805.0     1\n",
       "333.0     1\n",
       "999.0     1\n",
       "Name: Price_euros, Length: 223, dtype: int64"
      ]
     },
     "execution_count": 48,
     "metadata": {},
     "output_type": "execute_result"
    }
   ],
   "source": [
    "test['Price_euros'].value_counts()"
   ]
  },
  {
   "cell_type": "code",
   "execution_count": 49,
   "id": "2b2f4fc6",
   "metadata": {
    "execution": {
     "iopub.execute_input": "2021-12-08T20:48:44.648687Z",
     "iopub.status.busy": "2021-12-08T20:48:44.647689Z",
     "iopub.status.idle": "2021-12-08T20:48:44.945638Z",
     "shell.execute_reply": "2021-12-08T20:48:44.944990Z",
     "shell.execute_reply.started": "2021-12-08T20:47:27.798990Z"
    },
    "papermill": {
     "duration": 0.419665,
     "end_time": "2021-12-08T20:48:44.945792",
     "exception": false,
     "start_time": "2021-12-08T20:48:44.526127",
     "status": "completed"
    },
    "tags": []
   },
   "outputs": [
    {
     "name": "stderr",
     "output_type": "stream",
     "text": [
      "/opt/conda/lib/python3.7/site-packages/seaborn/distributions.py:2619: FutureWarning: `distplot` is a deprecated function and will be removed in a future version. Please adapt your code to use either `displot` (a figure-level function with similar flexibility) or `histplot` (an axes-level function for histograms).\n",
      "  warnings.warn(msg, FutureWarning)\n"
     ]
    },
    {
     "data": {
      "image/png": "[encoded data removed]",
      "text/plain": [
       "<Figure size 432x288 with 1 Axes>"
      ]
     },
     "metadata": {
      "needs_background": "light"
     },
     "output_type": "display_data"
    }
   ],
   "source": [
    "sns.distplot(x=train['Price_euros'])\n",
    "plt.xlabel('Price_euros')\n",
    "plt.show()"
   ]
  },
  {
   "cell_type": "markdown",
   "id": "42b7671c",
   "metadata": {
    "papermill": {
     "duration": 0.115612,
     "end_time": "2021-12-08T20:48:45.177491",
     "exception": false,
     "start_time": "2021-12-08T20:48:45.061879",
     "status": "completed"
    },
    "tags": []
   },
   "source": [
    "Now, we will look at the categorical variables.  \n",
    "We will use the value_counts method to get more \n",
    "information about each variable.  For each categorical \n",
    "variable, we will also check that the set of values \n",
    "in the test set is a subset of or equal to the set \n",
    "of values in the training set.  This is to make sure \n",
    "that we are careful when we create dummy variables later on. \n"
   ]
  },
  {
   "cell_type": "code",
   "execution_count": 50,
   "id": "b0fe8f7f",
   "metadata": {
    "execution": {
     "iopub.execute_input": "2021-12-08T20:48:45.415916Z",
     "iopub.status.busy": "2021-12-08T20:48:45.414929Z",
     "iopub.status.idle": "2021-12-08T20:48:45.424388Z",
     "shell.execute_reply": "2021-12-08T20:48:45.423837Z",
     "shell.execute_reply.started": "2021-12-08T20:47:28.127013Z"
    },
    "papermill": {
     "duration": 0.130552,
     "end_time": "2021-12-08T20:48:45.424572",
     "exception": false,
     "start_time": "2021-12-08T20:48:45.294020",
     "status": "completed"
    },
    "tags": []
   },
   "outputs": [
    {
     "data": {
      "text/plain": [
       "Dell         239\n",
       "Lenovo       234\n",
       "HP           230\n",
       "Asus         125\n",
       "Acer          86\n",
       "MSI           39\n",
       "Toshiba       36\n",
       "Apple         14\n",
       "Samsung        9\n",
       "Razer          6\n",
       "Microsoft      5\n",
       "Mediacom       5\n",
       "Chuwi          3\n",
       "Vero           3\n",
       "Google         2\n",
       "Xiaomi         2\n",
       "Huawei         2\n",
       "Fujitsu        1\n",
       "LG             1\n",
       "Name: Company, dtype: int64"
      ]
     },
     "execution_count": 50,
     "metadata": {},
     "output_type": "execute_result"
    }
   ],
   "source": [
    "train['Company'].value_counts()"
   ]
  },
  {
   "cell_type": "code",
   "execution_count": 51,
   "id": "f864bc59",
   "metadata": {
    "execution": {
     "iopub.execute_input": "2021-12-08T20:48:45.665055Z",
     "iopub.status.busy": "2021-12-08T20:48:45.664205Z",
     "iopub.status.idle": "2021-12-08T20:48:45.667591Z",
     "shell.execute_reply": "2021-12-08T20:48:45.668096Z",
     "shell.execute_reply.started": "2021-12-08T20:47:28.136703Z"
    },
    "papermill": {
     "duration": 0.128285,
     "end_time": "2021-12-08T20:48:45.668290",
     "exception": false,
     "start_time": "2021-12-08T20:48:45.540005",
     "status": "completed"
    },
    "tags": []
   },
   "outputs": [
    {
     "data": {
      "text/plain": [
       "Lenovo       63\n",
       "Dell         58\n",
       "HP           44\n",
       "Asus         33\n",
       "Acer         17\n",
       "MSI          15\n",
       "Toshiba      12\n",
       "Apple         7\n",
       "Mediacom      2\n",
       "LG            2\n",
       "Fujitsu       2\n",
       "Xiaomi        2\n",
       "Razer         1\n",
       "Google        1\n",
       "Microsoft     1\n",
       "Vero          1\n",
       "Name: Company, dtype: int64"
      ]
     },
     "execution_count": 51,
     "metadata": {},
     "output_type": "execute_result"
    }
   ],
   "source": [
    "test['Company'].value_counts()"
   ]
  },
  {
   "cell_type": "markdown",
   "id": "82876117",
   "metadata": {
    "papermill": {
     "duration": 0.120364,
     "end_time": "2021-12-08T20:48:45.906442",
     "exception": false,
     "start_time": "2021-12-08T20:48:45.786078",
     "status": "completed"
    },
    "tags": []
   },
   "source": [
    "Note that for the Company variable, the set of values\n",
    "in the training set and the set of values in the test set \n",
    "are not the same because there are 19 unique values in the \n",
    "training set and 16 unique values in the test set.  We will \n",
    "check that the set of values in the test set is a subset of \n",
    "the set of values in the training set."
   ]
  },
  {
   "cell_type": "code",
   "execution_count": 52,
   "id": "53b647c8",
   "metadata": {
    "execution": {
     "iopub.execute_input": "2021-12-08T20:48:46.150908Z",
     "iopub.status.busy": "2021-12-08T20:48:46.149878Z",
     "iopub.status.idle": "2021-12-08T20:48:46.157076Z",
     "shell.execute_reply": "2021-12-08T20:48:46.157714Z",
     "shell.execute_reply.started": "2021-12-08T20:47:28.149864Z"
    },
    "papermill": {
     "duration": 0.133702,
     "end_time": "2021-12-08T20:48:46.157917",
     "exception": false,
     "start_time": "2021-12-08T20:48:46.024215",
     "status": "completed"
    },
    "tags": []
   },
   "outputs": [
    {
     "data": {
      "text/plain": [
       "True"
      ]
     },
     "execution_count": 52,
     "metadata": {},
     "output_type": "execute_result"
    }
   ],
   "source": [
    "set(test['Company']) <= set(train['Company'])"
   ]
  },
  {
   "cell_type": "code",
   "execution_count": 53,
   "id": "7e3cd2ad",
   "metadata": {
    "execution": {
     "iopub.execute_input": "2021-12-08T20:48:46.401032Z",
     "iopub.status.busy": "2021-12-08T20:48:46.400290Z",
     "iopub.status.idle": "2021-12-08T20:48:46.406417Z",
     "shell.execute_reply": "2021-12-08T20:48:46.406926Z",
     "shell.execute_reply.started": "2021-12-08T20:47:28.165230Z"
    },
    "papermill": {
     "duration": 0.131043,
     "end_time": "2021-12-08T20:48:46.407141",
     "exception": false,
     "start_time": "2021-12-08T20:48:46.276098",
     "status": "completed"
    },
    "tags": []
   },
   "outputs": [
    {
     "data": {
      "text/plain": [
       "XPS 13                                26\n",
       "Inspiron 3567                         21\n",
       "250 G6                                17\n",
       "Vostro 3568                           17\n",
       "Legion Y520-15IKBN                    16\n",
       "                                      ..\n",
       "Tecra X40-D-10H                        1\n",
       "UX510UX-CN269T (i7-7500U/8GB/256GB     1\n",
       "Ideapad 700-15ISK                      1\n",
       "Rog GL702VM-GC017T                     1\n",
       "Yoga 730                               1\n",
       "Name: Product, Length: 523, dtype: int64"
      ]
     },
     "execution_count": 53,
     "metadata": {},
     "output_type": "execute_result"
    }
   ],
   "source": [
    "train['Product'].value_counts()"
   ]
  },
  {
   "cell_type": "code",
   "execution_count": 54,
   "id": "a23ba8ea",
   "metadata": {
    "execution": {
     "iopub.execute_input": "2021-12-08T20:48:46.649421Z",
     "iopub.status.busy": "2021-12-08T20:48:46.648754Z",
     "iopub.status.idle": "2021-12-08T20:48:46.656232Z",
     "shell.execute_reply": "2021-12-08T20:48:46.656719Z",
     "shell.execute_reply.started": "2021-12-08T20:47:28.185057Z"
    },
    "papermill": {
     "duration": 0.131386,
     "end_time": "2021-12-08T20:48:46.656932",
     "exception": false,
     "start_time": "2021-12-08T20:48:46.525546",
     "status": "completed"
    },
    "tags": []
   },
   "outputs": [
    {
     "data": {
      "text/plain": [
       "Inspiron 3567     8\n",
       "Inspiron 5570     6\n",
       "XPS 13            4\n",
       "250 G6            4\n",
       "ProBook 450       4\n",
       "                 ..\n",
       "Yoga 720-13IKB    1\n",
       "ProBook 440       1\n",
       "Alienware 15      1\n",
       "Probook 470       1\n",
       "Inspiron 7773     1\n",
       "Name: Product, Length: 193, dtype: int64"
      ]
     },
     "execution_count": 54,
     "metadata": {},
     "output_type": "execute_result"
    }
   ],
   "source": [
    "test['Product'].value_counts()"
   ]
  },
  {
   "cell_type": "markdown",
   "id": "6b829391",
   "metadata": {
    "papermill": {
     "duration": 0.118005,
     "end_time": "2021-12-08T20:48:46.894137",
     "exception": false,
     "start_time": "2021-12-08T20:48:46.776132",
     "status": "completed"
    },
    "tags": []
   },
   "source": [
    "Note that for the Product variable, the set of values\n",
    "in the training set and the set of values in the test set \n",
    "are not the same because there are 523 unique values in the \n",
    "training set and 193 unique values in the test set.  We will \n",
    "check that the set of values in the test set is a subset of \n",
    "the set of values in the training set."
   ]
  },
  {
   "cell_type": "code",
   "execution_count": 55,
   "id": "86a7689b",
   "metadata": {
    "execution": {
     "iopub.execute_input": "2021-12-08T20:48:47.141981Z",
     "iopub.status.busy": "2021-12-08T20:48:47.141229Z",
     "iopub.status.idle": "2021-12-08T20:48:47.144113Z",
     "shell.execute_reply": "2021-12-08T20:48:47.144651Z",
     "shell.execute_reply.started": "2021-12-08T20:47:28.198214Z"
    },
    "papermill": {
     "duration": 0.129954,
     "end_time": "2021-12-08T20:48:47.144874",
     "exception": false,
     "start_time": "2021-12-08T20:48:47.014920",
     "status": "completed"
    },
    "tags": []
   },
   "outputs": [
    {
     "data": {
      "text/plain": [
       "False"
      ]
     },
     "execution_count": 55,
     "metadata": {},
     "output_type": "execute_result"
    }
   ],
   "source": [
    "set(test['Product']) <= set(train['Product'])"
   ]
  },
  {
   "cell_type": "markdown",
   "id": "a05092b7",
   "metadata": {
    "papermill": {
     "duration": 0.118034,
     "end_time": "2021-12-08T20:48:47.382249",
     "exception": false,
     "start_time": "2021-12-08T20:48:47.264215",
     "status": "completed"
    },
    "tags": []
   },
   "source": [
    "This means that for the Product variable, there are values in the test set \n",
    "that are not in the training set."
   ]
  },
  {
   "cell_type": "code",
   "execution_count": 56,
   "id": "97ba8443",
   "metadata": {
    "execution": {
     "iopub.execute_input": "2021-12-08T20:48:47.623824Z",
     "iopub.status.busy": "2021-12-08T20:48:47.622867Z",
     "iopub.status.idle": "2021-12-08T20:48:47.629240Z",
     "shell.execute_reply": "2021-12-08T20:48:47.629964Z",
     "shell.execute_reply.started": "2021-12-08T20:47:28.213661Z"
    },
    "papermill": {
     "duration": 0.129858,
     "end_time": "2021-12-08T20:48:47.630194",
     "exception": false,
     "start_time": "2021-12-08T20:48:47.500336",
     "status": "completed"
    },
    "tags": []
   },
   "outputs": [
    {
     "data": {
      "text/plain": [
       "Notebook              589\n",
       "Ultrabook             157\n",
       "Gaming                155\n",
       "2 in 1 Convertible     97\n",
       "Workstation            24\n",
       "Netbook                20\n",
       "Name: TypeName, dtype: int64"
      ]
     },
     "execution_count": 56,
     "metadata": {},
     "output_type": "execute_result"
    }
   ],
   "source": [
    "train['TypeName'].value_counts()"
   ]
  },
  {
   "cell_type": "code",
   "execution_count": 57,
   "id": "3dbece14",
   "metadata": {
    "execution": {
     "iopub.execute_input": "2021-12-08T20:48:47.871115Z",
     "iopub.status.busy": "2021-12-08T20:48:47.870370Z",
     "iopub.status.idle": "2021-12-08T20:48:47.876314Z",
     "shell.execute_reply": "2021-12-08T20:48:47.876932Z",
     "shell.execute_reply.started": "2021-12-08T20:47:28.232209Z"
    },
    "papermill": {
     "duration": 0.127509,
     "end_time": "2021-12-08T20:48:47.877143",
     "exception": false,
     "start_time": "2021-12-08T20:48:47.749634",
     "status": "completed"
    },
    "tags": []
   },
   "outputs": [
    {
     "data": {
      "text/plain": [
       "Notebook              138\n",
       "Gaming                 50\n",
       "Ultrabook              39\n",
       "2 in 1 Convertible     24\n",
       "Workstation             5\n",
       "Netbook                 5\n",
       "Name: TypeName, dtype: int64"
      ]
     },
     "execution_count": 57,
     "metadata": {},
     "output_type": "execute_result"
    }
   ],
   "source": [
    "test['TypeName'].value_counts()"
   ]
  },
  {
   "cell_type": "code",
   "execution_count": 58,
   "id": "542c7a16",
   "metadata": {
    "execution": {
     "iopub.execute_input": "2021-12-08T20:48:48.123925Z",
     "iopub.status.busy": "2021-12-08T20:48:48.122939Z",
     "iopub.status.idle": "2021-12-08T20:48:48.126140Z",
     "shell.execute_reply": "2021-12-08T20:48:48.126684Z",
     "shell.execute_reply.started": "2021-12-08T20:47:28.248796Z"
    },
    "papermill": {
     "duration": 0.13073,
     "end_time": "2021-12-08T20:48:48.126896",
     "exception": false,
     "start_time": "2021-12-08T20:48:47.996166",
     "status": "completed"
    },
    "tags": []
   },
   "outputs": [
    {
     "data": {
      "text/plain": [
       "True"
      ]
     },
     "execution_count": 58,
     "metadata": {},
     "output_type": "execute_result"
    }
   ],
   "source": [
    "set(test['TypeName']) == set(train['TypeName'])"
   ]
  },
  {
   "cell_type": "markdown",
   "id": "b28f85c7",
   "metadata": {
    "papermill": {
     "duration": 0.122923,
     "end_time": "2021-12-08T20:48:48.371690",
     "exception": false,
     "start_time": "2021-12-08T20:48:48.248767",
     "status": "completed"
    },
    "tags": []
   },
   "source": [
    "For the TypeName variable, the set of values in the test set \n",
    "is equal to the set of values in the training set."
   ]
  },
  {
   "cell_type": "code",
   "execution_count": 59,
   "id": "746b5521",
   "metadata": {
    "execution": {
     "iopub.execute_input": "2021-12-08T20:48:48.620619Z",
     "iopub.status.busy": "2021-12-08T20:48:48.619750Z",
     "iopub.status.idle": "2021-12-08T20:48:48.623284Z",
     "shell.execute_reply": "2021-12-08T20:48:48.623805Z",
     "shell.execute_reply.started": "2021-12-08T20:47:28.263825Z"
    },
    "papermill": {
     "duration": 0.132854,
     "end_time": "2021-12-08T20:48:48.624001",
     "exception": false,
     "start_time": "2021-12-08T20:48:48.491147",
     "status": "completed"
    },
    "tags": []
   },
   "outputs": [
    {
     "data": {
      "text/plain": [
       "Full HD 1920x1080                                411\n",
       "1366x768                                         227\n",
       "IPS Panel Full HD 1920x1080                      175\n",
       "IPS Panel Full HD / Touchscreen 1920x1080         43\n",
       "Full HD / Touchscreen 1920x1080                   40\n",
       "1600x900                                          21\n",
       "Touchscreen 1366x768                              13\n",
       "Quad HD+ / Touchscreen 3200x1800                  11\n",
       "IPS Panel 4K Ultra HD 3840x2160                    9\n",
       "IPS Panel 4K Ultra HD / Touchscreen 3840x2160      9\n",
       "4K Ultra HD / Touchscreen 3840x2160                8\n",
       "IPS Panel 1366x768                                 6\n",
       "Touchscreen 2560x1440                              5\n",
       "Touchscreen 2256x1504                              5\n",
       "IPS Panel Touchscreen 2560x1440                    4\n",
       "IPS Panel Touchscreen 1920x1200                    4\n",
       "IPS Panel Retina Display 2880x1800                 4\n",
       "4K Ultra HD 3840x2160                              4\n",
       "IPS Panel Retina Display 2560x1600                 4\n",
       "IPS Panel Retina Display 2304x1440                 4\n",
       "IPS Panel Quad HD+ 2560x1440                       3\n",
       "1920x1080                                          3\n",
       "2560x1440                                          3\n",
       "IPS Panel Touchscreen / 4K Ultra HD 3840x2160      2\n",
       "IPS Panel Quad HD+ 3200x1800                       2\n",
       "1440x900                                           2\n",
       "Touchscreen 2400x1600                              2\n",
       "IPS Panel 2560x1440                                2\n",
       "IPS Panel Touchscreen 1366x768                     2\n",
       "IPS Panel Full HD 2160x1440                        2\n",
       "Quad HD+ 3200x1800                                 2\n",
       "IPS Panel Quad HD+ / Touchscreen 3200x1800         2\n",
       "IPS Panel Retina Display 2736x1824                 1\n",
       "IPS Panel Full HD 1920x1200                        1\n",
       "Touchscreen / 4K Ultra HD 3840x2160                1\n",
       "IPS Panel Full HD 2560x1440                        1\n",
       "Touchscreen / Full HD 1920x1080                    1\n",
       "Touchscreen / Quad HD+ 3200x1800                   1\n",
       "IPS Panel Touchscreen 2400x1600                    1\n",
       "IPS Panel Full HD 1366x768                         1\n",
       "Name: ScreenResolution, dtype: int64"
      ]
     },
     "execution_count": 59,
     "metadata": {},
     "output_type": "execute_result"
    }
   ],
   "source": [
    "train['ScreenResolution'].value_counts()"
   ]
  },
  {
   "cell_type": "code",
   "execution_count": 60,
   "id": "b4bb7b9e",
   "metadata": {
    "execution": {
     "iopub.execute_input": "2021-12-08T20:48:48.872393Z",
     "iopub.status.busy": "2021-12-08T20:48:48.871275Z",
     "iopub.status.idle": "2021-12-08T20:48:48.879326Z",
     "shell.execute_reply": "2021-12-08T20:48:48.878787Z",
     "shell.execute_reply.started": "2021-12-08T20:47:28.281695Z"
    },
    "papermill": {
     "duration": 0.136331,
     "end_time": "2021-12-08T20:48:48.879534",
     "exception": false,
     "start_time": "2021-12-08T20:48:48.743203",
     "status": "completed"
    },
    "tags": []
   },
   "outputs": [
    {
     "data": {
      "text/plain": [
       "Full HD 1920x1080                                96\n",
       "IPS Panel Full HD 1920x1080                      55\n",
       "1366x768                                         54\n",
       "IPS Panel Full HD / Touchscreen 1920x1080        10\n",
       "Full HD / Touchscreen 1920x1080                   7\n",
       "IPS Panel Quad HD+ / Touchscreen 3200x1800        4\n",
       "Quad HD+ / Touchscreen 3200x1800                  4\n",
       "Touchscreen 1366x768                              3\n",
       "IPS Panel 4K Ultra HD 3840x2160                   3\n",
       "4K Ultra HD 3840x2160                             3\n",
       "IPS Panel 2560x1440                               2\n",
       "IPS Panel 4K Ultra HD / Touchscreen 3840x2160     2\n",
       "1440x900                                          2\n",
       "IPS Panel Retina Display 2304x1440                2\n",
       "4K Ultra HD / Touchscreen 3840x2160               2\n",
       "IPS Panel Retina Display 2560x1600                2\n",
       "Touchscreen 2560x1440                             2\n",
       "1600x900                                          2\n",
       "Quad HD+ 3200x1800                                1\n",
       "Touchscreen 2400x1600                             1\n",
       "IPS Panel Touchscreen 1366x768                    1\n",
       "Touchscreen 2256x1504                             1\n",
       "IPS Panel 1366x768                                1\n",
       "IPS Panel Touchscreen 2560x1440                   1\n",
       "Name: ScreenResolution, dtype: int64"
      ]
     },
     "execution_count": 60,
     "metadata": {},
     "output_type": "execute_result"
    }
   ],
   "source": [
    "test['ScreenResolution'].value_counts()"
   ]
  },
  {
   "cell_type": "markdown",
   "id": "d9630b8f",
   "metadata": {
    "papermill": {
     "duration": 0.122972,
     "end_time": "2021-12-08T20:48:49.125485",
     "exception": false,
     "start_time": "2021-12-08T20:48:49.002513",
     "status": "completed"
    },
    "tags": []
   },
   "source": [
    "Note that for the ScreenResolution variable, the set of values\n",
    "in the training set and the set of values in the test set \n",
    "are not the same because there are 40 unique values in the \n",
    "training set and 24 unique values in the test set.  We will \n",
    "check that the set of values in the test set is a subset of \n",
    "the set of values in the training set."
   ]
  },
  {
   "cell_type": "code",
   "execution_count": 61,
   "id": "99c12f2c",
   "metadata": {
    "execution": {
     "iopub.execute_input": "2021-12-08T20:48:49.377803Z",
     "iopub.status.busy": "2021-12-08T20:48:49.376972Z",
     "iopub.status.idle": "2021-12-08T20:48:49.380150Z",
     "shell.execute_reply": "2021-12-08T20:48:49.380679Z",
     "shell.execute_reply.started": "2021-12-08T20:47:28.299535Z"
    },
    "papermill": {
     "duration": 0.130732,
     "end_time": "2021-12-08T20:48:49.380883",
     "exception": false,
     "start_time": "2021-12-08T20:48:49.250151",
     "status": "completed"
    },
    "tags": []
   },
   "outputs": [
    {
     "data": {
      "text/plain": [
       "True"
      ]
     },
     "execution_count": 61,
     "metadata": {},
     "output_type": "execute_result"
    }
   ],
   "source": [
    "set(test['ScreenResolution']) <= set(train['ScreenResolution'])"
   ]
  },
  {
   "cell_type": "code",
   "execution_count": 62,
   "id": "7c0381c3",
   "metadata": {
    "execution": {
     "iopub.execute_input": "2021-12-08T20:48:49.633182Z",
     "iopub.status.busy": "2021-12-08T20:48:49.632413Z",
     "iopub.status.idle": "2021-12-08T20:48:49.640144Z",
     "shell.execute_reply": "2021-12-08T20:48:49.640719Z",
     "shell.execute_reply.started": "2021-12-08T20:47:28.310364Z"
    },
    "papermill": {
     "duration": 0.137764,
     "end_time": "2021-12-08T20:48:49.640924",
     "exception": false,
     "start_time": "2021-12-08T20:48:49.503160",
     "status": "completed"
    },
    "tags": []
   },
   "outputs": [
    {
     "data": {
      "text/plain": [
       "Intel Core i5 7200U 2.5GHz              154\n",
       "Intel Core i7 7700HQ 2.8GHz             110\n",
       "Intel Core i7 7500U 2.7GHz              105\n",
       "Intel Core i7 8550U 1.8GHz               59\n",
       "Intel Core i5 8250U 1.6GHz               58\n",
       "                                       ... \n",
       "Intel Core i7 7700HQ 2.7GHz               1\n",
       "Intel Celeron Dual Core 3855U 1.6GHz      1\n",
       "Intel Atom X5-Z8350 1.44GHz               1\n",
       "Intel Atom Z8350 1.92GHz                  1\n",
       "Intel Core i5 6260U 1.8GHz                1\n",
       "Name: Cpu, Length: 104, dtype: int64"
      ]
     },
     "execution_count": 62,
     "metadata": {},
     "output_type": "execute_result"
    }
   ],
   "source": [
    "train['Cpu'].value_counts()"
   ]
  },
  {
   "cell_type": "code",
   "execution_count": 63,
   "id": "f4c8671c",
   "metadata": {
    "execution": {
     "iopub.execute_input": "2021-12-08T20:48:49.898944Z",
     "iopub.status.busy": "2021-12-08T20:48:49.897884Z",
     "iopub.status.idle": "2021-12-08T20:48:49.906710Z",
     "shell.execute_reply": "2021-12-08T20:48:49.907494Z",
     "shell.execute_reply.started": "2021-12-08T20:47:28.329287Z"
    },
    "papermill": {
     "duration": 0.14196,
     "end_time": "2021-12-08T20:48:49.907806",
     "exception": false,
     "start_time": "2021-12-08T20:48:49.765846",
     "status": "completed"
    },
    "tags": []
   },
   "outputs": [
    {
     "data": {
      "text/plain": [
       "Intel Core i5 7200U 2.5GHz              36\n",
       "Intel Core i7 7700HQ 2.8GHz             36\n",
       "Intel Core i7 7500U 2.7GHz              29\n",
       "Intel Core i5 8250U 1.6GHz              14\n",
       "Intel Core i7 8550U 1.8GHz              14\n",
       "Intel Core i5 6200U 2.3GHz              11\n",
       "Intel Core i3 6006U 2GHz                11\n",
       "Intel Core i7 6500U 2.5GHz              10\n",
       "Intel Core i3 7100U 2.4GHz              10\n",
       "Intel Core i7 6700HQ 2.6GHz             10\n",
       "Intel Core i5 6300U 2.4GHz               4\n",
       "Intel Core i3 7130U 2.7GHz               3\n",
       "Intel Pentium Quad Core N4200 1.1GHz     3\n",
       "Intel Celeron Dual Core N3060 1.6GHz     3\n",
       "Intel Core i3 6006U 2.0GHz               3\n",
       "Intel Core i7 6820HK 2.7GHz              3\n",
       "Intel Core i5 6300HQ 2.3GHz              3\n",
       "Intel Core i7 6600U 2.6GHz               3\n",
       "Intel Core i7 7820HK 2.9GHz              3\n",
       "AMD A9-Series 9420 3GHz                  3\n",
       "Intel Core i7 7600U 2.8GHz               3\n",
       "Intel Core i7 7660U 2.5GHz               2\n",
       "Intel Celeron Dual Core N3350 1.1GHz     2\n",
       "Intel Core i7 7820HQ 2.9GHz              2\n",
       "Intel Pentium Quad Core N3710 1.6GHz     2\n",
       "Intel Core i5 1.6GHz                     2\n",
       "Intel Celeron Dual Core 3855U 1.6GHz     2\n",
       "Intel Core i7 6820HQ 2.7GHz              2\n",
       "Intel Celeron Quad Core N3450 1.1GHz     2\n",
       "Intel Core M M7-6Y75 1.2GHz              1\n",
       "AMD A9-Series 9410 2.9GHz                1\n",
       "Intel Celeron Quad Core N3160 1.6GHz     1\n",
       "Intel Celeron Dual Core N3050 1.6GHz     1\n",
       "Intel Core M m7-6Y75 1.2GHz              1\n",
       "Intel Pentium Dual Core 4405U 2.1GHz     1\n",
       "AMD E-Series 9000e 1.5GHz                1\n",
       "AMD A6-Series 7310 2GHz                  1\n",
       "Intel Core M 6Y75 1.2GHz                 1\n",
       "Intel Core i5 7440HQ 2.8GHz              1\n",
       "Intel Xeon E3-1535M v6 3.1GHz            1\n",
       "Intel Atom X5-Z8350 1.44GHz              1\n",
       "Intel Core i3 6100U 2.3GHz               1\n",
       "Intel Celeron Dual Core N3350 2GHz       1\n",
       "Intel Core M m3 1.2GHz                   1\n",
       "Intel Xeon E3-1505M V6 3GHz              1\n",
       "Intel Core i5 7Y57 1.2GHz                1\n",
       "Intel Core i5 7200U 2.70GHz              1\n",
       "Intel Core i5 2.9GHz                     1\n",
       "Intel Core i7 6560U 2.2GHz               1\n",
       "Intel Core i5 1.8GHz                     1\n",
       "Intel Core i5 7300HQ 2.5GHz              1\n",
       "Intel Core i7 6500U 2.50GHz              1\n",
       "Intel Core i5 2.0GHz                     1\n",
       "AMD A6-Series 9220 2.5GHz                1\n",
       "Intel Core M 1.2GHz                      1\n",
       "Intel Core i3 6006U 2.2GHz               1\n",
       "AMD Ryzen 1600 3.2GHz                    1\n",
       "AMD E-Series E2-6110 1.5GHz              1\n",
       "AMD A8-Series 7410 2.2GHz                1\n",
       "Name: Cpu, dtype: int64"
      ]
     },
     "execution_count": 63,
     "metadata": {},
     "output_type": "execute_result"
    }
   ],
   "source": [
    "test['Cpu'].value_counts()"
   ]
  },
  {
   "cell_type": "markdown",
   "id": "477c05f4",
   "metadata": {
    "papermill": {
     "duration": 0.120926,
     "end_time": "2021-12-08T20:48:50.173570",
     "exception": false,
     "start_time": "2021-12-08T20:48:50.052644",
     "status": "completed"
    },
    "tags": []
   },
   "source": [
    "Note that for the Cpu variable, the set of values\n",
    "in the training set and the set of values in the test set \n",
    "are not the same because there are 104 unique values in the \n",
    "training set and 59 unique values in the test set.  We will \n",
    "check that the set of values in the test set is a subset of \n",
    "the set of values in the training set."
   ]
  },
  {
   "cell_type": "code",
   "execution_count": 64,
   "id": "46b1b8d2",
   "metadata": {
    "execution": {
     "iopub.execute_input": "2021-12-08T20:48:50.418842Z",
     "iopub.status.busy": "2021-12-08T20:48:50.418063Z",
     "iopub.status.idle": "2021-12-08T20:48:50.424952Z",
     "shell.execute_reply": "2021-12-08T20:48:50.424335Z",
     "shell.execute_reply.started": "2021-12-08T20:47:28.341675Z"
    },
    "papermill": {
     "duration": 0.130911,
     "end_time": "2021-12-08T20:48:50.425120",
     "exception": false,
     "start_time": "2021-12-08T20:48:50.294209",
     "status": "completed"
    },
    "tags": []
   },
   "outputs": [
    {
     "data": {
      "text/plain": [
       "False"
      ]
     },
     "execution_count": 64,
     "metadata": {},
     "output_type": "execute_result"
    }
   ],
   "source": [
    "set(test['Cpu']) <= set(train['Cpu'])"
   ]
  },
  {
   "cell_type": "markdown",
   "id": "9ff16564",
   "metadata": {
    "papermill": {
     "duration": 0.122821,
     "end_time": "2021-12-08T20:48:50.669976",
     "exception": false,
     "start_time": "2021-12-08T20:48:50.547155",
     "status": "completed"
    },
    "tags": []
   },
   "source": [
    "This means that for the Cpu variable, there are values in the test set \n",
    "that are not in the training set."
   ]
  },
  {
   "cell_type": "code",
   "execution_count": 65,
   "id": "72b967a9",
   "metadata": {
    "execution": {
     "iopub.execute_input": "2021-12-08T20:48:50.922721Z",
     "iopub.status.busy": "2021-12-08T20:48:50.921861Z",
     "iopub.status.idle": "2021-12-08T20:48:50.925224Z",
     "shell.execute_reply": "2021-12-08T20:48:50.925753Z",
     "shell.execute_reply.started": "2021-12-08T20:47:28.353120Z"
    },
    "papermill": {
     "duration": 0.134376,
     "end_time": "2021-12-08T20:48:50.925955",
     "exception": false,
     "start_time": "2021-12-08T20:48:50.791579",
     "status": "completed"
    },
    "tags": []
   },
   "outputs": [
    {
     "data": {
      "text/plain": [
       "8GB     495\n",
       "4GB     310\n",
       "16GB    146\n",
       "6GB      35\n",
       "12GB     22\n",
       "2GB      18\n",
       "32GB     13\n",
       "24GB      2\n",
       "64GB      1\n",
       "Name: Ram, dtype: int64"
      ]
     },
     "execution_count": 65,
     "metadata": {},
     "output_type": "execute_result"
    }
   ],
   "source": [
    "train['Ram'].value_counts()"
   ]
  },
  {
   "cell_type": "code",
   "execution_count": 66,
   "id": "1da2af92",
   "metadata": {
    "execution": {
     "iopub.execute_input": "2021-12-08T20:48:51.180256Z",
     "iopub.status.busy": "2021-12-08T20:48:51.179381Z",
     "iopub.status.idle": "2021-12-08T20:48:51.183735Z",
     "shell.execute_reply": "2021-12-08T20:48:51.183152Z",
     "shell.execute_reply.started": "2021-12-08T20:47:28.368816Z"
    },
    "papermill": {
     "duration": 0.135041,
     "end_time": "2021-12-08T20:48:51.183897",
     "exception": false,
     "start_time": "2021-12-08T20:48:51.048856",
     "status": "completed"
    },
    "tags": []
   },
   "outputs": [
    {
     "data": {
      "text/plain": [
       "8GB     124\n",
       "4GB      65\n",
       "16GB     54\n",
       "6GB       6\n",
       "2GB       4\n",
       "32GB      4\n",
       "12GB      3\n",
       "24GB      1\n",
       "Name: Ram, dtype: int64"
      ]
     },
     "execution_count": 66,
     "metadata": {},
     "output_type": "execute_result"
    }
   ],
   "source": [
    "test['Ram'].value_counts()"
   ]
  },
  {
   "cell_type": "markdown",
   "id": "22773af5",
   "metadata": {
    "papermill": {
     "duration": 0.121636,
     "end_time": "2021-12-08T20:48:51.427026",
     "exception": false,
     "start_time": "2021-12-08T20:48:51.305390",
     "status": "completed"
    },
    "tags": []
   },
   "source": [
    "Note that for the Ram variable, the set of values\n",
    "in the training set and the set of values in the test set \n",
    "are not the same because there are 9 unique values in the \n",
    "training set and 8 unique values in the test set.  We will \n",
    "check that the set of values in the test set is a subset of \n",
    "the set of values in the training set."
   ]
  },
  {
   "cell_type": "code",
   "execution_count": 67,
   "id": "103bc750",
   "metadata": {
    "execution": {
     "iopub.execute_input": "2021-12-08T20:48:51.677535Z",
     "iopub.status.busy": "2021-12-08T20:48:51.676820Z",
     "iopub.status.idle": "2021-12-08T20:48:51.682219Z",
     "shell.execute_reply": "2021-12-08T20:48:51.682851Z",
     "shell.execute_reply.started": "2021-12-08T20:47:28.387669Z"
    },
    "papermill": {
     "duration": 0.133094,
     "end_time": "2021-12-08T20:48:51.683056",
     "exception": false,
     "start_time": "2021-12-08T20:48:51.549962",
     "status": "completed"
    },
    "tags": []
   },
   "outputs": [
    {
     "data": {
      "text/plain": [
       "True"
      ]
     },
     "execution_count": 67,
     "metadata": {},
     "output_type": "execute_result"
    }
   ],
   "source": [
    "set(test['Ram']) <= set(train['Ram'])"
   ]
  },
  {
   "cell_type": "code",
   "execution_count": 68,
   "id": "bb78c894",
   "metadata": {
    "execution": {
     "iopub.execute_input": "2021-12-08T20:48:51.932846Z",
     "iopub.status.busy": "2021-12-08T20:48:51.932169Z",
     "iopub.status.idle": "2021-12-08T20:48:51.938950Z",
     "shell.execute_reply": "2021-12-08T20:48:51.939481Z",
     "shell.execute_reply.started": "2021-12-08T20:47:28.398576Z"
    },
    "papermill": {
     "duration": 0.132655,
     "end_time": "2021-12-08T20:48:51.939677",
     "exception": false,
     "start_time": "2021-12-08T20:48:51.807022",
     "status": "completed"
    },
    "tags": []
   },
   "outputs": [
    {
     "data": {
      "text/plain": [
       "256GB SSD                        339\n",
       "1TB HDD                          187\n",
       "500GB HDD                        106\n",
       "512GB SSD                         84\n",
       "128GB SSD +  1TB HDD              74\n",
       "128GB SSD                         56\n",
       "256GB SSD +  1TB HDD              50\n",
       "32GB Flash Storage                34\n",
       "2TB HDD                           15\n",
       "64GB Flash Storage                14\n",
       "512GB SSD +  1TB HDD              12\n",
       "1TB SSD                           11\n",
       "1.0TB Hybrid                       7\n",
       "256GB Flash Storage                6\n",
       "16GB Flash Storage                 6\n",
       "256GB SSD +  2TB HDD               6\n",
       "32GB SSD                           4\n",
       "16GB SSD                           3\n",
       "180GB SSD                          3\n",
       "512GB SSD +  2TB HDD               3\n",
       "128GB Flash Storage                3\n",
       "256GB SSD +  500GB HDD             2\n",
       "1TB SSD +  1TB HDD                 2\n",
       "128GB SSD +  2TB HDD               2\n",
       "128GB HDD                          1\n",
       "256GB SSD +  256GB SSD             1\n",
       "512GB SSD +  256GB SSD             1\n",
       "32GB HDD                           1\n",
       "1.0TB HDD                          1\n",
       "64GB Flash Storage +  1TB HDD      1\n",
       "512GB Flash Storage                1\n",
       "8GB SSD                            1\n",
       "512GB SSD +  512GB SSD             1\n",
       "1TB HDD +  1TB HDD                 1\n",
       "64GB SSD                           1\n",
       "240GB SSD                          1\n",
       "508GB Hybrid                       1\n",
       "Name: Memory, dtype: int64"
      ]
     },
     "execution_count": 68,
     "metadata": {},
     "output_type": "execute_result"
    }
   ],
   "source": [
    "train['Memory'].value_counts()"
   ]
  },
  {
   "cell_type": "code",
   "execution_count": 69,
   "id": "95bf28b9",
   "metadata": {
    "execution": {
     "iopub.execute_input": "2021-12-08T20:48:52.197237Z",
     "iopub.status.busy": "2021-12-08T20:48:52.196579Z",
     "iopub.status.idle": "2021-12-08T20:48:52.203127Z",
     "shell.execute_reply": "2021-12-08T20:48:52.203686Z",
     "shell.execute_reply.started": "2021-12-08T20:47:28.415337Z"
    },
    "papermill": {
     "duration": 0.136187,
     "end_time": "2021-12-08T20:48:52.203881",
     "exception": false,
     "start_time": "2021-12-08T20:48:52.067694",
     "status": "completed"
    },
    "tags": []
   },
   "outputs": [
    {
     "data": {
      "text/plain": [
       "256GB SSD                    73\n",
       "1TB HDD                      36\n",
       "512GB SSD                    34\n",
       "500GB HDD                    26\n",
       "256GB SSD +  1TB HDD         23\n",
       "128GB SSD                    20\n",
       "128GB SSD +  1TB HDD         20\n",
       "32GB Flash Storage            4\n",
       "256GB SSD +  2TB HDD          4\n",
       "1TB SSD                       3\n",
       "32GB SSD                      2\n",
       "180GB SSD                     2\n",
       "1.0TB Hybrid                  2\n",
       "512GB SSD +  1TB HDD          2\n",
       "256GB Flash Storage           2\n",
       "128GB Flash Storage           1\n",
       "512GB Flash Storage           1\n",
       "2TB HDD                       1\n",
       "512GB SSD +  1.0TB Hybrid     1\n",
       "256GB SSD +  1.0TB Hybrid     1\n",
       "256GB SSD +  256GB SSD        1\n",
       "16GB Flash Storage            1\n",
       "64GB Flash Storage            1\n",
       "Name: Memory, dtype: int64"
      ]
     },
     "execution_count": 69,
     "metadata": {},
     "output_type": "execute_result"
    }
   ],
   "source": [
    "test['Memory'].value_counts()"
   ]
  },
  {
   "cell_type": "markdown",
   "id": "7b89b87c",
   "metadata": {
    "papermill": {
     "duration": 0.122742,
     "end_time": "2021-12-08T20:48:52.450820",
     "exception": false,
     "start_time": "2021-12-08T20:48:52.328078",
     "status": "completed"
    },
    "tags": []
   },
   "source": [
    "Note that for the Memory variable, the set of values\n",
    "in the training set and the set of values in the test set \n",
    "are not the same because there are 37 unique values in the \n",
    "training set and 23 unique values in the test set.  We will \n",
    "check that the set of values in the test set is a subset of \n",
    "the set of values in the training set."
   ]
  },
  {
   "cell_type": "code",
   "execution_count": 70,
   "id": "cd200387",
   "metadata": {
    "execution": {
     "iopub.execute_input": "2021-12-08T20:48:52.709048Z",
     "iopub.status.busy": "2021-12-08T20:48:52.707971Z",
     "iopub.status.idle": "2021-12-08T20:48:52.712834Z",
     "shell.execute_reply": "2021-12-08T20:48:52.712217Z",
     "shell.execute_reply.started": "2021-12-08T20:47:28.427292Z"
    },
    "papermill": {
     "duration": 0.138716,
     "end_time": "2021-12-08T20:48:52.713000",
     "exception": false,
     "start_time": "2021-12-08T20:48:52.574284",
     "status": "completed"
    },
    "tags": []
   },
   "outputs": [
    {
     "data": {
      "text/plain": [
       "False"
      ]
     },
     "execution_count": 70,
     "metadata": {},
     "output_type": "execute_result"
    }
   ],
   "source": [
    "set(test['Memory']) <= set(train['Memory'])"
   ]
  },
  {
   "cell_type": "markdown",
   "id": "8a8306a0",
   "metadata": {
    "papermill": {
     "duration": 0.122223,
     "end_time": "2021-12-08T20:48:52.958294",
     "exception": false,
     "start_time": "2021-12-08T20:48:52.836071",
     "status": "completed"
    },
    "tags": []
   },
   "source": [
    "This means that for the Memory variable, there are values in the test set \n",
    "that are not in the training set."
   ]
  },
  {
   "cell_type": "code",
   "execution_count": 71,
   "id": "0f9b6231",
   "metadata": {
    "execution": {
     "iopub.execute_input": "2021-12-08T20:48:53.215090Z",
     "iopub.status.busy": "2021-12-08T20:48:53.214372Z",
     "iopub.status.idle": "2021-12-08T20:48:53.218965Z",
     "shell.execute_reply": "2021-12-08T20:48:53.219430Z",
     "shell.execute_reply.started": "2021-12-08T20:47:28.439118Z"
    },
    "papermill": {
     "duration": 0.137146,
     "end_time": "2021-12-08T20:48:53.219670",
     "exception": false,
     "start_time": "2021-12-08T20:48:53.082524",
     "status": "completed"
    },
    "tags": []
   },
   "outputs": [
    {
     "data": {
      "text/plain": [
       "Intel HD Graphics 620      222\n",
       "Intel HD Graphics 520      150\n",
       "Intel UHD Graphics 620      58\n",
       "Nvidia GeForce GTX 1050     55\n",
       "Nvidia GeForce 940MX        37\n",
       "                          ... \n",
       "AMD FirePro W6150M           1\n",
       "Nvidia GeForce 960M          1\n",
       "AMD R17M-M1-70               1\n",
       "AMD Radeon R7 M465           1\n",
       "Intel HD Graphics 540        1\n",
       "Name: Gpu, Length: 103, dtype: int64"
      ]
     },
     "execution_count": 71,
     "metadata": {},
     "output_type": "execute_result"
    }
   ],
   "source": [
    "train['Gpu'].value_counts()"
   ]
  },
  {
   "cell_type": "code",
   "execution_count": 72,
   "id": "dc9ec269",
   "metadata": {
    "execution": {
     "iopub.execute_input": "2021-12-08T20:48:53.474333Z",
     "iopub.status.busy": "2021-12-08T20:48:53.471667Z",
     "iopub.status.idle": "2021-12-08T20:48:53.478131Z",
     "shell.execute_reply": "2021-12-08T20:48:53.478669Z",
     "shell.execute_reply.started": "2021-12-08T20:47:28.461004Z"
    },
    "papermill": {
     "duration": 0.135668,
     "end_time": "2021-12-08T20:48:53.478868",
     "exception": false,
     "start_time": "2021-12-08T20:48:53.343200",
     "status": "completed"
    },
    "tags": []
   },
   "outputs": [
    {
     "data": {
      "text/plain": [
       "Intel HD Graphics 620           59\n",
       "Intel HD Graphics 520           35\n",
       "Nvidia GeForce GTX 1050         11\n",
       "Nvidia GeForce GTX 1060         11\n",
       "Intel UHD Graphics 620          10\n",
       "AMD Radeon 530                   9\n",
       "Nvidia GeForce GTX 1050 Ti       8\n",
       "Nvidia GeForce GTX 1070          7\n",
       "Intel HD Graphics 500            6\n",
       "Nvidia GeForce 930MX             6\n",
       "Nvidia GeForce 940MX             6\n",
       "Nvidia GeForce GTX 980M          5\n",
       "Intel HD Graphics 400            5\n",
       "Nvidia GeForce MX150             4\n",
       "Nvidia GeForce GTX 960M          4\n",
       "AMD Radeon R5 M430               4\n",
       "AMD Radeon R5                    4\n",
       "Intel HD Graphics 515            3\n",
       "Nvidia GeForce 920MX             3\n",
       "Intel HD Graphics                3\n",
       "Intel HD Graphics 510            3\n",
       "Intel HD Graphics 6000           3\n",
       "Nvidia GeForce 920MX             2\n",
       "Intel Iris Plus Graphics 640     2\n",
       "Intel HD Graphics 615            2\n",
       "AMD Radeon 520                   2\n",
       "Nvidia GeForce MX130             2\n",
       "Nvidia Quadro M2200M             2\n",
       "AMD Radeon RX 550                2\n",
       "Nvidia GeForce 930MX             2\n",
       "Nvidia GeForce GTX 950M          2\n",
       "Intel Iris Graphics 540          2\n",
       "AMD Radeon R2                    2\n",
       "Nvidia GeForce GTX 965M          2\n",
       "AMD Radeon R7 M445               2\n",
       "Nvidia GeForce 150MX             2\n",
       "Nvidia GeForce GTX 1080          2\n",
       "AMD Radeon R5 M420X              1\n",
       "Intel HD Graphics 405            1\n",
       "Intel HD Graphics 630            1\n",
       "AMD Radeon R5 M315               1\n",
       "AMD Radeon R7 M440               1\n",
       "AMD Radeon R4                    1\n",
       "Intel HD Graphics 620            1\n",
       "Nvidia Quadro M620               1\n",
       "AMD Radeon RX 580                1\n",
       "Nvidia GeForce GTX 940MX         1\n",
       "Nvidia Quadro M1200              1\n",
       "Intel Iris Graphics 550          1\n",
       "Nvidia GeForce 920M              1\n",
       "Nvidia Quadro M1000M             1\n",
       "Nvidia GeForce GTX 1050M         1\n",
       "Nvidia Quadro 3000M              1\n",
       "AMD Radeon R5 M330               1\n",
       "AMD Radeon R4 Graphics           1\n",
       "Intel HD Graphics 5300           1\n",
       "Nvidia GeForce GTX1060           1\n",
       "Nvidia Quadro M3000M             1\n",
       "Intel HD Graphics 505            1\n",
       "Name: Gpu, dtype: int64"
      ]
     },
     "execution_count": 72,
     "metadata": {},
     "output_type": "execute_result"
    }
   ],
   "source": [
    "test['Gpu'].value_counts()"
   ]
  },
  {
   "cell_type": "markdown",
   "id": "6efffc45",
   "metadata": {
    "papermill": {
     "duration": 0.126993,
     "end_time": "2021-12-08T20:48:53.732353",
     "exception": false,
     "start_time": "2021-12-08T20:48:53.605360",
     "status": "completed"
    },
    "tags": []
   },
   "source": [
    "Note that for the Gpu variable, the set of values\n",
    "in the training set and the set of values in the test set \n",
    "are not the same because there are 103 unique values in the \n",
    "training set and 59 unique values in the test set.  We will \n",
    "check that the set of values in the test set is a subset of \n",
    "the set of values in the training set."
   ]
  },
  {
   "cell_type": "code",
   "execution_count": 73,
   "id": "f4b3953d",
   "metadata": {
    "execution": {
     "iopub.execute_input": "2021-12-08T20:48:53.991340Z",
     "iopub.status.busy": "2021-12-08T20:48:53.990663Z",
     "iopub.status.idle": "2021-12-08T20:48:53.995580Z",
     "shell.execute_reply": "2021-12-08T20:48:53.996141Z",
     "shell.execute_reply.started": "2021-12-08T20:47:28.474242Z"
    },
    "papermill": {
     "duration": 0.138326,
     "end_time": "2021-12-08T20:48:53.996338",
     "exception": false,
     "start_time": "2021-12-08T20:48:53.858012",
     "status": "completed"
    },
    "tags": []
   },
   "outputs": [
    {
     "data": {
      "text/plain": [
       "False"
      ]
     },
     "execution_count": 73,
     "metadata": {},
     "output_type": "execute_result"
    }
   ],
   "source": [
    "set(test['Gpu']) <= set(train['Gpu'])"
   ]
  },
  {
   "cell_type": "markdown",
   "id": "528ffd39",
   "metadata": {
    "papermill": {
     "duration": 0.124592,
     "end_time": "2021-12-08T20:48:54.247805",
     "exception": false,
     "start_time": "2021-12-08T20:48:54.123213",
     "status": "completed"
    },
    "tags": []
   },
   "source": [
    "This means that for the Gpu variable, there are values in the test set \n",
    "that are not in the training set."
   ]
  },
  {
   "cell_type": "code",
   "execution_count": 74,
   "id": "06a6c1f5",
   "metadata": {
    "execution": {
     "iopub.execute_input": "2021-12-08T20:48:54.500214Z",
     "iopub.status.busy": "2021-12-08T20:48:54.499544Z",
     "iopub.status.idle": "2021-12-08T20:48:54.507233Z",
     "shell.execute_reply": "2021-12-08T20:48:54.506537Z",
     "shell.execute_reply.started": "2021-12-08T20:47:28.484355Z"
    },
    "papermill": {
     "duration": 0.13562,
     "end_time": "2021-12-08T20:48:54.507396",
     "exception": false,
     "start_time": "2021-12-08T20:48:54.371776",
     "status": "completed"
    },
    "tags": []
   },
   "outputs": [
    {
     "data": {
      "text/plain": [
       "Windows 10      852\n",
       "Linux            56\n",
       "No OS            53\n",
       "Windows 7        35\n",
       "Chrome OS        23\n",
       "macOS             9\n",
       "Windows 10 S      7\n",
       "Mac OS X          5\n",
       "Android           2\n",
       "Name: OpSys, dtype: int64"
      ]
     },
     "execution_count": 74,
     "metadata": {},
     "output_type": "execute_result"
    }
   ],
   "source": [
    "train['OpSys'].value_counts()"
   ]
  },
  {
   "cell_type": "code",
   "execution_count": 75,
   "id": "2d596ceb",
   "metadata": {
    "execution": {
     "iopub.execute_input": "2021-12-08T20:48:54.762146Z",
     "iopub.status.busy": "2021-12-08T20:48:54.761357Z",
     "iopub.status.idle": "2021-12-08T20:48:54.768993Z",
     "shell.execute_reply": "2021-12-08T20:48:54.768408Z",
     "shell.execute_reply.started": "2021-12-08T20:47:28.500141Z"
    },
    "papermill": {
     "duration": 0.134911,
     "end_time": "2021-12-08T20:48:54.769158",
     "exception": false,
     "start_time": "2021-12-08T20:48:54.634247",
     "status": "completed"
    },
    "tags": []
   },
   "outputs": [
    {
     "data": {
      "text/plain": [
       "Windows 10      220\n",
       "No OS            13\n",
       "Windows 7        10\n",
       "Linux             6\n",
       "Chrome OS         4\n",
       "macOS             4\n",
       "Mac OS X          3\n",
       "Windows 10 S      1\n",
       "Name: OpSys, dtype: int64"
      ]
     },
     "execution_count": 75,
     "metadata": {},
     "output_type": "execute_result"
    }
   ],
   "source": [
    "test['OpSys'].value_counts()"
   ]
  },
  {
   "cell_type": "markdown",
   "id": "c615f135",
   "metadata": {
    "papermill": {
     "duration": 0.126133,
     "end_time": "2021-12-08T20:48:55.021960",
     "exception": false,
     "start_time": "2021-12-08T20:48:54.895827",
     "status": "completed"
    },
    "tags": []
   },
   "source": [
    "Note that for the OpSys variable, the set of values\n",
    "in the training set and the set of values in the test set \n",
    "are not the same because there are 9 unique values in the \n",
    "training set and 8 unique values in the test set.  We will \n",
    "check that the set of values in the test set is a subset of \n",
    "the set of values in the training set."
   ]
  },
  {
   "cell_type": "code",
   "execution_count": 76,
   "id": "e5cc0819",
   "metadata": {
    "execution": {
     "iopub.execute_input": "2021-12-08T20:48:55.282919Z",
     "iopub.status.busy": "2021-12-08T20:48:55.281887Z",
     "iopub.status.idle": "2021-12-08T20:48:55.288181Z",
     "shell.execute_reply": "2021-12-08T20:48:55.288812Z",
     "shell.execute_reply.started": "2021-12-08T20:47:28.516246Z"
    },
    "papermill": {
     "duration": 0.140853,
     "end_time": "2021-12-08T20:48:55.289010",
     "exception": false,
     "start_time": "2021-12-08T20:48:55.148157",
     "status": "completed"
    },
    "tags": []
   },
   "outputs": [
    {
     "data": {
      "text/plain": [
       "True"
      ]
     },
     "execution_count": 76,
     "metadata": {},
     "output_type": "execute_result"
    }
   ],
   "source": [
    "set(test['OpSys']) <= set(train['OpSys'])"
   ]
  },
  {
   "cell_type": "markdown",
   "id": "1a409629",
   "metadata": {
    "papermill": {
     "duration": 0.125941,
     "end_time": "2021-12-08T20:48:55.541091",
     "exception": false,
     "start_time": "2021-12-08T20:48:55.415150",
     "status": "completed"
    },
    "tags": []
   },
   "source": [
    "Now, we will look at a correlation matrix between the numeric variables."
   ]
  },
  {
   "cell_type": "code",
   "execution_count": 77,
   "id": "9ea22d8d",
   "metadata": {
    "execution": {
     "iopub.execute_input": "2021-12-08T20:48:55.799950Z",
     "iopub.status.busy": "2021-12-08T20:48:55.798913Z",
     "iopub.status.idle": "2021-12-08T20:48:56.085636Z",
     "shell.execute_reply": "2021-12-08T20:48:56.084964Z",
     "shell.execute_reply.started": "2021-12-08T20:47:28.525546Z"
    },
    "papermill": {
     "duration": 0.419499,
     "end_time": "2021-12-08T20:48:56.085804",
     "exception": false,
     "start_time": "2021-12-08T20:48:55.666305",
     "status": "completed"
    },
    "tags": []
   },
   "outputs": [
    {
     "data": {
      "text/plain": [
       "<AxesSubplot:>"
      ]
     },
     "execution_count": 77,
     "metadata": {},
     "output_type": "execute_result"
    },
    {
     "data": {
      "image/png": "[encoded data removed]",
      "text/plain": [
       "<Figure size 432x288 with 2 Axes>"
      ]
     },
     "metadata": {
      "needs_background": "light"
     },
     "output_type": "display_data"
    }
   ],
   "source": [
    "#correlation matrix\n",
    "corrmat = train.corr()\n",
    "#f, ax = plt.subplots(figsize=(12, 9))\n",
    "sns.heatmap(corrmat, vmax=.8, annot=True, square=True,cmap=\"RdYlGn_r\")"
   ]
  },
  {
   "cell_type": "markdown",
   "id": "83089259",
   "metadata": {
    "papermill": {
     "duration": 0.128534,
     "end_time": "2021-12-08T20:48:56.347287",
     "exception": false,
     "start_time": "2021-12-08T20:48:56.218753",
     "status": "completed"
    },
    "tags": []
   },
   "source": [
    "There is very little correlation between the target variable \n",
    "and the other numeric variables."
   ]
  },
  {
   "cell_type": "markdown",
   "id": "b5a0edcb",
   "metadata": {
    "papermill": {
     "duration": 0.12809,
     "end_time": "2021-12-08T20:48:56.605062",
     "exception": false,
     "start_time": "2021-12-08T20:48:56.476972",
     "status": "completed"
    },
    "tags": []
   },
   "source": [
    "# Step 4: Outlier Detection"
   ]
  },
  {
   "cell_type": "markdown",
   "id": "3e301a72",
   "metadata": {
    "papermill": {
     "duration": 0.125905,
     "end_time": "2021-12-08T20:48:56.857507",
     "exception": false,
     "start_time": "2021-12-08T20:48:56.731602",
     "status": "completed"
    },
    "tags": []
   },
   "source": [
    "Here, we will only be working with the training set.  "
   ]
  },
  {
   "cell_type": "markdown",
   "id": "d631464e",
   "metadata": {
    "papermill": {
     "duration": 0.127893,
     "end_time": "2021-12-08T20:48:57.113597",
     "exception": false,
     "start_time": "2021-12-08T20:48:56.985704",
     "status": "completed"
    },
    "tags": []
   },
   "source": [
    "First, we will look at a univariate box plot of the target variable. "
   ]
  },
  {
   "cell_type": "code",
   "execution_count": 78,
   "id": "36d922aa",
   "metadata": {
    "execution": {
     "iopub.execute_input": "2021-12-08T20:48:57.377194Z",
     "iopub.status.busy": "2021-12-08T20:48:57.375918Z",
     "iopub.status.idle": "2021-12-08T20:48:57.566433Z",
     "shell.execute_reply": "2021-12-08T20:48:57.565725Z",
     "shell.execute_reply.started": "2021-12-08T20:47:28.864470Z"
    },
    "papermill": {
     "duration": 0.325038,
     "end_time": "2021-12-08T20:48:57.566618",
     "exception": false,
     "start_time": "2021-12-08T20:48:57.241580",
     "status": "completed"
    },
    "tags": []
   },
   "outputs": [
    {
     "data": {
      "text/plain": [
       "<AxesSubplot:xlabel='Price_euros'>"
      ]
     },
     "execution_count": 78,
     "metadata": {},
     "output_type": "execute_result"
    },
    {
     "data": {
      "image/png": "[encoded data removed]",
      "text/plain": [
       "<Figure size 432x288 with 1 Axes>"
      ]
     },
     "metadata": {
      "needs_background": "light"
     },
     "output_type": "display_data"
    }
   ],
   "source": [
    "sns.boxplot(x=train['Price_euros'])"
   ]
  },
  {
   "cell_type": "markdown",
   "id": "23e34d02",
   "metadata": {
    "papermill": {
     "duration": 0.125999,
     "end_time": "2021-12-08T20:48:57.821692",
     "exception": false,
     "start_time": "2021-12-08T20:48:57.695693",
     "status": "completed"
    },
    "tags": []
   },
   "source": [
    "There seems to be a big outlier when Price_euros is about 6000.  \n",
    "Let us look at the outlier in more detail."
   ]
  },
  {
   "cell_type": "code",
   "execution_count": 79,
   "id": "f63d26b4",
   "metadata": {
    "execution": {
     "iopub.execute_input": "2021-12-08T20:48:58.092692Z",
     "iopub.status.busy": "2021-12-08T20:48:58.092001Z",
     "iopub.status.idle": "2021-12-08T20:48:58.094666Z",
     "shell.execute_reply": "2021-12-08T20:48:58.095148Z",
     "shell.execute_reply.started": "2021-12-08T20:47:29.057999Z"
    },
    "papermill": {
     "duration": 0.145581,
     "end_time": "2021-12-08T20:48:58.095322",
     "exception": false,
     "start_time": "2021-12-08T20:48:57.949741",
     "status": "completed"
    },
    "tags": []
   },
   "outputs": [
    {
     "data": {
      "text/html": [
       "<div>\n",
       "<style scoped>\n",
       "    .dataframe tbody tr th:only-of-type {\n",
       "        vertical-align: middle;\n",
       "    }\n",
       "\n",
       "    .dataframe tbody tr th {\n",
       "        vertical-align: top;\n",
       "    }\n",
       "\n",
       "    .dataframe thead th {\n",
       "        text-align: right;\n",
       "    }\n",
       "</style>\n",
       "<table border=\"1\" class=\"dataframe\">\n",
       "  <thead>\n",
       "    <tr style=\"text-align: right;\">\n",
       "      <th></th>\n",
       "      <th>Company</th>\n",
       "      <th>Product</th>\n",
       "      <th>TypeName</th>\n",
       "      <th>Inches</th>\n",
       "      <th>ScreenResolution</th>\n",
       "      <th>Cpu</th>\n",
       "      <th>Ram</th>\n",
       "      <th>Memory</th>\n",
       "      <th>Gpu</th>\n",
       "      <th>OpSys</th>\n",
       "      <th>Weight (kg)</th>\n",
       "      <th>Price_euros</th>\n",
       "    </tr>\n",
       "  </thead>\n",
       "  <tbody>\n",
       "    <tr>\n",
       "      <th>196</th>\n",
       "      <td>Razer</td>\n",
       "      <td>Blade Pro</td>\n",
       "      <td>Gaming</td>\n",
       "      <td>17.3</td>\n",
       "      <td>4K Ultra HD / Touchscreen 3840x2160</td>\n",
       "      <td>Intel Core i7 7820HK 2.9GHz</td>\n",
       "      <td>32GB</td>\n",
       "      <td>1TB SSD</td>\n",
       "      <td>Nvidia GeForce GTX 1080</td>\n",
       "      <td>Windows 10</td>\n",
       "      <td>3.49</td>\n",
       "      <td>6099.0</td>\n",
       "    </tr>\n",
       "  </tbody>\n",
       "</table>\n",
       "</div>"
      ],
      "text/plain": [
       "    Company    Product TypeName  Inches                     ScreenResolution  \\\n",
       "196   Razer  Blade Pro   Gaming    17.3  4K Ultra HD / Touchscreen 3840x2160   \n",
       "\n",
       "                             Cpu   Ram   Memory                      Gpu  \\\n",
       "196  Intel Core i7 7820HK 2.9GHz  32GB  1TB SSD  Nvidia GeForce GTX 1080   \n",
       "\n",
       "          OpSys  Weight (kg)  Price_euros  \n",
       "196  Windows 10         3.49       6099.0  "
      ]
     },
     "execution_count": 79,
     "metadata": {},
     "output_type": "execute_result"
    }
   ],
   "source": [
    "train[(train['Price_euros'] > 6000)]"
   ]
  },
  {
   "cell_type": "markdown",
   "id": "a89deed8",
   "metadata": {
    "papermill": {
     "duration": 0.126242,
     "end_time": "2021-12-08T20:48:58.347154",
     "exception": false,
     "start_time": "2021-12-08T20:48:58.220912",
     "status": "completed"
    },
    "tags": []
   },
   "source": [
    "We will remove the outlier."
   ]
  },
  {
   "cell_type": "code",
   "execution_count": 80,
   "id": "64c8bf2b",
   "metadata": {
    "execution": {
     "iopub.execute_input": "2021-12-08T20:48:58.608307Z",
     "iopub.status.busy": "2021-12-08T20:48:58.607589Z",
     "iopub.status.idle": "2021-12-08T20:48:58.610794Z",
     "shell.execute_reply": "2021-12-08T20:48:58.611296Z",
     "shell.execute_reply.started": "2021-12-08T20:47:29.079530Z"
    },
    "papermill": {
     "duration": 0.138349,
     "end_time": "2021-12-08T20:48:58.611526",
     "exception": false,
     "start_time": "2021-12-08T20:48:58.473177",
     "status": "completed"
    },
    "tags": []
   },
   "outputs": [
    {
     "name": "stderr",
     "output_type": "stream",
     "text": [
      "/opt/conda/lib/python3.7/site-packages/pandas/core/frame.py:4913: SettingWithCopyWarning: \n",
      "A value is trying to be set on a copy of a slice from a DataFrame\n",
      "\n",
      "See the caveats in the documentation: https://pandas.pydata.org/pandas-docs/stable/user_guide/indexing.html#returning-a-view-versus-a-copy\n",
      "  errors=errors,\n"
     ]
    }
   ],
   "source": [
    "train.drop(train[(train['Price_euros'] > 6000)].index, inplace=True)"
   ]
  },
  {
   "cell_type": "code",
   "execution_count": 81,
   "id": "52d5214f",
   "metadata": {
    "execution": {
     "iopub.execute_input": "2021-12-08T20:48:58.872073Z",
     "iopub.status.busy": "2021-12-08T20:48:58.871291Z",
     "iopub.status.idle": "2021-12-08T20:48:58.875347Z",
     "shell.execute_reply": "2021-12-08T20:48:58.876205Z",
     "shell.execute_reply.started": "2021-12-08T20:47:29.092566Z"
    },
    "papermill": {
     "duration": 0.136314,
     "end_time": "2021-12-08T20:48:58.876422",
     "exception": false,
     "start_time": "2021-12-08T20:48:58.740108",
     "status": "completed"
    },
    "tags": []
   },
   "outputs": [
    {
     "data": {
      "text/plain": [
       "(1041, 12)"
      ]
     },
     "execution_count": 81,
     "metadata": {},
     "output_type": "execute_result"
    }
   ],
   "source": [
    "train.shape"
   ]
  },
  {
   "cell_type": "code",
   "execution_count": 82,
   "id": "b65fb363",
   "metadata": {
    "execution": {
     "iopub.execute_input": "2021-12-08T20:48:59.145327Z",
     "iopub.status.busy": "2021-12-08T20:48:59.144642Z",
     "iopub.status.idle": "2021-12-08T20:48:59.163759Z",
     "shell.execute_reply": "2021-12-08T20:48:59.164404Z",
     "shell.execute_reply.started": "2021-12-08T20:47:29.103997Z"
    },
    "papermill": {
     "duration": 0.15767,
     "end_time": "2021-12-08T20:48:59.164693",
     "exception": false,
     "start_time": "2021-12-08T20:48:59.007023",
     "status": "completed"
    },
    "tags": []
   },
   "outputs": [
    {
     "data": {
      "text/html": [
       "<div>\n",
       "<style scoped>\n",
       "    .dataframe tbody tr th:only-of-type {\n",
       "        vertical-align: middle;\n",
       "    }\n",
       "\n",
       "    .dataframe tbody tr th {\n",
       "        vertical-align: top;\n",
       "    }\n",
       "\n",
       "    .dataframe thead th {\n",
       "        text-align: right;\n",
       "    }\n",
       "</style>\n",
       "<table border=\"1\" class=\"dataframe\">\n",
       "  <thead>\n",
       "    <tr style=\"text-align: right;\">\n",
       "      <th></th>\n",
       "      <th>Inches</th>\n",
       "      <th>Weight (kg)</th>\n",
       "      <th>Price_euros</th>\n",
       "    </tr>\n",
       "  </thead>\n",
       "  <tbody>\n",
       "    <tr>\n",
       "      <th>count</th>\n",
       "      <td>1041.000000</td>\n",
       "      <td>1041.000000</td>\n",
       "      <td>1041.000000</td>\n",
       "    </tr>\n",
       "    <tr>\n",
       "      <th>mean</th>\n",
       "      <td>15.014025</td>\n",
       "      <td>2.035417</td>\n",
       "      <td>1091.292911</td>\n",
       "    </tr>\n",
       "    <tr>\n",
       "      <th>std</th>\n",
       "      <td>1.417845</td>\n",
       "      <td>0.655662</td>\n",
       "      <td>660.366754</td>\n",
       "    </tr>\n",
       "    <tr>\n",
       "      <th>min</th>\n",
       "      <td>10.100000</td>\n",
       "      <td>0.690000</td>\n",
       "      <td>174.000000</td>\n",
       "    </tr>\n",
       "    <tr>\n",
       "      <th>25%</th>\n",
       "      <td>14.000000</td>\n",
       "      <td>1.500000</td>\n",
       "      <td>589.000000</td>\n",
       "    </tr>\n",
       "    <tr>\n",
       "      <th>50%</th>\n",
       "      <td>15.600000</td>\n",
       "      <td>2.040000</td>\n",
       "      <td>949.000000</td>\n",
       "    </tr>\n",
       "    <tr>\n",
       "      <th>75%</th>\n",
       "      <td>15.600000</td>\n",
       "      <td>2.300000</td>\n",
       "      <td>1449.000000</td>\n",
       "    </tr>\n",
       "    <tr>\n",
       "      <th>max</th>\n",
       "      <td>18.400000</td>\n",
       "      <td>4.700000</td>\n",
       "      <td>4389.000000</td>\n",
       "    </tr>\n",
       "  </tbody>\n",
       "</table>\n",
       "</div>"
      ],
      "text/plain": [
       "            Inches  Weight (kg)  Price_euros\n",
       "count  1041.000000  1041.000000  1041.000000\n",
       "mean     15.014025     2.035417  1091.292911\n",
       "std       1.417845     0.655662   660.366754\n",
       "min      10.100000     0.690000   174.000000\n",
       "25%      14.000000     1.500000   589.000000\n",
       "50%      15.600000     2.040000   949.000000\n",
       "75%      15.600000     2.300000  1449.000000\n",
       "max      18.400000     4.700000  4389.000000"
      ]
     },
     "execution_count": 82,
     "metadata": {},
     "output_type": "execute_result"
    }
   ],
   "source": [
    "train.describe()"
   ]
  },
  {
   "cell_type": "code",
   "execution_count": 83,
   "id": "b1ba92ec",
   "metadata": {
    "execution": {
     "iopub.execute_input": "2021-12-08T20:48:59.433782Z",
     "iopub.status.busy": "2021-12-08T20:48:59.432741Z",
     "iopub.status.idle": "2021-12-08T20:48:59.444881Z",
     "shell.execute_reply": "2021-12-08T20:48:59.445508Z",
     "shell.execute_reply.started": "2021-12-08T20:47:29.137922Z"
    },
    "papermill": {
     "duration": 0.148664,
     "end_time": "2021-12-08T20:48:59.445716",
     "exception": false,
     "start_time": "2021-12-08T20:48:59.297052",
     "status": "completed"
    },
    "tags": []
   },
   "outputs": [
    {
     "data": {
      "text/html": [
       "<div>\n",
       "<style scoped>\n",
       "    .dataframe tbody tr th:only-of-type {\n",
       "        vertical-align: middle;\n",
       "    }\n",
       "\n",
       "    .dataframe tbody tr th {\n",
       "        vertical-align: top;\n",
       "    }\n",
       "\n",
       "    .dataframe thead th {\n",
       "        text-align: right;\n",
       "    }\n",
       "</style>\n",
       "<table border=\"1\" class=\"dataframe\">\n",
       "  <thead>\n",
       "    <tr style=\"text-align: right;\">\n",
       "      <th></th>\n",
       "      <th>Company</th>\n",
       "      <th>Product</th>\n",
       "      <th>TypeName</th>\n",
       "      <th>Inches</th>\n",
       "      <th>ScreenResolution</th>\n",
       "      <th>Cpu</th>\n",
       "      <th>Ram</th>\n",
       "      <th>Memory</th>\n",
       "      <th>Gpu</th>\n",
       "      <th>OpSys</th>\n",
       "      <th>Weight (kg)</th>\n",
       "      <th>Price_euros</th>\n",
       "    </tr>\n",
       "  </thead>\n",
       "  <tbody>\n",
       "  </tbody>\n",
       "</table>\n",
       "</div>"
      ],
      "text/plain": [
       "Empty DataFrame\n",
       "Columns: [Company, Product, TypeName, Inches, ScreenResolution, Cpu, Ram, Memory, Gpu, OpSys, Weight (kg), Price_euros]\n",
       "Index: []"
      ]
     },
     "execution_count": 83,
     "metadata": {},
     "output_type": "execute_result"
    }
   ],
   "source": [
    "train[(train['Price_euros'] > 6000)]"
   ]
  },
  {
   "cell_type": "markdown",
   "id": "1e3aa847",
   "metadata": {
    "papermill": {
     "duration": 0.130555,
     "end_time": "2021-12-08T20:48:59.706596",
     "exception": false,
     "start_time": "2021-12-08T20:48:59.576041",
     "status": "completed"
    },
    "tags": []
   },
   "source": [
    "Now, we will look at the remaining numeric variables.  \n",
    "For univariate analysis, we will use box plots.  \n",
    "For mulitvariate analysis, we will use scatter plots."
   ]
  },
  {
   "cell_type": "code",
   "execution_count": 84,
   "id": "0e3aaad3",
   "metadata": {
    "execution": {
     "iopub.execute_input": "2021-12-08T20:48:59.978411Z",
     "iopub.status.busy": "2021-12-08T20:48:59.977237Z",
     "iopub.status.idle": "2021-12-08T20:49:00.152829Z",
     "shell.execute_reply": "2021-12-08T20:49:00.152226Z",
     "shell.execute_reply.started": "2021-12-08T20:47:29.153276Z"
    },
    "papermill": {
     "duration": 0.31711,
     "end_time": "2021-12-08T20:49:00.153013",
     "exception": false,
     "start_time": "2021-12-08T20:48:59.835903",
     "status": "completed"
    },
    "tags": []
   },
   "outputs": [
    {
     "data": {
      "text/plain": [
       "<AxesSubplot:xlabel='Inches'>"
      ]
     },
     "execution_count": 84,
     "metadata": {},
     "output_type": "execute_result"
    },
    {
     "data": {
      "image/png": "[encoded data removed]",
      "text/plain": [
       "<Figure size 432x288 with 1 Axes>"
      ]
     },
     "metadata": {
      "needs_background": "light"
     },
     "output_type": "display_data"
    }
   ],
   "source": [
    "sns.boxplot(x=train['Inches'])"
   ]
  },
  {
   "cell_type": "code",
   "execution_count": 85,
   "id": "1307c91b",
   "metadata": {
    "execution": {
     "iopub.execute_input": "2021-12-08T20:49:00.499764Z",
     "iopub.status.busy": "2021-12-08T20:49:00.499060Z",
     "iopub.status.idle": "2021-12-08T20:49:00.746797Z",
     "shell.execute_reply": "2021-12-08T20:49:00.746230Z",
     "shell.execute_reply.started": "2021-12-08T20:47:29.343937Z"
    },
    "papermill": {
     "duration": 0.46393,
     "end_time": "2021-12-08T20:49:00.746951",
     "exception": false,
     "start_time": "2021-12-08T20:49:00.283021",
     "status": "completed"
    },
    "tags": []
   },
   "outputs": [
    {
     "data": {
      "text/plain": [
       "<AxesSubplot:xlabel='Inches', ylabel='Price_euros'>"
      ]
     },
     "execution_count": 85,
     "metadata": {},
     "output_type": "execute_result"
    },
    {
     "data": {
      "image/png": "[encoded data removed]",
      "text/plain": [
       "<Figure size 576x432 with 1 Axes>"
      ]
     },
     "metadata": {
      "needs_background": "light"
     },
     "output_type": "display_data"
    }
   ],
   "source": [
    "train.plot.scatter(x='Inches', y='Price_euros', figsize=(8,6))"
   ]
  },
  {
   "cell_type": "code",
   "execution_count": 86,
   "id": "6702ff5f",
   "metadata": {
    "execution": {
     "iopub.execute_input": "2021-12-08T20:49:01.044244Z",
     "iopub.status.busy": "2021-12-08T20:49:01.043581Z",
     "iopub.status.idle": "2021-12-08T20:49:01.234001Z",
     "shell.execute_reply": "2021-12-08T20:49:01.234524Z",
     "shell.execute_reply.started": "2021-12-08T20:47:29.609671Z"
    },
    "papermill": {
     "duration": 0.350625,
     "end_time": "2021-12-08T20:49:01.234700",
     "exception": false,
     "start_time": "2021-12-08T20:49:00.884075",
     "status": "completed"
    },
    "tags": []
   },
   "outputs": [
    {
     "data": {
      "text/plain": [
       "<AxesSubplot:xlabel='Weight (kg)'>"
      ]
     },
     "execution_count": 86,
     "metadata": {},
     "output_type": "execute_result"
    },
    {
     "data": {
      "image/png": "[encoded data removed]",
      "text/plain": [
       "<Figure size 432x288 with 1 Axes>"
      ]
     },
     "metadata": {
      "needs_background": "light"
     },
     "output_type": "display_data"
    }
   ],
   "source": [
    "sns.boxplot(x=train['Weight (kg)'])"
   ]
  },
  {
   "cell_type": "code",
   "execution_count": 87,
   "id": "3a50cdf7",
   "metadata": {
    "execution": {
     "iopub.execute_input": "2021-12-08T20:49:01.499232Z",
     "iopub.status.busy": "2021-12-08T20:49:01.498595Z",
     "iopub.status.idle": "2021-12-08T20:49:01.760606Z",
     "shell.execute_reply": "2021-12-08T20:49:01.759904Z",
     "shell.execute_reply.started": "2021-12-08T20:47:29.817759Z"
    },
    "papermill": {
     "duration": 0.395191,
     "end_time": "2021-12-08T20:49:01.760776",
     "exception": false,
     "start_time": "2021-12-08T20:49:01.365585",
     "status": "completed"
    },
    "tags": []
   },
   "outputs": [
    {
     "data": {
      "text/plain": [
       "<AxesSubplot:xlabel='Weight (kg)', ylabel='Price_euros'>"
      ]
     },
     "execution_count": 87,
     "metadata": {},
     "output_type": "execute_result"
    },
    {
     "data": {
      "image/png": "[encoded data removed]",
      "text/plain": [
       "<Figure size 576x432 with 1 Axes>"
      ]
     },
     "metadata": {
      "needs_background": "light"
     },
     "output_type": "display_data"
    }
   ],
   "source": [
    "train.plot.scatter(x='Weight (kg)', y='Price_euros', figsize=(8,6))"
   ]
  },
  {
   "cell_type": "markdown",
   "id": "ba15abd6",
   "metadata": {
    "papermill": {
     "duration": 0.134421,
     "end_time": "2021-12-08T20:49:02.028909",
     "exception": false,
     "start_time": "2021-12-08T20:49:01.894488",
     "status": "completed"
    },
    "tags": []
   },
   "source": [
    "For the categorical variables, we will use mulitvariate box plots.  "
   ]
  },
  {
   "cell_type": "code",
   "execution_count": 88,
   "id": "245424e0",
   "metadata": {
    "execution": {
     "iopub.execute_input": "2021-12-08T20:49:02.318284Z",
     "iopub.status.busy": "2021-12-08T20:49:02.317222Z",
     "iopub.status.idle": "2021-12-08T20:49:02.857693Z",
     "shell.execute_reply": "2021-12-08T20:49:02.857033Z",
     "shell.execute_reply.started": "2021-12-08T20:47:30.090140Z"
    },
    "papermill": {
     "duration": 0.694217,
     "end_time": "2021-12-08T20:49:02.857835",
     "exception": false,
     "start_time": "2021-12-08T20:49:02.163618",
     "status": "completed"
    },
    "tags": []
   },
   "outputs": [
    {
     "data": {
      "text/plain": [
       "(array([ 0,  1,  2,  3,  4,  5,  6,  7,  8,  9, 10, 11, 12, 13, 14, 15, 16,\n",
       "        17, 18]),\n",
       " [Text(0, 0, 'Dell'),\n",
       "  Text(1, 0, 'Lenovo'),\n",
       "  Text(2, 0, 'HP'),\n",
       "  Text(3, 0, 'Toshiba'),\n",
       "  Text(4, 0, 'Asus'),\n",
       "  Text(5, 0, 'Samsung'),\n",
       "  Text(6, 0, 'Acer'),\n",
       "  Text(7, 0, 'Microsoft'),\n",
       "  Text(8, 0, 'Apple'),\n",
       "  Text(9, 0, 'Vero'),\n",
       "  Text(10, 0, 'MSI'),\n",
       "  Text(11, 0, 'Xiaomi'),\n",
       "  Text(12, 0, 'Chuwi'),\n",
       "  Text(13, 0, 'Google'),\n",
       "  Text(14, 0, 'Mediacom'),\n",
       "  Text(15, 0, 'Huawei'),\n",
       "  Text(16, 0, 'Razer'),\n",
       "  Text(17, 0, 'Fujitsu'),\n",
       "  Text(18, 0, 'LG')])"
      ]
     },
     "execution_count": 88,
     "metadata": {},
     "output_type": "execute_result"
    },
    {
     "data": {
      "image/png": "[encoded data removed]",
      "text/plain": [
       "<Figure size 576x432 with 1 Axes>"
      ]
     },
     "metadata": {
      "needs_background": "light"
     },
     "output_type": "display_data"
    }
   ],
   "source": [
    "f, ax = plt.subplots(figsize=(8, 6))\n",
    "fig = sns.boxplot(x='Company', y='Price_euros', data=train)\n",
    "plt.xticks(rotation=90)"
   ]
  },
  {
   "cell_type": "code",
   "execution_count": 89,
   "id": "6e25d319",
   "metadata": {
    "execution": {
     "iopub.execute_input": "2021-12-08T20:49:03.156500Z",
     "iopub.status.busy": "2021-12-08T20:49:03.150662Z",
     "iopub.status.idle": "2021-12-08T20:49:22.400612Z",
     "shell.execute_reply": "2021-12-08T20:49:22.401147Z",
     "shell.execute_reply.started": "2021-12-08T20:47:30.663089Z"
    },
    "papermill": {
     "duration": 19.410332,
     "end_time": "2021-12-08T20:49:22.401356",
     "exception": false,
     "start_time": "2021-12-08T20:49:02.991024",
     "status": "completed"
    },
    "tags": []
   },
   "outputs": [
    {
     "data": {
      "text/plain": [
       "(array([  0,   1,   2,   3,   4,   5,   6,   7,   8,   9,  10,  11,  12,\n",
       "         13,  14,  15,  16,  17,  18,  19,  20,  21,  22,  23,  24,  25,\n",
       "         26,  27,  28,  29,  30,  31,  32,  33,  34,  35,  36,  37,  38,\n",
       "         39,  40,  41,  42,  43,  44,  45,  46,  47,  48,  49,  50,  51,\n",
       "         52,  53,  54,  55,  56,  57,  58,  59,  60,  61,  62,  63,  64,\n",
       "         65,  66,  67,  68,  69,  70,  71,  72,  73,  74,  75,  76,  77,\n",
       "         78,  79,  80,  81,  82,  83,  84,  85,  86,  87,  88,  89,  90,\n",
       "         91,  92,  93,  94,  95,  96,  97,  98,  99, 100, 101, 102, 103,\n",
       "        104, 105, 106, 107, 108, 109, 110, 111, 112, 113, 114, 115, 116,\n",
       "        117, 118, 119, 120, 121, 122, 123, 124, 125, 126, 127, 128, 129,\n",
       "        130, 131, 132, 133, 134, 135, 136, 137, 138, 139, 140, 141, 142,\n",
       "        143, 144, 145, 146, 147, 148, 149, 150, 151, 152, 153, 154, 155,\n",
       "        156, 157, 158, 159, 160, 161, 162, 163, 164, 165, 166, 167, 168,\n",
       "        169, 170, 171, 172, 173, 174, 175, 176, 177, 178, 179, 180, 181,\n",
       "        182, 183, 184, 185, 186, 187, 188, 189, 190, 191, 192, 193, 194,\n",
       "        195, 196, 197, 198, 199, 200, 201, 202, 203, 204, 205, 206, 207,\n",
       "        208, 209, 210, 211, 212, 213, 214, 215, 216, 217, 218, 219, 220,\n",
       "        221, 222, 223, 224, 225, 226, 227, 228, 229, 230, 231, 232, 233,\n",
       "        234, 235, 236, 237, 238, 239, 240, 241, 242, 243, 244, 245, 246,\n",
       "        247, 248, 249, 250, 251, 252, 253, 254, 255, 256, 257, 258, 259,\n",
       "        260, 261, 262, 263, 264, 265, 266, 267, 268, 269, 270, 271, 272,\n",
       "        273, 274, 275, 276, 277, 278, 279, 280, 281, 282, 283, 284, 285,\n",
       "        286, 287, 288, 289, 290, 291, 292, 293, 294, 295, 296, 297, 298,\n",
       "        299, 300, 301, 302, 303, 304, 305, 306, 307, 308, 309, 310, 311,\n",
       "        312, 313, 314, 315, 316, 317, 318, 319, 320, 321, 322, 323, 324,\n",
       "        325, 326, 327, 328, 329, 330, 331, 332, 333, 334, 335, 336, 337,\n",
       "        338, 339, 340, 341, 342, 343, 344, 345, 346, 347, 348, 349, 350,\n",
       "        351, 352, 353, 354, 355, 356, 357, 358, 359, 360, 361, 362, 363,\n",
       "        364, 365, 366, 367, 368, 369, 370, 371, 372, 373, 374, 375, 376,\n",
       "        377, 378, 379, 380, 381, 382, 383, 384, 385, 386, 387, 388, 389,\n",
       "        390, 391, 392, 393, 394, 395, 396, 397, 398, 399, 400, 401, 402,\n",
       "        403, 404, 405, 406, 407, 408, 409, 410, 411, 412, 413, 414, 415,\n",
       "        416, 417, 418, 419, 420, 421, 422, 423, 424, 425, 426, 427, 428,\n",
       "        429, 430, 431, 432, 433, 434, 435, 436, 437, 438, 439, 440, 441,\n",
       "        442, 443, 444, 445, 446, 447, 448, 449, 450, 451, 452, 453, 454,\n",
       "        455, 456, 457, 458, 459, 460, 461, 462, 463, 464, 465, 466, 467,\n",
       "        468, 469, 470, 471, 472, 473, 474, 475, 476, 477, 478, 479, 480,\n",
       "        481, 482, 483, 484, 485, 486, 487, 488, 489, 490, 491, 492, 493,\n",
       "        494, 495, 496, 497, 498, 499, 500, 501, 502, 503, 504, 505, 506,\n",
       "        507, 508, 509, 510, 511, 512, 513, 514, 515, 516, 517, 518, 519,\n",
       "        520, 521, 522]),\n",
       " [Text(0, 0, 'XPS 13'),\n",
       "  Text(1, 0, 'Inspiron 5578'),\n",
       "  Text(2, 0, 'IdeaPad 320-15IAP'),\n",
       "  Text(3, 0, '255 G6'),\n",
       "  Text(4, 0, 'Portege X30-D-10L'),\n",
       "  Text(5, 0, 'ZenBook UX530UQ-PRO'),\n",
       "  Text(6, 0, 'Probook 470'),\n",
       "  Text(7, 0, 'Spectre Pro'),\n",
       "  Text(8, 0, 'IdeaPad 320-15ABR'),\n",
       "  Text(9, 0, 'Chromebook Plus'),\n",
       "  Text(10, 0, 'IdeaPad 720S-13IKB'),\n",
       "  Text(11, 0, 'ProBook 470'),\n",
       "  Text(12, 0, 'Swift 3'),\n",
       "  Text(13, 0, 'IdeaPad 320-15AST'),\n",
       "  Text(14, 0, 'Surface Laptop'),\n",
       "  Text(15, 0, 'R558UA-DM966T (i5-7200U/8GB/128GB/FHD/W10)'),\n",
       "  Text(16, 0, '250 G6'),\n",
       "  Text(17, 0, 'Inspiron 7567'),\n",
       "  Text(18, 0, 'Inspiron 5570'),\n",
       "  Text(19, 0, 'EliteBook 820'),\n",
       "  Text(20, 0, 'MacBook 12\"'),\n",
       "  Text(21, 0, 'Inspiron 3179'),\n",
       "  Text(22, 0, 'Satellite Pro'),\n",
       "  Text(23, 0, 'IdeaPad 320-15IKBN'),\n",
       "  Text(24, 0, 'V310-15ISK (i3-6006U/4GB/1TB/FHD/W10)'),\n",
       "  Text(25, 0, 'ZBook Studio'),\n",
       "  Text(26, 0, 'Vostro 3568'),\n",
       "  Text(27, 0, 'Inspiron 5567'),\n",
       "  Text(28, 0, 'Thinkpad T470s'),\n",
       "  Text(29, 0, 'Latitude 5480'),\n",
       "  Text(30, 0, 'FX502VM-AS73 (i7-7700HQ/16GB/1TB'),\n",
       "  Text(31, 0, 'IdeaPad 310-15ABR'),\n",
       "  Text(32, 0, 'IdeaPad Y700-15ISK'),\n",
       "  Text(33, 0, 'TravelMate B'),\n",
       "  Text(34, 0, 'IdeaPad 320-17IKB'),\n",
       "  Text(35, 0, 'IdeaPad 320-15IKB'),\n",
       "  Text(36, 0, 'Q534UX-BHI7T19 (i7-7500U/16GB/2TB'),\n",
       "  Text(37, 0, 'Inspiron 3567'),\n",
       "  Text(38, 0, 'MacBook Pro'),\n",
       "  Text(39, 0, 'Rog GL552VW-CN470T'),\n",
       "  Text(40, 0, 'Portege A30-C-1CZ'),\n",
       "  Text(41, 0, 'ThinkPad L470'),\n",
       "  Text(42, 0, 'ZBook 15u'),\n",
       "  Text(43, 0, 'Legion Y520-15IKBN'),\n",
       "  Text(44, 0, 'K147 (N3350/4GB/32GB/FHD/W10)'),\n",
       "  Text(45, 0, 'Envy 13-ad009n'),\n",
       "  Text(46, 0, '17-BS092ND (i3-6006U/8GB/256GB/W10)'),\n",
       "  Text(47, 0, 'Inspiron 5770'),\n",
       "  Text(48, 0, 'ThinkPad T470s'),\n",
       "  Text(49, 0, 'Spectre 13-V111dx'),\n",
       "  Text(50, 0, 'Pavilion x360'),\n",
       "  Text(51, 0, 'Latitude E5570'),\n",
       "  Text(52, 0, 'Inspiron 3552'),\n",
       "  Text(53, 0, 'ThinkPad X270'),\n",
       "  Text(54, 0, 'ProBook 440'),\n",
       "  Text(55, 0, 'ThinkPad T470p'),\n",
       "  Text(56, 0, 'Probook 430'),\n",
       "  Text(57, 0, 'EliteBook 850'),\n",
       "  Text(58, 0, 'IdeaPad 510-15IKB'),\n",
       "  Text(59, 0, 'X505BP-BR019T (A9-9420/4GB/1TB/Radeon'),\n",
       "  Text(60, 0, 'ZenBook Pro'),\n",
       "  Text(61, 0, 'V110-15ISK (i5-6200U/4GB/500GB/W10)'),\n",
       "  Text(62, 0, 'Probook 440'),\n",
       "  Text(63, 0, '15-BS028nv (i3-6006U/4GB/1TB/Radeon'),\n",
       "  Text(64, 0, 'Tecra X40-D-10G'),\n",
       "  Text(65, 0, 'Latitude 5580'),\n",
       "  Text(66, 0, 'C740-C9QX (3205U/2GB/32GB/Chrome'),\n",
       "  Text(67, 0, 'Rog Strix'),\n",
       "  Text(68, 0, 'X553SA-XX031T (N3050/4GB/500GB/W10)'),\n",
       "  Text(69, 0, 'GL72M 7RDX'),\n",
       "  Text(70, 0, 'ThinkPad T570'),\n",
       "  Text(71, 0, 'B51-80 (i5-6200U/8GB/1008GB/Radeon'),\n",
       "  Text(72, 0, 'Elitebook 850'),\n",
       "  Text(73, 0, 'Latitude 7480'),\n",
       "  Text(74, 0, '15-BA015wm (E2-7110/4GB/500GB/W10)'),\n",
       "  Text(75, 0, 'Inspiron 7378'),\n",
       "  Text(76, 0, 'Vostro 5568'),\n",
       "  Text(77, 0, 'Leopard GP72M'),\n",
       "  Text(78, 0, 'ProBook 650'),\n",
       "  Text(79, 0, '14-am079na (N3710/8GB/2TB/W10)'),\n",
       "  Text(80, 0, 'Thinkpad T460'),\n",
       "  Text(81, 0, 'VivoBook E403NA'),\n",
       "  Text(82, 0, 'X541NA-GO414T (N3350/8GB/1TB/W10)'),\n",
       "  Text(83, 0, 'Yoga 500-15ISK'),\n",
       "  Text(84, 0, 'Alienware 17'),\n",
       "  Text(85, 0, 'V330-15IKB (i5-8250U/4GB/500GB/FHD/W10)'),\n",
       "  Text(86, 0, 'ThinkPad Yoga'),\n",
       "  Text(87, 0, 'FX503VM-E4007T (i7-7700HQ/16GB/1TB'),\n",
       "  Text(88, 0, 'Legion Y720-15IKB'),\n",
       "  Text(89, 0, 'Extensa EX2540-58KR'),\n",
       "  Text(90, 0, 'VivoBook E201NA'),\n",
       "  Text(91, 0, 'Mi Notebook'),\n",
       "  Text(92, 0, 'Aspire ES1-572'),\n",
       "  Text(93, 0, 'Inspiron 7570'),\n",
       "  Text(94, 0, 'ZBook 17'),\n",
       "  Text(95, 0, 'V330-15IKB (i5-8250U/8GB/256GB/FHD/W10)'),\n",
       "  Text(96, 0, 'IdeaPad 320-15ISK'),\n",
       "  Text(97, 0, 'ZenBook UX310UA-WB71'),\n",
       "  Text(98, 0, 'X541NA (N3350/4GB/1TB/Linux)'),\n",
       "  Text(99, 0, 'Chromebook 11'),\n",
       "  Text(100, 0, 'Yoga 920-13IKB'),\n",
       "  Text(101, 0, 'ProBook 450'),\n",
       "  Text(102, 0, '15-bs011nv (i7-7500U/4GB/500GB/Radeon'),\n",
       "  Text(103, 0, 'A715-71G-59DH (i5-7300HQ/8GB/1TB/GeForce'),\n",
       "  Text(104, 0, 'Latitude 3480'),\n",
       "  Text(105, 0, 'Thinkpad T460p'),\n",
       "  Text(106, 0, 'Notebook 9'),\n",
       "  Text(107, 0, '15-BS026nv (i5-7200U/8GB/256GB/Radeon'),\n",
       "  Text(108, 0, '15-BW004nv (A9-9420/4GB/256GB/Radeon'),\n",
       "  Text(109, 0, 'ZenBook UX305CA-UBM1'),\n",
       "  Text(110, 0, 'Nitro AN515-51'),\n",
       "  Text(111, 0, 'R417NA-RS01 (N3350/4GB/32GB/W10)'),\n",
       "  Text(112, 0, 'ThinkPad X1'),\n",
       "  Text(113, 0, 'VivoBook S15'),\n",
       "  Text(114, 0, 'Aspire E5-576G'),\n",
       "  Text(115, 0, '15-bw011nv (A6-9220/4GB/1TB/FHD/W10)'),\n",
       "  Text(116, 0, 'Lapbook 15,6'),\n",
       "  Text(117, 0, 'Inspiron 5368'),\n",
       "  Text(118, 0, 'EliteBook x360'),\n",
       "  Text(119, 0, 'Swift SF114-31-P5HY'),\n",
       "  Text(120, 0, 'XPS 15'),\n",
       "  Text(121, 0, 'Thinkpad X270'),\n",
       "  Text(122, 0, 'Zenbook Flip'),\n",
       "  Text(123, 0, 'Inspiron 7577'),\n",
       "  Text(124, 0, 'IdeaPad 320-17IKBR'),\n",
       "  Text(125, 0, 'Pixelbook (Core'),\n",
       "  Text(126, 0, 'EliteBook 840'),\n",
       "  Text(127, 0, 'Inspiron 3576'),\n",
       "  Text(128, 0, 'ThinkPad P40'),\n",
       "  Text(129, 0, 'SmartBook 141'),\n",
       "  Text(130, 0, 'GE63VR 7RE'),\n",
       "  Text(131, 0, 'Inspiron 5379'),\n",
       "  Text(132, 0, 'Tecra A40-C-1KF'),\n",
       "  Text(133, 0, 'Stream 14-AX000nv'),\n",
       "  Text(134, 0, 'Extensa EX2540'),\n",
       "  Text(135, 0, 'Swift 7'),\n",
       "  Text(136, 0, 'X540UA-DM186 (i3-6006U/4GB/1TB/FHD/Linux)'),\n",
       "  Text(137, 0, 'Q524UQ-BHI7T15 (i7-7500U/12GB/2TB/GeForce'),\n",
       "  Text(138, 0, 'Probook 450'),\n",
       "  Text(139, 0, 'Spectre x360'),\n",
       "  Text(140, 0, 'MateBook X'),\n",
       "  Text(141, 0, 'TravelMate B117-M'),\n",
       "  Text(142, 0, 'Rog G752VY-GC229T'),\n",
       "  Text(143, 0, 'Thinkpad Yoga'),\n",
       "  Text(144, 0, 'Vostro 5370'),\n",
       "  Text(145, 0, 'LapBook 15.6\"'),\n",
       "  Text(146, 0, 'Thinkpad E470'),\n",
       "  Text(147, 0, 'Aspire A315-31'),\n",
       "  Text(148, 0, 'Pro P2540UA-XO0198T'),\n",
       "  Text(149, 0, 'Thinkpad P51'),\n",
       "  Text(150, 0, 'IdeaPad 100S-14IBR'),\n",
       "  Text(151, 0, 'Tecra Z50-D-10E'),\n",
       "  Text(152, 0, 'L403NA-GA013TS (N3350/4GB/32GB/W10)'),\n",
       "  Text(153, 0, 'GL72M 7REX'),\n",
       "  Text(154, 0, '17-Y002nv (A10-9600P/6GB/2TB/Radeon'),\n",
       "  Text(155, 0, 'Chromebook C738T-C2EJ'),\n",
       "  Text(156, 0, 'UX410UA-GV097T (i3-7100U/4GB/256GB/FHD/W10)'),\n",
       "  Text(157, 0, '15-bw000nv (E2-9000e/4GB/500GB/Radeon'),\n",
       "  Text(158, 0, '15-bs005nv (i3-6006U/4GB/1TB'),\n",
       "  Text(159, 0, 'ThinkPad L460'),\n",
       "  Text(160, 0, 'Elitebook Folio'),\n",
       "  Text(161, 0, 'Ideapad 320-15IKBR'),\n",
       "  Text(162, 0, 'Inspiron 7579'),\n",
       "  Text(163, 0, 'Aspire 3'),\n",
       "  Text(164, 0, 'Inspiron 7560'),\n",
       "  Text(165, 0, 'ThinkPad T470'),\n",
       "  Text(166, 0, 'Inspiron 5370'),\n",
       "  Text(167, 0, 'Thinkpad X260'),\n",
       "  Text(168, 0, 'Latitude 5590'),\n",
       "  Text(169, 0, 'Latitude 3380'),\n",
       "  Text(170, 0, 'GP62MVR 6RF'),\n",
       "  Text(171, 0, 'IdeaPad 320-17ISK'),\n",
       "  Text(172, 0, 'ProBook 430'),\n",
       "  Text(173, 0, 'GT62VR 7RE'),\n",
       "  Text(174, 0, 'Latitude 7280'),\n",
       "  Text(175, 0, 'VivoBook Pro'),\n",
       "  Text(176, 0, 'ZenBook UX430UA'),\n",
       "  Text(177, 0, 'ProBook 640'),\n",
       "  Text(178, 0, 'IdeaPad 310-15IKB'),\n",
       "  Text(179, 0, 'Thinkpad T470p'),\n",
       "  Text(180, 0, 'Vostro 5468'),\n",
       "  Text(181, 0, 'EliteBook 1040'),\n",
       "  Text(182, 0, 'Yoga 510-15IKB'),\n",
       "  Text(183, 0, 'ROG Strix'),\n",
       "  Text(184, 0, 'E402WA-GA007T (E2-6110/4GB/64GB/W10'),\n",
       "  Text(185, 0, '17-X047na (i3-6006U/8GB/1TB/W10)'),\n",
       "  Text(186, 0, 'Aspire 7'),\n",
       "  Text(187, 0, 'Inspiron 5577'),\n",
       "  Text(188, 0, 'V310-15IKB (i5-7200U/4GB/1TB/FHD/W10)'),\n",
       "  Text(189, 0, 'Aspire R7'),\n",
       "  Text(190, 0, 'V310-15ISK (i3-6006U/4GB/500GB/No'),\n",
       "  Text(191, 0, 'IdeaPad 110-15IBR'),\n",
       "  Text(192, 0, 'Tecra A50-C-1ZV'),\n",
       "  Text(193, 0, '15-bs023nv (i3-6006U/4GB/1TB/FHD/W10)'),\n",
       "  Text(194, 0, 'GP72MVR 7RFX'),\n",
       "  Text(195, 0, 'Spin 5'),\n",
       "  Text(196, 0, 'ThinkPad E480'),\n",
       "  Text(197, 0, 'Inspiron 5579'),\n",
       "  Text(198, 0, 'Thinkpad T460s'),\n",
       "  Text(199, 0, 'Aspire A315-51'),\n",
       "  Text(200, 0, 'Portege Z30-C-16L'),\n",
       "  Text(201, 0, 'Pavilion 15-cb003nv'),\n",
       "  Text(202, 0, 'Thinkpad P51s'),\n",
       "  Text(203, 0, 'IdeaPad 520S-14IKB'),\n",
       "  Text(204, 0, 'Spectre X360'),\n",
       "  Text(205, 0, 'Tecra A50-D-11M'),\n",
       "  Text(206, 0, 'ThinkPad 13'),\n",
       "  Text(207, 0, 'Latitude E5270'),\n",
       "  Text(208, 0, '15-bs025nv (i5-7200U/8GB/256GB/W10)'),\n",
       "  Text(209, 0, 'ZenBook Flip'),\n",
       "  Text(210, 0, 'Aspire ES1-531'),\n",
       "  Text(211, 0, 'X705UV-BX074T (i3-6006U/4GB/1TB/GeForce'),\n",
       "  Text(212, 0, 'FX753VD-GC007T (i7-7700HQ/8GB/1TB'),\n",
       "  Text(213, 0, 'Pavilion 14-BK001nv'),\n",
       "  Text(214, 0, 'Pro P2540UA-XS51'),\n",
       "  Text(215, 0, 'ThinkPad E570'),\n",
       "  Text(216, 0, 'Rog GL753VD-GC082T'),\n",
       "  Text(217, 0, 'Vivobook E200HA'),\n",
       "  Text(218, 0, 'F756UX-T4201D (i7-7500U/8GB/128GB'),\n",
       "  Text(219, 0, 'Yoga Book'),\n",
       "  Text(220, 0, 'Rog GL702VS-GC095T'),\n",
       "  Text(221, 0, 'Ideapad 320-15IAP'),\n",
       "  Text(222, 0, 'LapBook 12.3'),\n",
       "  Text(223, 0, 'Probook 650'),\n",
       "  Text(224, 0, 'V310-15ISK (i5-7200U/4GB/1TB/FHD/W10)'),\n",
       "  Text(225, 0, 'FX550IK-DM018T (FX-9830P/8GB/1TB/Radeon'),\n",
       "  Text(226, 0, 'Omen 17-w212nv'),\n",
       "  Text(227, 0, 'GT73EVR 7RE'),\n",
       "  Text(228, 0, '15-BW037na (A9-9420/4GB/1TB/Radeon'),\n",
       "  Text(229, 0, 'GL553VE-FY082T (i7-7700HQ/8GB/1TB'),\n",
       "  Text(230, 0, '250 G4'),\n",
       "  Text(231, 0, 'ThinkPad P51'),\n",
       "  Text(232, 0, 'B51-80 (i7-6500U/8GB/1008GB/Radeon'),\n",
       "  Text(233, 0, '15-AC110nv (i7-6500U/6GB/1TB/Radeon'),\n",
       "  Text(234, 0, 'X542UQ-GO005 (i5-7200U/8GB/1TB/GeForce'),\n",
       "  Text(235, 0, 'Aspire E5-575'),\n",
       "  Text(236, 0, 'Flex 5'),\n",
       "  Text(237, 0, 'VivoBook E12'),\n",
       "  Text(238, 0, 'SP315-51 (i7-7500U/12GB/1TB/FHD/W10)'),\n",
       "  Text(239, 0, 'V330-15IKB (i3-7130U/4GB/128GB/FHD/W10)'),\n",
       "  Text(240, 0, 'Aspire 5'),\n",
       "  Text(241, 0, 'Rog GL702VM-GC017T'),\n",
       "  Text(242, 0, 'Ideapad 700-15ISK'),\n",
       "  Text(243, 0, 'Yoga 910-13IKB'),\n",
       "  Text(244, 0, 'UX510UX-CN269T (i7-7500U/8GB/256GB'),\n",
       "  Text(245, 0, 'Tecra X40-D-10H'),\n",
       "  Text(246, 0, 'FX553VD-DM627T (i5-7300HQ/8GB/1TB'),\n",
       "  Text(247, 0, 'Lenovo IdeaPad'),\n",
       "  Text(248, 0, 'Portege Z30-C-1CV'),\n",
       "  Text(249, 0, 'ZenBook 3'),\n",
       "  Text(250, 0, 'Ideapad 520-15IKBR'),\n",
       "  Text(251, 0, 'Chromebook CB5-571-C1DZ'),\n",
       "  Text(252, 0, 'Pro P2540UA-AB51'),\n",
       "  Text(253, 0, 'VivoBook Max'),\n",
       "  Text(254, 0, 'GT80S 6QF-074US'),\n",
       "  Text(255, 0, 'Rog GL753VE-DS74'),\n",
       "  Text(256, 0, 'IdeaPad Y900-17ISK'),\n",
       "  Text(257, 0, 'IdeaPad 120S-14IAP'),\n",
       "  Text(258, 0, 'Envy x360'),\n",
       "  Text(259, 0, 'GP72VR Leopard'),\n",
       "  Text(260, 0, 'Precision 3520'),\n",
       "  Text(261, 0, 'Portégé Z30-C-188'),\n",
       "  Text(262, 0, 'Tecra A50-C-218'),\n",
       "  Text(263, 0, 'GS73VR Stealth'),\n",
       "  Text(264, 0, 'X541NA (N4200/4GB/1TB/W10)'),\n",
       "  Text(265, 0, 'ES1-523-84K7 (A8-7410/8GB/256GB/FHD/W10)'),\n",
       "  Text(266, 0, 'Aspire A515-51G-37JS'),\n",
       "  Text(267, 0, 'Chromebook 15'),\n",
       "  Text(268, 0, 'Aspire A515-51G-32MX'),\n",
       "  Text(269, 0, 'Stream 14-AX001nv'),\n",
       "  Text(270, 0, 'ThinkPad E580'),\n",
       "  Text(271, 0, 'Thinkpad X1'),\n",
       "  Text(272, 0, 'Pro P2540UA-XO0192R'),\n",
       "  Text(273, 0, 'TravelMate P259-G2'),\n",
       "  Text(274, 0, 'SP714-51 (i7-7Y75/8GB/256GB/FHD/W10)'),\n",
       "  Text(275, 0, 'Notebook Odyssey'),\n",
       "  Text(276, 0, 'V310-15ISK (i5-7200U/8GB/1TB'),\n",
       "  Text(277, 0, 'Aspire A515-51G-59QF'),\n",
       "  Text(278, 0, 'Thinkpad T470'),\n",
       "  Text(279, 0, 'X751NV-TY001 (N4200/4GB/1TB/GeForce'),\n",
       "  Text(280, 0, 'Latitude E7470'),\n",
       "  Text(281, 0, '17-bs001nv (i5-7200U/6GB/2TB/Radeon'),\n",
       "  Text(282, 0, 'Chromebook X360'),\n",
       "  Text(283, 0, 'ROG G703VI-E5062T'),\n",
       "  Text(284, 0, 'ENVY -'),\n",
       "  Text(285, 0, '17-ak002nv (A10-9620P/6GB/2TB/Radeon'),\n",
       "  Text(286, 0, 'Spin 3'),\n",
       "  Text(287, 0, '15-BS103nv (i5-8250U/6GB/256GB/Radeon'),\n",
       "  Text(288, 0, 'IdeaPad 110-15ISK'),\n",
       "  Text(289, 0, 'SmartBook 140'),\n",
       "  Text(290, 0, 'GS63VR 7RF'),\n",
       "  Text(291, 0, 'Inspiron 5378'),\n",
       "  Text(292, 0, 'V310-15IKB (i5-7200U/8GB/1TB'),\n",
       "  Text(293, 0, 'IdeaPad 300-17ISK'),\n",
       "  Text(294, 0, '15-bs017nv (i7-7500U/8GB/256GB/Radeon'),\n",
       "  Text(295, 0, 'FX553VD-FY647T (i7-7700HQ/8GB/256GB/GeForce'),\n",
       "  Text(296, 0, 'L502NA-GO052T (N3350/4GB/128GB/W10)'),\n",
       "  Text(297, 0, 'Rog GL753VE-GC070T'),\n",
       "  Text(298, 0, 'V110-15ISK (i3-6006U/4GB/1TB/Radeon'),\n",
       "  Text(299, 0, 'IdeaPad 500-15ISK'),\n",
       "  Text(300, 0, 'GS70 Stealth'),\n",
       "  Text(301, 0, 'Alienware 15'),\n",
       "  Text(302, 0, 'Tecra Z50-C-140'),\n",
       "  Text(303, 0, 'Elitebook 820'),\n",
       "  Text(304, 0, 'Aspire A515-51G'),\n",
       "  Text(305, 0, 'Aspire 1'),\n",
       "  Text(306, 0, 'Tecra A50-C-21G'),\n",
       "  Text(307, 0, 'Thinkpad T560'),\n",
       "  Text(308, 0, 'Omen 15-ce006nv'),\n",
       "  Text(309, 0, 'Latitude 5490'),\n",
       "  Text(310, 0, 'GT80S 6QE'),\n",
       "  Text(311, 0, '15-bs190od (i5-8250U/4GB/1TB/W10)'),\n",
       "  Text(312, 0, 'Zenbook 3'),\n",
       "  Text(313, 0, '15-bw003nv (A9-Series-9420/4GB/256GB/FHD/W10)'),\n",
       "  Text(314, 0, 'Inspiron 7773'),\n",
       "  Text(315, 0, 'GE73VR 7RF'),\n",
       "  Text(316, 0, 'FX753VD-GC461T (i7-7700HQ/16GB/1TB'),\n",
       "  Text(317, 0, 'Aspire ES1-523'),\n",
       "  Text(318, 0, 'Chromebook 14'),\n",
       "  Text(319, 0, 'Omen 17-w207nv'),\n",
       "  Text(320, 0, 'Stream 11-Y000na'),\n",
       "  Text(321, 0, 'V131 (X5-Z8350/4GB/32GB/FHD/W10)'),\n",
       "  Text(322, 0, 'Smartbook 142'),\n",
       "  Text(323, 0, 'Elitebook 840'),\n",
       "  Text(324, 0, 'ThinkPad L570'),\n",
       "  Text(325, 0, 'Aspire E5-475'),\n",
       "  Text(326, 0, 'IdeaPad 520s-14IKB'),\n",
       "  Text(327, 0, 'Latitude 3570'),\n",
       "  Text(328, 0, '15-bw007nv (A10-9620P/6GB/128GB/Radeon'),\n",
       "  Text(329, 0, '17-bs000nv I3'),\n",
       "  Text(330, 0, 'Precision M5520'),\n",
       "  Text(331, 0, 'FX753VE-GC155T (i7-7700HQ/16GB/1TB'),\n",
       "  Text(332, 0, 'UX430UQ-GV209R (i7-7500U/8GB/256GB/GeForce'),\n",
       "  Text(333, 0, 'Aspire F5-573G'),\n",
       "  Text(334, 0, 'Rog G752VL-GC088D'),\n",
       "  Text(335, 0, 'Yoga 900S-12ISK'),\n",
       "  Text(336, 0, 'Latitude E5470'),\n",
       "  Text(337, 0, 'ThinkPad P51s'),\n",
       "  Text(338, 0, 'Inspiron 5767'),\n",
       "  Text(339, 0, '15-bs015dx (i5-7200U/8GB/1TB/W10)'),\n",
       "  Text(340, 0, 'Yoga 500-14ISK'),\n",
       "  Text(341, 0, 'GT72S Dominator'),\n",
       "  Text(342, 0, 'Rog GL553VE-DS74'),\n",
       "  Text(343, 0, '15-AY023na (N3710/8GB/2TB/W10)'),\n",
       "  Text(344, 0, 'ZBook 15'),\n",
       "  Text(345, 0, 'MacBook Air'),\n",
       "  Text(346, 0, 'Rog GL702VS-BA023T'),\n",
       "  Text(347, 0, 'Aspire A517-51G'),\n",
       "  Text(348, 0, 'GV62M 7RD'),\n",
       "  Text(349, 0, '15-BS078nr (i7-7500U/8GB/1TB/W10)'),\n",
       "  Text(350, 0, '17-BS037cl (i3-6006U/8GB/1TB/W10)'),\n",
       "  Text(351, 0, 'Portege Z30T-C-133'),\n",
       "  Text(352, 0, '15-bs078cl (i7-7500U/8GB/2TB/W10)'),\n",
       "  Text(353, 0, 'EliteBook 1030'),\n",
       "  Text(354, 0, 'X541NA-GO020T (N3350/4GB/1TB/W10)'),\n",
       "  Text(355, 0, 'Portege X30-D-10V'),\n",
       "  Text(356, 0, 'Aspire ES1-533'),\n",
       "  Text(357, 0, 'K756UX-T4340T (i5-7200U/8GB/500GB'),\n",
       "  Text(358, 0, 'ROG GL553VE-FY022'),\n",
       "  Text(359, 0, 'Elitebook 1040'),\n",
       "  Text(360, 0, 'Blade Stealth'),\n",
       "  Text(361, 0, 'Laptop MSI'),\n",
       "  Text(362, 0, 'UX410UA-GV350T (i5-8250U/8GB/256GB/FHD/W10)'),\n",
       "  Text(363, 0, 'Latitude E7270'),\n",
       "  Text(364, 0, 'X555QG-DM242T (A10-9620P/4GB/1TB'),\n",
       "  Text(365, 0, 'ROG G701VI'),\n",
       "  Text(366, 0, 'Predator G9-793'),\n",
       "  Text(367, 0, 'Zenbook UX510UW-FI095T'),\n",
       "  Text(368, 0, 'IdeaPad Y910-17ISK'),\n",
       "  Text(369, 0, 'Omen 17-an012dx'),\n",
       "  Text(370, 0, 'Yoga 720-15IKB'),\n",
       "  Text(371, 0, '250 G5'),\n",
       "  Text(372, 0, 'GE72MVR 7RG'),\n",
       "  Text(373, 0, 'Pavilion X360'),\n",
       "  Text(374, 0, 'Yoga 11e'),\n",
       "  Text(375, 0, 'Rog GL502VM-DS74'),\n",
       "  Text(376, 0, 'FX753VD-GC086T (i5-7300HQ/8GB/1TB'),\n",
       "  Text(377, 0, 'Noteb Pav'),\n",
       "  Text(378, 0, 'Macbook Air'),\n",
       "  Text(379, 0, 'K556UR-DM621T (i7-7500U/8GB/256GB/GeForce'),\n",
       "  Text(380, 0, 'X556UJ-XO044T (i7-6500U/4GB/500GB/GeForce'),\n",
       "  Text(381, 0, 'Zbook 15'),\n",
       "  Text(382, 0, 'GE73VR 7RE'),\n",
       "  Text(383, 0, 'Envy 13-AB020nr'),\n",
       "  Text(384, 0, 'GS40 Phantom'),\n",
       "  Text(385, 0, 'Yoga 500-14IBD'),\n",
       "  Text(386, 0, '15-bs002nv (i3-6006U/4GB/128GB/FHD/W10)'),\n",
       "  Text(387, 0, '15-cd005nv (A9-9420/6GB/256GB/Radeon'),\n",
       "  Text(388, 0, 'Latitude 7390'),\n",
       "  Text(389, 0, 'Omen 17-an006nv'),\n",
       "  Text(390, 0, 'Blade Pro'),\n",
       "  Text(391, 0, 'Thinkpad P50'),\n",
       "  Text(392, 0, 'ZenBook UX310UQ-GL026T'),\n",
       "  Text(393, 0, 'Chromebook N23'),\n",
       "  Text(394, 0, 'Portege Z30-C-16J'),\n",
       "  Text(395, 0, 'Aspire VX5-591G'),\n",
       "  Text(396, 0, 'N42-20 Chromebook'),\n",
       "  Text(397, 0, 'ThinkPad T460s'),\n",
       "  Text(398, 0, 'Rog G752VS-BA171T'),\n",
       "  Text(399, 0, 'VivoBook S14'),\n",
       "  Text(400, 0, 'Chromebook C202SA'),\n",
       "  Text(401, 0, 'IdeaPad Y700-15ACZ'),\n",
       "  Text(402, 0, 'Latitude 3580'),\n",
       "  Text(403, 0, 'X541UA-DM1897 (i3-6006U/4GB/256GB/FHD/Linux)'),\n",
       "  Text(404, 0, 'PL60 7RD'),\n",
       "  Text(405, 0, 'Thinkpad E570'),\n",
       "  Text(406, 0, 'GL62M 7RD'),\n",
       "  Text(407, 0, 'Thinkpad P71'),\n",
       "  Text(408, 0, 'GL62M (i5-7300HQ/8GB/1TB'),\n",
       "  Text(409, 0, 'Thinkpad 13'),\n",
       "  Text(410, 0, 'Pavilion Power'),\n",
       "  Text(411, 0, 'GT62VR 6RD'),\n",
       "  Text(412, 0, 'V110-15ISK (i3-6006U/4GB/500GB/W10)'),\n",
       "  Text(413, 0, 'Omen 17-AN010nv'),\n",
       "  Text(414, 0, 'X751SV-TY001T (N3710/4GB/1TB/GeForce'),\n",
       "  Text(415, 0, 'VivoBook Flip'),\n",
       "  Text(416, 0, 'ThinkPad T460'),\n",
       "  Text(417, 0, 'V110-15ISK (i3-6006U/4GB/128GB/W10)'),\n",
       "  Text(418, 0, 'IdeaPad 510s-14IKB'),\n",
       "  Text(419, 0, 'ROG Zephyrus'),\n",
       "  Text(420, 0, 'GL62M 7REX'),\n",
       "  Text(421, 0, 'Probook 640'),\n",
       "  Text(422, 0, '15-BW091ND (A9-9420/6GB/1TB'),\n",
       "  Text(423, 0, 'Tecra Z40-C-136'),\n",
       "  Text(424, 0, 'Inspiron 3168'),\n",
       "  Text(425, 0, 'X541NA (N3350/4GB/1TB/FHD/W10)'),\n",
       "  Text(426, 0, 'X555BP-XX180T (A9-9420/4GB/1TB/Radeon'),\n",
       "  Text(427, 0, 'N23 (N3060/4GB/128GB/W10)'),\n",
       "  Text(428, 0, 'Portege Z30-C-1CW'),\n",
       "  Text(429, 0, 'Chromebook 13'),\n",
       "  Text(430, 0, 'Q304UA-BHI5T11 (i5-7200U/6GB/1TB/FHD/W10)'),\n",
       "  Text(431, 0, 'Tecra Z50-C-144'),\n",
       "  Text(432, 0, 'Ideapad 310-15ISK'),\n",
       "  Text(433, 0, 'Aspire E5-774G'),\n",
       "  Text(434, 0, 'Thinkpad T570'),\n",
       "  Text(435, 0, 'TravelMate P238-M'),\n",
       "  Text(436, 0, 'SmartBook 130'),\n",
       "  Text(437, 0, 'FX753VE-GC093 (i7-7700HQ/12GB/1TB/GeForce'),\n",
       "  Text(438, 0, 'Yoga 520-14IKB'),\n",
       "  Text(439, 0, 'EliteBook Folio'),\n",
       "  Text(440, 0, 'Envy 13-AB002nv'),\n",
       "  Text(441, 0, 'IdeaPad 310-15ISK'),\n",
       "  Text(442, 0, 'Latitude 3180'),\n",
       "  Text(443, 0, 'V110-15IAP (N3350/4GB/1TB/No'),\n",
       "  Text(444, 0, 'Chromebook C910-C2ST'),\n",
       "  Text(445, 0, 'Inspiron 7559'),\n",
       "  Text(446, 0, 'FlexBook Edge'),\n",
       "  Text(447, 0, 'X541NA-GO121 (N4200/4GB/1TB/Linux)'),\n",
       "  Text(448, 0, 'Predator 17'),\n",
       "  Text(449, 0, 'Precision 7720'),\n",
       "  Text(450, 0, '15-ba043na (A12-9700P/8GB/2TB/W10)'),\n",
       "  Text(451, 0, 'V310-15ISK (i5-6200U/4GB/1TB/FHD/No'),\n",
       "  Text(452, 0, 'Tecra X40-D-10Z'),\n",
       "  Text(453, 0, '15-ay047nv (i3-6006U/6GB/1TB/Radeon'),\n",
       "  Text(454, 0, 'LifeBook A557'),\n",
       "  Text(455, 0, '15-bs018nq (i3-6006U/4GB/500GB/FHD/No'),\n",
       "  Text(456, 0, 'GS60 Ghost'),\n",
       "  Text(457, 0, 'Spectre 13-V100nv'),\n",
       "  Text(458, 0, '15-bs053od (i7-7500U/6GB/1TB/W10)'),\n",
       "  Text(459, 0, 'Stream 14-AX040wm'),\n",
       "  Text(460, 0, '15-BS101nv (i7-8550U/8GB/256GB/FHD/W10)'),\n",
       "  Text(461, 0, 'V310-15IKB (i7-7500U/4GB/1TB/FHD/W10)'),\n",
       "  Text(462, 0, 'GS63VR 7RG'),\n",
       "  Text(463, 0, 'GP62M 7RDX'),\n",
       "  Text(464, 0, 'IdeaPad 110-17ACL'),\n",
       "  Text(465, 0, 'Latitude 5289'),\n",
       "  Text(466, 0, 'Inspiron 5568'),\n",
       "  Text(467, 0, 'Envy 13-AD007nv'),\n",
       "  Text(468, 0, 'Zbook 17'),\n",
       "  Text(469, 0, 'Portege Z30-C-16H'),\n",
       "  Text(470, 0, '15-bs024nv (i5-7200U/8GB/128GB/W10)'),\n",
       "  Text(471, 0, 'Thinkpad L560'),\n",
       "  Text(472, 0, 'Aspire A715-71G'),\n",
       "  Text(473, 0, 'Zenbook UX430UA'),\n",
       "  Text(474, 0, 'Omen 15-AX205na'),\n",
       "  Text(475, 0, 'B51-80 (i5-6200U/8GB/1TB/Radeon'),\n",
       "  Text(476, 0, '17-ak001nv (A6-9220/4GB/500GB/Radeon'),\n",
       "  Text(477, 0, 'Tecra A50-D-11D'),\n",
       "  Text(478, 0, 'Pavilion 15-CK000nv'),\n",
       "  Text(479, 0, 'Tecra Z40-C-161'),\n",
       "  Text(480, 0, 'X553SA-XX021T (N3050/4GB/500GB/W10)'),\n",
       "  Text(481, 0, 'V320-17ISK (i3-6006U/4GB/500GB/FHD/No'),\n",
       "  Text(482, 0, 'X541UV-DM1439T (i3-7100U/6GB/256GB/GeForce'),\n",
       "  Text(483, 0, '15-bw009nv (A12-9720P/6GB/1TB/Radeon'),\n",
       "  Text(484, 0, 'A541NA-GO342 (N3350/4GB/500GB/Linux)'),\n",
       "  Text(485, 0, 'IdeaPad 720S-14IKB'),\n",
       "  Text(486, 0, 'V110-15ISK (i5-6200U/4GB/128GB/W10)'),\n",
       "  Text(487, 0, 'GE72VR 6RF'),\n",
       "  Text(488, 0, 'Tecra A40-C-1DF'),\n",
       "  Text(489, 0, 'Precision 3510'),\n",
       "  Text(490, 0, '15-BW094nd (A6-9220/8GB/128GB/W10)'),\n",
       "  Text(491, 0, 'Rog GL752VW-T4308T'),\n",
       "  Text(492, 0, 'Spin SP111-31'),\n",
       "  Text(493, 0, 'Gram 14Z970'),\n",
       "  Text(494, 0, 'K146 (N3350/4GB/32GB/W10)'),\n",
       "  Text(495, 0, '320-15ISK (i3-6006U/4GB/1TB/GeForce'),\n",
       "  Text(496, 0, 'FX502VM-DM105T (i7-6700HQ/8GB/1TB/GeForce'),\n",
       "  Text(497, 0, 'TMX349-G2-M-50FS (i5-7200U/8GB/256GB/FHD/W10)'),\n",
       "  Text(498, 0, '15-bw002nv (A6-9220/4GB/256GB/Radeon'),\n",
       "  Text(499, 0, 'Ideapad 320-15ISK'),\n",
       "  Text(500, 0, 'GE72 Apache'),\n",
       "  Text(501, 0, 'Chromebook 3'),\n",
       "  Text(502, 0, 'Vivobook Max'),\n",
       "  Text(503, 0, 'FX753VD-GC071T (i7-7700HQ/8GB/1TB/GeForce'),\n",
       "  Text(504, 0, 'Envy 17-U275cl'),\n",
       "  Text(505, 0, 'Chromebook C731-C78G'),\n",
       "  Text(506, 0, 'Pavilion 15-AW003nv'),\n",
       "  Text(507, 0, 'ROG G701VO'),\n",
       "  Text(508, 0, 'Precision 5520'),\n",
       "  Text(509, 0, '15-cb003na (i5-7300HQ/8GB/1TB'),\n",
       "  Text(510, 0, 'GT72VR Dominator'),\n",
       "  Text(511, 0, 'Rog G752VT-GC073T'),\n",
       "  Text(512, 0, 'VivoBook L402NA'),\n",
       "  Text(513, 0, 'GP62 7RDX'),\n",
       "  Text(514, 0, 'VivoBook X540YA-XX519T'),\n",
       "  Text(515, 0, 'Chromebook Flip'),\n",
       "  Text(516, 0, 'X542UQ-DM117 (i3-7100U/8GB/1TB/GeForce'),\n",
       "  Text(517, 0, 'Omen 15-ce007nv'),\n",
       "  Text(518, 0, 'GV62 7RD-1686NL'),\n",
       "  Text(519, 0, 'Yoga 900-13ISK'),\n",
       "  Text(520, 0, 'Zenbook UX330UA-AH5Q'),\n",
       "  Text(521, 0, 'E5 774G'),\n",
       "  Text(522, 0, 'Yoga 730')])"
      ]
     },
     "execution_count": 89,
     "metadata": {},
     "output_type": "execute_result"
    },
    {
     "data": {
      "image/png": "[encoded data removed]",
      "text/plain": [
       "<Figure size 720x720 with 1 Axes>"
      ]
     },
     "metadata": {
      "needs_background": "light"
     },
     "output_type": "display_data"
    }
   ],
   "source": [
    "f, ax = plt.subplots(figsize=(10, 10))\n",
    "fig = sns.boxplot(x='Product', y='Price_euros', data=train)\n",
    "plt.xticks(rotation=90)"
   ]
  },
  {
   "cell_type": "code",
   "execution_count": 90,
   "id": "42254742",
   "metadata": {
    "execution": {
     "iopub.execute_input": "2021-12-08T20:49:22.706764Z",
     "iopub.status.busy": "2021-12-08T20:49:22.705560Z",
     "iopub.status.idle": "2021-12-08T20:49:23.033995Z",
     "shell.execute_reply": "2021-12-08T20:49:23.033411Z",
     "shell.execute_reply.started": "2021-12-08T20:47:49.760083Z"
    },
    "papermill": {
     "duration": 0.487175,
     "end_time": "2021-12-08T20:49:23.034165",
     "exception": false,
     "start_time": "2021-12-08T20:49:22.546990",
     "status": "completed"
    },
    "tags": []
   },
   "outputs": [
    {
     "data": {
      "text/plain": [
       "(array([0, 1, 2, 3, 4, 5]),\n",
       " [Text(0, 0, '2 in 1 Convertible'),\n",
       "  Text(1, 0, 'Notebook'),\n",
       "  Text(2, 0, 'Ultrabook'),\n",
       "  Text(3, 0, 'Gaming'),\n",
       "  Text(4, 0, 'Netbook'),\n",
       "  Text(5, 0, 'Workstation')])"
      ]
     },
     "execution_count": 90,
     "metadata": {},
     "output_type": "execute_result"
    },
    {
     "data": {
      "image/png": "[encoded data removed]",
      "text/plain": [
       "<Figure size 576x432 with 1 Axes>"
      ]
     },
     "metadata": {
      "needs_background": "light"
     },
     "output_type": "display_data"
    }
   ],
   "source": [
    "f, ax = plt.subplots(figsize=(8, 6))\n",
    "fig = sns.boxplot(x='TypeName', y='Price_euros', data=train)\n",
    "plt.xticks(rotation=90)"
   ]
  },
  {
   "cell_type": "code",
   "execution_count": 91,
   "id": "1c559862",
   "metadata": {
    "execution": {
     "iopub.execute_input": "2021-12-08T20:49:23.336100Z",
     "iopub.status.busy": "2021-12-08T20:49:23.335307Z",
     "iopub.status.idle": "2021-12-08T20:49:23.881137Z",
     "shell.execute_reply": "2021-12-08T20:49:23.880487Z",
     "shell.execute_reply.started": "2021-12-08T20:37:21.388626Z"
    },
    "papermill": {
     "duration": 0.699121,
     "end_time": "2021-12-08T20:49:23.881298",
     "exception": false,
     "start_time": "2021-12-08T20:49:23.182177",
     "status": "completed"
    },
    "tags": []
   },
   "outputs": [
    {
     "data": {
      "text/plain": [
       "(array([ 0,  1,  2,  3,  4,  5,  6,  7,  8,  9, 10, 11, 12, 13, 14, 15, 16,\n",
       "        17, 18]),\n",
       " [Text(0, 0, 'Dell'),\n",
       "  Text(1, 0, 'Lenovo'),\n",
       "  Text(2, 0, 'HP'),\n",
       "  Text(3, 0, 'Toshiba'),\n",
       "  Text(4, 0, 'Asus'),\n",
       "  Text(5, 0, 'Samsung'),\n",
       "  Text(6, 0, 'Acer'),\n",
       "  Text(7, 0, 'Microsoft'),\n",
       "  Text(8, 0, 'Apple'),\n",
       "  Text(9, 0, 'Vero'),\n",
       "  Text(10, 0, 'MSI'),\n",
       "  Text(11, 0, 'Xiaomi'),\n",
       "  Text(12, 0, 'Chuwi'),\n",
       "  Text(13, 0, 'Google'),\n",
       "  Text(14, 0, 'Mediacom'),\n",
       "  Text(15, 0, 'Huawei'),\n",
       "  Text(16, 0, 'Razer'),\n",
       "  Text(17, 0, 'Fujitsu'),\n",
       "  Text(18, 0, 'LG')])"
      ]
     },
     "execution_count": 91,
     "metadata": {},
     "output_type": "execute_result"
    },
    {
     "data": {
      "image/png": "[encoded data removed]",
      "text/plain": [
       "<Figure size 576x432 with 1 Axes>"
      ]
     },
     "metadata": {
      "needs_background": "light"
     },
     "output_type": "display_data"
    }
   ],
   "source": [
    "f, ax = plt.subplots(figsize=(8, 6))\n",
    "fig = sns.boxplot(x='Company', y='Price_euros', data=train)\n",
    "plt.xticks(rotation=90)"
   ]
  },
  {
   "cell_type": "code",
   "execution_count": 92,
   "id": "8af39bd6",
   "metadata": {
    "execution": {
     "iopub.execute_input": "2021-12-08T20:49:24.181197Z",
     "iopub.status.busy": "2021-12-08T20:49:24.180406Z",
     "iopub.status.idle": "2021-12-08T20:49:24.726777Z",
     "shell.execute_reply": "2021-12-08T20:49:24.726158Z",
     "shell.execute_reply.started": "2021-12-08T20:37:21.388626Z"
    },
    "papermill": {
     "duration": 0.70253,
     "end_time": "2021-12-08T20:49:24.726942",
     "exception": false,
     "start_time": "2021-12-08T20:49:24.024412",
     "status": "completed"
    },
    "tags": []
   },
   "outputs": [
    {
     "data": {
      "text/plain": [
       "(array([ 0,  1,  2,  3,  4,  5,  6,  7,  8,  9, 10, 11, 12, 13, 14, 15, 16,\n",
       "        17, 18]),\n",
       " [Text(0, 0, 'Dell'),\n",
       "  Text(1, 0, 'Lenovo'),\n",
       "  Text(2, 0, 'HP'),\n",
       "  Text(3, 0, 'Toshiba'),\n",
       "  Text(4, 0, 'Asus'),\n",
       "  Text(5, 0, 'Samsung'),\n",
       "  Text(6, 0, 'Acer'),\n",
       "  Text(7, 0, 'Microsoft'),\n",
       "  Text(8, 0, 'Apple'),\n",
       "  Text(9, 0, 'Vero'),\n",
       "  Text(10, 0, 'MSI'),\n",
       "  Text(11, 0, 'Xiaomi'),\n",
       "  Text(12, 0, 'Chuwi'),\n",
       "  Text(13, 0, 'Google'),\n",
       "  Text(14, 0, 'Mediacom'),\n",
       "  Text(15, 0, 'Huawei'),\n",
       "  Text(16, 0, 'Razer'),\n",
       "  Text(17, 0, 'Fujitsu'),\n",
       "  Text(18, 0, 'LG')])"
      ]
     },
     "execution_count": 92,
     "metadata": {},
     "output_type": "execute_result"
    },
    {
     "data": {
      "image/png": "[encoded data removed]",
      "text/plain": [
       "<Figure size 576x432 with 1 Axes>"
      ]
     },
     "metadata": {
      "needs_background": "light"
     },
     "output_type": "display_data"
    }
   ],
   "source": [
    "f, ax = plt.subplots(figsize=(8, 6))\n",
    "fig = sns.boxplot(x='Company', y='Price_euros', data=train)\n",
    "plt.xticks(rotation=90)"
   ]
  },
  {
   "cell_type": "code",
   "execution_count": 93,
   "id": "8c636b30",
   "metadata": {
    "execution": {
     "iopub.execute_input": "2021-12-08T20:49:25.037184Z",
     "iopub.status.busy": "2021-12-08T20:49:25.036297Z",
     "iopub.status.idle": "2021-12-08T20:49:25.615164Z",
     "shell.execute_reply": "2021-12-08T20:49:25.615861Z",
     "shell.execute_reply.started": "2021-12-08T20:37:21.388626Z"
    },
    "papermill": {
     "duration": 0.738006,
     "end_time": "2021-12-08T20:49:25.616054",
     "exception": false,
     "start_time": "2021-12-08T20:49:24.878048",
     "status": "completed"
    },
    "tags": []
   },
   "outputs": [
    {
     "data": {
      "text/plain": [
       "(array([ 0,  1,  2,  3,  4,  5,  6,  7,  8,  9, 10, 11, 12, 13, 14, 15, 16,\n",
       "        17, 18]),\n",
       " [Text(0, 0, 'Dell'),\n",
       "  Text(1, 0, 'Lenovo'),\n",
       "  Text(2, 0, 'HP'),\n",
       "  Text(3, 0, 'Toshiba'),\n",
       "  Text(4, 0, 'Asus'),\n",
       "  Text(5, 0, 'Samsung'),\n",
       "  Text(6, 0, 'Acer'),\n",
       "  Text(7, 0, 'Microsoft'),\n",
       "  Text(8, 0, 'Apple'),\n",
       "  Text(9, 0, 'Vero'),\n",
       "  Text(10, 0, 'MSI'),\n",
       "  Text(11, 0, 'Xiaomi'),\n",
       "  Text(12, 0, 'Chuwi'),\n",
       "  Text(13, 0, 'Google'),\n",
       "  Text(14, 0, 'Mediacom'),\n",
       "  Text(15, 0, 'Huawei'),\n",
       "  Text(16, 0, 'Razer'),\n",
       "  Text(17, 0, 'Fujitsu'),\n",
       "  Text(18, 0, 'LG')])"
      ]
     },
     "execution_count": 93,
     "metadata": {},
     "output_type": "execute_result"
    },
    {
     "data": {
      "image/png": "[encoded data removed]",
      "text/plain": [
       "<Figure size 576x432 with 1 Axes>"
      ]
     },
     "metadata": {
      "needs_background": "light"
     },
     "output_type": "display_data"
    }
   ],
   "source": [
    "f, ax = plt.subplots(figsize=(8, 6))\n",
    "fig = sns.boxplot(x='Company', y='Price_euros', data=train)\n",
    "plt.xticks(rotation=90)"
   ]
  },
  {
   "cell_type": "code",
   "execution_count": 94,
   "id": "a862398e",
   "metadata": {
    "execution": {
     "iopub.execute_input": "2021-12-08T20:49:25.925379Z",
     "iopub.status.busy": "2021-12-08T20:49:25.924683Z",
     "iopub.status.idle": "2021-12-08T20:49:26.505232Z",
     "shell.execute_reply": "2021-12-08T20:49:26.505777Z",
     "shell.execute_reply.started": "2021-12-08T20:37:21.388626Z"
    },
    "papermill": {
     "duration": 0.74309,
     "end_time": "2021-12-08T20:49:26.505956",
     "exception": false,
     "start_time": "2021-12-08T20:49:25.762866",
     "status": "completed"
    },
    "tags": []
   },
   "outputs": [
    {
     "data": {
      "text/plain": [
       "(array([ 0,  1,  2,  3,  4,  5,  6,  7,  8,  9, 10, 11, 12, 13, 14, 15, 16,\n",
       "        17, 18]),\n",
       " [Text(0, 0, 'Dell'),\n",
       "  Text(1, 0, 'Lenovo'),\n",
       "  Text(2, 0, 'HP'),\n",
       "  Text(3, 0, 'Toshiba'),\n",
       "  Text(4, 0, 'Asus'),\n",
       "  Text(5, 0, 'Samsung'),\n",
       "  Text(6, 0, 'Acer'),\n",
       "  Text(7, 0, 'Microsoft'),\n",
       "  Text(8, 0, 'Apple'),\n",
       "  Text(9, 0, 'Vero'),\n",
       "  Text(10, 0, 'MSI'),\n",
       "  Text(11, 0, 'Xiaomi'),\n",
       "  Text(12, 0, 'Chuwi'),\n",
       "  Text(13, 0, 'Google'),\n",
       "  Text(14, 0, 'Mediacom'),\n",
       "  Text(15, 0, 'Huawei'),\n",
       "  Text(16, 0, 'Razer'),\n",
       "  Text(17, 0, 'Fujitsu'),\n",
       "  Text(18, 0, 'LG')])"
      ]
     },
     "execution_count": 94,
     "metadata": {},
     "output_type": "execute_result"
    },
    {
     "data": {
      "image/png": "[encoded data removed]",
      "text/plain": [
       "<Figure size 576x432 with 1 Axes>"
      ]
     },
     "metadata": {
      "needs_background": "light"
     },
     "output_type": "display_data"
    }
   ],
   "source": [
    "f, ax = plt.subplots(figsize=(8, 6))\n",
    "fig = sns.boxplot(x='Company', y='Price_euros', data=train)\n",
    "plt.xticks(rotation=90)"
   ]
  },
  {
   "cell_type": "code",
   "execution_count": 95,
   "id": "a2908f4f",
   "metadata": {
    "execution": {
     "iopub.execute_input": "2021-12-08T20:49:26.812810Z",
     "iopub.status.busy": "2021-12-08T20:49:26.811958Z",
     "iopub.status.idle": "2021-12-08T20:49:27.384190Z",
     "shell.execute_reply": "2021-12-08T20:49:27.384794Z",
     "shell.execute_reply.started": "2021-12-08T20:37:21.388626Z"
    },
    "papermill": {
     "duration": 0.725072,
     "end_time": "2021-12-08T20:49:27.384971",
     "exception": false,
     "start_time": "2021-12-08T20:49:26.659899",
     "status": "completed"
    },
    "tags": []
   },
   "outputs": [
    {
     "data": {
      "text/plain": [
       "(array([ 0,  1,  2,  3,  4,  5,  6,  7,  8,  9, 10, 11, 12, 13, 14, 15, 16,\n",
       "        17, 18]),\n",
       " [Text(0, 0, 'Dell'),\n",
       "  Text(1, 0, 'Lenovo'),\n",
       "  Text(2, 0, 'HP'),\n",
       "  Text(3, 0, 'Toshiba'),\n",
       "  Text(4, 0, 'Asus'),\n",
       "  Text(5, 0, 'Samsung'),\n",
       "  Text(6, 0, 'Acer'),\n",
       "  Text(7, 0, 'Microsoft'),\n",
       "  Text(8, 0, 'Apple'),\n",
       "  Text(9, 0, 'Vero'),\n",
       "  Text(10, 0, 'MSI'),\n",
       "  Text(11, 0, 'Xiaomi'),\n",
       "  Text(12, 0, 'Chuwi'),\n",
       "  Text(13, 0, 'Google'),\n",
       "  Text(14, 0, 'Mediacom'),\n",
       "  Text(15, 0, 'Huawei'),\n",
       "  Text(16, 0, 'Razer'),\n",
       "  Text(17, 0, 'Fujitsu'),\n",
       "  Text(18, 0, 'LG')])"
      ]
     },
     "execution_count": 95,
     "metadata": {},
     "output_type": "execute_result"
    },
    {
     "data": {
      "image/png": "[encoded data removed]",
      "text/plain": [
       "<Figure size 576x432 with 1 Axes>"
      ]
     },
     "metadata": {
      "needs_background": "light"
     },
     "output_type": "display_data"
    }
   ],
   "source": [
    "f, ax = plt.subplots(figsize=(8, 6))\n",
    "fig = sns.boxplot(x='Company', y='Price_euros', data=train)\n",
    "plt.xticks(rotation=90)"
   ]
  },
  {
   "cell_type": "code",
   "execution_count": 96,
   "id": "0977d66b",
   "metadata": {
    "execution": {
     "iopub.execute_input": "2021-12-08T20:49:27.692105Z",
     "iopub.status.busy": "2021-12-08T20:49:27.691395Z",
     "iopub.status.idle": "2021-12-08T20:49:28.244976Z",
     "shell.execute_reply": "2021-12-08T20:49:28.245517Z",
     "shell.execute_reply.started": "2021-12-08T20:37:21.388626Z"
    },
    "papermill": {
     "duration": 0.710433,
     "end_time": "2021-12-08T20:49:28.245721",
     "exception": false,
     "start_time": "2021-12-08T20:49:27.535288",
     "status": "completed"
    },
    "tags": []
   },
   "outputs": [
    {
     "data": {
      "text/plain": [
       "(array([ 0,  1,  2,  3,  4,  5,  6,  7,  8,  9, 10, 11, 12, 13, 14, 15, 16,\n",
       "        17, 18]),\n",
       " [Text(0, 0, 'Dell'),\n",
       "  Text(1, 0, 'Lenovo'),\n",
       "  Text(2, 0, 'HP'),\n",
       "  Text(3, 0, 'Toshiba'),\n",
       "  Text(4, 0, 'Asus'),\n",
       "  Text(5, 0, 'Samsung'),\n",
       "  Text(6, 0, 'Acer'),\n",
       "  Text(7, 0, 'Microsoft'),\n",
       "  Text(8, 0, 'Apple'),\n",
       "  Text(9, 0, 'Vero'),\n",
       "  Text(10, 0, 'MSI'),\n",
       "  Text(11, 0, 'Xiaomi'),\n",
       "  Text(12, 0, 'Chuwi'),\n",
       "  Text(13, 0, 'Google'),\n",
       "  Text(14, 0, 'Mediacom'),\n",
       "  Text(15, 0, 'Huawei'),\n",
       "  Text(16, 0, 'Razer'),\n",
       "  Text(17, 0, 'Fujitsu'),\n",
       "  Text(18, 0, 'LG')])"
      ]
     },
     "execution_count": 96,
     "metadata": {},
     "output_type": "execute_result"
    },
    {
     "data": {
      "image/png": "[encoded data removed]",
      "text/plain": [
       "<Figure size 576x432 with 1 Axes>"
      ]
     },
     "metadata": {
      "needs_background": "light"
     },
     "output_type": "display_data"
    }
   ],
   "source": [
    "f, ax = plt.subplots(figsize=(8, 6))\n",
    "fig = sns.boxplot(x='Company', y='Price_euros', data=train)\n",
    "plt.xticks(rotation=90)"
   ]
  },
  {
   "cell_type": "code",
   "execution_count": null,
   "id": "45dad36c",
   "metadata": {
    "papermill": {
     "duration": 0.151448,
     "end_time": "2021-12-08T20:49:28.551738",
     "exception": false,
     "start_time": "2021-12-08T20:49:28.400290",
     "status": "completed"
    },
    "tags": []
   },
   "outputs": [],
   "source": []
  }
 ],
 "metadata": {
  "kernelspec": {
   "display_name": "Python 3",
   "language": "python",
   "name": "python3"
  },
  "language_info": {
   "codemirror_mode": {
    "name": "ipython",
    "version": 3
   },
   "file_extension": ".py",
   "mimetype": "text/x-python",
   "name": "python",
   "nbconvert_exporter": "python",
   "pygments_lexer": "ipython3",
   "version": "3.7.10"
  },
  "papermill": {
   "default_parameters": {},
   "duration": 72.20827,
   "end_time": "2021-12-08T20:49:31.347585",
   "environment_variables": {},
   "exception": null,
   "input_path": "__notebook__.ipynb",
   "output_path": "__notebook__.ipynb",
   "parameters": {},
   "start_time": "2021-12-08T20:48:19.139315",
   "version": "2.3.3"
  }
 },
 "nbformat": 4,
 "nbformat_minor": 5
}
