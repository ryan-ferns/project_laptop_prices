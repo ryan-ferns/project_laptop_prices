{
 "cells": [
  {
   "cell_type": "markdown",
   "metadata": {},
   "source": [
    " <center><h1>Laptop Prices Project (Part 2)</h1>"
   ]
  },
  {
   "cell_type": "code",
   "execution_count": 1,
   "metadata": {},
   "outputs": [],
   "source": [
    "# Here we will import the required packages.\n",
    "\n",
    "import numpy as np \n",
    "import pandas as pd \n",
    "from sklearn.model_selection import train_test_split\n",
    "import matplotlib.pyplot as plt\n",
    "import seaborn as sns\n",
    "from sklearn.preprocessing import StandardScaler\n",
    "from sklearn.feature_selection import VarianceThreshold\n",
    "from sklearn.feature_selection import f_regression, SelectKBest\n",
    "from sklearn.metrics import mean_squared_error, mean_absolute_error, r2_score\n",
    "from sklearn.dummy import DummyRegressor\n",
    "from sklearn.linear_model import LinearRegression\n",
    "from sklearn.model_selection import GridSearchCV"
   ]
  },
  {
   "cell_type": "markdown",
   "metadata": {},
   "source": [
    "This notebook is a continuation of Laptop Prices Project (Part 1)."
   ]
  },
  {
   "cell_type": "markdown",
   "metadata": {},
   "source": [
    "We will load the training and test sets."
   ]
  },
  {
   "cell_type": "code",
   "execution_count": 2,
   "metadata": {},
   "outputs": [],
   "source": [
    "#Read files:\n",
    "\n",
    "train = pd.read_csv(\"train_data_laptop.csv\", delimiter=',', index_col=0)\n",
    "test = pd.read_csv(\"test_data_laptop.csv\", delimiter=',', index_col=0)"
   ]
  },
  {
   "cell_type": "markdown",
   "metadata": {},
   "source": [
    "We will explore the training and test sets to make sure that no errors \n",
    "occurred when loading them into the new Python notebook."
   ]
  },
  {
   "cell_type": "code",
   "execution_count": 3,
   "metadata": {},
   "outputs": [
    {
     "data": {
      "text/plain": [
       "(1039, 29)"
      ]
     },
     "execution_count": 3,
     "metadata": {},
     "output_type": "execute_result"
    }
   ],
   "source": [
    "train.shape"
   ]
  },
  {
   "cell_type": "code",
   "execution_count": 4,
   "metadata": {},
   "outputs": [
    {
     "data": {
      "text/plain": [
       "Company                   object\n",
       "TypeName                  object\n",
       "Inches                   float64\n",
       "Ram                       object\n",
       "OpSys                     object\n",
       "Weight (kg)              float64\n",
       "Price_euros              float64\n",
       "Brand                     object\n",
       "Resolution                object\n",
       "Pixel Width                int64\n",
       "Pixel Height               int64\n",
       "Total Pixels               int64\n",
       "Pixel Density            float64\n",
       "IPS Panel                   bool\n",
       "Touchscreen                 bool\n",
       "Cpu Clock Speed (GHz)    float64\n",
       "Cpu Brand                 object\n",
       "Simple Cpu Brand          object\n",
       "Cpu Company               object\n",
       "Memory Type               object\n",
       "HDD Memory (GB)            int64\n",
       "Hybrid Memory (GB)         int64\n",
       "Flash Memory (GB)          int64\n",
       "SSD Memory (GB)            int64\n",
       "Total Memory (GB)          int64\n",
       "Gpu Brand                 object\n",
       "Simple Gpu Brand          object\n",
       "Gpu Company               object\n",
       "Simple OpSys              object\n",
       "dtype: object"
      ]
     },
     "execution_count": 4,
     "metadata": {},
     "output_type": "execute_result"
    }
   ],
   "source": [
    "train.dtypes"
   ]
  },
  {
   "cell_type": "code",
   "execution_count": 5,
   "metadata": {},
   "outputs": [
    {
     "data": {
      "text/html": [
       "<div>\n",
       "<style scoped>\n",
       "    .dataframe tbody tr th:only-of-type {\n",
       "        vertical-align: middle;\n",
       "    }\n",
       "\n",
       "    .dataframe tbody tr th {\n",
       "        vertical-align: top;\n",
       "    }\n",
       "\n",
       "    .dataframe thead th {\n",
       "        text-align: right;\n",
       "    }\n",
       "</style>\n",
       "<table border=\"1\" class=\"dataframe\">\n",
       "  <thead>\n",
       "    <tr style=\"text-align: right;\">\n",
       "      <th></th>\n",
       "      <th>Company</th>\n",
       "      <th>TypeName</th>\n",
       "      <th>Inches</th>\n",
       "      <th>Ram</th>\n",
       "      <th>OpSys</th>\n",
       "      <th>Weight (kg)</th>\n",
       "      <th>Price_euros</th>\n",
       "      <th>Brand</th>\n",
       "      <th>Resolution</th>\n",
       "      <th>Pixel Width</th>\n",
       "      <th>...</th>\n",
       "      <th>Memory Type</th>\n",
       "      <th>HDD Memory (GB)</th>\n",
       "      <th>Hybrid Memory (GB)</th>\n",
       "      <th>Flash Memory (GB)</th>\n",
       "      <th>SSD Memory (GB)</th>\n",
       "      <th>Total Memory (GB)</th>\n",
       "      <th>Gpu Brand</th>\n",
       "      <th>Simple Gpu Brand</th>\n",
       "      <th>Gpu Company</th>\n",
       "      <th>Simple OpSys</th>\n",
       "    </tr>\n",
       "  </thead>\n",
       "  <tbody>\n",
       "    <tr>\n",
       "      <th>1249</th>\n",
       "      <td>Dell</td>\n",
       "      <td>2 in 1 Convertible</td>\n",
       "      <td>13.3</td>\n",
       "      <td>8GB</td>\n",
       "      <td>Windows 10</td>\n",
       "      <td>1.24</td>\n",
       "      <td>1813.0</td>\n",
       "      <td>XPS</td>\n",
       "      <td>3200 x 1800</td>\n",
       "      <td>3200</td>\n",
       "      <td>...</td>\n",
       "      <td>SSD</td>\n",
       "      <td>0</td>\n",
       "      <td>0</td>\n",
       "      <td>0</td>\n",
       "      <td>256</td>\n",
       "      <td>256</td>\n",
       "      <td>Intel HD Graphics</td>\n",
       "      <td>Intel HD</td>\n",
       "      <td>Intel</td>\n",
       "      <td>Windows</td>\n",
       "    </tr>\n",
       "    <tr>\n",
       "      <th>1186</th>\n",
       "      <td>Dell</td>\n",
       "      <td>2 in 1 Convertible</td>\n",
       "      <td>15.6</td>\n",
       "      <td>16GB</td>\n",
       "      <td>Windows 10</td>\n",
       "      <td>2.09</td>\n",
       "      <td>1179.0</td>\n",
       "      <td>INSPIRON</td>\n",
       "      <td>1920 x 1080</td>\n",
       "      <td>1920</td>\n",
       "      <td>...</td>\n",
       "      <td>SSD</td>\n",
       "      <td>0</td>\n",
       "      <td>0</td>\n",
       "      <td>0</td>\n",
       "      <td>512</td>\n",
       "      <td>512</td>\n",
       "      <td>Intel HD Graphics</td>\n",
       "      <td>Intel HD</td>\n",
       "      <td>Intel</td>\n",
       "      <td>Windows</td>\n",
       "    </tr>\n",
       "    <tr>\n",
       "      <th>568</th>\n",
       "      <td>Lenovo</td>\n",
       "      <td>Notebook</td>\n",
       "      <td>15.6</td>\n",
       "      <td>4GB</td>\n",
       "      <td>Windows 10</td>\n",
       "      <td>2.20</td>\n",
       "      <td>344.0</td>\n",
       "      <td>IDEAPAD</td>\n",
       "      <td>1920 x 1080</td>\n",
       "      <td>1920</td>\n",
       "      <td>...</td>\n",
       "      <td>HDD</td>\n",
       "      <td>500</td>\n",
       "      <td>0</td>\n",
       "      <td>0</td>\n",
       "      <td>0</td>\n",
       "      <td>500</td>\n",
       "      <td>Intel HD Graphics</td>\n",
       "      <td>Intel HD</td>\n",
       "      <td>Intel</td>\n",
       "      <td>Windows</td>\n",
       "    </tr>\n",
       "    <tr>\n",
       "      <th>1251</th>\n",
       "      <td>HP</td>\n",
       "      <td>Notebook</td>\n",
       "      <td>15.6</td>\n",
       "      <td>4GB</td>\n",
       "      <td>Windows 10</td>\n",
       "      <td>1.86</td>\n",
       "      <td>399.0</td>\n",
       "      <td>255</td>\n",
       "      <td>1366 x 768</td>\n",
       "      <td>1366</td>\n",
       "      <td>...</td>\n",
       "      <td>HDD</td>\n",
       "      <td>500</td>\n",
       "      <td>0</td>\n",
       "      <td>0</td>\n",
       "      <td>0</td>\n",
       "      <td>500</td>\n",
       "      <td>AMD Radeon R4</td>\n",
       "      <td>AMD Radeon</td>\n",
       "      <td>AMD</td>\n",
       "      <td>Windows</td>\n",
       "    </tr>\n",
       "    <tr>\n",
       "      <th>491</th>\n",
       "      <td>Toshiba</td>\n",
       "      <td>Ultrabook</td>\n",
       "      <td>13.3</td>\n",
       "      <td>32GB</td>\n",
       "      <td>Windows 10</td>\n",
       "      <td>1.05</td>\n",
       "      <td>2799.0</td>\n",
       "      <td>PORTEGE</td>\n",
       "      <td>1920 x 1080</td>\n",
       "      <td>1920</td>\n",
       "      <td>...</td>\n",
       "      <td>SSD</td>\n",
       "      <td>0</td>\n",
       "      <td>0</td>\n",
       "      <td>0</td>\n",
       "      <td>512</td>\n",
       "      <td>512</td>\n",
       "      <td>Intel HD Graphics</td>\n",
       "      <td>Intel HD</td>\n",
       "      <td>Intel</td>\n",
       "      <td>Windows</td>\n",
       "    </tr>\n",
       "  </tbody>\n",
       "</table>\n",
       "<p>5 rows × 29 columns</p>\n",
       "</div>"
      ],
      "text/plain": [
       "      Company            TypeName  Inches   Ram       OpSys  Weight (kg)  \\\n",
       "1249     Dell  2 in 1 Convertible    13.3   8GB  Windows 10         1.24   \n",
       "1186     Dell  2 in 1 Convertible    15.6  16GB  Windows 10         2.09   \n",
       "568    Lenovo            Notebook    15.6   4GB  Windows 10         2.20   \n",
       "1251       HP            Notebook    15.6   4GB  Windows 10         1.86   \n",
       "491   Toshiba           Ultrabook    13.3  32GB  Windows 10         1.05   \n",
       "\n",
       "      Price_euros     Brand   Resolution  Pixel Width  ...  Memory Type  \\\n",
       "1249       1813.0       XPS  3200 x 1800         3200  ...          SSD   \n",
       "1186       1179.0  INSPIRON  1920 x 1080         1920  ...          SSD   \n",
       "568         344.0   IDEAPAD  1920 x 1080         1920  ...          HDD   \n",
       "1251        399.0       255   1366 x 768         1366  ...          HDD   \n",
       "491        2799.0   PORTEGE  1920 x 1080         1920  ...          SSD   \n",
       "\n",
       "      HDD Memory (GB)  Hybrid Memory (GB)  Flash Memory (GB)  SSD Memory (GB)  \\\n",
       "1249                0                   0                  0              256   \n",
       "1186                0                   0                  0              512   \n",
       "568               500                   0                  0                0   \n",
       "1251              500                   0                  0                0   \n",
       "491                 0                   0                  0              512   \n",
       "\n",
       "      Total Memory (GB)          Gpu Brand Simple Gpu Brand Gpu Company  \\\n",
       "1249                256  Intel HD Graphics         Intel HD       Intel   \n",
       "1186                512  Intel HD Graphics         Intel HD       Intel   \n",
       "568                 500  Intel HD Graphics         Intel HD       Intel   \n",
       "1251                500      AMD Radeon R4       AMD Radeon         AMD   \n",
       "491                 512  Intel HD Graphics         Intel HD       Intel   \n",
       "\n",
       "     Simple OpSys  \n",
       "1249      Windows  \n",
       "1186      Windows  \n",
       "568       Windows  \n",
       "1251      Windows  \n",
       "491       Windows  \n",
       "\n",
       "[5 rows x 29 columns]"
      ]
     },
     "execution_count": 5,
     "metadata": {},
     "output_type": "execute_result"
    }
   ],
   "source": [
    "train.head()"
   ]
  },
  {
   "cell_type": "code",
   "execution_count": 6,
   "metadata": {},
   "outputs": [
    {
     "data": {
      "text/plain": [
       "(261, 29)"
      ]
     },
     "execution_count": 6,
     "metadata": {},
     "output_type": "execute_result"
    }
   ],
   "source": [
    "test.shape"
   ]
  },
  {
   "cell_type": "code",
   "execution_count": 7,
   "metadata": {},
   "outputs": [
    {
     "data": {
      "text/plain": [
       "Company                   object\n",
       "TypeName                  object\n",
       "Inches                   float64\n",
       "Ram                       object\n",
       "OpSys                     object\n",
       "Weight (kg)              float64\n",
       "Price_euros              float64\n",
       "Brand                     object\n",
       "Resolution                object\n",
       "Pixel Width                int64\n",
       "Pixel Height               int64\n",
       "Total Pixels               int64\n",
       "Pixel Density            float64\n",
       "IPS Panel                   bool\n",
       "Touchscreen                 bool\n",
       "Cpu Clock Speed (GHz)    float64\n",
       "Cpu Brand                 object\n",
       "Simple Cpu Brand          object\n",
       "Cpu Company               object\n",
       "Memory Type               object\n",
       "HDD Memory (GB)            int64\n",
       "Hybrid Memory (GB)         int64\n",
       "Flash Memory (GB)          int64\n",
       "SSD Memory (GB)            int64\n",
       "Total Memory (GB)          int64\n",
       "Gpu Brand                 object\n",
       "Simple Gpu Brand          object\n",
       "Gpu Company               object\n",
       "Simple OpSys              object\n",
       "dtype: object"
      ]
     },
     "execution_count": 7,
     "metadata": {},
     "output_type": "execute_result"
    }
   ],
   "source": [
    "test.dtypes"
   ]
  },
  {
   "cell_type": "code",
   "execution_count": 8,
   "metadata": {},
   "outputs": [
    {
     "data": {
      "text/html": [
       "<div>\n",
       "<style scoped>\n",
       "    .dataframe tbody tr th:only-of-type {\n",
       "        vertical-align: middle;\n",
       "    }\n",
       "\n",
       "    .dataframe tbody tr th {\n",
       "        vertical-align: top;\n",
       "    }\n",
       "\n",
       "    .dataframe thead th {\n",
       "        text-align: right;\n",
       "    }\n",
       "</style>\n",
       "<table border=\"1\" class=\"dataframe\">\n",
       "  <thead>\n",
       "    <tr style=\"text-align: right;\">\n",
       "      <th></th>\n",
       "      <th>Company</th>\n",
       "      <th>TypeName</th>\n",
       "      <th>Inches</th>\n",
       "      <th>Ram</th>\n",
       "      <th>OpSys</th>\n",
       "      <th>Weight (kg)</th>\n",
       "      <th>Price_euros</th>\n",
       "      <th>Brand</th>\n",
       "      <th>Resolution</th>\n",
       "      <th>Pixel Width</th>\n",
       "      <th>...</th>\n",
       "      <th>Memory Type</th>\n",
       "      <th>HDD Memory (GB)</th>\n",
       "      <th>Hybrid Memory (GB)</th>\n",
       "      <th>Flash Memory (GB)</th>\n",
       "      <th>SSD Memory (GB)</th>\n",
       "      <th>Total Memory (GB)</th>\n",
       "      <th>Gpu Brand</th>\n",
       "      <th>Simple Gpu Brand</th>\n",
       "      <th>Gpu Company</th>\n",
       "      <th>Simple OpSys</th>\n",
       "    </tr>\n",
       "  </thead>\n",
       "  <tbody>\n",
       "    <tr>\n",
       "      <th>580</th>\n",
       "      <td>Mediacom</td>\n",
       "      <td>Notebook</td>\n",
       "      <td>14.0</td>\n",
       "      <td>4GB</td>\n",
       "      <td>Windows 10</td>\n",
       "      <td>1.45</td>\n",
       "      <td>389.00</td>\n",
       "      <td>SMARTBOOK</td>\n",
       "      <td>1920 x 1080</td>\n",
       "      <td>1920</td>\n",
       "      <td>...</td>\n",
       "      <td>SSD</td>\n",
       "      <td>0</td>\n",
       "      <td>0</td>\n",
       "      <td>0</td>\n",
       "      <td>32</td>\n",
       "      <td>32</td>\n",
       "      <td>Intel HD Graphics</td>\n",
       "      <td>Intel HD</td>\n",
       "      <td>Intel</td>\n",
       "      <td>Windows</td>\n",
       "    </tr>\n",
       "    <tr>\n",
       "      <th>1017</th>\n",
       "      <td>Lenovo</td>\n",
       "      <td>Notebook</td>\n",
       "      <td>17.3</td>\n",
       "      <td>16GB</td>\n",
       "      <td>Windows 7</td>\n",
       "      <td>2.40</td>\n",
       "      <td>2968.00</td>\n",
       "      <td>THINKPAD</td>\n",
       "      <td>3840 x 2160</td>\n",
       "      <td>3840</td>\n",
       "      <td>...</td>\n",
       "      <td>SSD</td>\n",
       "      <td>0</td>\n",
       "      <td>0</td>\n",
       "      <td>0</td>\n",
       "      <td>512</td>\n",
       "      <td>512</td>\n",
       "      <td>Nvidia Quadro</td>\n",
       "      <td>Nvidia Quadro</td>\n",
       "      <td>Nvidia</td>\n",
       "      <td>Windows</td>\n",
       "    </tr>\n",
       "    <tr>\n",
       "      <th>761</th>\n",
       "      <td>Dell</td>\n",
       "      <td>Ultrabook</td>\n",
       "      <td>12.5</td>\n",
       "      <td>16GB</td>\n",
       "      <td>Windows 10</td>\n",
       "      <td>1.18</td>\n",
       "      <td>1859.00</td>\n",
       "      <td>LATITUDE</td>\n",
       "      <td>1920 x 1080</td>\n",
       "      <td>1920</td>\n",
       "      <td>...</td>\n",
       "      <td>SSD</td>\n",
       "      <td>0</td>\n",
       "      <td>0</td>\n",
       "      <td>0</td>\n",
       "      <td>256</td>\n",
       "      <td>256</td>\n",
       "      <td>Intel HD Graphics</td>\n",
       "      <td>Intel HD</td>\n",
       "      <td>Intel</td>\n",
       "      <td>Windows</td>\n",
       "    </tr>\n",
       "    <tr>\n",
       "      <th>686</th>\n",
       "      <td>HP</td>\n",
       "      <td>Notebook</td>\n",
       "      <td>15.6</td>\n",
       "      <td>4GB</td>\n",
       "      <td>Windows 10</td>\n",
       "      <td>1.86</td>\n",
       "      <td>612.61</td>\n",
       "      <td>250</td>\n",
       "      <td>1366 x 768</td>\n",
       "      <td>1366</td>\n",
       "      <td>...</td>\n",
       "      <td>HDD</td>\n",
       "      <td>500</td>\n",
       "      <td>0</td>\n",
       "      <td>0</td>\n",
       "      <td>0</td>\n",
       "      <td>500</td>\n",
       "      <td>AMD Radeon</td>\n",
       "      <td>AMD Radeon</td>\n",
       "      <td>AMD</td>\n",
       "      <td>Windows</td>\n",
       "    </tr>\n",
       "    <tr>\n",
       "      <th>186</th>\n",
       "      <td>Dell</td>\n",
       "      <td>Notebook</td>\n",
       "      <td>15.6</td>\n",
       "      <td>16GB</td>\n",
       "      <td>Windows 10</td>\n",
       "      <td>2.06</td>\n",
       "      <td>2397.00</td>\n",
       "      <td>XPS</td>\n",
       "      <td>3840 x 2160</td>\n",
       "      <td>3840</td>\n",
       "      <td>...</td>\n",
       "      <td>SSD</td>\n",
       "      <td>0</td>\n",
       "      <td>0</td>\n",
       "      <td>0</td>\n",
       "      <td>512</td>\n",
       "      <td>512</td>\n",
       "      <td>Nvidia GeForce GTX</td>\n",
       "      <td>Nvidia GeForce</td>\n",
       "      <td>Nvidia</td>\n",
       "      <td>Windows</td>\n",
       "    </tr>\n",
       "  </tbody>\n",
       "</table>\n",
       "<p>5 rows × 29 columns</p>\n",
       "</div>"
      ],
      "text/plain": [
       "       Company   TypeName  Inches   Ram       OpSys  Weight (kg)  Price_euros  \\\n",
       "580   Mediacom   Notebook    14.0   4GB  Windows 10         1.45       389.00   \n",
       "1017    Lenovo   Notebook    17.3  16GB   Windows 7         2.40      2968.00   \n",
       "761       Dell  Ultrabook    12.5  16GB  Windows 10         1.18      1859.00   \n",
       "686         HP   Notebook    15.6   4GB  Windows 10         1.86       612.61   \n",
       "186       Dell   Notebook    15.6  16GB  Windows 10         2.06      2397.00   \n",
       "\n",
       "          Brand   Resolution  Pixel Width  ...  Memory Type  HDD Memory (GB)  \\\n",
       "580   SMARTBOOK  1920 x 1080         1920  ...          SSD                0   \n",
       "1017   THINKPAD  3840 x 2160         3840  ...          SSD                0   \n",
       "761    LATITUDE  1920 x 1080         1920  ...          SSD                0   \n",
       "686         250   1366 x 768         1366  ...          HDD              500   \n",
       "186         XPS  3840 x 2160         3840  ...          SSD                0   \n",
       "\n",
       "      Hybrid Memory (GB)  Flash Memory (GB)  SSD Memory (GB)  \\\n",
       "580                    0                  0               32   \n",
       "1017                   0                  0              512   \n",
       "761                    0                  0              256   \n",
       "686                    0                  0                0   \n",
       "186                    0                  0              512   \n",
       "\n",
       "      Total Memory (GB)           Gpu Brand Simple Gpu Brand Gpu Company  \\\n",
       "580                  32   Intel HD Graphics         Intel HD       Intel   \n",
       "1017                512       Nvidia Quadro    Nvidia Quadro      Nvidia   \n",
       "761                 256   Intel HD Graphics         Intel HD       Intel   \n",
       "686                 500          AMD Radeon       AMD Radeon         AMD   \n",
       "186                 512  Nvidia GeForce GTX   Nvidia GeForce      Nvidia   \n",
       "\n",
       "     Simple OpSys  \n",
       "580       Windows  \n",
       "1017      Windows  \n",
       "761       Windows  \n",
       "686       Windows  \n",
       "186       Windows  \n",
       "\n",
       "[5 rows x 29 columns]"
      ]
     },
     "execution_count": 8,
     "metadata": {},
     "output_type": "execute_result"
    }
   ],
   "source": [
    "test.head()"
   ]
  },
  {
   "cell_type": "markdown",
   "metadata": {},
   "source": [
    "After a quick inspection, the training and test sets seem to be okay."
   ]
  },
  {
   "cell_type": "markdown",
   "metadata": {},
   "source": [
    "# Step 7: Value Transformation"
   ]
  },
  {
   "cell_type": "markdown",
   "metadata": {
    "papermill": {
     "duration": 0.451497,
     "end_time": "2022-06-10T20:01:40.775405",
     "exception": false,
     "start_time": "2022-06-10T20:01:40.323908",
     "status": "completed"
    },
    "tags": []
   },
   "source": [
    "## 7.1 Numerical Variables"
   ]
  },
  {
   "cell_type": "markdown",
   "metadata": {
    "papermill": {
     "duration": 0.40115,
     "end_time": "2022-06-10T20:01:41.582029",
     "exception": false,
     "start_time": "2022-06-10T20:01:41.180879",
     "status": "completed"
    },
    "tags": []
   },
   "source": [
    "First, we will look at the numerical variables.  "
   ]
  },
  {
   "cell_type": "code",
   "execution_count": 9,
   "metadata": {
    "papermill": {
     "duration": 0.418438,
     "end_time": "2022-06-10T20:01:42.407327",
     "exception": false,
     "start_time": "2022-06-10T20:01:41.988889",
     "status": "completed"
    },
    "tags": []
   },
   "outputs": [
    {
     "data": {
      "text/plain": [
       "['Inches',\n",
       " 'Weight (kg)',\n",
       " 'Price_euros',\n",
       " 'Pixel Width',\n",
       " 'Pixel Height',\n",
       " 'Total Pixels',\n",
       " 'Pixel Density',\n",
       " 'Cpu Clock Speed (GHz)',\n",
       " 'HDD Memory (GB)',\n",
       " 'Hybrid Memory (GB)',\n",
       " 'Flash Memory (GB)',\n",
       " 'SSD Memory (GB)',\n",
       " 'Total Memory (GB)']"
      ]
     },
     "execution_count": 9,
     "metadata": {},
     "output_type": "execute_result"
    }
   ],
   "source": [
    "num_feats = train.select_dtypes(include='number').columns.to_list()\n",
    "num_feats"
   ]
  },
  {
   "cell_type": "code",
   "execution_count": 10,
   "metadata": {},
   "outputs": [
    {
     "data": {
      "text/html": [
       "<div>\n",
       "<style scoped>\n",
       "    .dataframe tbody tr th:only-of-type {\n",
       "        vertical-align: middle;\n",
       "    }\n",
       "\n",
       "    .dataframe tbody tr th {\n",
       "        vertical-align: top;\n",
       "    }\n",
       "\n",
       "    .dataframe thead th {\n",
       "        text-align: right;\n",
       "    }\n",
       "</style>\n",
       "<table border=\"1\" class=\"dataframe\">\n",
       "  <thead>\n",
       "    <tr style=\"text-align: right;\">\n",
       "      <th></th>\n",
       "      <th>Inches</th>\n",
       "      <th>Weight (kg)</th>\n",
       "      <th>Price_euros</th>\n",
       "      <th>Pixel Width</th>\n",
       "      <th>Pixel Height</th>\n",
       "      <th>Total Pixels</th>\n",
       "      <th>Pixel Density</th>\n",
       "      <th>Cpu Clock Speed (GHz)</th>\n",
       "      <th>HDD Memory (GB)</th>\n",
       "      <th>Hybrid Memory (GB)</th>\n",
       "      <th>Flash Memory (GB)</th>\n",
       "      <th>SSD Memory (GB)</th>\n",
       "      <th>Total Memory (GB)</th>\n",
       "    </tr>\n",
       "  </thead>\n",
       "  <tbody>\n",
       "    <tr>\n",
       "      <th>count</th>\n",
       "      <td>1039.000000</td>\n",
       "      <td>1039.000000</td>\n",
       "      <td>1039.000000</td>\n",
       "      <td>1039.000000</td>\n",
       "      <td>1039.000000</td>\n",
       "      <td>1.039000e+03</td>\n",
       "      <td>1039.000000</td>\n",
       "      <td>1039.000000</td>\n",
       "      <td>1039.000000</td>\n",
       "      <td>1039.000000</td>\n",
       "      <td>1039.000000</td>\n",
       "      <td>1039.000000</td>\n",
       "      <td>1039.000000</td>\n",
       "    </tr>\n",
       "    <tr>\n",
       "      <th>mean</th>\n",
       "      <td>15.009625</td>\n",
       "      <td>2.033560</td>\n",
       "      <td>1086.379134</td>\n",
       "      <td>1884.125120</td>\n",
       "      <td>1064.904716</td>\n",
       "      <td>2.139080e+06</td>\n",
       "      <td>145.851191</td>\n",
       "      <td>2.286102</td>\n",
       "      <td>424.600577</td>\n",
       "      <td>0.488932</td>\n",
       "      <td>4.404235</td>\n",
       "      <td>177.374398</td>\n",
       "      <td>606.868142</td>\n",
       "    </tr>\n",
       "    <tr>\n",
       "      <th>std</th>\n",
       "      <td>1.415651</td>\n",
       "      <td>0.654924</td>\n",
       "      <td>650.596181</td>\n",
       "      <td>481.323885</td>\n",
       "      <td>277.624657</td>\n",
       "      <td>1.348145e+06</td>\n",
       "      <td>42.205176</td>\n",
       "      <td>0.510468</td>\n",
       "      <td>520.023544</td>\n",
       "      <td>15.759990</td>\n",
       "      <td>27.450257</td>\n",
       "      <td>184.784636</td>\n",
       "      <td>470.048098</td>\n",
       "    </tr>\n",
       "    <tr>\n",
       "      <th>min</th>\n",
       "      <td>10.100000</td>\n",
       "      <td>0.690000</td>\n",
       "      <td>174.000000</td>\n",
       "      <td>1366.000000</td>\n",
       "      <td>768.000000</td>\n",
       "      <td>1.049088e+06</td>\n",
       "      <td>90.583402</td>\n",
       "      <td>0.900000</td>\n",
       "      <td>0.000000</td>\n",
       "      <td>0.000000</td>\n",
       "      <td>0.000000</td>\n",
       "      <td>0.000000</td>\n",
       "      <td>8.000000</td>\n",
       "    </tr>\n",
       "    <tr>\n",
       "      <th>25%</th>\n",
       "      <td>14.000000</td>\n",
       "      <td>1.500000</td>\n",
       "      <td>589.000000</td>\n",
       "      <td>1600.000000</td>\n",
       "      <td>900.000000</td>\n",
       "      <td>1.440000e+06</td>\n",
       "      <td>127.335675</td>\n",
       "      <td>1.960000</td>\n",
       "      <td>0.000000</td>\n",
       "      <td>0.000000</td>\n",
       "      <td>0.000000</td>\n",
       "      <td>0.000000</td>\n",
       "      <td>256.000000</td>\n",
       "    </tr>\n",
       "    <tr>\n",
       "      <th>50%</th>\n",
       "      <td>15.600000</td>\n",
       "      <td>2.040000</td>\n",
       "      <td>949.000000</td>\n",
       "      <td>1920.000000</td>\n",
       "      <td>1080.000000</td>\n",
       "      <td>2.073600e+06</td>\n",
       "      <td>141.211998</td>\n",
       "      <td>2.500000</td>\n",
       "      <td>0.000000</td>\n",
       "      <td>0.000000</td>\n",
       "      <td>0.000000</td>\n",
       "      <td>128.000000</td>\n",
       "      <td>500.000000</td>\n",
       "    </tr>\n",
       "    <tr>\n",
       "      <th>75%</th>\n",
       "      <td>15.600000</td>\n",
       "      <td>2.300000</td>\n",
       "      <td>1428.000000</td>\n",
       "      <td>1920.000000</td>\n",
       "      <td>1080.000000</td>\n",
       "      <td>2.073600e+06</td>\n",
       "      <td>157.350512</td>\n",
       "      <td>2.700000</td>\n",
       "      <td>1000.000000</td>\n",
       "      <td>0.000000</td>\n",
       "      <td>0.000000</td>\n",
       "      <td>256.000000</td>\n",
       "      <td>1000.000000</td>\n",
       "    </tr>\n",
       "    <tr>\n",
       "      <th>max</th>\n",
       "      <td>18.400000</td>\n",
       "      <td>4.700000</td>\n",
       "      <td>3975.000000</td>\n",
       "      <td>3840.000000</td>\n",
       "      <td>2160.000000</td>\n",
       "      <td>8.294400e+06</td>\n",
       "      <td>352.465147</td>\n",
       "      <td>3.600000</td>\n",
       "      <td>2000.000000</td>\n",
       "      <td>508.000000</td>\n",
       "      <td>512.000000</td>\n",
       "      <td>1024.000000</td>\n",
       "      <td>2512.000000</td>\n",
       "    </tr>\n",
       "  </tbody>\n",
       "</table>\n",
       "</div>"
      ],
      "text/plain": [
       "            Inches  Weight (kg)  Price_euros  Pixel Width  Pixel Height  \\\n",
       "count  1039.000000  1039.000000  1039.000000  1039.000000   1039.000000   \n",
       "mean     15.009625     2.033560  1086.379134  1884.125120   1064.904716   \n",
       "std       1.415651     0.654924   650.596181   481.323885    277.624657   \n",
       "min      10.100000     0.690000   174.000000  1366.000000    768.000000   \n",
       "25%      14.000000     1.500000   589.000000  1600.000000    900.000000   \n",
       "50%      15.600000     2.040000   949.000000  1920.000000   1080.000000   \n",
       "75%      15.600000     2.300000  1428.000000  1920.000000   1080.000000   \n",
       "max      18.400000     4.700000  3975.000000  3840.000000   2160.000000   \n",
       "\n",
       "       Total Pixels  Pixel Density  Cpu Clock Speed (GHz)  HDD Memory (GB)  \\\n",
       "count  1.039000e+03    1039.000000            1039.000000      1039.000000   \n",
       "mean   2.139080e+06     145.851191               2.286102       424.600577   \n",
       "std    1.348145e+06      42.205176               0.510468       520.023544   \n",
       "min    1.049088e+06      90.583402               0.900000         0.000000   \n",
       "25%    1.440000e+06     127.335675               1.960000         0.000000   \n",
       "50%    2.073600e+06     141.211998               2.500000         0.000000   \n",
       "75%    2.073600e+06     157.350512               2.700000      1000.000000   \n",
       "max    8.294400e+06     352.465147               3.600000      2000.000000   \n",
       "\n",
       "       Hybrid Memory (GB)  Flash Memory (GB)  SSD Memory (GB)  \\\n",
       "count         1039.000000        1039.000000      1039.000000   \n",
       "mean             0.488932           4.404235       177.374398   \n",
       "std             15.759990          27.450257       184.784636   \n",
       "min              0.000000           0.000000         0.000000   \n",
       "25%              0.000000           0.000000         0.000000   \n",
       "50%              0.000000           0.000000       128.000000   \n",
       "75%              0.000000           0.000000       256.000000   \n",
       "max            508.000000         512.000000      1024.000000   \n",
       "\n",
       "       Total Memory (GB)  \n",
       "count        1039.000000  \n",
       "mean          606.868142  \n",
       "std           470.048098  \n",
       "min             8.000000  \n",
       "25%           256.000000  \n",
       "50%           500.000000  \n",
       "75%          1000.000000  \n",
       "max          2512.000000  "
      ]
     },
     "execution_count": 10,
     "metadata": {},
     "output_type": "execute_result"
    }
   ],
   "source": [
    "train[num_feats].describe()"
   ]
  },
  {
   "cell_type": "markdown",
   "metadata": {},
   "source": [
    "We will apply a logaritmic transformation to all the numeric variables\n",
    "except Price_euros, HDD Memory (GB), Hybrid Memory (GB), Flash Memory (GB), \n",
    "and SSD Memory (GB)."
   ]
  },
  {
   "cell_type": "markdown",
   "metadata": {},
   "source": [
    "First, we will create a new list of numerical variables\n",
    "that we will apply the logarithmic transformation to."
   ]
  },
  {
   "cell_type": "code",
   "execution_count": 11,
   "metadata": {},
   "outputs": [
    {
     "data": {
      "text/plain": [
       "['Inches',\n",
       " 'Weight (kg)',\n",
       " 'Pixel Width',\n",
       " 'Pixel Height',\n",
       " 'Total Pixels',\n",
       " 'Pixel Density',\n",
       " 'Cpu Clock Speed (GHz)',\n",
       " 'Total Memory (GB)']"
      ]
     },
     "execution_count": 11,
     "metadata": {},
     "output_type": "execute_result"
    }
   ],
   "source": [
    "num_feats_log = num_feats[:2] + num_feats[3:8] + [num_feats[12]]\n",
    "num_feats_log"
   ]
  },
  {
   "cell_type": "markdown",
   "metadata": {},
   "source": [
    " Now, we will apply the logarithmic transformation to \n",
    " the features in num_feats_log for the training set."
   ]
  },
  {
   "cell_type": "code",
   "execution_count": 12,
   "metadata": {},
   "outputs": [],
   "source": [
    "for var in num_feats_log:\n",
    "    train[var + '_log'] = train[var].apply(np.log)"
   ]
  },
  {
   "cell_type": "markdown",
   "metadata": {},
   "source": [
    "Let us look at some descriptive statistics for these new variables."
   ]
  },
  {
   "cell_type": "code",
   "execution_count": 13,
   "metadata": {},
   "outputs": [],
   "source": [
    "# Create a list of the logarithmically transformed variables.\n",
    "\n",
    "num_feats_log_2 = [var + '_log' for var in num_feats_log]"
   ]
  },
  {
   "cell_type": "code",
   "execution_count": 14,
   "metadata": {},
   "outputs": [
    {
     "data": {
      "text/html": [
       "<div>\n",
       "<style scoped>\n",
       "    .dataframe tbody tr th:only-of-type {\n",
       "        vertical-align: middle;\n",
       "    }\n",
       "\n",
       "    .dataframe tbody tr th {\n",
       "        vertical-align: top;\n",
       "    }\n",
       "\n",
       "    .dataframe thead th {\n",
       "        text-align: right;\n",
       "    }\n",
       "</style>\n",
       "<table border=\"1\" class=\"dataframe\">\n",
       "  <thead>\n",
       "    <tr style=\"text-align: right;\">\n",
       "      <th></th>\n",
       "      <th>Inches_log</th>\n",
       "      <th>Weight (kg)_log</th>\n",
       "      <th>Pixel Width_log</th>\n",
       "      <th>Pixel Height_log</th>\n",
       "      <th>Total Pixels_log</th>\n",
       "      <th>Pixel Density_log</th>\n",
       "      <th>Cpu Clock Speed (GHz)_log</th>\n",
       "      <th>Total Memory (GB)_log</th>\n",
       "    </tr>\n",
       "  </thead>\n",
       "  <tbody>\n",
       "    <tr>\n",
       "      <th>count</th>\n",
       "      <td>1039.000000</td>\n",
       "      <td>1039.000000</td>\n",
       "      <td>1039.000000</td>\n",
       "      <td>1039.000000</td>\n",
       "      <td>1039.000000</td>\n",
       "      <td>1039.000000</td>\n",
       "      <td>1039.000000</td>\n",
       "      <td>1039.000000</td>\n",
       "    </tr>\n",
       "    <tr>\n",
       "      <th>mean</th>\n",
       "      <td>2.704044</td>\n",
       "      <td>0.661041</td>\n",
       "      <td>7.514795</td>\n",
       "      <td>6.943039</td>\n",
       "      <td>14.457833</td>\n",
       "      <td>4.949168</td>\n",
       "      <td>0.796341</td>\n",
       "      <td>6.039887</td>\n",
       "    </tr>\n",
       "    <tr>\n",
       "      <th>std</th>\n",
       "      <td>0.097661</td>\n",
       "      <td>0.312513</td>\n",
       "      <td>0.221022</td>\n",
       "      <td>0.225884</td>\n",
       "      <td>0.446377</td>\n",
       "      <td>0.247440</td>\n",
       "      <td>0.261188</td>\n",
       "      <td>0.974292</td>\n",
       "    </tr>\n",
       "    <tr>\n",
       "      <th>min</th>\n",
       "      <td>2.312535</td>\n",
       "      <td>-0.371064</td>\n",
       "      <td>7.219642</td>\n",
       "      <td>6.643790</td>\n",
       "      <td>13.863432</td>\n",
       "      <td>4.506271</td>\n",
       "      <td>-0.105361</td>\n",
       "      <td>2.079442</td>\n",
       "    </tr>\n",
       "    <tr>\n",
       "      <th>25%</th>\n",
       "      <td>2.639057</td>\n",
       "      <td>0.405465</td>\n",
       "      <td>7.377759</td>\n",
       "      <td>6.802395</td>\n",
       "      <td>14.180154</td>\n",
       "      <td>4.846827</td>\n",
       "      <td>0.672736</td>\n",
       "      <td>5.545177</td>\n",
       "    </tr>\n",
       "    <tr>\n",
       "      <th>50%</th>\n",
       "      <td>2.747271</td>\n",
       "      <td>0.712950</td>\n",
       "      <td>7.560080</td>\n",
       "      <td>6.984716</td>\n",
       "      <td>14.544797</td>\n",
       "      <td>4.950262</td>\n",
       "      <td>0.916291</td>\n",
       "      <td>6.214608</td>\n",
       "    </tr>\n",
       "    <tr>\n",
       "      <th>75%</th>\n",
       "      <td>2.747271</td>\n",
       "      <td>0.832909</td>\n",
       "      <td>7.560080</td>\n",
       "      <td>6.984716</td>\n",
       "      <td>14.544797</td>\n",
       "      <td>5.058476</td>\n",
       "      <td>0.993252</td>\n",
       "      <td>6.907755</td>\n",
       "    </tr>\n",
       "    <tr>\n",
       "      <th>max</th>\n",
       "      <td>2.912351</td>\n",
       "      <td>1.547563</td>\n",
       "      <td>8.253228</td>\n",
       "      <td>7.677864</td>\n",
       "      <td>15.931091</td>\n",
       "      <td>5.864952</td>\n",
       "      <td>1.280934</td>\n",
       "      <td>7.828835</td>\n",
       "    </tr>\n",
       "  </tbody>\n",
       "</table>\n",
       "</div>"
      ],
      "text/plain": [
       "        Inches_log  Weight (kg)_log  Pixel Width_log  Pixel Height_log  \\\n",
       "count  1039.000000      1039.000000      1039.000000       1039.000000   \n",
       "mean      2.704044         0.661041         7.514795          6.943039   \n",
       "std       0.097661         0.312513         0.221022          0.225884   \n",
       "min       2.312535        -0.371064         7.219642          6.643790   \n",
       "25%       2.639057         0.405465         7.377759          6.802395   \n",
       "50%       2.747271         0.712950         7.560080          6.984716   \n",
       "75%       2.747271         0.832909         7.560080          6.984716   \n",
       "max       2.912351         1.547563         8.253228          7.677864   \n",
       "\n",
       "       Total Pixels_log  Pixel Density_log  Cpu Clock Speed (GHz)_log  \\\n",
       "count       1039.000000        1039.000000                1039.000000   \n",
       "mean          14.457833           4.949168                   0.796341   \n",
       "std            0.446377           0.247440                   0.261188   \n",
       "min           13.863432           4.506271                  -0.105361   \n",
       "25%           14.180154           4.846827                   0.672736   \n",
       "50%           14.544797           4.950262                   0.916291   \n",
       "75%           14.544797           5.058476                   0.993252   \n",
       "max           15.931091           5.864952                   1.280934   \n",
       "\n",
       "       Total Memory (GB)_log  \n",
       "count            1039.000000  \n",
       "mean                6.039887  \n",
       "std                 0.974292  \n",
       "min                 2.079442  \n",
       "25%                 5.545177  \n",
       "50%                 6.214608  \n",
       "75%                 6.907755  \n",
       "max                 7.828835  "
      ]
     },
     "execution_count": 14,
     "metadata": {},
     "output_type": "execute_result"
    }
   ],
   "source": [
    "train[num_feats_log_2].describe()"
   ]
  },
  {
   "cell_type": "markdown",
   "metadata": {},
   "source": [
    "Next, we will look at distribution plots for these new features in the training set."
   ]
  },
  {
   "cell_type": "code",
   "execution_count": 15,
   "metadata": {},
   "outputs": [
    {
     "data": {
      "image/png": "[encoded data removed]",
      "text/plain": [
       "<Figure size 432x288 with 1 Axes>"
      ]
     },
     "metadata": {
      "needs_background": "light"
     },
     "output_type": "display_data"
    },
    {
     "data": {
      "image/png": "[encoded data removed]",
      "text/plain": [
       "<Figure size 432x288 with 1 Axes>"
      ]
     },
     "metadata": {
      "needs_background": "light"
     },
     "output_type": "display_data"
    },
    {
     "data": {
      "image/png": "[encoded data removed]",
      "text/plain": [
       "<Figure size 432x288 with 1 Axes>"
      ]
     },
     "metadata": {
      "needs_background": "light"
     },
     "output_type": "display_data"
    },
    {
     "data": {
      "image/png": "[encoded data removed]",
      "text/plain": [
       "<Figure size 432x288 with 1 Axes>"
      ]
     },
     "metadata": {
      "needs_background": "light"
     },
     "output_type": "display_data"
    },
    {
     "data": {
      "image/png": "[encoded data removed]",
      "text/plain": [
       "<Figure size 432x288 with 1 Axes>"
      ]
     },
     "metadata": {
      "needs_background": "light"
     },
     "output_type": "display_data"
    },
    {
     "data": {
      "image/png": "[encoded data removed]",
      "text/plain": [
       "<Figure size 432x288 with 1 Axes>"
      ]
     },
     "metadata": {
      "needs_background": "light"
     },
     "output_type": "display_data"
    },
    {
     "data": {
      "image/png": "[encoded data removed]",
      "text/plain": [
       "<Figure size 432x288 with 1 Axes>"
      ]
     },
     "metadata": {
      "needs_background": "light"
     },
     "output_type": "display_data"
    },
    {
     "data": {
      "image/png": "[encoded data removed]",
      "text/plain": [
       "<Figure size 432x288 with 1 Axes>"
      ]
     },
     "metadata": {
      "needs_background": "light"
     },
     "output_type": "display_data"
    }
   ],
   "source": [
    "for var in num_feats_log_2:\n",
    "    sns.distplot(train[var])\n",
    "    plt.xlabel(var)\n",
    "    plt.ylabel('Density')\n",
    "    plt.show()\n",
    "    "
   ]
  },
  {
   "cell_type": "markdown",
   "metadata": {},
   "source": [
    " Now, we will apply the logarithmic transformation to \n",
    " the features in num_feats_log for the test set."
   ]
  },
  {
   "cell_type": "code",
   "execution_count": 16,
   "metadata": {},
   "outputs": [],
   "source": [
    "for var in num_feats_log:\n",
    "    test[var + '_log'] = test[var].apply(np.log)"
   ]
  },
  {
   "cell_type": "markdown",
   "metadata": {},
   "source": [
    "We will check the shape and the datatypes of the training and tests again."
   ]
  },
  {
   "cell_type": "code",
   "execution_count": 17,
   "metadata": {},
   "outputs": [
    {
     "data": {
      "text/plain": [
       "(1039, 37)"
      ]
     },
     "execution_count": 17,
     "metadata": {},
     "output_type": "execute_result"
    }
   ],
   "source": [
    "train.shape"
   ]
  },
  {
   "cell_type": "code",
   "execution_count": 18,
   "metadata": {},
   "outputs": [
    {
     "data": {
      "text/plain": [
       "Company                       object\n",
       "TypeName                      object\n",
       "Inches                       float64\n",
       "Ram                           object\n",
       "OpSys                         object\n",
       "Weight (kg)                  float64\n",
       "Price_euros                  float64\n",
       "Brand                         object\n",
       "Resolution                    object\n",
       "Pixel Width                    int64\n",
       "Pixel Height                   int64\n",
       "Total Pixels                   int64\n",
       "Pixel Density                float64\n",
       "IPS Panel                       bool\n",
       "Touchscreen                     bool\n",
       "Cpu Clock Speed (GHz)        float64\n",
       "Cpu Brand                     object\n",
       "Simple Cpu Brand              object\n",
       "Cpu Company                   object\n",
       "Memory Type                   object\n",
       "HDD Memory (GB)                int64\n",
       "Hybrid Memory (GB)             int64\n",
       "Flash Memory (GB)              int64\n",
       "SSD Memory (GB)                int64\n",
       "Total Memory (GB)              int64\n",
       "Gpu Brand                     object\n",
       "Simple Gpu Brand              object\n",
       "Gpu Company                   object\n",
       "Simple OpSys                  object\n",
       "Inches_log                   float64\n",
       "Weight (kg)_log              float64\n",
       "Pixel Width_log              float64\n",
       "Pixel Height_log             float64\n",
       "Total Pixels_log             float64\n",
       "Pixel Density_log            float64\n",
       "Cpu Clock Speed (GHz)_log    float64\n",
       "Total Memory (GB)_log        float64\n",
       "dtype: object"
      ]
     },
     "execution_count": 18,
     "metadata": {},
     "output_type": "execute_result"
    }
   ],
   "source": [
    "train.dtypes"
   ]
  },
  {
   "cell_type": "code",
   "execution_count": 19,
   "metadata": {},
   "outputs": [
    {
     "data": {
      "text/plain": [
       "(261, 37)"
      ]
     },
     "execution_count": 19,
     "metadata": {},
     "output_type": "execute_result"
    }
   ],
   "source": [
    "test.shape"
   ]
  },
  {
   "cell_type": "code",
   "execution_count": 20,
   "metadata": {},
   "outputs": [
    {
     "data": {
      "text/plain": [
       "Company                       object\n",
       "TypeName                      object\n",
       "Inches                       float64\n",
       "Ram                           object\n",
       "OpSys                         object\n",
       "Weight (kg)                  float64\n",
       "Price_euros                  float64\n",
       "Brand                         object\n",
       "Resolution                    object\n",
       "Pixel Width                    int64\n",
       "Pixel Height                   int64\n",
       "Total Pixels                   int64\n",
       "Pixel Density                float64\n",
       "IPS Panel                       bool\n",
       "Touchscreen                     bool\n",
       "Cpu Clock Speed (GHz)        float64\n",
       "Cpu Brand                     object\n",
       "Simple Cpu Brand              object\n",
       "Cpu Company                   object\n",
       "Memory Type                   object\n",
       "HDD Memory (GB)                int64\n",
       "Hybrid Memory (GB)             int64\n",
       "Flash Memory (GB)              int64\n",
       "SSD Memory (GB)                int64\n",
       "Total Memory (GB)              int64\n",
       "Gpu Brand                     object\n",
       "Simple Gpu Brand              object\n",
       "Gpu Company                   object\n",
       "Simple OpSys                  object\n",
       "Inches_log                   float64\n",
       "Weight (kg)_log              float64\n",
       "Pixel Width_log              float64\n",
       "Pixel Height_log             float64\n",
       "Total Pixels_log             float64\n",
       "Pixel Density_log            float64\n",
       "Cpu Clock Speed (GHz)_log    float64\n",
       "Total Memory (GB)_log        float64\n",
       "dtype: object"
      ]
     },
     "execution_count": 20,
     "metadata": {},
     "output_type": "execute_result"
    }
   ],
   "source": [
    "test.dtypes"
   ]
  },
  {
   "cell_type": "markdown",
   "metadata": {},
   "source": [
    "Next, we will scale all the numeric features."
   ]
  },
  {
   "cell_type": "markdown",
   "metadata": {},
   "source": [
    "Since we increased the number of numeric features, \n",
    "we must update the list of numeric features."
   ]
  },
  {
   "cell_type": "code",
   "execution_count": 21,
   "metadata": {
    "papermill": {
     "duration": 0.418438,
     "end_time": "2022-06-10T20:01:42.407327",
     "exception": false,
     "start_time": "2022-06-10T20:01:41.988889",
     "status": "completed"
    },
    "tags": []
   },
   "outputs": [
    {
     "data": {
      "text/plain": [
       "['Inches',\n",
       " 'Weight (kg)',\n",
       " 'Price_euros',\n",
       " 'Pixel Width',\n",
       " 'Pixel Height',\n",
       " 'Total Pixels',\n",
       " 'Pixel Density',\n",
       " 'Cpu Clock Speed (GHz)',\n",
       " 'HDD Memory (GB)',\n",
       " 'Hybrid Memory (GB)',\n",
       " 'Flash Memory (GB)',\n",
       " 'SSD Memory (GB)',\n",
       " 'Total Memory (GB)',\n",
       " 'Inches_log',\n",
       " 'Weight (kg)_log',\n",
       " 'Pixel Width_log',\n",
       " 'Pixel Height_log',\n",
       " 'Total Pixels_log',\n",
       " 'Pixel Density_log',\n",
       " 'Cpu Clock Speed (GHz)_log',\n",
       " 'Total Memory (GB)_log']"
      ]
     },
     "execution_count": 21,
     "metadata": {},
     "output_type": "execute_result"
    }
   ],
   "source": [
    "num_feats_2 = train.select_dtypes(include='number').columns.to_list()\n",
    "num_feats_2"
   ]
  },
  {
   "cell_type": "markdown",
   "metadata": {},
   "source": [
    "First, we will scale the numeric features in the training set."
   ]
  },
  {
   "cell_type": "code",
   "execution_count": 22,
   "metadata": {},
   "outputs": [],
   "source": [
    "scaler = StandardScaler()\n",
    "train_scaled = pd.DataFrame(scaler.fit_transform(train[num_feats_2]))"
   ]
  },
  {
   "cell_type": "markdown",
   "metadata": {},
   "source": [
    "We will compare the first few rows of the numeric features \n",
    "with the corresponding rows of the scaled numeric features."
   ]
  },
  {
   "cell_type": "code",
   "execution_count": 23,
   "metadata": {},
   "outputs": [
    {
     "data": {
      "text/html": [
       "<div>\n",
       "<style scoped>\n",
       "    .dataframe tbody tr th:only-of-type {\n",
       "        vertical-align: middle;\n",
       "    }\n",
       "\n",
       "    .dataframe tbody tr th {\n",
       "        vertical-align: top;\n",
       "    }\n",
       "\n",
       "    .dataframe thead th {\n",
       "        text-align: right;\n",
       "    }\n",
       "</style>\n",
       "<table border=\"1\" class=\"dataframe\">\n",
       "  <thead>\n",
       "    <tr style=\"text-align: right;\">\n",
       "      <th></th>\n",
       "      <th>Inches</th>\n",
       "      <th>Weight (kg)</th>\n",
       "      <th>Price_euros</th>\n",
       "      <th>Pixel Width</th>\n",
       "      <th>Pixel Height</th>\n",
       "      <th>Total Pixels</th>\n",
       "      <th>Pixel Density</th>\n",
       "      <th>Cpu Clock Speed (GHz)</th>\n",
       "      <th>HDD Memory (GB)</th>\n",
       "      <th>Hybrid Memory (GB)</th>\n",
       "      <th>...</th>\n",
       "      <th>SSD Memory (GB)</th>\n",
       "      <th>Total Memory (GB)</th>\n",
       "      <th>Inches_log</th>\n",
       "      <th>Weight (kg)_log</th>\n",
       "      <th>Pixel Width_log</th>\n",
       "      <th>Pixel Height_log</th>\n",
       "      <th>Total Pixels_log</th>\n",
       "      <th>Pixel Density_log</th>\n",
       "      <th>Cpu Clock Speed (GHz)_log</th>\n",
       "      <th>Total Memory (GB)_log</th>\n",
       "    </tr>\n",
       "  </thead>\n",
       "  <tbody>\n",
       "    <tr>\n",
       "      <th>1249</th>\n",
       "      <td>13.3</td>\n",
       "      <td>1.24</td>\n",
       "      <td>1813.0</td>\n",
       "      <td>3200</td>\n",
       "      <td>1800</td>\n",
       "      <td>5760000</td>\n",
       "      <td>276.053530</td>\n",
       "      <td>1.2</td>\n",
       "      <td>0</td>\n",
       "      <td>0</td>\n",
       "      <td>...</td>\n",
       "      <td>256</td>\n",
       "      <td>256</td>\n",
       "      <td>2.587764</td>\n",
       "      <td>0.215111</td>\n",
       "      <td>8.070906</td>\n",
       "      <td>7.495542</td>\n",
       "      <td>15.566448</td>\n",
       "      <td>5.620595</td>\n",
       "      <td>0.182322</td>\n",
       "      <td>5.545177</td>\n",
       "    </tr>\n",
       "    <tr>\n",
       "      <th>1186</th>\n",
       "      <td>15.6</td>\n",
       "      <td>2.09</td>\n",
       "      <td>1179.0</td>\n",
       "      <td>1920</td>\n",
       "      <td>1080</td>\n",
       "      <td>2073600</td>\n",
       "      <td>141.211998</td>\n",
       "      <td>2.7</td>\n",
       "      <td>0</td>\n",
       "      <td>0</td>\n",
       "      <td>...</td>\n",
       "      <td>512</td>\n",
       "      <td>512</td>\n",
       "      <td>2.747271</td>\n",
       "      <td>0.737164</td>\n",
       "      <td>7.560080</td>\n",
       "      <td>6.984716</td>\n",
       "      <td>14.544797</td>\n",
       "      <td>4.950262</td>\n",
       "      <td>0.993252</td>\n",
       "      <td>6.238325</td>\n",
       "    </tr>\n",
       "    <tr>\n",
       "      <th>568</th>\n",
       "      <td>15.6</td>\n",
       "      <td>2.20</td>\n",
       "      <td>344.0</td>\n",
       "      <td>1920</td>\n",
       "      <td>1080</td>\n",
       "      <td>2073600</td>\n",
       "      <td>141.211998</td>\n",
       "      <td>1.1</td>\n",
       "      <td>500</td>\n",
       "      <td>0</td>\n",
       "      <td>...</td>\n",
       "      <td>0</td>\n",
       "      <td>500</td>\n",
       "      <td>2.747271</td>\n",
       "      <td>0.788457</td>\n",
       "      <td>7.560080</td>\n",
       "      <td>6.984716</td>\n",
       "      <td>14.544797</td>\n",
       "      <td>4.950262</td>\n",
       "      <td>0.095310</td>\n",
       "      <td>6.214608</td>\n",
       "    </tr>\n",
       "    <tr>\n",
       "      <th>1251</th>\n",
       "      <td>15.6</td>\n",
       "      <td>1.86</td>\n",
       "      <td>399.0</td>\n",
       "      <td>1366</td>\n",
       "      <td>768</td>\n",
       "      <td>1049088</td>\n",
       "      <td>100.454670</td>\n",
       "      <td>2.5</td>\n",
       "      <td>500</td>\n",
       "      <td>0</td>\n",
       "      <td>...</td>\n",
       "      <td>0</td>\n",
       "      <td>500</td>\n",
       "      <td>2.747271</td>\n",
       "      <td>0.620576</td>\n",
       "      <td>7.219642</td>\n",
       "      <td>6.643790</td>\n",
       "      <td>13.863432</td>\n",
       "      <td>4.609707</td>\n",
       "      <td>0.916291</td>\n",
       "      <td>6.214608</td>\n",
       "    </tr>\n",
       "    <tr>\n",
       "      <th>491</th>\n",
       "      <td>13.3</td>\n",
       "      <td>1.05</td>\n",
       "      <td>2799.0</td>\n",
       "      <td>1920</td>\n",
       "      <td>1080</td>\n",
       "      <td>2073600</td>\n",
       "      <td>165.632118</td>\n",
       "      <td>2.7</td>\n",
       "      <td>0</td>\n",
       "      <td>0</td>\n",
       "      <td>...</td>\n",
       "      <td>512</td>\n",
       "      <td>512</td>\n",
       "      <td>2.587764</td>\n",
       "      <td>0.048790</td>\n",
       "      <td>7.560080</td>\n",
       "      <td>6.984716</td>\n",
       "      <td>14.544797</td>\n",
       "      <td>5.109769</td>\n",
       "      <td>0.993252</td>\n",
       "      <td>6.238325</td>\n",
       "    </tr>\n",
       "  </tbody>\n",
       "</table>\n",
       "<p>5 rows × 21 columns</p>\n",
       "</div>"
      ],
      "text/plain": [
       "      Inches  Weight (kg)  Price_euros  Pixel Width  Pixel Height  \\\n",
       "1249    13.3         1.24       1813.0         3200          1800   \n",
       "1186    15.6         2.09       1179.0         1920          1080   \n",
       "568     15.6         2.20        344.0         1920          1080   \n",
       "1251    15.6         1.86        399.0         1366           768   \n",
       "491     13.3         1.05       2799.0         1920          1080   \n",
       "\n",
       "      Total Pixels  Pixel Density  Cpu Clock Speed (GHz)  HDD Memory (GB)  \\\n",
       "1249       5760000     276.053530                    1.2                0   \n",
       "1186       2073600     141.211998                    2.7                0   \n",
       "568        2073600     141.211998                    1.1              500   \n",
       "1251       1049088     100.454670                    2.5              500   \n",
       "491        2073600     165.632118                    2.7                0   \n",
       "\n",
       "      Hybrid Memory (GB)  ...  SSD Memory (GB)  Total Memory (GB)  Inches_log  \\\n",
       "1249                   0  ...              256                256    2.587764   \n",
       "1186                   0  ...              512                512    2.747271   \n",
       "568                    0  ...                0                500    2.747271   \n",
       "1251                   0  ...                0                500    2.747271   \n",
       "491                    0  ...              512                512    2.587764   \n",
       "\n",
       "      Weight (kg)_log  Pixel Width_log  Pixel Height_log  Total Pixels_log  \\\n",
       "1249         0.215111         8.070906          7.495542         15.566448   \n",
       "1186         0.737164         7.560080          6.984716         14.544797   \n",
       "568          0.788457         7.560080          6.984716         14.544797   \n",
       "1251         0.620576         7.219642          6.643790         13.863432   \n",
       "491          0.048790         7.560080          6.984716         14.544797   \n",
       "\n",
       "      Pixel Density_log  Cpu Clock Speed (GHz)_log  Total Memory (GB)_log  \n",
       "1249           5.620595                   0.182322               5.545177  \n",
       "1186           4.950262                   0.993252               6.238325  \n",
       "568            4.950262                   0.095310               6.214608  \n",
       "1251           4.609707                   0.916291               6.214608  \n",
       "491            5.109769                   0.993252               6.238325  \n",
       "\n",
       "[5 rows x 21 columns]"
      ]
     },
     "execution_count": 23,
     "metadata": {},
     "output_type": "execute_result"
    }
   ],
   "source": [
    "train[num_feats_2].head()"
   ]
  },
  {
   "cell_type": "code",
   "execution_count": 24,
   "metadata": {},
   "outputs": [
    {
     "data": {
      "text/html": [
       "<div>\n",
       "<style scoped>\n",
       "    .dataframe tbody tr th:only-of-type {\n",
       "        vertical-align: middle;\n",
       "    }\n",
       "\n",
       "    .dataframe tbody tr th {\n",
       "        vertical-align: top;\n",
       "    }\n",
       "\n",
       "    .dataframe thead th {\n",
       "        text-align: right;\n",
       "    }\n",
       "</style>\n",
       "<table border=\"1\" class=\"dataframe\">\n",
       "  <thead>\n",
       "    <tr style=\"text-align: right;\">\n",
       "      <th></th>\n",
       "      <th>0</th>\n",
       "      <th>1</th>\n",
       "      <th>2</th>\n",
       "      <th>3</th>\n",
       "      <th>4</th>\n",
       "      <th>5</th>\n",
       "      <th>6</th>\n",
       "      <th>7</th>\n",
       "      <th>8</th>\n",
       "      <th>9</th>\n",
       "      <th>...</th>\n",
       "      <th>11</th>\n",
       "      <th>12</th>\n",
       "      <th>13</th>\n",
       "      <th>14</th>\n",
       "      <th>15</th>\n",
       "      <th>16</th>\n",
       "      <th>17</th>\n",
       "      <th>18</th>\n",
       "      <th>19</th>\n",
       "      <th>20</th>\n",
       "    </tr>\n",
       "  </thead>\n",
       "  <tbody>\n",
       "    <tr>\n",
       "      <th>0</th>\n",
       "      <td>-1.208241</td>\n",
       "      <td>-1.212267</td>\n",
       "      <td>1.117392</td>\n",
       "      <td>2.735182</td>\n",
       "      <td>2.649078</td>\n",
       "      <td>2.687147</td>\n",
       "      <td>3.086471</td>\n",
       "      <td>-2.128685</td>\n",
       "      <td>-0.816896</td>\n",
       "      <td>-0.031039</td>\n",
       "      <td>...</td>\n",
       "      <td>0.425703</td>\n",
       "      <td>-0.746811</td>\n",
       "      <td>-1.191224</td>\n",
       "      <td>-1.427602</td>\n",
       "      <td>2.517308</td>\n",
       "      <td>2.447132</td>\n",
       "      <td>2.484779</td>\n",
       "      <td>2.714795</td>\n",
       "      <td>-2.352006</td>\n",
       "      <td>-0.508008</td>\n",
       "    </tr>\n",
       "    <tr>\n",
       "      <th>1</th>\n",
       "      <td>0.417235</td>\n",
       "      <td>0.086219</td>\n",
       "      <td>0.142432</td>\n",
       "      <td>0.074570</td>\n",
       "      <td>0.054399</td>\n",
       "      <td>-0.048594</td>\n",
       "      <td>-0.109973</td>\n",
       "      <td>0.811211</td>\n",
       "      <td>-0.816896</td>\n",
       "      <td>-0.031039</td>\n",
       "      <td>...</td>\n",
       "      <td>1.811767</td>\n",
       "      <td>-0.201924</td>\n",
       "      <td>0.442835</td>\n",
       "      <td>0.243700</td>\n",
       "      <td>0.204992</td>\n",
       "      <td>0.184597</td>\n",
       "      <td>0.194914</td>\n",
       "      <td>0.004425</td>\n",
       "      <td>0.754267</td>\n",
       "      <td>0.203772</td>\n",
       "    </tr>\n",
       "    <tr>\n",
       "      <th>2</th>\n",
       "      <td>0.417235</td>\n",
       "      <td>0.254259</td>\n",
       "      <td>-1.141625</td>\n",
       "      <td>0.074570</td>\n",
       "      <td>0.054399</td>\n",
       "      <td>-0.048594</td>\n",
       "      <td>-0.109973</td>\n",
       "      <td>-2.324678</td>\n",
       "      <td>0.145062</td>\n",
       "      <td>-0.031039</td>\n",
       "      <td>...</td>\n",
       "      <td>-0.960360</td>\n",
       "      <td>-0.227465</td>\n",
       "      <td>0.442835</td>\n",
       "      <td>0.407910</td>\n",
       "      <td>0.204992</td>\n",
       "      <td>0.184597</td>\n",
       "      <td>0.194914</td>\n",
       "      <td>0.004425</td>\n",
       "      <td>-2.685304</td>\n",
       "      <td>0.179418</td>\n",
       "    </tr>\n",
       "    <tr>\n",
       "      <th>3</th>\n",
       "      <td>0.417235</td>\n",
       "      <td>-0.265136</td>\n",
       "      <td>-1.057046</td>\n",
       "      <td>-1.076977</td>\n",
       "      <td>-1.069962</td>\n",
       "      <td>-0.808902</td>\n",
       "      <td>-1.076133</td>\n",
       "      <td>0.419225</td>\n",
       "      <td>0.145062</td>\n",
       "      <td>-0.031039</td>\n",
       "      <td>...</td>\n",
       "      <td>-0.960360</td>\n",
       "      <td>-0.227465</td>\n",
       "      <td>0.442835</td>\n",
       "      <td>-0.129544</td>\n",
       "      <td>-1.336045</td>\n",
       "      <td>-1.325427</td>\n",
       "      <td>-1.332255</td>\n",
       "      <td>-1.372552</td>\n",
       "      <td>0.459467</td>\n",
       "      <td>0.179418</td>\n",
       "    </tr>\n",
       "    <tr>\n",
       "      <th>4</th>\n",
       "      <td>-1.208241</td>\n",
       "      <td>-1.502516</td>\n",
       "      <td>2.633655</td>\n",
       "      <td>0.074570</td>\n",
       "      <td>0.054399</td>\n",
       "      <td>-0.048594</td>\n",
       "      <td>0.468911</td>\n",
       "      <td>0.811211</td>\n",
       "      <td>-0.816896</td>\n",
       "      <td>-0.031039</td>\n",
       "      <td>...</td>\n",
       "      <td>1.811767</td>\n",
       "      <td>-0.201924</td>\n",
       "      <td>-1.191224</td>\n",
       "      <td>-1.960064</td>\n",
       "      <td>0.204992</td>\n",
       "      <td>0.184597</td>\n",
       "      <td>0.194914</td>\n",
       "      <td>0.649362</td>\n",
       "      <td>0.754267</td>\n",
       "      <td>0.203772</td>\n",
       "    </tr>\n",
       "  </tbody>\n",
       "</table>\n",
       "<p>5 rows × 21 columns</p>\n",
       "</div>"
      ],
      "text/plain": [
       "         0         1         2         3         4         5         6   \\\n",
       "0 -1.208241 -1.212267  1.117392  2.735182  2.649078  2.687147  3.086471   \n",
       "1  0.417235  0.086219  0.142432  0.074570  0.054399 -0.048594 -0.109973   \n",
       "2  0.417235  0.254259 -1.141625  0.074570  0.054399 -0.048594 -0.109973   \n",
       "3  0.417235 -0.265136 -1.057046 -1.076977 -1.069962 -0.808902 -1.076133   \n",
       "4 -1.208241 -1.502516  2.633655  0.074570  0.054399 -0.048594  0.468911   \n",
       "\n",
       "         7         8         9   ...        11        12        13        14  \\\n",
       "0 -2.128685 -0.816896 -0.031039  ...  0.425703 -0.746811 -1.191224 -1.427602   \n",
       "1  0.811211 -0.816896 -0.031039  ...  1.811767 -0.201924  0.442835  0.243700   \n",
       "2 -2.324678  0.145062 -0.031039  ... -0.960360 -0.227465  0.442835  0.407910   \n",
       "3  0.419225  0.145062 -0.031039  ... -0.960360 -0.227465  0.442835 -0.129544   \n",
       "4  0.811211 -0.816896 -0.031039  ...  1.811767 -0.201924 -1.191224 -1.960064   \n",
       "\n",
       "         15        16        17        18        19        20  \n",
       "0  2.517308  2.447132  2.484779  2.714795 -2.352006 -0.508008  \n",
       "1  0.204992  0.184597  0.194914  0.004425  0.754267  0.203772  \n",
       "2  0.204992  0.184597  0.194914  0.004425 -2.685304  0.179418  \n",
       "3 -1.336045 -1.325427 -1.332255 -1.372552  0.459467  0.179418  \n",
       "4  0.204992  0.184597  0.194914  0.649362  0.754267  0.203772  \n",
       "\n",
       "[5 rows x 21 columns]"
      ]
     },
     "execution_count": 24,
     "metadata": {},
     "output_type": "execute_result"
    }
   ],
   "source": [
    "train_scaled.head()"
   ]
  },
  {
   "cell_type": "markdown",
   "metadata": {},
   "source": [
    "We need to make sure that the 2 dataframes of numeric features and scaled \n",
    "numeric features have the same row and column labels."
   ]
  },
  {
   "cell_type": "code",
   "execution_count": 25,
   "metadata": {},
   "outputs": [
    {
     "data": {
      "text/html": [
       "<div>\n",
       "<style scoped>\n",
       "    .dataframe tbody tr th:only-of-type {\n",
       "        vertical-align: middle;\n",
       "    }\n",
       "\n",
       "    .dataframe tbody tr th {\n",
       "        vertical-align: top;\n",
       "    }\n",
       "\n",
       "    .dataframe thead th {\n",
       "        text-align: right;\n",
       "    }\n",
       "</style>\n",
       "<table border=\"1\" class=\"dataframe\">\n",
       "  <thead>\n",
       "    <tr style=\"text-align: right;\">\n",
       "      <th></th>\n",
       "      <th>Inches</th>\n",
       "      <th>Weight (kg)</th>\n",
       "      <th>Price_euros</th>\n",
       "      <th>Pixel Width</th>\n",
       "      <th>Pixel Height</th>\n",
       "      <th>Total Pixels</th>\n",
       "      <th>Pixel Density</th>\n",
       "      <th>Cpu Clock Speed (GHz)</th>\n",
       "      <th>HDD Memory (GB)</th>\n",
       "      <th>Hybrid Memory (GB)</th>\n",
       "      <th>...</th>\n",
       "      <th>SSD Memory (GB)</th>\n",
       "      <th>Total Memory (GB)</th>\n",
       "      <th>Inches_log</th>\n",
       "      <th>Weight (kg)_log</th>\n",
       "      <th>Pixel Width_log</th>\n",
       "      <th>Pixel Height_log</th>\n",
       "      <th>Total Pixels_log</th>\n",
       "      <th>Pixel Density_log</th>\n",
       "      <th>Cpu Clock Speed (GHz)_log</th>\n",
       "      <th>Total Memory (GB)_log</th>\n",
       "    </tr>\n",
       "  </thead>\n",
       "  <tbody>\n",
       "    <tr>\n",
       "      <th>1249</th>\n",
       "      <td>-1.208241</td>\n",
       "      <td>-1.212267</td>\n",
       "      <td>1.117392</td>\n",
       "      <td>2.735182</td>\n",
       "      <td>2.649078</td>\n",
       "      <td>2.687147</td>\n",
       "      <td>3.086471</td>\n",
       "      <td>-2.128685</td>\n",
       "      <td>-0.816896</td>\n",
       "      <td>-0.031039</td>\n",
       "      <td>...</td>\n",
       "      <td>0.425703</td>\n",
       "      <td>-0.746811</td>\n",
       "      <td>-1.191224</td>\n",
       "      <td>-1.427602</td>\n",
       "      <td>2.517308</td>\n",
       "      <td>2.447132</td>\n",
       "      <td>2.484779</td>\n",
       "      <td>2.714795</td>\n",
       "      <td>-2.352006</td>\n",
       "      <td>-0.508008</td>\n",
       "    </tr>\n",
       "    <tr>\n",
       "      <th>1186</th>\n",
       "      <td>0.417235</td>\n",
       "      <td>0.086219</td>\n",
       "      <td>0.142432</td>\n",
       "      <td>0.074570</td>\n",
       "      <td>0.054399</td>\n",
       "      <td>-0.048594</td>\n",
       "      <td>-0.109973</td>\n",
       "      <td>0.811211</td>\n",
       "      <td>-0.816896</td>\n",
       "      <td>-0.031039</td>\n",
       "      <td>...</td>\n",
       "      <td>1.811767</td>\n",
       "      <td>-0.201924</td>\n",
       "      <td>0.442835</td>\n",
       "      <td>0.243700</td>\n",
       "      <td>0.204992</td>\n",
       "      <td>0.184597</td>\n",
       "      <td>0.194914</td>\n",
       "      <td>0.004425</td>\n",
       "      <td>0.754267</td>\n",
       "      <td>0.203772</td>\n",
       "    </tr>\n",
       "    <tr>\n",
       "      <th>568</th>\n",
       "      <td>0.417235</td>\n",
       "      <td>0.254259</td>\n",
       "      <td>-1.141625</td>\n",
       "      <td>0.074570</td>\n",
       "      <td>0.054399</td>\n",
       "      <td>-0.048594</td>\n",
       "      <td>-0.109973</td>\n",
       "      <td>-2.324678</td>\n",
       "      <td>0.145062</td>\n",
       "      <td>-0.031039</td>\n",
       "      <td>...</td>\n",
       "      <td>-0.960360</td>\n",
       "      <td>-0.227465</td>\n",
       "      <td>0.442835</td>\n",
       "      <td>0.407910</td>\n",
       "      <td>0.204992</td>\n",
       "      <td>0.184597</td>\n",
       "      <td>0.194914</td>\n",
       "      <td>0.004425</td>\n",
       "      <td>-2.685304</td>\n",
       "      <td>0.179418</td>\n",
       "    </tr>\n",
       "    <tr>\n",
       "      <th>1251</th>\n",
       "      <td>0.417235</td>\n",
       "      <td>-0.265136</td>\n",
       "      <td>-1.057046</td>\n",
       "      <td>-1.076977</td>\n",
       "      <td>-1.069962</td>\n",
       "      <td>-0.808902</td>\n",
       "      <td>-1.076133</td>\n",
       "      <td>0.419225</td>\n",
       "      <td>0.145062</td>\n",
       "      <td>-0.031039</td>\n",
       "      <td>...</td>\n",
       "      <td>-0.960360</td>\n",
       "      <td>-0.227465</td>\n",
       "      <td>0.442835</td>\n",
       "      <td>-0.129544</td>\n",
       "      <td>-1.336045</td>\n",
       "      <td>-1.325427</td>\n",
       "      <td>-1.332255</td>\n",
       "      <td>-1.372552</td>\n",
       "      <td>0.459467</td>\n",
       "      <td>0.179418</td>\n",
       "    </tr>\n",
       "    <tr>\n",
       "      <th>491</th>\n",
       "      <td>-1.208241</td>\n",
       "      <td>-1.502516</td>\n",
       "      <td>2.633655</td>\n",
       "      <td>0.074570</td>\n",
       "      <td>0.054399</td>\n",
       "      <td>-0.048594</td>\n",
       "      <td>0.468911</td>\n",
       "      <td>0.811211</td>\n",
       "      <td>-0.816896</td>\n",
       "      <td>-0.031039</td>\n",
       "      <td>...</td>\n",
       "      <td>1.811767</td>\n",
       "      <td>-0.201924</td>\n",
       "      <td>-1.191224</td>\n",
       "      <td>-1.960064</td>\n",
       "      <td>0.204992</td>\n",
       "      <td>0.184597</td>\n",
       "      <td>0.194914</td>\n",
       "      <td>0.649362</td>\n",
       "      <td>0.754267</td>\n",
       "      <td>0.203772</td>\n",
       "    </tr>\n",
       "  </tbody>\n",
       "</table>\n",
       "<p>5 rows × 21 columns</p>\n",
       "</div>"
      ],
      "text/plain": [
       "        Inches  Weight (kg)  Price_euros  Pixel Width  Pixel Height  \\\n",
       "1249 -1.208241    -1.212267     1.117392     2.735182      2.649078   \n",
       "1186  0.417235     0.086219     0.142432     0.074570      0.054399   \n",
       "568   0.417235     0.254259    -1.141625     0.074570      0.054399   \n",
       "1251  0.417235    -0.265136    -1.057046    -1.076977     -1.069962   \n",
       "491  -1.208241    -1.502516     2.633655     0.074570      0.054399   \n",
       "\n",
       "      Total Pixels  Pixel Density  Cpu Clock Speed (GHz)  HDD Memory (GB)  \\\n",
       "1249      2.687147       3.086471              -2.128685        -0.816896   \n",
       "1186     -0.048594      -0.109973               0.811211        -0.816896   \n",
       "568      -0.048594      -0.109973              -2.324678         0.145062   \n",
       "1251     -0.808902      -1.076133               0.419225         0.145062   \n",
       "491      -0.048594       0.468911               0.811211        -0.816896   \n",
       "\n",
       "      Hybrid Memory (GB)  ...  SSD Memory (GB)  Total Memory (GB)  Inches_log  \\\n",
       "1249           -0.031039  ...         0.425703          -0.746811   -1.191224   \n",
       "1186           -0.031039  ...         1.811767          -0.201924    0.442835   \n",
       "568            -0.031039  ...        -0.960360          -0.227465    0.442835   \n",
       "1251           -0.031039  ...        -0.960360          -0.227465    0.442835   \n",
       "491            -0.031039  ...         1.811767          -0.201924   -1.191224   \n",
       "\n",
       "      Weight (kg)_log  Pixel Width_log  Pixel Height_log  Total Pixels_log  \\\n",
       "1249        -1.427602         2.517308          2.447132          2.484779   \n",
       "1186         0.243700         0.204992          0.184597          0.194914   \n",
       "568          0.407910         0.204992          0.184597          0.194914   \n",
       "1251        -0.129544        -1.336045         -1.325427         -1.332255   \n",
       "491         -1.960064         0.204992          0.184597          0.194914   \n",
       "\n",
       "      Pixel Density_log  Cpu Clock Speed (GHz)_log  Total Memory (GB)_log  \n",
       "1249           2.714795                  -2.352006              -0.508008  \n",
       "1186           0.004425                   0.754267               0.203772  \n",
       "568            0.004425                  -2.685304               0.179418  \n",
       "1251          -1.372552                   0.459467               0.179418  \n",
       "491            0.649362                   0.754267               0.203772  \n",
       "\n",
       "[5 rows x 21 columns]"
      ]
     },
     "execution_count": 25,
     "metadata": {},
     "output_type": "execute_result"
    }
   ],
   "source": [
    "train_scaled.columns = train[num_feats_2].columns\n",
    "train_scaled.index = train[num_feats_2].index\n",
    "train_scaled.head()"
   ]
  },
  {
   "cell_type": "markdown",
   "metadata": {},
   "source": [
    "Now that the unscaled and scaled numeric features have the \n",
    "same row and column labels, we will replace the unscaled \n",
    "numeric features with the scaled numeric features."
   ]
  },
  {
   "cell_type": "code",
   "execution_count": 26,
   "metadata": {},
   "outputs": [],
   "source": [
    "# We will drop the numeric columns from train and replace them with the \n",
    "# columns from train_scaled.\n",
    "\n",
    "train.drop(columns = train_scaled.columns, inplace = True)\n",
    "train_new = pd.concat([train_scaled, train], axis=1)\n",
    "train = train_new"
   ]
  },
  {
   "cell_type": "markdown",
   "metadata": {},
   "source": [
    "We will check the shape and first few rows of the\n",
    "new training set to make sure it is okay."
   ]
  },
  {
   "cell_type": "code",
   "execution_count": 27,
   "metadata": {},
   "outputs": [
    {
     "data": {
      "text/plain": [
       "(1039, 37)"
      ]
     },
     "execution_count": 27,
     "metadata": {},
     "output_type": "execute_result"
    }
   ],
   "source": [
    "train.shape"
   ]
  },
  {
   "cell_type": "code",
   "execution_count": 28,
   "metadata": {},
   "outputs": [
    {
     "data": {
      "text/html": [
       "<div>\n",
       "<style scoped>\n",
       "    .dataframe tbody tr th:only-of-type {\n",
       "        vertical-align: middle;\n",
       "    }\n",
       "\n",
       "    .dataframe tbody tr th {\n",
       "        vertical-align: top;\n",
       "    }\n",
       "\n",
       "    .dataframe thead th {\n",
       "        text-align: right;\n",
       "    }\n",
       "</style>\n",
       "<table border=\"1\" class=\"dataframe\">\n",
       "  <thead>\n",
       "    <tr style=\"text-align: right;\">\n",
       "      <th></th>\n",
       "      <th>Inches</th>\n",
       "      <th>Weight (kg)</th>\n",
       "      <th>Price_euros</th>\n",
       "      <th>Pixel Width</th>\n",
       "      <th>Pixel Height</th>\n",
       "      <th>Total Pixels</th>\n",
       "      <th>Pixel Density</th>\n",
       "      <th>Cpu Clock Speed (GHz)</th>\n",
       "      <th>HDD Memory (GB)</th>\n",
       "      <th>Hybrid Memory (GB)</th>\n",
       "      <th>...</th>\n",
       "      <th>IPS Panel</th>\n",
       "      <th>Touchscreen</th>\n",
       "      <th>Cpu Brand</th>\n",
       "      <th>Simple Cpu Brand</th>\n",
       "      <th>Cpu Company</th>\n",
       "      <th>Memory Type</th>\n",
       "      <th>Gpu Brand</th>\n",
       "      <th>Simple Gpu Brand</th>\n",
       "      <th>Gpu Company</th>\n",
       "      <th>Simple OpSys</th>\n",
       "    </tr>\n",
       "  </thead>\n",
       "  <tbody>\n",
       "    <tr>\n",
       "      <th>1249</th>\n",
       "      <td>-1.208241</td>\n",
       "      <td>-1.212267</td>\n",
       "      <td>1.117392</td>\n",
       "      <td>2.735182</td>\n",
       "      <td>2.649078</td>\n",
       "      <td>2.687147</td>\n",
       "      <td>3.086471</td>\n",
       "      <td>-2.128685</td>\n",
       "      <td>-0.816896</td>\n",
       "      <td>-0.031039</td>\n",
       "      <td>...</td>\n",
       "      <td>False</td>\n",
       "      <td>True</td>\n",
       "      <td>Intel Core i5</td>\n",
       "      <td>Intel Core i5</td>\n",
       "      <td>Intel</td>\n",
       "      <td>SSD</td>\n",
       "      <td>Intel HD Graphics</td>\n",
       "      <td>Intel HD</td>\n",
       "      <td>Intel</td>\n",
       "      <td>Windows</td>\n",
       "    </tr>\n",
       "    <tr>\n",
       "      <th>1186</th>\n",
       "      <td>0.417235</td>\n",
       "      <td>0.086219</td>\n",
       "      <td>0.142432</td>\n",
       "      <td>0.074570</td>\n",
       "      <td>0.054399</td>\n",
       "      <td>-0.048594</td>\n",
       "      <td>-0.109973</td>\n",
       "      <td>0.811211</td>\n",
       "      <td>-0.816896</td>\n",
       "      <td>-0.031039</td>\n",
       "      <td>...</td>\n",
       "      <td>False</td>\n",
       "      <td>True</td>\n",
       "      <td>Intel Core i7</td>\n",
       "      <td>Intel Higher</td>\n",
       "      <td>Intel</td>\n",
       "      <td>SSD</td>\n",
       "      <td>Intel HD Graphics</td>\n",
       "      <td>Intel HD</td>\n",
       "      <td>Intel</td>\n",
       "      <td>Windows</td>\n",
       "    </tr>\n",
       "    <tr>\n",
       "      <th>568</th>\n",
       "      <td>0.417235</td>\n",
       "      <td>0.254259</td>\n",
       "      <td>-1.141625</td>\n",
       "      <td>0.074570</td>\n",
       "      <td>0.054399</td>\n",
       "      <td>-0.048594</td>\n",
       "      <td>-0.109973</td>\n",
       "      <td>-2.324678</td>\n",
       "      <td>0.145062</td>\n",
       "      <td>-0.031039</td>\n",
       "      <td>...</td>\n",
       "      <td>False</td>\n",
       "      <td>False</td>\n",
       "      <td>Intel Pentium Quad Core</td>\n",
       "      <td>Intel Other</td>\n",
       "      <td>Intel</td>\n",
       "      <td>HDD</td>\n",
       "      <td>Intel HD Graphics</td>\n",
       "      <td>Intel HD</td>\n",
       "      <td>Intel</td>\n",
       "      <td>Windows</td>\n",
       "    </tr>\n",
       "    <tr>\n",
       "      <th>1251</th>\n",
       "      <td>0.417235</td>\n",
       "      <td>-0.265136</td>\n",
       "      <td>-1.057046</td>\n",
       "      <td>-1.076977</td>\n",
       "      <td>-1.069962</td>\n",
       "      <td>-0.808902</td>\n",
       "      <td>-1.076133</td>\n",
       "      <td>0.419225</td>\n",
       "      <td>0.145062</td>\n",
       "      <td>-0.031039</td>\n",
       "      <td>...</td>\n",
       "      <td>False</td>\n",
       "      <td>False</td>\n",
       "      <td>AMD A6-Series</td>\n",
       "      <td>AMD</td>\n",
       "      <td>AMD</td>\n",
       "      <td>HDD</td>\n",
       "      <td>AMD Radeon R4</td>\n",
       "      <td>AMD Radeon</td>\n",
       "      <td>AMD</td>\n",
       "      <td>Windows</td>\n",
       "    </tr>\n",
       "    <tr>\n",
       "      <th>491</th>\n",
       "      <td>-1.208241</td>\n",
       "      <td>-1.502516</td>\n",
       "      <td>2.633655</td>\n",
       "      <td>0.074570</td>\n",
       "      <td>0.054399</td>\n",
       "      <td>-0.048594</td>\n",
       "      <td>0.468911</td>\n",
       "      <td>0.811211</td>\n",
       "      <td>-0.816896</td>\n",
       "      <td>-0.031039</td>\n",
       "      <td>...</td>\n",
       "      <td>False</td>\n",
       "      <td>True</td>\n",
       "      <td>Intel Core i7</td>\n",
       "      <td>Intel Higher</td>\n",
       "      <td>Intel</td>\n",
       "      <td>SSD</td>\n",
       "      <td>Intel HD Graphics</td>\n",
       "      <td>Intel HD</td>\n",
       "      <td>Intel</td>\n",
       "      <td>Windows</td>\n",
       "    </tr>\n",
       "  </tbody>\n",
       "</table>\n",
       "<p>5 rows × 37 columns</p>\n",
       "</div>"
      ],
      "text/plain": [
       "        Inches  Weight (kg)  Price_euros  Pixel Width  Pixel Height  \\\n",
       "1249 -1.208241    -1.212267     1.117392     2.735182      2.649078   \n",
       "1186  0.417235     0.086219     0.142432     0.074570      0.054399   \n",
       "568   0.417235     0.254259    -1.141625     0.074570      0.054399   \n",
       "1251  0.417235    -0.265136    -1.057046    -1.076977     -1.069962   \n",
       "491  -1.208241    -1.502516     2.633655     0.074570      0.054399   \n",
       "\n",
       "      Total Pixels  Pixel Density  Cpu Clock Speed (GHz)  HDD Memory (GB)  \\\n",
       "1249      2.687147       3.086471              -2.128685        -0.816896   \n",
       "1186     -0.048594      -0.109973               0.811211        -0.816896   \n",
       "568      -0.048594      -0.109973              -2.324678         0.145062   \n",
       "1251     -0.808902      -1.076133               0.419225         0.145062   \n",
       "491      -0.048594       0.468911               0.811211        -0.816896   \n",
       "\n",
       "      Hybrid Memory (GB)  ...  IPS Panel  Touchscreen  \\\n",
       "1249           -0.031039  ...      False         True   \n",
       "1186           -0.031039  ...      False         True   \n",
       "568            -0.031039  ...      False        False   \n",
       "1251           -0.031039  ...      False        False   \n",
       "491            -0.031039  ...      False         True   \n",
       "\n",
       "                    Cpu Brand  Simple Cpu Brand  Cpu Company  Memory Type  \\\n",
       "1249            Intel Core i5     Intel Core i5        Intel          SSD   \n",
       "1186            Intel Core i7      Intel Higher        Intel          SSD   \n",
       "568   Intel Pentium Quad Core       Intel Other        Intel          HDD   \n",
       "1251            AMD A6-Series               AMD          AMD          HDD   \n",
       "491             Intel Core i7      Intel Higher        Intel          SSD   \n",
       "\n",
       "              Gpu Brand  Simple Gpu Brand  Gpu Company  Simple OpSys  \n",
       "1249  Intel HD Graphics          Intel HD        Intel       Windows  \n",
       "1186  Intel HD Graphics          Intel HD        Intel       Windows  \n",
       "568   Intel HD Graphics          Intel HD        Intel       Windows  \n",
       "1251      AMD Radeon R4        AMD Radeon          AMD       Windows  \n",
       "491   Intel HD Graphics          Intel HD        Intel       Windows  \n",
       "\n",
       "[5 rows x 37 columns]"
      ]
     },
     "execution_count": 28,
     "metadata": {},
     "output_type": "execute_result"
    }
   ],
   "source": [
    "train.head()"
   ]
  },
  {
   "cell_type": "markdown",
   "metadata": {},
   "source": [
    "Since the new training set is okay, we will scale the numeric features in the test set."
   ]
  },
  {
   "cell_type": "code",
   "execution_count": 29,
   "metadata": {},
   "outputs": [],
   "source": [
    "# Here, we use transform instead of fit_transform because we want to scale\n",
    "# the test data with the means and standard deviations from the training set.\n",
    "# Also, we define the index and columns so that the 2 dataframes of numeric\n",
    "# features and scaled numeric features have the same row and column labels.\n",
    "\n",
    "test_scaled = pd.DataFrame(\n",
    "    scaler.transform(test[num_feats_2]),\n",
    "    index = test[num_feats_2].index,\n",
    "    columns = test[num_feats_2].columns\n",
    ")"
   ]
  },
  {
   "cell_type": "markdown",
   "metadata": {},
   "source": [
    "We will compare the first few rows of the numeric features with the \n",
    "corresponding rows of the scaled numeric features. This is to make \n",
    "sure that the 2 dataframes of numeric features and scaled numeric \n",
    "features have the same row and column labels. "
   ]
  },
  {
   "cell_type": "code",
   "execution_count": 30,
   "metadata": {},
   "outputs": [
    {
     "data": {
      "text/html": [
       "<div>\n",
       "<style scoped>\n",
       "    .dataframe tbody tr th:only-of-type {\n",
       "        vertical-align: middle;\n",
       "    }\n",
       "\n",
       "    .dataframe tbody tr th {\n",
       "        vertical-align: top;\n",
       "    }\n",
       "\n",
       "    .dataframe thead th {\n",
       "        text-align: right;\n",
       "    }\n",
       "</style>\n",
       "<table border=\"1\" class=\"dataframe\">\n",
       "  <thead>\n",
       "    <tr style=\"text-align: right;\">\n",
       "      <th></th>\n",
       "      <th>Inches</th>\n",
       "      <th>Weight (kg)</th>\n",
       "      <th>Price_euros</th>\n",
       "      <th>Pixel Width</th>\n",
       "      <th>Pixel Height</th>\n",
       "      <th>Total Pixels</th>\n",
       "      <th>Pixel Density</th>\n",
       "      <th>Cpu Clock Speed (GHz)</th>\n",
       "      <th>HDD Memory (GB)</th>\n",
       "      <th>Hybrid Memory (GB)</th>\n",
       "      <th>...</th>\n",
       "      <th>SSD Memory (GB)</th>\n",
       "      <th>Total Memory (GB)</th>\n",
       "      <th>Inches_log</th>\n",
       "      <th>Weight (kg)_log</th>\n",
       "      <th>Pixel Width_log</th>\n",
       "      <th>Pixel Height_log</th>\n",
       "      <th>Total Pixels_log</th>\n",
       "      <th>Pixel Density_log</th>\n",
       "      <th>Cpu Clock Speed (GHz)_log</th>\n",
       "      <th>Total Memory (GB)_log</th>\n",
       "    </tr>\n",
       "  </thead>\n",
       "  <tbody>\n",
       "    <tr>\n",
       "      <th>580</th>\n",
       "      <td>14.0</td>\n",
       "      <td>1.45</td>\n",
       "      <td>389.00</td>\n",
       "      <td>1920</td>\n",
       "      <td>1080</td>\n",
       "      <td>2073600</td>\n",
       "      <td>157.350512</td>\n",
       "      <td>1.1</td>\n",
       "      <td>0</td>\n",
       "      <td>0</td>\n",
       "      <td>...</td>\n",
       "      <td>32</td>\n",
       "      <td>32</td>\n",
       "      <td>2.639057</td>\n",
       "      <td>0.371564</td>\n",
       "      <td>7.560080</td>\n",
       "      <td>6.984716</td>\n",
       "      <td>14.544797</td>\n",
       "      <td>5.058476</td>\n",
       "      <td>0.095310</td>\n",
       "      <td>3.465736</td>\n",
       "    </tr>\n",
       "    <tr>\n",
       "      <th>1017</th>\n",
       "      <td>17.3</td>\n",
       "      <td>2.40</td>\n",
       "      <td>2968.00</td>\n",
       "      <td>3840</td>\n",
       "      <td>2160</td>\n",
       "      <td>8294400</td>\n",
       "      <td>254.671349</td>\n",
       "      <td>2.7</td>\n",
       "      <td>0</td>\n",
       "      <td>0</td>\n",
       "      <td>...</td>\n",
       "      <td>512</td>\n",
       "      <td>512</td>\n",
       "      <td>2.850707</td>\n",
       "      <td>0.875469</td>\n",
       "      <td>8.253228</td>\n",
       "      <td>7.677864</td>\n",
       "      <td>15.931091</td>\n",
       "      <td>5.539974</td>\n",
       "      <td>0.993252</td>\n",
       "      <td>6.238325</td>\n",
       "    </tr>\n",
       "    <tr>\n",
       "      <th>761</th>\n",
       "      <td>12.5</td>\n",
       "      <td>1.18</td>\n",
       "      <td>1859.00</td>\n",
       "      <td>1920</td>\n",
       "      <td>1080</td>\n",
       "      <td>2073600</td>\n",
       "      <td>176.232574</td>\n",
       "      <td>2.8</td>\n",
       "      <td>0</td>\n",
       "      <td>0</td>\n",
       "      <td>...</td>\n",
       "      <td>256</td>\n",
       "      <td>256</td>\n",
       "      <td>2.525729</td>\n",
       "      <td>0.165514</td>\n",
       "      <td>7.560080</td>\n",
       "      <td>6.984716</td>\n",
       "      <td>14.544797</td>\n",
       "      <td>5.171805</td>\n",
       "      <td>1.029619</td>\n",
       "      <td>5.545177</td>\n",
       "    </tr>\n",
       "    <tr>\n",
       "      <th>686</th>\n",
       "      <td>15.6</td>\n",
       "      <td>1.86</td>\n",
       "      <td>612.61</td>\n",
       "      <td>1366</td>\n",
       "      <td>768</td>\n",
       "      <td>1049088</td>\n",
       "      <td>100.454670</td>\n",
       "      <td>2.5</td>\n",
       "      <td>500</td>\n",
       "      <td>0</td>\n",
       "      <td>...</td>\n",
       "      <td>0</td>\n",
       "      <td>500</td>\n",
       "      <td>2.747271</td>\n",
       "      <td>0.620576</td>\n",
       "      <td>7.219642</td>\n",
       "      <td>6.643790</td>\n",
       "      <td>13.863432</td>\n",
       "      <td>4.609707</td>\n",
       "      <td>0.916291</td>\n",
       "      <td>6.214608</td>\n",
       "    </tr>\n",
       "    <tr>\n",
       "      <th>186</th>\n",
       "      <td>15.6</td>\n",
       "      <td>2.06</td>\n",
       "      <td>2397.00</td>\n",
       "      <td>3840</td>\n",
       "      <td>2160</td>\n",
       "      <td>8294400</td>\n",
       "      <td>282.423996</td>\n",
       "      <td>2.8</td>\n",
       "      <td>0</td>\n",
       "      <td>0</td>\n",
       "      <td>...</td>\n",
       "      <td>512</td>\n",
       "      <td>512</td>\n",
       "      <td>2.747271</td>\n",
       "      <td>0.722706</td>\n",
       "      <td>8.253228</td>\n",
       "      <td>7.677864</td>\n",
       "      <td>15.931091</td>\n",
       "      <td>5.643409</td>\n",
       "      <td>1.029619</td>\n",
       "      <td>6.238325</td>\n",
       "    </tr>\n",
       "  </tbody>\n",
       "</table>\n",
       "<p>5 rows × 21 columns</p>\n",
       "</div>"
      ],
      "text/plain": [
       "      Inches  Weight (kg)  Price_euros  Pixel Width  Pixel Height  \\\n",
       "580     14.0         1.45       389.00         1920          1080   \n",
       "1017    17.3         2.40      2968.00         3840          2160   \n",
       "761     12.5         1.18      1859.00         1920          1080   \n",
       "686     15.6         1.86       612.61         1366           768   \n",
       "186     15.6         2.06      2397.00         3840          2160   \n",
       "\n",
       "      Total Pixels  Pixel Density  Cpu Clock Speed (GHz)  HDD Memory (GB)  \\\n",
       "580        2073600     157.350512                    1.1                0   \n",
       "1017       8294400     254.671349                    2.7                0   \n",
       "761        2073600     176.232574                    2.8                0   \n",
       "686        1049088     100.454670                    2.5              500   \n",
       "186        8294400     282.423996                    2.8                0   \n",
       "\n",
       "      Hybrid Memory (GB)  ...  SSD Memory (GB)  Total Memory (GB)  Inches_log  \\\n",
       "580                    0  ...               32                 32    2.639057   \n",
       "1017                   0  ...              512                512    2.850707   \n",
       "761                    0  ...              256                256    2.525729   \n",
       "686                    0  ...                0                500    2.747271   \n",
       "186                    0  ...              512                512    2.747271   \n",
       "\n",
       "      Weight (kg)_log  Pixel Width_log  Pixel Height_log  Total Pixels_log  \\\n",
       "580          0.371564         7.560080          6.984716         14.544797   \n",
       "1017         0.875469         8.253228          7.677864         15.931091   \n",
       "761          0.165514         7.560080          6.984716         14.544797   \n",
       "686          0.620576         7.219642          6.643790         13.863432   \n",
       "186          0.722706         8.253228          7.677864         15.931091   \n",
       "\n",
       "      Pixel Density_log  Cpu Clock Speed (GHz)_log  Total Memory (GB)_log  \n",
       "580            5.058476                   0.095310               3.465736  \n",
       "1017           5.539974                   0.993252               6.238325  \n",
       "761            5.171805                   1.029619               5.545177  \n",
       "686            4.609707                   0.916291               6.214608  \n",
       "186            5.643409                   1.029619               6.238325  \n",
       "\n",
       "[5 rows x 21 columns]"
      ]
     },
     "execution_count": 30,
     "metadata": {},
     "output_type": "execute_result"
    }
   ],
   "source": [
    "test[num_feats_2].head()"
   ]
  },
  {
   "cell_type": "code",
   "execution_count": 31,
   "metadata": {},
   "outputs": [
    {
     "data": {
      "text/html": [
       "<div>\n",
       "<style scoped>\n",
       "    .dataframe tbody tr th:only-of-type {\n",
       "        vertical-align: middle;\n",
       "    }\n",
       "\n",
       "    .dataframe tbody tr th {\n",
       "        vertical-align: top;\n",
       "    }\n",
       "\n",
       "    .dataframe thead th {\n",
       "        text-align: right;\n",
       "    }\n",
       "</style>\n",
       "<table border=\"1\" class=\"dataframe\">\n",
       "  <thead>\n",
       "    <tr style=\"text-align: right;\">\n",
       "      <th></th>\n",
       "      <th>Inches</th>\n",
       "      <th>Weight (kg)</th>\n",
       "      <th>Price_euros</th>\n",
       "      <th>Pixel Width</th>\n",
       "      <th>Pixel Height</th>\n",
       "      <th>Total Pixels</th>\n",
       "      <th>Pixel Density</th>\n",
       "      <th>Cpu Clock Speed (GHz)</th>\n",
       "      <th>HDD Memory (GB)</th>\n",
       "      <th>Hybrid Memory (GB)</th>\n",
       "      <th>...</th>\n",
       "      <th>SSD Memory (GB)</th>\n",
       "      <th>Total Memory (GB)</th>\n",
       "      <th>Inches_log</th>\n",
       "      <th>Weight (kg)_log</th>\n",
       "      <th>Pixel Width_log</th>\n",
       "      <th>Pixel Height_log</th>\n",
       "      <th>Total Pixels_log</th>\n",
       "      <th>Pixel Density_log</th>\n",
       "      <th>Cpu Clock Speed (GHz)_log</th>\n",
       "      <th>Total Memory (GB)_log</th>\n",
       "    </tr>\n",
       "  </thead>\n",
       "  <tbody>\n",
       "    <tr>\n",
       "      <th>580</th>\n",
       "      <td>-0.713531</td>\n",
       "      <td>-0.891464</td>\n",
       "      <td>-1.072424</td>\n",
       "      <td>0.074570</td>\n",
       "      <td>0.054399</td>\n",
       "      <td>-0.048594</td>\n",
       "      <td>0.272594</td>\n",
       "      <td>-2.324678</td>\n",
       "      <td>-0.816896</td>\n",
       "      <td>-0.031039</td>\n",
       "      <td>...</td>\n",
       "      <td>-0.787102</td>\n",
       "      <td>-1.223588</td>\n",
       "      <td>-0.665753</td>\n",
       "      <td>-0.926736</td>\n",
       "      <td>0.204992</td>\n",
       "      <td>0.184597</td>\n",
       "      <td>0.194914</td>\n",
       "      <td>0.441967</td>\n",
       "      <td>-2.685304</td>\n",
       "      <td>-2.643346</td>\n",
       "    </tr>\n",
       "    <tr>\n",
       "      <th>1017</th>\n",
       "      <td>1.618674</td>\n",
       "      <td>0.559785</td>\n",
       "      <td>2.893541</td>\n",
       "      <td>4.065489</td>\n",
       "      <td>3.946417</td>\n",
       "      <td>4.567969</td>\n",
       "      <td>2.579602</td>\n",
       "      <td>0.811211</td>\n",
       "      <td>-0.816896</td>\n",
       "      <td>-0.031039</td>\n",
       "      <td>...</td>\n",
       "      <td>1.811767</td>\n",
       "      <td>-0.201924</td>\n",
       "      <td>1.502476</td>\n",
       "      <td>0.686469</td>\n",
       "      <td>3.342609</td>\n",
       "      <td>3.254666</td>\n",
       "      <td>3.302067</td>\n",
       "      <td>2.388818</td>\n",
       "      <td>0.754267</td>\n",
       "      <td>0.203772</td>\n",
       "    </tr>\n",
       "    <tr>\n",
       "      <th>761</th>\n",
       "      <td>-1.773624</td>\n",
       "      <td>-1.303924</td>\n",
       "      <td>1.188130</td>\n",
       "      <td>0.074570</td>\n",
       "      <td>0.054399</td>\n",
       "      <td>-0.048594</td>\n",
       "      <td>0.720196</td>\n",
       "      <td>1.007204</td>\n",
       "      <td>-0.816896</td>\n",
       "      <td>-0.031039</td>\n",
       "      <td>...</td>\n",
       "      <td>0.425703</td>\n",
       "      <td>-0.746811</td>\n",
       "      <td>-1.826743</td>\n",
       "      <td>-1.586382</td>\n",
       "      <td>0.204992</td>\n",
       "      <td>0.184597</td>\n",
       "      <td>0.194914</td>\n",
       "      <td>0.900191</td>\n",
       "      <td>0.893573</td>\n",
       "      <td>-0.508008</td>\n",
       "    </tr>\n",
       "    <tr>\n",
       "      <th>686</th>\n",
       "      <td>0.417235</td>\n",
       "      <td>-0.265136</td>\n",
       "      <td>-0.728558</td>\n",
       "      <td>-1.076977</td>\n",
       "      <td>-1.069962</td>\n",
       "      <td>-0.808902</td>\n",
       "      <td>-1.076133</td>\n",
       "      <td>0.419225</td>\n",
       "      <td>0.145062</td>\n",
       "      <td>-0.031039</td>\n",
       "      <td>...</td>\n",
       "      <td>-0.960360</td>\n",
       "      <td>-0.227465</td>\n",
       "      <td>0.442835</td>\n",
       "      <td>-0.129544</td>\n",
       "      <td>-1.336045</td>\n",
       "      <td>-1.325427</td>\n",
       "      <td>-1.332255</td>\n",
       "      <td>-1.372552</td>\n",
       "      <td>0.459467</td>\n",
       "      <td>0.179418</td>\n",
       "    </tr>\n",
       "    <tr>\n",
       "      <th>186</th>\n",
       "      <td>0.417235</td>\n",
       "      <td>0.040390</td>\n",
       "      <td>2.015462</td>\n",
       "      <td>4.065489</td>\n",
       "      <td>3.946417</td>\n",
       "      <td>4.567969</td>\n",
       "      <td>3.237484</td>\n",
       "      <td>1.007204</td>\n",
       "      <td>-0.816896</td>\n",
       "      <td>-0.031039</td>\n",
       "      <td>...</td>\n",
       "      <td>1.811767</td>\n",
       "      <td>-0.201924</td>\n",
       "      <td>0.442835</td>\n",
       "      <td>0.197413</td>\n",
       "      <td>3.342609</td>\n",
       "      <td>3.254666</td>\n",
       "      <td>3.302067</td>\n",
       "      <td>2.807042</td>\n",
       "      <td>0.893573</td>\n",
       "      <td>0.203772</td>\n",
       "    </tr>\n",
       "  </tbody>\n",
       "</table>\n",
       "<p>5 rows × 21 columns</p>\n",
       "</div>"
      ],
      "text/plain": [
       "        Inches  Weight (kg)  Price_euros  Pixel Width  Pixel Height  \\\n",
       "580  -0.713531    -0.891464    -1.072424     0.074570      0.054399   \n",
       "1017  1.618674     0.559785     2.893541     4.065489      3.946417   \n",
       "761  -1.773624    -1.303924     1.188130     0.074570      0.054399   \n",
       "686   0.417235    -0.265136    -0.728558    -1.076977     -1.069962   \n",
       "186   0.417235     0.040390     2.015462     4.065489      3.946417   \n",
       "\n",
       "      Total Pixels  Pixel Density  Cpu Clock Speed (GHz)  HDD Memory (GB)  \\\n",
       "580      -0.048594       0.272594              -2.324678        -0.816896   \n",
       "1017      4.567969       2.579602               0.811211        -0.816896   \n",
       "761      -0.048594       0.720196               1.007204        -0.816896   \n",
       "686      -0.808902      -1.076133               0.419225         0.145062   \n",
       "186       4.567969       3.237484               1.007204        -0.816896   \n",
       "\n",
       "      Hybrid Memory (GB)  ...  SSD Memory (GB)  Total Memory (GB)  Inches_log  \\\n",
       "580            -0.031039  ...        -0.787102          -1.223588   -0.665753   \n",
       "1017           -0.031039  ...         1.811767          -0.201924    1.502476   \n",
       "761            -0.031039  ...         0.425703          -0.746811   -1.826743   \n",
       "686            -0.031039  ...        -0.960360          -0.227465    0.442835   \n",
       "186            -0.031039  ...         1.811767          -0.201924    0.442835   \n",
       "\n",
       "      Weight (kg)_log  Pixel Width_log  Pixel Height_log  Total Pixels_log  \\\n",
       "580         -0.926736         0.204992          0.184597          0.194914   \n",
       "1017         0.686469         3.342609          3.254666          3.302067   \n",
       "761         -1.586382         0.204992          0.184597          0.194914   \n",
       "686         -0.129544        -1.336045         -1.325427         -1.332255   \n",
       "186          0.197413         3.342609          3.254666          3.302067   \n",
       "\n",
       "      Pixel Density_log  Cpu Clock Speed (GHz)_log  Total Memory (GB)_log  \n",
       "580            0.441967                  -2.685304              -2.643346  \n",
       "1017           2.388818                   0.754267               0.203772  \n",
       "761            0.900191                   0.893573              -0.508008  \n",
       "686           -1.372552                   0.459467               0.179418  \n",
       "186            2.807042                   0.893573               0.203772  \n",
       "\n",
       "[5 rows x 21 columns]"
      ]
     },
     "execution_count": 31,
     "metadata": {},
     "output_type": "execute_result"
    }
   ],
   "source": [
    "test_scaled.head()"
   ]
  },
  {
   "cell_type": "markdown",
   "metadata": {},
   "source": [
    "Now that we know the unscaled and scaled numeric features have the\n",
    "same row and column labels, we will replace the unscaled numeric \n",
    "features with the scaled numeric features."
   ]
  },
  {
   "cell_type": "code",
   "execution_count": 32,
   "metadata": {},
   "outputs": [],
   "source": [
    "# We will drop the numeric columns from test and replace them with the \n",
    "# columns from test_scaled.\n",
    "\n",
    "test.drop(columns = test_scaled.columns, inplace = True)\n",
    "test_new = pd.concat([test_scaled, test], axis=1)\n",
    "test = test_new"
   ]
  },
  {
   "cell_type": "markdown",
   "metadata": {},
   "source": [
    "We will check the shape and first few rows of the\n",
    "new test set to make sure it is okay."
   ]
  },
  {
   "cell_type": "code",
   "execution_count": 33,
   "metadata": {},
   "outputs": [
    {
     "data": {
      "text/plain": [
       "(261, 37)"
      ]
     },
     "execution_count": 33,
     "metadata": {},
     "output_type": "execute_result"
    }
   ],
   "source": [
    "test.shape"
   ]
  },
  {
   "cell_type": "code",
   "execution_count": 34,
   "metadata": {},
   "outputs": [
    {
     "data": {
      "text/html": [
       "<div>\n",
       "<style scoped>\n",
       "    .dataframe tbody tr th:only-of-type {\n",
       "        vertical-align: middle;\n",
       "    }\n",
       "\n",
       "    .dataframe tbody tr th {\n",
       "        vertical-align: top;\n",
       "    }\n",
       "\n",
       "    .dataframe thead th {\n",
       "        text-align: right;\n",
       "    }\n",
       "</style>\n",
       "<table border=\"1\" class=\"dataframe\">\n",
       "  <thead>\n",
       "    <tr style=\"text-align: right;\">\n",
       "      <th></th>\n",
       "      <th>Inches</th>\n",
       "      <th>Weight (kg)</th>\n",
       "      <th>Price_euros</th>\n",
       "      <th>Pixel Width</th>\n",
       "      <th>Pixel Height</th>\n",
       "      <th>Total Pixels</th>\n",
       "      <th>Pixel Density</th>\n",
       "      <th>Cpu Clock Speed (GHz)</th>\n",
       "      <th>HDD Memory (GB)</th>\n",
       "      <th>Hybrid Memory (GB)</th>\n",
       "      <th>...</th>\n",
       "      <th>IPS Panel</th>\n",
       "      <th>Touchscreen</th>\n",
       "      <th>Cpu Brand</th>\n",
       "      <th>Simple Cpu Brand</th>\n",
       "      <th>Cpu Company</th>\n",
       "      <th>Memory Type</th>\n",
       "      <th>Gpu Brand</th>\n",
       "      <th>Simple Gpu Brand</th>\n",
       "      <th>Gpu Company</th>\n",
       "      <th>Simple OpSys</th>\n",
       "    </tr>\n",
       "  </thead>\n",
       "  <tbody>\n",
       "    <tr>\n",
       "      <th>580</th>\n",
       "      <td>-0.713531</td>\n",
       "      <td>-0.891464</td>\n",
       "      <td>-1.072424</td>\n",
       "      <td>0.074570</td>\n",
       "      <td>0.054399</td>\n",
       "      <td>-0.048594</td>\n",
       "      <td>0.272594</td>\n",
       "      <td>-2.324678</td>\n",
       "      <td>-0.816896</td>\n",
       "      <td>-0.031039</td>\n",
       "      <td>...</td>\n",
       "      <td>True</td>\n",
       "      <td>False</td>\n",
       "      <td>Intel Celeron Quad Core</td>\n",
       "      <td>Intel Other</td>\n",
       "      <td>Intel</td>\n",
       "      <td>SSD</td>\n",
       "      <td>Intel HD Graphics</td>\n",
       "      <td>Intel HD</td>\n",
       "      <td>Intel</td>\n",
       "      <td>Windows</td>\n",
       "    </tr>\n",
       "    <tr>\n",
       "      <th>1017</th>\n",
       "      <td>1.618674</td>\n",
       "      <td>0.559785</td>\n",
       "      <td>2.893541</td>\n",
       "      <td>4.065489</td>\n",
       "      <td>3.946417</td>\n",
       "      <td>4.567969</td>\n",
       "      <td>2.579602</td>\n",
       "      <td>0.811211</td>\n",
       "      <td>-0.816896</td>\n",
       "      <td>-0.031039</td>\n",
       "      <td>...</td>\n",
       "      <td>True</td>\n",
       "      <td>False</td>\n",
       "      <td>Intel Core i7</td>\n",
       "      <td>Intel Higher</td>\n",
       "      <td>Intel</td>\n",
       "      <td>SSD</td>\n",
       "      <td>Nvidia Quadro</td>\n",
       "      <td>Nvidia Quadro</td>\n",
       "      <td>Nvidia</td>\n",
       "      <td>Windows</td>\n",
       "    </tr>\n",
       "    <tr>\n",
       "      <th>761</th>\n",
       "      <td>-1.773624</td>\n",
       "      <td>-1.303924</td>\n",
       "      <td>1.188130</td>\n",
       "      <td>0.074570</td>\n",
       "      <td>0.054399</td>\n",
       "      <td>-0.048594</td>\n",
       "      <td>0.720196</td>\n",
       "      <td>1.007204</td>\n",
       "      <td>-0.816896</td>\n",
       "      <td>-0.031039</td>\n",
       "      <td>...</td>\n",
       "      <td>False</td>\n",
       "      <td>False</td>\n",
       "      <td>Intel Core i7</td>\n",
       "      <td>Intel Higher</td>\n",
       "      <td>Intel</td>\n",
       "      <td>SSD</td>\n",
       "      <td>Intel HD Graphics</td>\n",
       "      <td>Intel HD</td>\n",
       "      <td>Intel</td>\n",
       "      <td>Windows</td>\n",
       "    </tr>\n",
       "    <tr>\n",
       "      <th>686</th>\n",
       "      <td>0.417235</td>\n",
       "      <td>-0.265136</td>\n",
       "      <td>-0.728558</td>\n",
       "      <td>-1.076977</td>\n",
       "      <td>-1.069962</td>\n",
       "      <td>-0.808902</td>\n",
       "      <td>-1.076133</td>\n",
       "      <td>0.419225</td>\n",
       "      <td>0.145062</td>\n",
       "      <td>-0.031039</td>\n",
       "      <td>...</td>\n",
       "      <td>False</td>\n",
       "      <td>False</td>\n",
       "      <td>Intel Core i5</td>\n",
       "      <td>Intel Core i5</td>\n",
       "      <td>Intel</td>\n",
       "      <td>HDD</td>\n",
       "      <td>AMD Radeon</td>\n",
       "      <td>AMD Radeon</td>\n",
       "      <td>AMD</td>\n",
       "      <td>Windows</td>\n",
       "    </tr>\n",
       "    <tr>\n",
       "      <th>186</th>\n",
       "      <td>0.417235</td>\n",
       "      <td>0.040390</td>\n",
       "      <td>2.015462</td>\n",
       "      <td>4.065489</td>\n",
       "      <td>3.946417</td>\n",
       "      <td>4.567969</td>\n",
       "      <td>3.237484</td>\n",
       "      <td>1.007204</td>\n",
       "      <td>-0.816896</td>\n",
       "      <td>-0.031039</td>\n",
       "      <td>...</td>\n",
       "      <td>False</td>\n",
       "      <td>True</td>\n",
       "      <td>Intel Core i7</td>\n",
       "      <td>Intel Higher</td>\n",
       "      <td>Intel</td>\n",
       "      <td>SSD</td>\n",
       "      <td>Nvidia GeForce GTX</td>\n",
       "      <td>Nvidia GeForce</td>\n",
       "      <td>Nvidia</td>\n",
       "      <td>Windows</td>\n",
       "    </tr>\n",
       "  </tbody>\n",
       "</table>\n",
       "<p>5 rows × 37 columns</p>\n",
       "</div>"
      ],
      "text/plain": [
       "        Inches  Weight (kg)  Price_euros  Pixel Width  Pixel Height  \\\n",
       "580  -0.713531    -0.891464    -1.072424     0.074570      0.054399   \n",
       "1017  1.618674     0.559785     2.893541     4.065489      3.946417   \n",
       "761  -1.773624    -1.303924     1.188130     0.074570      0.054399   \n",
       "686   0.417235    -0.265136    -0.728558    -1.076977     -1.069962   \n",
       "186   0.417235     0.040390     2.015462     4.065489      3.946417   \n",
       "\n",
       "      Total Pixels  Pixel Density  Cpu Clock Speed (GHz)  HDD Memory (GB)  \\\n",
       "580      -0.048594       0.272594              -2.324678        -0.816896   \n",
       "1017      4.567969       2.579602               0.811211        -0.816896   \n",
       "761      -0.048594       0.720196               1.007204        -0.816896   \n",
       "686      -0.808902      -1.076133               0.419225         0.145062   \n",
       "186       4.567969       3.237484               1.007204        -0.816896   \n",
       "\n",
       "      Hybrid Memory (GB)  ...  IPS Panel  Touchscreen  \\\n",
       "580            -0.031039  ...       True        False   \n",
       "1017           -0.031039  ...       True        False   \n",
       "761            -0.031039  ...      False        False   \n",
       "686            -0.031039  ...      False        False   \n",
       "186            -0.031039  ...      False         True   \n",
       "\n",
       "                    Cpu Brand  Simple Cpu Brand  Cpu Company  Memory Type  \\\n",
       "580   Intel Celeron Quad Core       Intel Other        Intel          SSD   \n",
       "1017            Intel Core i7      Intel Higher        Intel          SSD   \n",
       "761             Intel Core i7      Intel Higher        Intel          SSD   \n",
       "686             Intel Core i5     Intel Core i5        Intel          HDD   \n",
       "186             Intel Core i7      Intel Higher        Intel          SSD   \n",
       "\n",
       "               Gpu Brand  Simple Gpu Brand  Gpu Company  Simple OpSys  \n",
       "580    Intel HD Graphics          Intel HD        Intel       Windows  \n",
       "1017       Nvidia Quadro     Nvidia Quadro       Nvidia       Windows  \n",
       "761    Intel HD Graphics          Intel HD        Intel       Windows  \n",
       "686           AMD Radeon        AMD Radeon          AMD       Windows  \n",
       "186   Nvidia GeForce GTX    Nvidia GeForce       Nvidia       Windows  \n",
       "\n",
       "[5 rows x 37 columns]"
      ]
     },
     "execution_count": 34,
     "metadata": {},
     "output_type": "execute_result"
    }
   ],
   "source": [
    "test.head()"
   ]
  },
  {
   "cell_type": "markdown",
   "metadata": {
    "papermill": {
     "duration": 0.451497,
     "end_time": "2022-06-10T20:01:40.775405",
     "exception": false,
     "start_time": "2022-06-10T20:01:40.323908",
     "status": "completed"
    },
    "tags": []
   },
   "source": [
    "## 7.2 Categorical Variables"
   ]
  },
  {
   "cell_type": "markdown",
   "metadata": {
    "papermill": {
     "duration": 0.40115,
     "end_time": "2022-06-10T20:01:41.582029",
     "exception": false,
     "start_time": "2022-06-10T20:01:41.180879",
     "status": "completed"
    },
    "tags": []
   },
   "source": [
    "Next, we will look at the categorical variables.  "
   ]
  },
  {
   "cell_type": "code",
   "execution_count": 35,
   "metadata": {
    "papermill": {
     "duration": 0.418438,
     "end_time": "2022-06-10T20:01:42.407327",
     "exception": false,
     "start_time": "2022-06-10T20:01:41.988889",
     "status": "completed"
    },
    "tags": []
   },
   "outputs": [
    {
     "data": {
      "text/plain": [
       "['Company',\n",
       " 'TypeName',\n",
       " 'Ram',\n",
       " 'OpSys',\n",
       " 'Brand',\n",
       " 'Resolution',\n",
       " 'IPS Panel',\n",
       " 'Touchscreen',\n",
       " 'Cpu Brand',\n",
       " 'Simple Cpu Brand',\n",
       " 'Cpu Company',\n",
       " 'Memory Type',\n",
       " 'Gpu Brand',\n",
       " 'Simple Gpu Brand',\n",
       " 'Gpu Company',\n",
       " 'Simple OpSys']"
      ]
     },
     "execution_count": 35,
     "metadata": {},
     "output_type": "execute_result"
    }
   ],
   "source": [
    "cat_feats = train.select_dtypes(exclude='number').columns.to_list()\n",
    "cat_feats"
   ]
  },
  {
   "cell_type": "markdown",
   "metadata": {},
   "source": [
    "From the Data Exploration and Feature Engineering sections in the previous \n",
    "notebook, we can see that some of the categorical variables are ordinal \n",
    "variables.  We will use a dictionary and the Pandas replace method to \n",
    "transform the ordinal variables into numerical variables."
   ]
  },
  {
   "cell_type": "code",
   "execution_count": 36,
   "metadata": {},
   "outputs": [],
   "source": [
    "# Create the dictionary for mapping the ordinal variables.\n",
    "\n",
    "ord_map_dict = {\n",
    "    'TypeName': {\n",
    "    'Netbook': 0,\n",
    "    'Notebook': 1,\n",
    "    '2 in 1 Convertible': 2,\n",
    "    'Ultrabook': 3,\n",
    "    'Gaming': 4,\n",
    "    'Workstation': 5\n",
    "    },\n",
    "    'Ram': {\n",
    "        '2GB': 0,\n",
    "        '4GB': 1,\n",
    "        '6GB': 2,\n",
    "        '8GB': 3,\n",
    "        '12GB': 4,\n",
    "        '16GB': 5,\n",
    "        '24GB': 6,\n",
    "        '32GB': 7,\n",
    "        '64GB': 8\n",
    "    },\n",
    "    'Resolution': {\n",
    "        '1366 x 768': 0,\n",
    "        '1440 x 900': 1,\n",
    "        '1600 x 900': 2,\n",
    "        '1920 x 1080': 3,\n",
    "        '1920 x 1200': 4,\n",
    "        '2160 x 1440': 5,\n",
    "        '2256 x 1504': 6,\n",
    "        '2304 x 1440': 7,\n",
    "        '2400 x 1600': 8,\n",
    "        '2560 x 1440': 9,\n",
    "        '2560 x 1600': 10,\n",
    "        '2736 x 1824': 11,\n",
    "        '2880 x 1800': 12,\n",
    "        '3200 x 1800': 13,\n",
    "        '3840 x 2160': 14\n",
    "    },\n",
    "    'IPS Panel': {\n",
    "        False: 0,\n",
    "        True: 1\n",
    "    },\n",
    "    'Touchscreen': {\n",
    "        False: 0,\n",
    "        True: 1\n",
    "    },\n",
    "    'Simple Cpu Brand': {\n",
    "        'Intel Other': 0,\n",
    "        'AMD': 1,\n",
    "        'Intel Core i3': 2,\n",
    "        'Samsung Cortex': 3,\n",
    "        'Intel Core i5': 4,\n",
    "        'Intel Higher': 5,\n",
    "        'AMD Ryzen': 6\n",
    "    },\n",
    "    'Cpu Company': {\n",
    "        'AMD': 0, \n",
    "        'Samsung': 1,\n",
    "        'Intel': 2\n",
    "    },\n",
    "    'Memory Type': {\n",
    "        'HDD': 0,\n",
    "        'Hybrid': 1,\n",
    "        'Flash': 2,\n",
    "        'SSD': 3\n",
    "    },\n",
    "    'Gpu Company': {\n",
    "        'ARM': 0, \n",
    "        'AMD': 1, \n",
    "        'Intel': 2, \n",
    "        'Nvidia': 3\n",
    "    },\n",
    "    'Simple OpSys': {\n",
    "        'Other': 0,\n",
    "        'No OS': 1,\n",
    "        'Linux': 2,\n",
    "        'Windows': 3,\n",
    "        'Mac': 4\n",
    "    } \n",
    "}"
   ]
  },
  {
   "cell_type": "markdown",
   "metadata": {},
   "source": [
    "First, we will transform the ordinal variables \n",
    "into numerical variables for the training set."
   ]
  },
  {
   "cell_type": "code",
   "execution_count": 37,
   "metadata": {},
   "outputs": [],
   "source": [
    "# Map the ordinal variables.\n",
    "\n",
    "train.replace(to_replace=ord_map_dict, inplace=True)"
   ]
  },
  {
   "cell_type": "markdown",
   "metadata": {},
   "source": [
    "Now, we will check to make sure there are no \n",
    "missing values in the training set."
   ]
  },
  {
   "cell_type": "code",
   "execution_count": 38,
   "metadata": {},
   "outputs": [
    {
     "data": {
      "text/plain": [
       "Inches                       0\n",
       "Weight (kg)                  0\n",
       "Price_euros                  0\n",
       "Pixel Width                  0\n",
       "Pixel Height                 0\n",
       "Total Pixels                 0\n",
       "Pixel Density                0\n",
       "Cpu Clock Speed (GHz)        0\n",
       "HDD Memory (GB)              0\n",
       "Hybrid Memory (GB)           0\n",
       "Flash Memory (GB)            0\n",
       "SSD Memory (GB)              0\n",
       "Total Memory (GB)            0\n",
       "Inches_log                   0\n",
       "Weight (kg)_log              0\n",
       "Pixel Width_log              0\n",
       "Pixel Height_log             0\n",
       "Total Pixels_log             0\n",
       "Pixel Density_log            0\n",
       "Cpu Clock Speed (GHz)_log    0\n",
       "Total Memory (GB)_log        0\n",
       "Company                      0\n",
       "TypeName                     0\n",
       "Ram                          0\n",
       "OpSys                        0\n",
       "Brand                        0\n",
       "Resolution                   0\n",
       "IPS Panel                    0\n",
       "Touchscreen                  0\n",
       "Cpu Brand                    0\n",
       "Simple Cpu Brand             0\n",
       "Cpu Company                  0\n",
       "Memory Type                  0\n",
       "Gpu Brand                    0\n",
       "Simple Gpu Brand             0\n",
       "Gpu Company                  0\n",
       "Simple OpSys                 0\n",
       "dtype: int64"
      ]
     },
     "execution_count": 38,
     "metadata": {},
     "output_type": "execute_result"
    }
   ],
   "source": [
    "train.isnull().sum()"
   ]
  },
  {
   "cell_type": "markdown",
   "metadata": {},
   "source": [
    "Next, we will transform the ordinal variables \n",
    "into numerical variables for the test set."
   ]
  },
  {
   "cell_type": "code",
   "execution_count": 39,
   "metadata": {},
   "outputs": [],
   "source": [
    "# Map the ordinal variables.\n",
    "\n",
    "test.replace(to_replace=ord_map_dict, inplace=True)"
   ]
  },
  {
   "cell_type": "markdown",
   "metadata": {},
   "source": [
    "Now, we will check to make sure there are no \n",
    "missing values in the test set."
   ]
  },
  {
   "cell_type": "code",
   "execution_count": 40,
   "metadata": {},
   "outputs": [
    {
     "data": {
      "text/plain": [
       "Inches                       0\n",
       "Weight (kg)                  0\n",
       "Price_euros                  0\n",
       "Pixel Width                  0\n",
       "Pixel Height                 0\n",
       "Total Pixels                 0\n",
       "Pixel Density                0\n",
       "Cpu Clock Speed (GHz)        0\n",
       "HDD Memory (GB)              0\n",
       "Hybrid Memory (GB)           0\n",
       "Flash Memory (GB)            0\n",
       "SSD Memory (GB)              0\n",
       "Total Memory (GB)            0\n",
       "Inches_log                   0\n",
       "Weight (kg)_log              0\n",
       "Pixel Width_log              0\n",
       "Pixel Height_log             0\n",
       "Total Pixels_log             0\n",
       "Pixel Density_log            0\n",
       "Cpu Clock Speed (GHz)_log    0\n",
       "Total Memory (GB)_log        0\n",
       "Company                      0\n",
       "TypeName                     0\n",
       "Ram                          0\n",
       "OpSys                        0\n",
       "Brand                        0\n",
       "Resolution                   0\n",
       "IPS Panel                    0\n",
       "Touchscreen                  0\n",
       "Cpu Brand                    0\n",
       "Simple Cpu Brand             0\n",
       "Cpu Company                  0\n",
       "Memory Type                  0\n",
       "Gpu Brand                    0\n",
       "Simple Gpu Brand             0\n",
       "Gpu Company                  0\n",
       "Simple OpSys                 0\n",
       "dtype: int64"
      ]
     },
     "execution_count": 40,
     "metadata": {},
     "output_type": "execute_result"
    }
   ],
   "source": [
    "test.isnull().sum()"
   ]
  },
  {
   "cell_type": "markdown",
   "metadata": {},
   "source": [
    "Later on, I discovered that I could reduce the training and test errors \n",
    "by removing Company and Brand.  I will remove them now instead."
   ]
  },
  {
   "cell_type": "code",
   "execution_count": 41,
   "metadata": {},
   "outputs": [],
   "source": [
    "train.drop(['Brand', 'Company'], axis=1, inplace=True)\n",
    "test.drop(['Brand', 'Company'], axis=1, inplace=True)"
   ]
  },
  {
   "cell_type": "markdown",
   "metadata": {},
   "source": [
    "Since we decreased the number of categorical features, \n",
    "we must update the list of categorical features."
   ]
  },
  {
   "cell_type": "code",
   "execution_count": 42,
   "metadata": {
    "papermill": {
     "duration": 0.418438,
     "end_time": "2022-06-10T20:01:42.407327",
     "exception": false,
     "start_time": "2022-06-10T20:01:41.988889",
     "status": "completed"
    },
    "tags": []
   },
   "outputs": [
    {
     "data": {
      "text/plain": [
       "['OpSys', 'Cpu Brand', 'Gpu Brand', 'Simple Gpu Brand']"
      ]
     },
     "execution_count": 42,
     "metadata": {},
     "output_type": "execute_result"
    }
   ],
   "source": [
    "cat_feats_2 = train.select_dtypes(exclude='number').columns.to_list()\n",
    "cat_feats_2"
   ]
  },
  {
   "cell_type": "markdown",
   "metadata": {},
   "source": [
    "Now, we will one-hot encode the remaining categorical variables."
   ]
  },
  {
   "cell_type": "code",
   "execution_count": 43,
   "metadata": {},
   "outputs": [],
   "source": [
    "train_dummy = pd.get_dummies(train[cat_feats_2])\n",
    "test_dummy = pd.get_dummies(test[cat_feats_2])"
   ]
  },
  {
   "cell_type": "markdown",
   "metadata": {},
   "source": [
    "We will check the shapes of train_dummy and test_dummy.  From the previous \n",
    "notebook, we know that for some of the categorical variables, the set of \n",
    "values in the test set is not equal to the set of values in the training set.\n",
    "Thus, train_dummy and test_dummy will contain different dummy variables and \n",
    "their shapes will be different."
   ]
  },
  {
   "cell_type": "code",
   "execution_count": 44,
   "metadata": {},
   "outputs": [
    {
     "name": "stdout",
     "output_type": "stream",
     "text": [
      "Shape of train_dummy: (1039, 55)\n",
      "Shape of test_dummy: (261, 42)\n"
     ]
    }
   ],
   "source": [
    "print(\"Shape of train_dummy:\",  train_dummy.shape)\n",
    "print(\"Shape of test_dummy:\", test_dummy.shape)"
   ]
  },
  {
   "cell_type": "markdown",
   "metadata": {},
   "source": [
    "In order to make train_dummy and test_dummy have the same columns, \n",
    "first we need a list of all the columns in both dataframes."
   ]
  },
  {
   "cell_type": "code",
   "execution_count": 45,
   "metadata": {},
   "outputs": [
    {
     "data": {
      "text/plain": [
       "['Cpu Brand_AMD A10-Series',\n",
       " 'Cpu Brand_AMD A12-Series',\n",
       " 'Cpu Brand_AMD A4-Series',\n",
       " 'Cpu Brand_AMD A6-Series',\n",
       " 'Cpu Brand_AMD A8-Series',\n",
       " 'Cpu Brand_AMD A9-Series',\n",
       " 'Cpu Brand_AMD E-Series',\n",
       " 'Cpu Brand_AMD FX',\n",
       " 'Cpu Brand_AMD Ryzen',\n",
       " 'Cpu Brand_Intel Atom',\n",
       " 'Cpu Brand_Intel Celeron Dual Core',\n",
       " 'Cpu Brand_Intel Celeron Quad Core',\n",
       " 'Cpu Brand_Intel Core M',\n",
       " 'Cpu Brand_Intel Core i3',\n",
       " 'Cpu Brand_Intel Core i5',\n",
       " 'Cpu Brand_Intel Core i7',\n",
       " 'Cpu Brand_Intel Pentium Dual Core',\n",
       " 'Cpu Brand_Intel Pentium Quad Core',\n",
       " 'Cpu Brand_Intel Xeon',\n",
       " 'Cpu Brand_Samsung Cortex',\n",
       " 'Gpu Brand_AMD FirePro',\n",
       " 'Gpu Brand_AMD Radeon',\n",
       " 'Gpu Brand_AMD Radeon Pro',\n",
       " 'Gpu Brand_AMD Radeon R2',\n",
       " 'Gpu Brand_AMD Radeon R3',\n",
       " 'Gpu Brand_AMD Radeon R4',\n",
       " 'Gpu Brand_AMD Radeon R5',\n",
       " 'Gpu Brand_AMD Radeon R7',\n",
       " 'Gpu Brand_AMD Radeon R9',\n",
       " 'Gpu Brand_AMD Radeon RX',\n",
       " 'Gpu Brand_ARM Mali',\n",
       " 'Gpu Brand_Intel HD Graphics',\n",
       " 'Gpu Brand_Intel Iris Plus Graphics',\n",
       " 'Gpu Brand_Intel Iris Pro Graphics',\n",
       " 'Gpu Brand_Intel UHD Graphics',\n",
       " 'Gpu Brand_Nvidia GeForce',\n",
       " 'Gpu Brand_Nvidia GeForce GTX',\n",
       " 'Gpu Brand_Nvidia Quadro',\n",
       " 'OpSys_Android',\n",
       " 'OpSys_Chrome OS',\n",
       " 'OpSys_Linux',\n",
       " 'OpSys_Mac OS X',\n",
       " 'OpSys_No OS',\n",
       " 'OpSys_Windows 10',\n",
       " 'OpSys_Windows 10 S',\n",
       " 'OpSys_Windows 7',\n",
       " 'OpSys_macOS',\n",
       " 'Simple Gpu Brand_AMD FirePro',\n",
       " 'Simple Gpu Brand_AMD Radeon',\n",
       " 'Simple Gpu Brand_ARM Mali',\n",
       " 'Simple Gpu Brand_Intel HD',\n",
       " 'Simple Gpu Brand_Intel Iris',\n",
       " 'Simple Gpu Brand_Intel UHD',\n",
       " 'Simple Gpu Brand_Nvidia GeForce',\n",
       " 'Simple Gpu Brand_Nvidia Quadro']"
      ]
     },
     "execution_count": 45,
     "metadata": {},
     "output_type": "execute_result"
    }
   ],
   "source": [
    "# Set of columns in train_dummy.shape\n",
    "train_dummy_cols_set = set(train_dummy.columns) \n",
    "\n",
    "# Set of columns in test_dummy.shape\n",
    "test_dummy_cols_set = set(train_dummy.columns) \n",
    "\n",
    "# Set of all columns in both dataframes\n",
    "total_cols_set = (train_dummy_cols_set | test_dummy_cols_set)\n",
    "\n",
    "# List of all columns\n",
    "total_cols_list = list(total_cols_set)\n",
    "total_cols_list.sort() # Sorting the list alphabetically.\n",
    "total_cols_list"
   ]
  },
  {
   "cell_type": "code",
   "execution_count": 46,
   "metadata": {},
   "outputs": [
    {
     "name": "stdout",
     "output_type": "stream",
     "text": [
      "Total number of columns in both train_dummy and test_dummy: 55\n"
     ]
    }
   ],
   "source": [
    "print(\"Total number of columns in both train_dummy and test_dummy:\", \n",
    "      len(total_cols_list))"
   ]
  },
  {
   "cell_type": "markdown",
   "metadata": {},
   "source": [
    "Now, we will use the Pandas reindexing method to make sure that train_dummy\n",
    "and test_dummy have the same columnns.  We will set the fill value to zero\n",
    "so that any missing values are replaced by zero."
   ]
  },
  {
   "cell_type": "code",
   "execution_count": 47,
   "metadata": {},
   "outputs": [
    {
     "data": {
      "text/html": [
       "<div>\n",
       "<style scoped>\n",
       "    .dataframe tbody tr th:only-of-type {\n",
       "        vertical-align: middle;\n",
       "    }\n",
       "\n",
       "    .dataframe tbody tr th {\n",
       "        vertical-align: top;\n",
       "    }\n",
       "\n",
       "    .dataframe thead th {\n",
       "        text-align: right;\n",
       "    }\n",
       "</style>\n",
       "<table border=\"1\" class=\"dataframe\">\n",
       "  <thead>\n",
       "    <tr style=\"text-align: right;\">\n",
       "      <th></th>\n",
       "      <th>Cpu Brand_AMD A10-Series</th>\n",
       "      <th>Cpu Brand_AMD A12-Series</th>\n",
       "      <th>Cpu Brand_AMD A4-Series</th>\n",
       "      <th>Cpu Brand_AMD A6-Series</th>\n",
       "      <th>Cpu Brand_AMD A8-Series</th>\n",
       "      <th>Cpu Brand_AMD A9-Series</th>\n",
       "      <th>Cpu Brand_AMD E-Series</th>\n",
       "      <th>Cpu Brand_AMD FX</th>\n",
       "      <th>Cpu Brand_AMD Ryzen</th>\n",
       "      <th>Cpu Brand_Intel Atom</th>\n",
       "      <th>...</th>\n",
       "      <th>OpSys_Windows 7</th>\n",
       "      <th>OpSys_macOS</th>\n",
       "      <th>Simple Gpu Brand_AMD FirePro</th>\n",
       "      <th>Simple Gpu Brand_AMD Radeon</th>\n",
       "      <th>Simple Gpu Brand_ARM Mali</th>\n",
       "      <th>Simple Gpu Brand_Intel HD</th>\n",
       "      <th>Simple Gpu Brand_Intel Iris</th>\n",
       "      <th>Simple Gpu Brand_Intel UHD</th>\n",
       "      <th>Simple Gpu Brand_Nvidia GeForce</th>\n",
       "      <th>Simple Gpu Brand_Nvidia Quadro</th>\n",
       "    </tr>\n",
       "  </thead>\n",
       "  <tbody>\n",
       "    <tr>\n",
       "      <th>1249</th>\n",
       "      <td>0</td>\n",
       "      <td>0</td>\n",
       "      <td>0</td>\n",
       "      <td>0</td>\n",
       "      <td>0</td>\n",
       "      <td>0</td>\n",
       "      <td>0</td>\n",
       "      <td>0</td>\n",
       "      <td>0</td>\n",
       "      <td>0</td>\n",
       "      <td>...</td>\n",
       "      <td>0</td>\n",
       "      <td>0</td>\n",
       "      <td>0</td>\n",
       "      <td>0</td>\n",
       "      <td>0</td>\n",
       "      <td>1</td>\n",
       "      <td>0</td>\n",
       "      <td>0</td>\n",
       "      <td>0</td>\n",
       "      <td>0</td>\n",
       "    </tr>\n",
       "    <tr>\n",
       "      <th>1186</th>\n",
       "      <td>0</td>\n",
       "      <td>0</td>\n",
       "      <td>0</td>\n",
       "      <td>0</td>\n",
       "      <td>0</td>\n",
       "      <td>0</td>\n",
       "      <td>0</td>\n",
       "      <td>0</td>\n",
       "      <td>0</td>\n",
       "      <td>0</td>\n",
       "      <td>...</td>\n",
       "      <td>0</td>\n",
       "      <td>0</td>\n",
       "      <td>0</td>\n",
       "      <td>0</td>\n",
       "      <td>0</td>\n",
       "      <td>1</td>\n",
       "      <td>0</td>\n",
       "      <td>0</td>\n",
       "      <td>0</td>\n",
       "      <td>0</td>\n",
       "    </tr>\n",
       "    <tr>\n",
       "      <th>568</th>\n",
       "      <td>0</td>\n",
       "      <td>0</td>\n",
       "      <td>0</td>\n",
       "      <td>0</td>\n",
       "      <td>0</td>\n",
       "      <td>0</td>\n",
       "      <td>0</td>\n",
       "      <td>0</td>\n",
       "      <td>0</td>\n",
       "      <td>0</td>\n",
       "      <td>...</td>\n",
       "      <td>0</td>\n",
       "      <td>0</td>\n",
       "      <td>0</td>\n",
       "      <td>0</td>\n",
       "      <td>0</td>\n",
       "      <td>1</td>\n",
       "      <td>0</td>\n",
       "      <td>0</td>\n",
       "      <td>0</td>\n",
       "      <td>0</td>\n",
       "    </tr>\n",
       "    <tr>\n",
       "      <th>1251</th>\n",
       "      <td>0</td>\n",
       "      <td>0</td>\n",
       "      <td>0</td>\n",
       "      <td>1</td>\n",
       "      <td>0</td>\n",
       "      <td>0</td>\n",
       "      <td>0</td>\n",
       "      <td>0</td>\n",
       "      <td>0</td>\n",
       "      <td>0</td>\n",
       "      <td>...</td>\n",
       "      <td>0</td>\n",
       "      <td>0</td>\n",
       "      <td>0</td>\n",
       "      <td>1</td>\n",
       "      <td>0</td>\n",
       "      <td>0</td>\n",
       "      <td>0</td>\n",
       "      <td>0</td>\n",
       "      <td>0</td>\n",
       "      <td>0</td>\n",
       "    </tr>\n",
       "    <tr>\n",
       "      <th>491</th>\n",
       "      <td>0</td>\n",
       "      <td>0</td>\n",
       "      <td>0</td>\n",
       "      <td>0</td>\n",
       "      <td>0</td>\n",
       "      <td>0</td>\n",
       "      <td>0</td>\n",
       "      <td>0</td>\n",
       "      <td>0</td>\n",
       "      <td>0</td>\n",
       "      <td>...</td>\n",
       "      <td>0</td>\n",
       "      <td>0</td>\n",
       "      <td>0</td>\n",
       "      <td>0</td>\n",
       "      <td>0</td>\n",
       "      <td>1</td>\n",
       "      <td>0</td>\n",
       "      <td>0</td>\n",
       "      <td>0</td>\n",
       "      <td>0</td>\n",
       "    </tr>\n",
       "    <tr>\n",
       "      <th>...</th>\n",
       "      <td>...</td>\n",
       "      <td>...</td>\n",
       "      <td>...</td>\n",
       "      <td>...</td>\n",
       "      <td>...</td>\n",
       "      <td>...</td>\n",
       "      <td>...</td>\n",
       "      <td>...</td>\n",
       "      <td>...</td>\n",
       "      <td>...</td>\n",
       "      <td>...</td>\n",
       "      <td>...</td>\n",
       "      <td>...</td>\n",
       "      <td>...</td>\n",
       "      <td>...</td>\n",
       "      <td>...</td>\n",
       "      <td>...</td>\n",
       "      <td>...</td>\n",
       "      <td>...</td>\n",
       "      <td>...</td>\n",
       "      <td>...</td>\n",
       "    </tr>\n",
       "    <tr>\n",
       "      <th>763</th>\n",
       "      <td>0</td>\n",
       "      <td>0</td>\n",
       "      <td>0</td>\n",
       "      <td>0</td>\n",
       "      <td>0</td>\n",
       "      <td>0</td>\n",
       "      <td>0</td>\n",
       "      <td>0</td>\n",
       "      <td>0</td>\n",
       "      <td>0</td>\n",
       "      <td>...</td>\n",
       "      <td>0</td>\n",
       "      <td>0</td>\n",
       "      <td>0</td>\n",
       "      <td>0</td>\n",
       "      <td>0</td>\n",
       "      <td>1</td>\n",
       "      <td>0</td>\n",
       "      <td>0</td>\n",
       "      <td>0</td>\n",
       "      <td>0</td>\n",
       "    </tr>\n",
       "    <tr>\n",
       "      <th>835</th>\n",
       "      <td>0</td>\n",
       "      <td>0</td>\n",
       "      <td>0</td>\n",
       "      <td>0</td>\n",
       "      <td>0</td>\n",
       "      <td>0</td>\n",
       "      <td>0</td>\n",
       "      <td>0</td>\n",
       "      <td>0</td>\n",
       "      <td>0</td>\n",
       "      <td>...</td>\n",
       "      <td>0</td>\n",
       "      <td>0</td>\n",
       "      <td>0</td>\n",
       "      <td>0</td>\n",
       "      <td>0</td>\n",
       "      <td>0</td>\n",
       "      <td>0</td>\n",
       "      <td>0</td>\n",
       "      <td>1</td>\n",
       "      <td>0</td>\n",
       "    </tr>\n",
       "    <tr>\n",
       "      <th>1216</th>\n",
       "      <td>0</td>\n",
       "      <td>0</td>\n",
       "      <td>0</td>\n",
       "      <td>0</td>\n",
       "      <td>0</td>\n",
       "      <td>0</td>\n",
       "      <td>0</td>\n",
       "      <td>0</td>\n",
       "      <td>0</td>\n",
       "      <td>0</td>\n",
       "      <td>...</td>\n",
       "      <td>0</td>\n",
       "      <td>0</td>\n",
       "      <td>0</td>\n",
       "      <td>0</td>\n",
       "      <td>0</td>\n",
       "      <td>0</td>\n",
       "      <td>0</td>\n",
       "      <td>0</td>\n",
       "      <td>1</td>\n",
       "      <td>0</td>\n",
       "    </tr>\n",
       "    <tr>\n",
       "      <th>559</th>\n",
       "      <td>0</td>\n",
       "      <td>0</td>\n",
       "      <td>0</td>\n",
       "      <td>0</td>\n",
       "      <td>0</td>\n",
       "      <td>0</td>\n",
       "      <td>0</td>\n",
       "      <td>0</td>\n",
       "      <td>0</td>\n",
       "      <td>0</td>\n",
       "      <td>...</td>\n",
       "      <td>0</td>\n",
       "      <td>0</td>\n",
       "      <td>0</td>\n",
       "      <td>1</td>\n",
       "      <td>0</td>\n",
       "      <td>0</td>\n",
       "      <td>0</td>\n",
       "      <td>0</td>\n",
       "      <td>0</td>\n",
       "      <td>0</td>\n",
       "    </tr>\n",
       "    <tr>\n",
       "      <th>684</th>\n",
       "      <td>0</td>\n",
       "      <td>0</td>\n",
       "      <td>0</td>\n",
       "      <td>0</td>\n",
       "      <td>0</td>\n",
       "      <td>0</td>\n",
       "      <td>0</td>\n",
       "      <td>0</td>\n",
       "      <td>0</td>\n",
       "      <td>0</td>\n",
       "      <td>...</td>\n",
       "      <td>0</td>\n",
       "      <td>0</td>\n",
       "      <td>0</td>\n",
       "      <td>0</td>\n",
       "      <td>0</td>\n",
       "      <td>0</td>\n",
       "      <td>0</td>\n",
       "      <td>1</td>\n",
       "      <td>0</td>\n",
       "      <td>0</td>\n",
       "    </tr>\n",
       "  </tbody>\n",
       "</table>\n",
       "<p>1039 rows × 55 columns</p>\n",
       "</div>"
      ],
      "text/plain": [
       "      Cpu Brand_AMD A10-Series  Cpu Brand_AMD A12-Series  \\\n",
       "1249                         0                         0   \n",
       "1186                         0                         0   \n",
       "568                          0                         0   \n",
       "1251                         0                         0   \n",
       "491                          0                         0   \n",
       "...                        ...                       ...   \n",
       "763                          0                         0   \n",
       "835                          0                         0   \n",
       "1216                         0                         0   \n",
       "559                          0                         0   \n",
       "684                          0                         0   \n",
       "\n",
       "      Cpu Brand_AMD A4-Series  Cpu Brand_AMD A6-Series  \\\n",
       "1249                        0                        0   \n",
       "1186                        0                        0   \n",
       "568                         0                        0   \n",
       "1251                        0                        1   \n",
       "491                         0                        0   \n",
       "...                       ...                      ...   \n",
       "763                         0                        0   \n",
       "835                         0                        0   \n",
       "1216                        0                        0   \n",
       "559                         0                        0   \n",
       "684                         0                        0   \n",
       "\n",
       "      Cpu Brand_AMD A8-Series  Cpu Brand_AMD A9-Series  \\\n",
       "1249                        0                        0   \n",
       "1186                        0                        0   \n",
       "568                         0                        0   \n",
       "1251                        0                        0   \n",
       "491                         0                        0   \n",
       "...                       ...                      ...   \n",
       "763                         0                        0   \n",
       "835                         0                        0   \n",
       "1216                        0                        0   \n",
       "559                         0                        0   \n",
       "684                         0                        0   \n",
       "\n",
       "      Cpu Brand_AMD E-Series  Cpu Brand_AMD FX  Cpu Brand_AMD Ryzen  \\\n",
       "1249                       0                 0                    0   \n",
       "1186                       0                 0                    0   \n",
       "568                        0                 0                    0   \n",
       "1251                       0                 0                    0   \n",
       "491                        0                 0                    0   \n",
       "...                      ...               ...                  ...   \n",
       "763                        0                 0                    0   \n",
       "835                        0                 0                    0   \n",
       "1216                       0                 0                    0   \n",
       "559                        0                 0                    0   \n",
       "684                        0                 0                    0   \n",
       "\n",
       "      Cpu Brand_Intel Atom  ...  OpSys_Windows 7  OpSys_macOS  \\\n",
       "1249                     0  ...                0            0   \n",
       "1186                     0  ...                0            0   \n",
       "568                      0  ...                0            0   \n",
       "1251                     0  ...                0            0   \n",
       "491                      0  ...                0            0   \n",
       "...                    ...  ...              ...          ...   \n",
       "763                      0  ...                0            0   \n",
       "835                      0  ...                0            0   \n",
       "1216                     0  ...                0            0   \n",
       "559                      0  ...                0            0   \n",
       "684                      0  ...                0            0   \n",
       "\n",
       "      Simple Gpu Brand_AMD FirePro  Simple Gpu Brand_AMD Radeon  \\\n",
       "1249                             0                            0   \n",
       "1186                             0                            0   \n",
       "568                              0                            0   \n",
       "1251                             0                            1   \n",
       "491                              0                            0   \n",
       "...                            ...                          ...   \n",
       "763                              0                            0   \n",
       "835                              0                            0   \n",
       "1216                             0                            0   \n",
       "559                              0                            1   \n",
       "684                              0                            0   \n",
       "\n",
       "      Simple Gpu Brand_ARM Mali  Simple Gpu Brand_Intel HD  \\\n",
       "1249                          0                          1   \n",
       "1186                          0                          1   \n",
       "568                           0                          1   \n",
       "1251                          0                          0   \n",
       "491                           0                          1   \n",
       "...                         ...                        ...   \n",
       "763                           0                          1   \n",
       "835                           0                          0   \n",
       "1216                          0                          0   \n",
       "559                           0                          0   \n",
       "684                           0                          0   \n",
       "\n",
       "      Simple Gpu Brand_Intel Iris  Simple Gpu Brand_Intel UHD  \\\n",
       "1249                            0                           0   \n",
       "1186                            0                           0   \n",
       "568                             0                           0   \n",
       "1251                            0                           0   \n",
       "491                             0                           0   \n",
       "...                           ...                         ...   \n",
       "763                             0                           0   \n",
       "835                             0                           0   \n",
       "1216                            0                           0   \n",
       "559                             0                           0   \n",
       "684                             0                           1   \n",
       "\n",
       "      Simple Gpu Brand_Nvidia GeForce  Simple Gpu Brand_Nvidia Quadro  \n",
       "1249                                0                               0  \n",
       "1186                                0                               0  \n",
       "568                                 0                               0  \n",
       "1251                                0                               0  \n",
       "491                                 0                               0  \n",
       "...                               ...                             ...  \n",
       "763                                 0                               0  \n",
       "835                                 1                               0  \n",
       "1216                                1                               0  \n",
       "559                                 0                               0  \n",
       "684                                 0                               0  \n",
       "\n",
       "[1039 rows x 55 columns]"
      ]
     },
     "execution_count": 47,
     "metadata": {},
     "output_type": "execute_result"
    }
   ],
   "source": [
    "train_dummy.reindex(columns=total_cols_list, copy=False, fill_value=0)"
   ]
  },
  {
   "cell_type": "code",
   "execution_count": 48,
   "metadata": {},
   "outputs": [],
   "source": [
    "test_dummy = test_dummy.reindex(\n",
    "    columns=total_cols_list,\n",
    "    fill_value=0)"
   ]
  },
  {
   "cell_type": "code",
   "execution_count": 49,
   "metadata": {},
   "outputs": [
    {
     "data": {
      "text/plain": [
       "(261, 55)"
      ]
     },
     "execution_count": 49,
     "metadata": {},
     "output_type": "execute_result"
    }
   ],
   "source": [
    "test_dummy.shape"
   ]
  },
  {
   "cell_type": "markdown",
   "metadata": {},
   "source": [
    "Now, we need to drop the categorical features from the training and test sets."
   ]
  },
  {
   "cell_type": "code",
   "execution_count": 50,
   "metadata": {},
   "outputs": [
    {
     "data": {
      "text/plain": [
       "Inches                       float64\n",
       "Weight (kg)                  float64\n",
       "Price_euros                  float64\n",
       "Pixel Width                  float64\n",
       "Pixel Height                 float64\n",
       "Total Pixels                 float64\n",
       "Pixel Density                float64\n",
       "Cpu Clock Speed (GHz)        float64\n",
       "HDD Memory (GB)              float64\n",
       "Hybrid Memory (GB)           float64\n",
       "Flash Memory (GB)            float64\n",
       "SSD Memory (GB)              float64\n",
       "Total Memory (GB)            float64\n",
       "Inches_log                   float64\n",
       "Weight (kg)_log              float64\n",
       "Pixel Width_log              float64\n",
       "Pixel Height_log             float64\n",
       "Total Pixels_log             float64\n",
       "Pixel Density_log            float64\n",
       "Cpu Clock Speed (GHz)_log    float64\n",
       "Total Memory (GB)_log        float64\n",
       "TypeName                       int64\n",
       "Ram                            int64\n",
       "Resolution                     int64\n",
       "IPS Panel                      int64\n",
       "Touchscreen                    int64\n",
       "Simple Cpu Brand               int64\n",
       "Cpu Company                    int64\n",
       "Memory Type                    int64\n",
       "Gpu Company                    int64\n",
       "Simple OpSys                   int64\n",
       "dtype: object"
      ]
     },
     "execution_count": 50,
     "metadata": {},
     "output_type": "execute_result"
    }
   ],
   "source": [
    "train.drop(cat_feats_2, axis=1, inplace=True)\n",
    "train.dtypes"
   ]
  },
  {
   "cell_type": "code",
   "execution_count": 51,
   "metadata": {},
   "outputs": [
    {
     "data": {
      "text/plain": [
       "Inches                       float64\n",
       "Weight (kg)                  float64\n",
       "Price_euros                  float64\n",
       "Pixel Width                  float64\n",
       "Pixel Height                 float64\n",
       "Total Pixels                 float64\n",
       "Pixel Density                float64\n",
       "Cpu Clock Speed (GHz)        float64\n",
       "HDD Memory (GB)              float64\n",
       "Hybrid Memory (GB)           float64\n",
       "Flash Memory (GB)            float64\n",
       "SSD Memory (GB)              float64\n",
       "Total Memory (GB)            float64\n",
       "Inches_log                   float64\n",
       "Weight (kg)_log              float64\n",
       "Pixel Width_log              float64\n",
       "Pixel Height_log             float64\n",
       "Total Pixels_log             float64\n",
       "Pixel Density_log            float64\n",
       "Cpu Clock Speed (GHz)_log    float64\n",
       "Total Memory (GB)_log        float64\n",
       "TypeName                       int64\n",
       "Ram                            int64\n",
       "Resolution                     int64\n",
       "IPS Panel                      int64\n",
       "Touchscreen                    int64\n",
       "Simple Cpu Brand               int64\n",
       "Cpu Company                    int64\n",
       "Memory Type                    int64\n",
       "Gpu Company                    int64\n",
       "Simple OpSys                   int64\n",
       "dtype: object"
      ]
     },
     "execution_count": 51,
     "metadata": {},
     "output_type": "execute_result"
    }
   ],
   "source": [
    "test.drop(cat_feats_2, axis=1, inplace=True)\n",
    "test.dtypes"
   ]
  },
  {
   "cell_type": "code",
   "execution_count": null,
   "metadata": {},
   "outputs": [],
   "source": []
  },
  {
   "cell_type": "markdown",
   "metadata": {},
   "source": [
    "Note that the training and test sets now only contain numerical variables.  \n",
    "We will add the dummy variables to the training and test sets later on."
   ]
  },
  {
   "cell_type": "markdown",
   "metadata": {},
   "source": [
    "# Step 8: Variable Selection"
   ]
  },
  {
   "cell_type": "markdown",
   "metadata": {},
   "source": [
    "First, we will look at the shapes of the training and test sets."
   ]
  },
  {
   "cell_type": "code",
   "execution_count": 52,
   "metadata": {},
   "outputs": [
    {
     "name": "stdout",
     "output_type": "stream",
     "text": [
      "Shape of train: (1039, 31)\n",
      "Shape of test: (261, 31)\n"
     ]
    }
   ],
   "source": [
    "print(\"Shape of train:\",  train.shape)\n",
    "print(\"Shape of test:\", test.shape)"
   ]
  },
  {
   "cell_type": "markdown",
   "metadata": {},
   "source": [
    "Next, we will separate the target variable \n",
    "Price_euros from the other variables."
   ]
  },
  {
   "cell_type": "code",
   "execution_count": 53,
   "metadata": {},
   "outputs": [
    {
     "data": {
      "text/plain": [
       "(1039, 30)"
      ]
     },
     "execution_count": 53,
     "metadata": {},
     "output_type": "execute_result"
    }
   ],
   "source": [
    "y_train = train['Price_euros']\n",
    "train.drop('Price_euros', axis=1, inplace=True)\n",
    "train.shape"
   ]
  },
  {
   "cell_type": "code",
   "execution_count": 54,
   "metadata": {},
   "outputs": [
    {
     "data": {
      "text/plain": [
       "(261, 30)"
      ]
     },
     "execution_count": 54,
     "metadata": {},
     "output_type": "execute_result"
    }
   ],
   "source": [
    "y_test = test['Price_euros']\n",
    "test.drop('Price_euros', axis=1, inplace=True)\n",
    "test.shape"
   ]
  },
  {
   "cell_type": "markdown",
   "metadata": {},
   "source": [
    "## 8.1 Remove Features With Small Variance"
   ]
  },
  {
   "cell_type": "markdown",
   "metadata": {},
   "source": [
    "First, we will remove all variables with little variance."
   ]
  },
  {
   "cell_type": "code",
   "execution_count": 55,
   "metadata": {},
   "outputs": [],
   "source": [
    "vt = VarianceThreshold(0.1)\n",
    "train_transformed = vt.fit_transform(train)"
   ]
  },
  {
   "cell_type": "code",
   "execution_count": 56,
   "metadata": {},
   "outputs": [
    {
     "data": {
      "text/plain": [
       "array([[-1.20824085, -1.21226664,  2.73518232, ...,  3.        ,\n",
       "         2.        ,  3.        ],\n",
       "       [ 0.41723523,  0.08621923,  0.07456966, ...,  3.        ,\n",
       "         2.        ,  3.        ],\n",
       "       [ 0.41723523,  0.25425857,  0.07456966, ...,  0.        ,\n",
       "         2.        ,  3.        ],\n",
       "       ...,\n",
       "       [ 1.61867408,  1.93465205, -0.59058351, ...,  0.        ,\n",
       "         3.        ,  3.        ],\n",
       "       [ 0.41723523,  0.22370597, -1.07697676, ...,  0.        ,\n",
       "         1.        ,  3.        ],\n",
       "       [-1.20824085, -1.28864816,  0.07456966, ...,  3.        ,\n",
       "         2.        ,  3.        ]])"
      ]
     },
     "execution_count": 56,
     "metadata": {},
     "output_type": "execute_result"
    }
   ],
   "source": [
    "train_transformed"
   ]
  },
  {
   "cell_type": "code",
   "execution_count": 57,
   "metadata": {},
   "outputs": [
    {
     "data": {
      "text/plain": [
       "(1039, 30)"
      ]
     },
     "execution_count": 57,
     "metadata": {},
     "output_type": "execute_result"
    }
   ],
   "source": [
    "train_transformed.shape"
   ]
  },
  {
   "cell_type": "markdown",
   "metadata": {},
   "source": [
    "No features have been removed because the shape \n",
    "of train_transformed is the same as train."
   ]
  },
  {
   "cell_type": "markdown",
   "metadata": {},
   "source": [
    "## 8.2 Remove Correlated Features"
   ]
  },
  {
   "cell_type": "markdown",
   "metadata": {},
   "source": [
    "First, we will calculate the correlation matrix except here the values\n",
    "are the absolute values of the correlation coefficients."
   ]
  },
  {
   "cell_type": "code",
   "execution_count": 58,
   "metadata": {},
   "outputs": [],
   "source": [
    "corr_mat_abs = train.corr().abs()"
   ]
  },
  {
   "cell_type": "markdown",
   "metadata": {},
   "source": [
    "Next, we will find pairs of highly correlated features."
   ]
  },
  {
   "cell_type": "code",
   "execution_count": 59,
   "metadata": {},
   "outputs": [],
   "source": [
    "indices = np.where(corr_mat_abs > 0.8) \n",
    "indices = [(corr_mat_abs.index[x], corr_mat_abs.columns[y])\n",
    "           for x, y in zip(*indices) if x != y and x < y]"
   ]
  },
  {
   "cell_type": "markdown",
   "metadata": {},
   "source": [
    "Next, we will remove one feature from each pair of highly correlated features."
   ]
  },
  {
   "cell_type": "code",
   "execution_count": 60,
   "metadata": {},
   "outputs": [],
   "source": [
    "for idx in indices: #each pair\n",
    "    try:\n",
    "        train.drop(idx[1], axis = 1, inplace=True)\n",
    "    except KeyError:\n",
    "        pass"
   ]
  },
  {
   "cell_type": "code",
   "execution_count": 61,
   "metadata": {},
   "outputs": [
    {
     "data": {
      "text/plain": [
       "(1039, 15)"
      ]
     },
     "execution_count": 61,
     "metadata": {},
     "output_type": "execute_result"
    }
   ],
   "source": [
    "# Check the new shape of the training set.\n",
    "train.shape"
   ]
  },
  {
   "cell_type": "code",
   "execution_count": 62,
   "metadata": {},
   "outputs": [
    {
     "data": {
      "text/plain": [
       "Index(['Inches', 'Pixel Width', 'Cpu Clock Speed (GHz)', 'HDD Memory (GB)',\n",
       "       'Hybrid Memory (GB)', 'Flash Memory (GB)', 'SSD Memory (GB)',\n",
       "       'TypeName', 'Ram', 'IPS Panel', 'Touchscreen', 'Simple Cpu Brand',\n",
       "       'Cpu Company', 'Gpu Company', 'Simple OpSys'],\n",
       "      dtype='object')"
      ]
     },
     "execution_count": 62,
     "metadata": {},
     "output_type": "execute_result"
    }
   ],
   "source": [
    "# List the new columns.\n",
    "train.columns"
   ]
  },
  {
   "cell_type": "markdown",
   "metadata": {},
   "source": [
    "Now, we will use the Pandas reindexing method to make sure that\n",
    "the test set has the same columns as the training set."
   ]
  },
  {
   "cell_type": "code",
   "execution_count": 63,
   "metadata": {},
   "outputs": [],
   "source": [
    "test = test.reindex(columns=train.columns)"
   ]
  },
  {
   "cell_type": "markdown",
   "metadata": {},
   "source": [
    "## 8.3 Forward Regression"
   ]
  },
  {
   "cell_type": "markdown",
   "metadata": {},
   "source": [
    "Now, we will select the ten best features using forward regression."
   ]
  },
  {
   "cell_type": "code",
   "execution_count": 64,
   "metadata": {},
   "outputs": [],
   "source": [
    "skb = SelectKBest(f_regression, k=10)\n",
    "train_transformed_2 = skb.fit_transform(train, y_train)"
   ]
  },
  {
   "cell_type": "markdown",
   "metadata": {},
   "source": [
    "Since train_transformed_2 is an array, we have to transform it back into\n",
    "a dataframe.  We will use the the method get_support() from the SelectKBest \n",
    "instance to find the selected features."
   ]
  },
  {
   "cell_type": "code",
   "execution_count": 65,
   "metadata": {},
   "outputs": [],
   "source": [
    "# Selected columns\n",
    "train_new_cols = train.columns[skb.get_support()]\n",
    "\n",
    "train_transformed_2 = pd.DataFrame(\n",
    "    train_transformed_2,\n",
    "    index = train.index,\n",
    "    columns = train_new_cols\n",
    ")"
   ]
  },
  {
   "cell_type": "code",
   "execution_count": 66,
   "metadata": {},
   "outputs": [
    {
     "data": {
      "text/plain": [
       "Index(['Pixel Width', 'Cpu Clock Speed (GHz)', 'SSD Memory (GB)', 'TypeName',\n",
       "       'Ram', 'IPS Panel', 'Simple Cpu Brand', 'Cpu Company', 'Gpu Company',\n",
       "       'Simple OpSys'],\n",
       "      dtype='object')"
      ]
     },
     "execution_count": 66,
     "metadata": {},
     "output_type": "execute_result"
    }
   ],
   "source": [
    "# List the new columns\n",
    "train_new_cols"
   ]
  },
  {
   "cell_type": "markdown",
   "metadata": {},
   "source": [
    "Now, we will use the Pandas reindexing method to make sure that\n",
    "the test set has the same columns as the training set."
   ]
  },
  {
   "cell_type": "code",
   "execution_count": 67,
   "metadata": {},
   "outputs": [],
   "source": [
    "test = test.reindex(columns=train_transformed_2.columns)"
   ]
  },
  {
   "cell_type": "markdown",
   "metadata": {},
   "source": [
    "Before we proceed to the next section, we have to add \n",
    "the dummy variables back to the training and test sets."
   ]
  },
  {
   "cell_type": "code",
   "execution_count": 68,
   "metadata": {},
   "outputs": [
    {
     "data": {
      "text/plain": [
       "(1039, 65)"
      ]
     },
     "execution_count": 68,
     "metadata": {},
     "output_type": "execute_result"
    }
   ],
   "source": [
    "X_train = pd.concat([train_transformed_2, train_dummy], axis=1)\n",
    "X_train.shape"
   ]
  },
  {
   "cell_type": "code",
   "execution_count": 69,
   "metadata": {},
   "outputs": [
    {
     "data": {
      "text/plain": [
       "(261, 65)"
      ]
     },
     "execution_count": 69,
     "metadata": {},
     "output_type": "execute_result"
    }
   ],
   "source": [
    "X_test = pd.concat([test, test_dummy], axis=1)\n",
    "X_test.shape"
   ]
  },
  {
   "cell_type": "markdown",
   "metadata": {},
   "source": [
    "# Step 9: Model Building"
   ]
  },
  {
   "cell_type": "markdown",
   "metadata": {},
   "source": [
    "## 9.1 Choose an Error Metric"
   ]
  },
  {
   "cell_type": "markdown",
   "metadata": {},
   "source": [
    "The main metric that we will be using is Mean Squared Error (MSE).  \n",
    "We will also look at Root Mean Squared Error (RMSE), Mean Absolute Error \n",
    "(MAE), $R^2$ score and adjusted $R^2$ score."
   ]
  },
  {
   "cell_type": "markdown",
   "metadata": {},
   "source": [
    "## 9.2 Build a Baseline Model"
   ]
  },
  {
   "cell_type": "code",
   "execution_count": 70,
   "metadata": {},
   "outputs": [
    {
     "data": {
      "text/plain": [
       "DummyRegressor()"
      ]
     },
     "execution_count": 70,
     "metadata": {},
     "output_type": "execute_result"
    }
   ],
   "source": [
    "# For the baseline model, we will use the DummyRegressor model from sklearn.\n",
    "# Then, we will fit the baseline model to the data.\n",
    "\n",
    "base = DummyRegressor(strategy = 'mean')\n",
    "base.fit(X_train, y_train)"
   ]
  },
  {
   "cell_type": "code",
   "execution_count": 71,
   "metadata": {},
   "outputs": [],
   "source": [
    "# Compute the predictions for the training and test sets.\n",
    "\n",
    "y_pred_base_train = base.predict(X_train)\n",
    "y_pred_base_test = base.predict(X_test)"
   ]
  },
  {
   "cell_type": "code",
   "execution_count": 72,
   "metadata": {},
   "outputs": [],
   "source": [
    "# Compute the training and test scores.\n",
    "\n",
    "# MSE\n",
    "MSE_b_train = mean_squared_error(y_train, y_pred_base_train)\n",
    "MSE_b_test = mean_squared_error(y_test, y_pred_base_test)\n",
    "\n",
    "# RMSE\n",
    "RMSE_b_train = mean_squared_error(y_train, y_pred_base_train, squared=False)\n",
    "RMSE_b_test = mean_squared_error(y_test, y_pred_base_test, squared=False)\n",
    "\n",
    "# MAE\n",
    "MAE_b_train = mean_absolute_error(y_train, y_pred_base_train)\n",
    "MAE_b_test = mean_absolute_error(y_test, y_pred_base_test)\n",
    "\n",
    "# R^2 score\n",
    "r2_b_train = r2_score(y_train, y_pred_base_train)\n",
    "r2_b_test = r2_score(y_test, y_pred_base_test)\n",
    "\n",
    "# Adjusted R^2 score\n",
    "n_train = len(y_train)\n",
    "p_train = len(X_train.columns)\n",
    "adj_r2_b_train = 1 - ((1 - r2_b_train) \n",
    "                      * (n_train - 1) \n",
    "                      / (n_train - p_train - 1))\n",
    "\n",
    "n_test = len(y_test)\n",
    "p_test = len(X_test.columns)\n",
    "adj_r2_b_test = 1 - ((1 - r2_b_test) \n",
    "                     * (n_test - 1) \n",
    "                     / (n_test - p_test - 1))"
   ]
  },
  {
   "cell_type": "code",
   "execution_count": 73,
   "metadata": {},
   "outputs": [
    {
     "name": "stdout",
     "output_type": "stream",
     "text": [
      "The training MSE is 1.0.\n",
      "The test MSE is 1.4434316204323823.\n",
      "\n",
      "The training RMSE is 1.0.\n",
      "The test RMSE is 1.2014289910071183.\n",
      "\n",
      "The training MAE is 0.7868575632752502.\n",
      "The test MAE is 0.8702754644401661.\n",
      "\n",
      "The training R squared score is 0.0.\n",
      "The test R squared score  is -0.03693482525494174.\n",
      "\n",
      "The training adjusted R squared score is -0.06680369989722501.\n",
      "The test adjusted R squared score  is -0.38257976700658913.\n",
      "\n"
     ]
    }
   ],
   "source": [
    "print(f\"The training MSE is {MSE_b_train}.\")\n",
    "print(f\"The test MSE is {MSE_b_test}.\\n\")\n",
    "print(f\"The training RMSE is {RMSE_b_train}.\")\n",
    "print(f\"The test RMSE is {RMSE_b_test}.\\n\")\n",
    "print(f\"The training MAE is {MAE_b_train}.\")\n",
    "print(f\"The test MAE is {MAE_b_test}.\\n\")\n",
    "print(f\"The training R squared score is {r2_b_train}.\")\n",
    "print(f\"The test R squared score  is {r2_b_test}.\\n\")\n",
    "print(f\"The training adjusted R squared score is {adj_r2_b_train}.\")\n",
    "print(f\"The test adjusted R squared score  is {adj_r2_b_test}.\\n\")"
   ]
  },
  {
   "cell_type": "markdown",
   "metadata": {},
   "source": [
    "## 9.2 Build a Linear Model"
   ]
  },
  {
   "cell_type": "code",
   "execution_count": 74,
   "metadata": {},
   "outputs": [
    {
     "data": {
      "text/plain": [
       "LinearRegression()"
      ]
     },
     "execution_count": 74,
     "metadata": {},
     "output_type": "execute_result"
    }
   ],
   "source": [
    "# We will use the LinearRegression model from sklearn \n",
    "# and fit the model to the data.\n",
    "\n",
    "lm = LinearRegression()\n",
    "lm.fit(X_train, y_train)"
   ]
  },
  {
   "cell_type": "code",
   "execution_count": 75,
   "metadata": {},
   "outputs": [],
   "source": [
    "# Compute the predictions for the training and test sets.\n",
    "\n",
    "y_pred_lm_train = lm.predict(X_train)\n",
    "y_pred_lm_test = lm.predict(X_test)"
   ]
  },
  {
   "cell_type": "code",
   "execution_count": 76,
   "metadata": {},
   "outputs": [],
   "source": [
    "# Compute the training and test scores.\n",
    "\n",
    "# MSE\n",
    "MSE_lm_train = mean_squared_error(y_train, y_pred_lm_train)\n",
    "MSE_lm_test = mean_squared_error(y_test, y_pred_lm_test)\n",
    "\n",
    "# RMSE\n",
    "RMSE_lm_train = mean_squared_error(y_train, y_pred_lm_train, squared=False)\n",
    "RMSE_lm_test = mean_squared_error(y_test, y_pred_lm_test, squared=False)\n",
    "\n",
    "# MAE\n",
    "MAE_lm_train = mean_absolute_error(y_train, y_pred_lm_train)\n",
    "MAE_lm_test = mean_absolute_error(y_test, y_pred_lm_test)\n",
    "\n",
    "# R^2 score\n",
    "r2_lm_train = r2_score(y_train, y_pred_lm_train)\n",
    "r2_lm_test = r2_score(y_test, y_pred_lm_test)\n",
    "\n",
    "# Adjusted R^2 score\n",
    "n_train = len(y_train)\n",
    "p_train = len(X_train.columns)\n",
    "adj_r2_lm_train = 1 - ((1 - r2_lm_train) \n",
    "                      * (n_train - 1) \n",
    "                      / (n_train - p_train - 1))\n",
    "\n",
    "n_test = len(y_test)\n",
    "p_test = len(X_test.columns)\n",
    "adj_r2_lm_test = 1 - ((1 - r2_lm_test) \n",
    "                     * (n_test - 1) \n",
    "                     / (n_test - p_test - 1))"
   ]
  },
  {
   "cell_type": "code",
   "execution_count": 77,
   "metadata": {},
   "outputs": [
    {
     "name": "stdout",
     "output_type": "stream",
     "text": [
      "The training MSE is 0.2192069293418263.\n",
      "The test MSE is 0.8128766314983287.\n",
      "\n",
      "The training RMSE is 0.46819539654061776.\n",
      "The test RMSE is 0.9015967122268851.\n",
      "\n",
      "The training MAE is 0.3411924897324334.\n",
      "The test MAE is 0.6841841848096609.\n",
      "\n",
      "The training R squared score is 0.7807930706581737.\n",
      "The test R squared score  is 0.4160443238841802.\n",
      "\n",
      "The training adjusted R squared score is 0.7661492367350301.\n",
      "The test adjusted R squared score  is 0.22139243184557367.\n",
      "\n"
     ]
    }
   ],
   "source": [
    "print(f\"The training MSE is {MSE_lm_train}.\")\n",
    "print(f\"The test MSE is {MSE_lm_test}.\\n\")\n",
    "print(f\"The training RMSE is {RMSE_lm_train}.\")\n",
    "print(f\"The test RMSE is {RMSE_lm_test}.\\n\")\n",
    "print(f\"The training MAE is {MAE_lm_train}.\")\n",
    "print(f\"The test MAE is {MAE_lm_test}.\\n\")\n",
    "print(f\"The training R squared score is {r2_lm_train}.\")\n",
    "print(f\"The test R squared score  is {r2_lm_test}.\\n\")\n",
    "print(f\"The training adjusted R squared score is {adj_r2_lm_train}.\")\n",
    "print(f\"The test adjusted R squared score  is {adj_r2_lm_test}.\\n\")"
   ]
  },
  {
   "cell_type": "code",
   "execution_count": null,
   "metadata": {},
   "outputs": [],
   "source": []
  }
 ],
 "metadata": {
  "kernelspec": {
   "display_name": "Python 3",
   "language": "python",
   "name": "python3"
  },
  "language_info": {
   "codemirror_mode": {
    "name": "ipython",
    "version": 3
   },
   "file_extension": ".py",
   "mimetype": "text/x-python",
   "name": "python",
   "nbconvert_exporter": "python",
   "pygments_lexer": "ipython3",
   "version": "3.8.3"
  }
 },
 "nbformat": 4,
 "nbformat_minor": 4
}
